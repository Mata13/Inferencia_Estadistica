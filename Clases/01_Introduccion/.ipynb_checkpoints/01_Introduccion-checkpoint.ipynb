{
 "cells": [
  {
   "cell_type": "markdown",
   "id": "416a904a-42fc-4961-8443-8c6d4933a479",
   "metadata": {},
   "source": [
    "<font color='IndianRed'>\n",
    "<font size=9> \n",
    "\n",
    "**Curso Inferencia Estadística**"
   ]
  },
  {
   "cell_type": "markdown",
   "id": "43e6ebbd-291c-43f8-8e3b-3d9ec4cdc4c1",
   "metadata": {},
   "source": [
    "<font color = 'slateblue'>\n",
    "<font size = 5>\n",
    "    \n",
    "**Qué es la Estadística?**"
   ]
  },
  {
   "cell_type": "markdown",
   "id": "ee06ff0a-1078-44f4-ba8e-cddb1481fc2f",
   "metadata": {},
   "source": [
    "<font color = 'Black'>\n",
    "<font size = 3>\n",
    "    \n",
    "Es una disciplina que recopila datos y hace el análisis matemático de los datos, con el propásito de **describir** y hacer **inferencias** a partir de ellos."
   ]
  },
  {
   "cell_type": "markdown",
   "id": "35faae37-78aa-41e4-8d95-8575079080d0",
   "metadata": {},
   "source": [
    "<font color = 'DodgerBlue'>\n",
    "<font size = 5>\n",
    "    \n",
    "**Pobación y muestra**"
   ]
  },
  {
   "cell_type": "markdown",
   "id": "ab12e757-07b5-41a4-a15e-77e07e5d76be",
   "metadata": {},
   "source": [
    "<font color = 'Black'>\n",
    "<font size = 3>\n",
    "\n",
    "Definiciones importantes:\n",
    "    \n",
    "- La **pobación** es la piscina completa (el universo), formada por nuestros objetos de interés.\n",
    "- Una **muestra** es un subconjunto de dicha piscina.\n",
    "- Un **censo** es cuando te agarras a tu poblacion objetivo (e.g. los panaderos de una panadería).\n",
    "- El término **medida** se utiliza para expresar un *atributo*, ya sea numérico o no, de cada una de las observaciones (elementos) de una población o muestra."
   ]
  },
  {
   "cell_type": "markdown",
   "id": "e1e977e5-1b33-42e1-82a9-e6adf6a1d978",
   "metadata": {},
   "source": [
    "<font color = 'DarkMagenta'>\n",
    "<font size = 3>\n",
    "\n",
    "Una tabla de informes es como la que se muestra en la siguiente imagen, de la que vemos las siguientes características:\n",
    "\n",
    "- Las **observaciones** o **registros** son los **renglones**.\n",
    "- Los **datos** son las **medidas**, (Edad y Motivación).\n",
    "- Las **columnas** se llaman **campos** o **características** o **variables**. La característica --> *edad*, la característica --> *motivación*.\n",
    "\n",
    "![TablaInformes](Img/im001.png)"
   ]
  },
  {
   "cell_type": "markdown",
   "id": "9bd38013-3c81-4efd-877b-a20c7be8d5a7",
   "metadata": {},
   "source": [
    "<font color = 'Black'>\n",
    "<font size = 3>\n",
    "\n",
    "- Def. Un **estadístico** es un resumen o valor que representa una característica. Por ejemplo, el mínimo, máximo, media, mediana, etc.\n",
    "- Def. Un **parámetro poblacional** es el valor verdadero de esa medida, calculado tomando en cuenta la población.\n",
    "\n",
    "![ParametrosEstPobla](Img/im002.png)\n",
    "\n",
    "- El objetivo de la **Estadística** es aproximar con cierto grado de confianza o incertidumbre, un parámetro poblacional (o varios) a través de estadísticos."
   ]
  },
  {
   "cell_type": "markdown",
   "id": "b8367751-9fa9-4d9f-95e3-77887cdcb7b4",
   "metadata": {},
   "source": [
    "<font color = 'Brown'>\n",
    "<font size = 4>\n",
    "    \n",
    "**Notas**"
   ]
  },
  {
   "cell_type": "markdown",
   "id": "a579950f-2694-482b-b618-c931f46d8c8e",
   "metadata": {},
   "source": [
    "<font color = 'DarkRed'>\n",
    "<font size = 3>\n",
    "\n",
    "- *Lo que no puedes medir, no lo puedes mejorar*.\n",
    "- Las **encuestas** tienen factores de fiabilidad y probabilidad.\n",
    "- El **estadístico** depende de la muestra, es un resumen.\n",
    "- El **parámetro poblacional** depende de la población, es el valor verdadero de toda la población. Muy pocas veces lo vas a conocer."
   ]
  },
  {
   "cell_type": "markdown",
   "id": "505d47ac-8be8-4ef6-9528-a985c7d4f9a7",
   "metadata": {},
   "source": [
    "<font color = 'DodgerBlue'>\n",
    "<font size = 5>\n",
    "    \n",
    "**Tipos de Estadística**"
   ]
  },
  {
   "cell_type": "markdown",
   "id": "cb26ea31-17e1-4ac0-a81d-d2f3c5903246",
   "metadata": {},
   "source": [
    "- El proceso del análisis estadístico consiste en la recolección de datos y la aplicación matemática, con el objetivo de describir la información y realizar **inferencias**.\n",
    "- El hacer **inferencias** se refiere a hacer conjeturas o hipótesis y luego las testeas para ver qué tan válidas son.\n",
    "- Por ejemplo: según mis datos, el valor promedio de la muestra es 3.5, por lo tanto, con una probabilidad del 99%, el valor de la población debe ser 3.5.\n",
    "- La **Estadística** se vidide en dos grandes áreas: **Estadística Descriptiva** y **Estadística Inferencial**.\n",
    "\n",
    "![TiposEstadistica](Img/im003.png)"
   ]
  },
  {
   "cell_type": "markdown",
   "id": "d4e3b926-fa70-4c7a-b29e-d056454899a0",
   "metadata": {},
   "source": [
    "<font color = 'Brown'>\n",
    "<font size = 4>\n",
    "    \n",
    "**Notas**"
   ]
  },
  {
   "cell_type": "markdown",
   "id": "b8baf24e-7287-4137-863b-9e2032272849",
   "metadata": {},
   "source": [
    "<font color = 'DarkRed'>\n",
    "<font size = 3>\n",
    "    \n",
    "- La **estadística** útil y difícil es la **estadística inferencial**.\n",
    "- La **estadística descriptiva** describe, resume y compara los datos.\n",
    "- La **estadística inferencial** trabaja con muestras y deduce características de toda la población a partir de muestras.\n",
    "- Los **censos** se aplican a toda la población, por lo tanto no se hacen inferencias.\n",
    "- Las **encuestas** son mejores que los **censos** porque es mejor trabajar con una muestra que con toda la **población**\n",
    "- En las **encuestas** se incluye el valor del error."
   ]
  },
  {
   "cell_type": "markdown",
   "id": "19347a66-1e23-4e9b-988b-b605b7b04bc4",
   "metadata": {},
   "source": [
    "<font color = 'DodgerBlue'>\n",
    "<font size = 5>\n",
    "    \n",
    "**Qué son los datos?**"
   ]
  },
  {
   "cell_type": "markdown",
   "id": "c2f852de-dd40-4c65-ad7c-b7131edc73b1",
   "metadata": {},
   "source": [
    "<font color = 'Black'>\n",
    "<font size = 3>\n",
    "\n",
    "- Def. Los **datos** son valores numéricos que son recolectados y transformados con algún propósito.\n",
    "- Def. Una **observación** es un elemento de una muestra. Por ejemplo, en una muestra de 100 insectos, cada insecto es una observación."
   ]
  },
  {
   "cell_type": "markdown",
   "id": "29c010a3-bda7-4642-b385-7002c572e3b9",
   "metadata": {},
   "source": [
    "<font color = 'LightSeaGreen'>\n",
    "<font size = 3>\n",
    "\n",
    "- Las **observaciones** son los renglones de las tablas.\n",
    "- Cada renglón completo (row) es la observación.\n",
    "- Los **datos** recolectados en una muestra usualmente se acomodan en una tabla de información (dataframe).\n",
    "- Una **unidad de muestreo** es un elemento de la muestra, los **datos** de esa **unidad de muestreo** es la **observación** (todo el row completo).\n",
    "\n",
    "![DatosObsDataF](Img/im004.png)"
   ]
  },
  {
   "cell_type": "markdown",
   "id": "566b18e9-24cf-4733-a7c8-b6f060003e68",
   "metadata": {},
   "source": [
    "<font color = 'Brown'>\n",
    "<font size = 4>\n",
    "    \n",
    "**Notas**"
   ]
  },
  {
   "cell_type": "markdown",
   "id": "669a04da-6cfc-42b2-8d34-d8b1ea4abd6e",
   "metadata": {},
   "source": [
    "<font color = 'DarkRed'>\n",
    "<font size = 3>\n",
    "    \n",
    "- No siempre vamos a poder recolectar los **datos** en toda nuestra población de interés, únicamente en algunos elementos (**muestra**)."
   ]
  },
  {
   "cell_type": "markdown",
   "id": "2285a258-1965-4f7d-8f8c-d9af22611351",
   "metadata": {},
   "source": [
    "<font color = 'DodgerBlue'>\n",
    "<font size = 5>\n",
    "    \n",
    "**Qué es una variable?**"
   ]
  },
  {
   "cell_type": "markdown",
   "id": "f4a0d933-1ba2-47c4-a1a6-2e9f52d7520f",
   "metadata": {},
   "source": [
    "<font color = 'Black'>\n",
    "<font size = 3>\n",
    "\n",
    "- Def. Una **variable** es una característica que describe el estado de la observación. "
   ]
  },
  {
   "cell_type": "markdown",
   "id": "444bba01-ccd4-4e28-ad92-f99beb511e8c",
   "metadata": {},
   "source": [
    "<font color = 'MediumSlateBlue'>\n",
    "<font size = 3>\n",
    "    \n",
    "- Las tablas tienen **tres partes fundamentales**: las **observaciones**; las **variables**; y los **datos**.\n",
    "- Una **característica** es una columna, también se le llama campo.\n",
    "- Las **observaciones** son los elementos o renglones (rows).\n",
    "- Las **variables** son las columnas.\n",
    "- Los **datos** son la información que está en color gris, i.e. todo el relleno.\n",
    "\n",
    "![DatosObsDataF](Img/im005.png)"
   ]
  },
  {
   "cell_type": "markdown",
   "id": "0d81f26a-3f1c-4eb7-8685-7b1150b40726",
   "metadata": {},
   "source": [
    "<font color = 'DodgerBlue'>\n",
    "<font size = 5>\n",
    "    \n",
    "**Tipos de variables**"
   ]
  },
  {
   "cell_type": "markdown",
   "id": "9ce6a51f-49c1-472e-ba4b-1708f4c37d1c",
   "metadata": {},
   "source": [
    "<font color = 'Black'>\n",
    "<font size = 3>\n",
    "\n",
    "A grandes rasgos, las **variables** (columnas) se dividen en **cuantitativas** y **cualitativas**.\n",
    "\n",
    "- Def. Las **cuantitativas** se refieren a datos sobre medidas numéricas (conteos, porcentajes, números, tiempo).\n",
    "- Def. Las **cualitativas**, se tratan de medidas no numéricas pero clasificatorias (color, el sexo, país).\n",
    "\n",
    "Las **variables cuantitativas** también se pueden dividir en **discretas** y **continuas**.\n",
    "\n",
    "![DatosObsDataF](Img/im006.png)"
   ]
  },
  {
   "cell_type": "markdown",
   "id": "85193097-c5bd-4b80-a0c1-45e247b807e1",
   "metadata": {},
   "source": [
    "<font color = 'Brown'>\n",
    "<font size = 4>\n",
    "    \n",
    "**Notas**"
   ]
  },
  {
   "cell_type": "markdown",
   "id": "c68f03cf-65e1-4ba8-8dc1-53b4b3c2b9d7",
   "metadata": {},
   "source": [
    "<font color = 'DarkRed'>\n",
    "<font size = 3>\n",
    "    \n",
    "- Las variables **cualitativas** también se les conocen como **categóricas**.\n",
    "- Las variables **cualitativas** miden categorías o clases.\n",
    "- Las variables **cualitativas** se pueden representar con numéros, pero no por eso se vuelven variables numéricas.\n",
    "- Al trabajar con **datos**, es mejor que sean numéros que letras, ya que las letras ocupan mayor espacio en la memoria.\n",
    "- El objetivo de las **variables discretas** es **contar**.\n",
    "- El objetivo de las **variables continuas** es **medir**.\n",
    "- Las **variables discretas** no necesariamente son numéros enteros, el chiste es que sean contables.\n",
    "- Las **variables discretas** son contables.\n",
    "- Una **variable** aleatoria que toma valores únicamente en los numéros $\\mathbb{Q}$, esa va ser una **variable discreta**, ya que los numéros $\\mathbb{Q}$ son contables.\n",
    "- Las **variables continuas** no necesariamente son numéros con decimales.\n",
    "- Las **variables continuas** no son contables.\n",
    "- Las **variables continuas** son los valores que forman un conjunto no numerable, como $\\mathbb{R}$. Por ejemplo, el intervalo $[a,b] \\subset \\mathbb{R}$."
   ]
  },
  {
   "cell_type": "markdown",
   "id": "49b62243-354d-4a8a-a67e-ec751d908947",
   "metadata": {},
   "source": [
    "<font color = 'Turquoise'>\n",
    "<font size = 5>\n",
    "    \n",
    "**Conjuntos numerables**"
   ]
  },
  {
   "cell_type": "markdown",
   "id": "438344a3-3190-46f9-96ae-aae34ec22976",
   "metadata": {},
   "source": [
    "<font color = 'Black'>\n",
    "<font size = 3>\n",
    "\n",
    "Antes de definir los conjuntos numerables (o contables) se darán algunas definiciones formales importantes, para comprender la importancia de estos conjuntos.\n",
    "\n",
    "**Definición 1.** Decimos que dos conjuntos $A$ y $B$ tienen la misma **cardinalidad** (Notación: $|A| = |B|$) $\\Leftrightarrow$ Existe una forma de aparear (= formar parejas con) los elementos de $A$ y los de $B$ para la cual no sobre ningún elemento en $A$ ni en $B$, en el entendido de que elementos diferentes de uno de los conjuntos no pueden aparearse con un mismo elemento del otro; es decir, si existe una función biyectiva $f : A \\leftrightarrow B$. Cuando dos conjuntos $A$ y $B$ tienen la misma cardinalidad se dice que son equivalentes, y lo denotamos con el símbolo $A \\thicksim B$.\n",
    "\n",
    "**Definición. 2** Decimos que un conjunto $A$ es numerable si y solo si $|A| = |\\mathbb{N}|$. Es decir, existe una forma de aparear ($1$ a $1$) sus elementos con los numéros naturales con la cual no sobre ninguno a ninguno de los dos.\n",
    "\n",
    "**Teorema. 1** La unión de dos conjuntos numerables resulta un conjunto numerable.\n",
    "\n",
    "**Teorema. 2** El conjunto $\\mathbb{Q}$ de los números racionales es un conjunto numerable.\n",
    "\n",
    "**Teorema. 3** El conjunto $\\mathbb{Z}$ de los números enteros es un conjunto numerable.\n",
    "\n",
    "**Teorema. 4** El conjunto de números reales $\\mathbb{R}$ es un conjunto no numerable."
   ]
  },
  {
   "cell_type": "markdown",
   "id": "3056bb51-1f3e-439f-b3bc-aace6cb56e39",
   "metadata": {},
   "source": [
    "<font color = 'DodgerBlue'>\n",
    "<font size = 5>\n",
    "    \n",
    "**Tipología de Stevens**"
   ]
  },
  {
   "cell_type": "markdown",
   "id": "489c69ab-b6b9-4752-8269-63487244be71",
   "metadata": {},
   "source": [
    "<font color = 'Black'>\n",
    "<font size = 3>\n",
    "    \n",
    "Las **variables cualitativas** y las **variables cuantitativas** las podemos dividir todavía más.\n",
    "\n",
    "![DatosObsDataF](Img/im007.png)\n",
    "\n",
    "- **Datos nominales**: Se trata de variables cualitativas que clasifican los objetos en subgrupos donde, al representarlos de manera numérica, los números no tienen ningún significado. Por ejemplo, los colores, el género, el código postal, la matrícula de un estudiante, un tipo de virus.\n",
    "- **Datos ordinales**: Se trata de variables cualitativas que clasifican los objetos en subgrupos donde, al representarlos de manera numérica, los números sí tienen ningún significado. Sin embargo, las *distancias* entre los valores no tienen ningún significado. Por ejemplo, la escala de Likert: Totalmente en desacuerdo, en desacuerdo, ni en desacuero ni deacuerdo, deacuerdo, muy deacuerdo. Estas clases se pueden representar con los números 1, 1.5, 2, 4, 7 y 8, respectivamente. Se entiende que si un número es menor que otro, entonces la clase que representa el menor es la clase más en desacuerdo; sin embargo, las restas 1.5-1,  7-4, 8-7,etc no tienen ningún significado.\n",
    "- **Datos de intervalo**: Son datos de tipo cuantitativo. El orden de los números tienen un significado. Además las diferencias entre valores tienen significado, y diferencias iguales significan lo mismo.  Por ejemplo, la temperatura en $^\\circ$C o el tiempo del día: si un autobús pasa a las 17:45 el siguiente pasa a las 18:00pm, el siguiente pasa a las 18:10 y el siguiente pasa a las 18:25, entonces es claro que entre menor sea el dato, es porque el autobús pasó más temprano. Además las diferencias entre datos (por ejemplo, el dato de llegada del tercer autobús - el dato de llegada del segundo autobús) tiene un significado (tiempo de espera). Sin embargo, las proporciones no se cumplen. Por ejemplo, si un objeto está a 10$^\\circ$C y otro a 20$^\\circ$C, no es cierto que el segundo objeto esté al doble de temperatura que el primero. O bien, el siglo XX no es el doble del siglo X.\n",
    "- **Datos de cociente**: Se trata de datos cuantitavos. Suelen ser los más importantes. Aquí, el orden tiene significado; las diferencias tienen significado; y las proporciones tienen significado. Esto se debe a la **existencia de un cero absoluto**. Por cero absoluto, entendemos que existe un valor que representa ausencia de la característica. Por ejemplo, la temperatura en $^\\circ$K. Aquí, los $0^\\circ$K significan ausencia total de temperatura. Por lo tanto $20^\\circ$K si significan el doble de $10^\\circ$K. O el número de empleados de una empresa: si una empresa tiene 1000 empleados y otra empresa tiene 50 empleados, entonces la primera tiene 1000/50 = 20 veces más empleados."
   ]
  },
  {
   "cell_type": "markdown",
   "id": "c947a9c2-7be4-463e-8fd7-6f4888a84c65",
   "metadata": {},
   "source": [
    "<font color = 'DodgerBlue'>\n",
    "<font size = 5>\n",
    "    \n",
    "**Resumen**"
   ]
  },
  {
   "cell_type": "markdown",
   "id": "2e030979-a63f-481a-916d-1f7f881ed8c2",
   "metadata": {},
   "source": [
    "| Característica                                      | Nominal | Ordinal | Intervalo | Ratio |\n",
    "|----------------------------------------------------|---------|---------|-----------|-------|\n",
    "| Hay un orden                                       | no      | sí      | sí        | sí    |\n",
    "| Miden frecuencias                                  | sí      | sí      | sí        | sí    |\n",
    "| Tienen moda                                        | sí      | sí      | sí        | sí    |\n",
    "| Tienen mediana                                     | no      | sí      | sí        | sí    |\n",
    "| Se puede cuantificar la diferencia entre dos valores | no      | no      | sí        | sí    |\n",
    "| Los valores se pueden sumar o restar              | no      | no      | sí        | sí    |\n",
    "| Las multiplicaciones tienen sentido               | no      | no      | no        | sí    |\n",
    "| Hay un cero absoluto                               | no      | no      | no        | sí    |\n",
    "\n",
    "\n",
    "Saber reconocer el tipo de datos con los que trabajamos nos va a facilitar la manera en que los representaremos. Es decir, el tipo de gráficas (y técnicas estadísticas) a utilizar."
   ]
  },
  {
   "cell_type": "markdown",
   "id": "dd09265d-1069-475b-8ee4-59c0f1468cf1",
   "metadata": {},
   "source": [
    "<font color = 'DodgerBlue'>\n",
    "<font size = 5>\n",
    "    \n",
    "**Variables dependientes e independientes**"
   ]
  },
  {
   "cell_type": "markdown",
   "id": "cc406a34-8a3e-44fb-88f5-40de7132895a",
   "metadata": {},
   "source": [
    "Muchas veces utilizamos el análisis estadístico para identificar relaciones cuasales entre variables. Es decir, ¿el comportamiento de una o varias variables incide, de alguna manera, en el comportamiento de otra? \n",
    "\n",
    "Es decir: ¿el valor de una columna depende de los valores de otras?.\n",
    "\n",
    "Cuando intentamos establecer relaciones de causa-efecto, realizaremos ciertas hipótesis. Cuando una de las variables no depende de los valores que toman otras, se dice que esta variable es independiente. En caso contrario, diremos que es una variable dependiente. Nota que las variables dependientes pueden depender de varias otras, y no solo de una.\n",
    "\n",
    "Por ejemplo, si en una empresa se contratan más trabajadores, es de esperarse que la producción sea afectada. Por lo tanto, la producción depende del número de empleados.\n",
    "\n",
    "Por cierto... otra forma de llamar a las **variables independientes** es **variables explicativas** o **variables predictoras**; en tanto que las dependientes también se conocen por **variables de respuesta** o **variables de salida**."
   ]
  }
 ],
 "metadata": {
  "kernelspec": {
   "display_name": "Python 3 (ipykernel)",
   "language": "python",
   "name": "python3"
  },
  "language_info": {
   "codemirror_mode": {
    "name": "ipython",
    "version": 3
   },
   "file_extension": ".py",
   "mimetype": "text/x-python",
   "name": "python",
   "nbconvert_exporter": "python",
   "pygments_lexer": "ipython3",
   "version": "3.10.15"
  }
 },
 "nbformat": 4,
 "nbformat_minor": 5
}
