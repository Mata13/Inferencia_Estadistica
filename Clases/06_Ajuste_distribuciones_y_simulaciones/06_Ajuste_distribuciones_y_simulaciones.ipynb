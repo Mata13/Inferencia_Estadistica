{
 "cells": [
  {
   "cell_type": "markdown",
   "id": "58a80613-062b-41c0-9bc1-60b15ef6c844",
   "metadata": {},
   "source": [
    "<font color='IndianRed'>\n",
    "<font size=9> \n",
    "\n",
    "**Curso Inferencia Estadística**"
   ]
  },
  {
   "cell_type": "markdown",
   "id": "66fe894a-4a7b-4ec6-80ce-82b9f94fdfc3",
   "metadata": {},
   "source": [
    "<font color = 'DodgerBlue'>\n",
    "<font size = 5>\n",
    "    \n",
    "**Ajuste de distribuciones**"
   ]
  },
  {
   "cell_type": "markdown",
   "id": "9c001a88-c8ba-4654-a585-b353fc05bc42",
   "metadata": {},
   "source": [
    "<font color = 'Black'>\n",
    "<font size = 3>\n",
    "\n",
    "El **ajuste de distribuciones** se refiere a aplicar una o varias técnicas gráficas y analíticas para tener una idea aproximada sobre el tipo de variable aleatoria al que pertencen tus datos.\n",
    "\n",
    "Por ejemplo, si tus datos son de tipo discreto (como el año de nacimiento o el número de delitos cometidos mes a mes), entonces vale la pena preguntarse si tus datos provienen de una distribución de **Bernoulli**, **binomial**, **poisson**, **geométrica**, etc.\n",
    "\n",
    "Y si tus datos son de tipo continuo (como la velocidad de crecimiento de una población o el tiempo de espera entre la llegada de dos clientes a un restaurante), entonces nos preguntamos si los datos provienen de una **gaussiana**, una **exponencial**, una **uniforme**, etc."
   ]
  },
  {
   "cell_type": "markdown",
   "id": "9a4b9c6e-d0b9-47c3-a5b3-c7503ce7790f",
   "metadata": {},
   "source": [
    "<font color = 'LightSeaGreen'>\n",
    "<font size = 3>\n",
    "\n",
    "**Ejemplo.**\n",
    "\n",
    "Supongamos que tienes los datos del dataframe [ejemplo01](https://github.com/scidatmath2020/Inferencia_Estadistica_2024/blob/main/data/ejemplo_01.csv).\n",
    "\n",
    "Digamos que esos datos provienen de una variable aleatoria $X$. Es decir, tomamos una muestra de tamaño 100 de cierta población de estudio y hemos tomado la medida de cierta característica $X$ de esa población.\n",
    "\n",
    "Mostramos el histograma junto con la densidad de esta muestra. A la densidad mostrada se le conoce como **densidad empírica.**\n",
    "\n",
    "<img src=\"Img/im012.png\">\n",
    "\n",
    "---"
   ]
  },
  {
   "cell_type": "markdown",
   "id": "4641266d-2e3e-4b99-ae01-910a2d8da26e",
   "metadata": {},
   "source": [
    "<font color = 'DodgerBlue'>\n",
    "<font size = 5>\n",
    "    \n",
    "**Histograma**"
   ]
  },
  {
   "cell_type": "markdown",
   "id": "71395ff1-16c3-4364-ad20-3cda2978553c",
   "metadata": {},
   "source": [
    "<font color = 'Black'>\n",
    "<font size = 3>\n",
    "\n",
    "El **histograma** básicamente es la gráfica de las tablas de frecuencia que se vieron en las primeras clases.\n",
    "\n",
    "- Lo que hace el **histograma** es dividir todos los valores de la columna \"valor\" y pone la cantidad de valores que caen el cada división.\n",
    "\n",
    "---"
   ]
  },
  {
   "cell_type": "markdown",
   "id": "7d9be3c3-19f4-4eae-aa8c-5b77d2b87f6c",
   "metadata": {},
   "source": [
    "<font color = 'deepskyblue'>\n",
    "<font size = 5>\n",
    "\n",
    "Librerías"
   ]
  },
  {
   "cell_type": "code",
   "execution_count": 1,
   "id": "79f26dfc-7e40-449c-8f9b-a65d53e38088",
   "metadata": {},
   "outputs": [],
   "source": [
    "import pandas as pd\n",
    "import numpy as np\n",
    "import matplotlib.pyplot as plt\n",
    "from plotnine import * # para usar ggplot\n",
    "import os"
   ]
  },
  {
   "cell_type": "markdown",
   "id": "8e351c49-5fc5-43bb-8ef8-5568decc5881",
   "metadata": {},
   "source": [
    "<font color = 'deepskyblue'>\n",
    "<font size = 5>\n",
    "    \n",
    "Lectura de los datos"
   ]
  },
  {
   "cell_type": "code",
   "execution_count": 2,
   "id": "c5279b41-d2cd-43c5-88d5-1c4c8fd39503",
   "metadata": {},
   "outputs": [
    {
     "data": {
      "text/plain": [
       "'/home/zick13/Documentos/Developer/Courses/Inferencia_Estadistica/Clases/06_Ajuste_distribuciones_y_simulaciones'"
      ]
     },
     "execution_count": 2,
     "metadata": {},
     "output_type": "execute_result"
    }
   ],
   "source": [
    "# Obtenemos la ruta del notebook\n",
    "os.getcwd() "
   ]
  },
  {
   "cell_type": "code",
   "execution_count": 3,
   "id": "925d20c6-25f3-484d-8720-68f7d276513d",
   "metadata": {},
   "outputs": [
    {
     "data": {
      "text/html": [
       "<div>\n",
       "<style scoped>\n",
       "    .dataframe tbody tr th:only-of-type {\n",
       "        vertical-align: middle;\n",
       "    }\n",
       "\n",
       "    .dataframe tbody tr th {\n",
       "        vertical-align: top;\n",
       "    }\n",
       "\n",
       "    .dataframe thead th {\n",
       "        text-align: right;\n",
       "    }\n",
       "</style>\n",
       "<table border=\"1\" class=\"dataframe\">\n",
       "  <thead>\n",
       "    <tr style=\"text-align: right;\">\n",
       "      <th></th>\n",
       "      <th>Unnamed: 0</th>\n",
       "      <th>valor</th>\n",
       "    </tr>\n",
       "  </thead>\n",
       "  <tbody>\n",
       "    <tr>\n",
       "      <th>0</th>\n",
       "      <td>1</td>\n",
       "      <td>0.758667</td>\n",
       "    </tr>\n",
       "    <tr>\n",
       "      <th>1</th>\n",
       "      <td>2</td>\n",
       "      <td>0.370666</td>\n",
       "    </tr>\n",
       "    <tr>\n",
       "      <th>2</th>\n",
       "      <td>3</td>\n",
       "      <td>1.689090</td>\n",
       "    </tr>\n",
       "    <tr>\n",
       "      <th>3</th>\n",
       "      <td>4</td>\n",
       "      <td>2.680425</td>\n",
       "    </tr>\n",
       "    <tr>\n",
       "      <th>4</th>\n",
       "      <td>5</td>\n",
       "      <td>1.039670</td>\n",
       "    </tr>\n",
       "    <tr>\n",
       "      <th>...</th>\n",
       "      <td>...</td>\n",
       "      <td>...</td>\n",
       "    </tr>\n",
       "    <tr>\n",
       "      <th>95</th>\n",
       "      <td>96</td>\n",
       "      <td>1.075529</td>\n",
       "    </tr>\n",
       "    <tr>\n",
       "      <th>96</th>\n",
       "      <td>97</td>\n",
       "      <td>1.534832</td>\n",
       "    </tr>\n",
       "    <tr>\n",
       "      <th>97</th>\n",
       "      <td>98</td>\n",
       "      <td>0.722337</td>\n",
       "    </tr>\n",
       "    <tr>\n",
       "      <th>98</th>\n",
       "      <td>99</td>\n",
       "      <td>1.915894</td>\n",
       "    </tr>\n",
       "    <tr>\n",
       "      <th>99</th>\n",
       "      <td>100</td>\n",
       "      <td>0.203703</td>\n",
       "    </tr>\n",
       "  </tbody>\n",
       "</table>\n",
       "<p>100 rows × 2 columns</p>\n",
       "</div>"
      ],
      "text/plain": [
       "    Unnamed: 0     valor\n",
       "0            1  0.758667\n",
       "1            2  0.370666\n",
       "2            3  1.689090\n",
       "3            4  2.680425\n",
       "4            5  1.039670\n",
       "..         ...       ...\n",
       "95          96  1.075529\n",
       "96          97  1.534832\n",
       "97          98  0.722337\n",
       "98          99  1.915894\n",
       "99         100  0.203703\n",
       "\n",
       "[100 rows x 2 columns]"
      ]
     },
     "execution_count": 3,
     "metadata": {},
     "output_type": "execute_result"
    }
   ],
   "source": [
    "# ejemplo 01\n",
    "ejemplo_01 = pd.read_csv('/home/zick13/Documentos/Developer/Courses/Inferencia_Estadistica/Clases/06_Ajuste_distribuciones_y_simulaciones/Data/ejemplo_01.csv')\n",
    "\n",
    "# Se muestra el dataframe para ver si cargó de manera exitosa\n",
    "ejemplo_01"
   ]
  },
  {
   "cell_type": "code",
   "execution_count": 4,
   "id": "0e1b3956-79db-40cc-9068-3592f3dbbdf5",
   "metadata": {},
   "outputs": [
    {
     "data": {
      "text/html": [
       "<div>\n",
       "<style scoped>\n",
       "    .dataframe tbody tr th:only-of-type {\n",
       "        vertical-align: middle;\n",
       "    }\n",
       "\n",
       "    .dataframe tbody tr th {\n",
       "        vertical-align: top;\n",
       "    }\n",
       "\n",
       "    .dataframe thead th {\n",
       "        text-align: right;\n",
       "    }\n",
       "</style>\n",
       "<table border=\"1\" class=\"dataframe\">\n",
       "  <thead>\n",
       "    <tr style=\"text-align: right;\">\n",
       "      <th></th>\n",
       "      <th>Unnamed: 0</th>\n",
       "      <th>valor</th>\n",
       "    </tr>\n",
       "  </thead>\n",
       "  <tbody>\n",
       "    <tr>\n",
       "      <th>0</th>\n",
       "      <td>1</td>\n",
       "      <td>0.758667</td>\n",
       "    </tr>\n",
       "    <tr>\n",
       "      <th>1</th>\n",
       "      <td>2</td>\n",
       "      <td>0.370666</td>\n",
       "    </tr>\n",
       "    <tr>\n",
       "      <th>2</th>\n",
       "      <td>3</td>\n",
       "      <td>1.689090</td>\n",
       "    </tr>\n",
       "    <tr>\n",
       "      <th>3</th>\n",
       "      <td>4</td>\n",
       "      <td>2.680425</td>\n",
       "    </tr>\n",
       "    <tr>\n",
       "      <th>4</th>\n",
       "      <td>5</td>\n",
       "      <td>1.039670</td>\n",
       "    </tr>\n",
       "  </tbody>\n",
       "</table>\n",
       "</div>"
      ],
      "text/plain": [
       "   Unnamed: 0     valor\n",
       "0           1  0.758667\n",
       "1           2  0.370666\n",
       "2           3  1.689090\n",
       "3           4  2.680425\n",
       "4           5  1.039670"
      ]
     },
     "execution_count": 4,
     "metadata": {},
     "output_type": "execute_result"
    }
   ],
   "source": [
    "# Imprimimos las primeras 5 filas del data set para verificar si cargaron exitosamente\n",
    "ejemplo_01.head()"
   ]
  },
  {
   "cell_type": "code",
   "execution_count": 5,
   "id": "d28f0021-468c-431d-8707-969920138bbd",
   "metadata": {},
   "outputs": [
    {
     "data": {
      "text/html": [
       "<div>\n",
       "<style scoped>\n",
       "    .dataframe tbody tr th:only-of-type {\n",
       "        vertical-align: middle;\n",
       "    }\n",
       "\n",
       "    .dataframe tbody tr th {\n",
       "        vertical-align: top;\n",
       "    }\n",
       "\n",
       "    .dataframe thead th {\n",
       "        text-align: right;\n",
       "    }\n",
       "</style>\n",
       "<table border=\"1\" class=\"dataframe\">\n",
       "  <thead>\n",
       "    <tr style=\"text-align: right;\">\n",
       "      <th></th>\n",
       "      <th>Unnamed: 0</th>\n",
       "      <th>valor</th>\n",
       "    </tr>\n",
       "  </thead>\n",
       "  <tbody>\n",
       "    <tr>\n",
       "      <th>95</th>\n",
       "      <td>96</td>\n",
       "      <td>1.075529</td>\n",
       "    </tr>\n",
       "    <tr>\n",
       "      <th>96</th>\n",
       "      <td>97</td>\n",
       "      <td>1.534832</td>\n",
       "    </tr>\n",
       "    <tr>\n",
       "      <th>97</th>\n",
       "      <td>98</td>\n",
       "      <td>0.722337</td>\n",
       "    </tr>\n",
       "    <tr>\n",
       "      <th>98</th>\n",
       "      <td>99</td>\n",
       "      <td>1.915894</td>\n",
       "    </tr>\n",
       "    <tr>\n",
       "      <th>99</th>\n",
       "      <td>100</td>\n",
       "      <td>0.203703</td>\n",
       "    </tr>\n",
       "  </tbody>\n",
       "</table>\n",
       "</div>"
      ],
      "text/plain": [
       "    Unnamed: 0     valor\n",
       "95          96  1.075529\n",
       "96          97  1.534832\n",
       "97          98  0.722337\n",
       "98          99  1.915894\n",
       "99         100  0.203703"
      ]
     },
     "execution_count": 5,
     "metadata": {},
     "output_type": "execute_result"
    }
   ],
   "source": [
    "# Imprimimos las últimas 5 filas del data set para verificar si cargaron exitosamente\n",
    "ejemplo_01.tail()"
   ]
  },
  {
   "cell_type": "code",
   "execution_count": 6,
   "id": "a2078a45-59ab-43e9-a7b5-382cf02027c1",
   "metadata": {},
   "outputs": [
    {
     "data": {
      "text/plain": [
       "(100, 2)"
      ]
     },
     "execution_count": 6,
     "metadata": {},
     "output_type": "execute_result"
    }
   ],
   "source": [
    "# Imprimimos las dimensiones del data set\n",
    "ejemplo_01.shape"
   ]
  },
  {
   "cell_type": "code",
   "execution_count": 7,
   "id": "73bd6fc5-6f8c-4344-a459-ae6c832e7814",
   "metadata": {},
   "outputs": [
    {
     "data": {
      "text/plain": [
       "Index(['Unnamed: 0', 'valor'], dtype='object')"
      ]
     },
     "execution_count": 7,
     "metadata": {},
     "output_type": "execute_result"
    }
   ],
   "source": [
    "# Muestra el nombre de las columnas\n",
    "ejemplo_01.columns"
   ]
  },
  {
   "cell_type": "code",
   "execution_count": 8,
   "id": "3ea7f9eb-7743-4a29-b83b-b6502b525cf7",
   "metadata": {},
   "outputs": [
    {
     "data": {
      "image/png": "[encoded data removed]"
     },
     "metadata": {
      "image/png": {
       "height": 480,
       "width": 640
      }
     },
     "output_type": "display_data"
    }
   ],
   "source": [
    "# Creamos un histograma\n",
    "(\n",
    "    ggplot(data = ejemplo_01) +\n",
    "    geom_histogram(mapping = aes(x = \"valor\"), fill = \"deepskyblue\", color = \"white\", binwidth = 0.5)\n",
    ")"
   ]
  },
  {
   "cell_type": "code",
   "execution_count": 9,
   "id": "ad097b9f-bd59-4f1a-8525-cbb686c78fc6",
   "metadata": {},
   "outputs": [
    {
     "data": {
      "image/png": "[encoded data removed]"
     },
     "metadata": {
      "image/png": {
       "height": 480,
       "width": 640
      }
     },
     "output_type": "display_data"
    }
   ],
   "source": [
    "# Creamos un histograma pero ahora con los con los ticks o brincos en el eje x\n",
    "(\n",
    "    ggplot(data = ejemplo_01) +\n",
    "    geom_histogram(mapping = aes(x = \"valor\"), fill = \"deepskyblue\", color = \"white\", binwidth = 0.5) +\n",
    "    scale_x_continuous(breaks = [x * 0.5 - 0.25 for x in range(-1, 10)])\n",
    ")"
   ]
  },
  {
   "cell_type": "markdown",
   "id": "ecdec49c-261f-4545-a3ce-f931d56128f3",
   "metadata": {},
   "source": [
    "<font color = 'LightSeaGreen'>\n",
    "<font size = 3>\n",
    "\n",
    "**Ejemplo.**"
   ]
  },
  {
   "cell_type": "markdown",
   "id": "e3c75d42-342d-44a7-aa40-c95f0a734111",
   "metadata": {},
   "source": [
    "<font color = 'LightSeaGreen'>\n",
    "<font size = 3>\n",
    "\n",
    "Uno bien puede preguntarse, ¿cuál es la probabilidad de que el valor de la característica $X$ de un individuo tomado al azar sea menor a 2.25?\n",
    "\n",
    "O en otras palabras, **¿qué porcentaje de los individuos de la población cumplen que el valor de su característica $X$ es menor que 2.25?**\n",
    "\n",
    "Supongamos que la característica $X$ es la velocidad de un individuo. Lo que nos están preguntando es qué porcentaje de la población cumple que su velocidad $X$ es menor que 2.25\n",
    "\n",
    "Por lo tanto me están preguntando $P(X < 2.25) = F(2.25)$.\n",
    "\n",
    "Para responder la pregunta, según el histograma se tiene lo siguiente: $22 + 25 + 18 + 17 + 6 = 88$. Es decir, el $88\\%$ de la población cumple que su velocidad $X$ es menor que $2.25$. \n",
    "\n",
    "El detalle es que no sabemos cómo es la distribución para inferir que la población cumple con esa característica.\n",
    "\n",
    "Sabemos que el histograma nos indica que mida las alturas de cada uno de los primeros 5 rectángulos. Sin embargo, **recuerda que ese histograma únicamente corresponde con una muestra de tamaño 100 de nuestra población**, por lo cual la respuesta dada por este método de medir alturas no tiene por qué ser buena. \n",
    "\n",
    "---"
   ]
  },
  {
   "cell_type": "markdown",
   "id": "8ea7478d-34eb-49a9-9358-1b20796ae559",
   "metadata": {},
   "source": [
    "<font color = 'Brown'>\n",
    "<font size = 4>\n",
    "    \n",
    "**Notas**"
   ]
  },
  {
   "cell_type": "markdown",
   "id": "1ee88508-d69f-4b1d-bbe8-2e36f1da82b7",
   "metadata": {},
   "source": [
    "<font color = 'DarkRed'>\n",
    "<font size = 3>\n",
    "\n",
    "- Los histogramas de una **distribución gaussiana** se ve como fantasmas o montañas.\n",
    "- Los histogramas de una **distribución uniforme continua** se ven planos, no como montañas.\n",
    "- La **exponencial** se ve como una exponencial negativa $e^{-x}$, que va bajando, es como media montaña.\n",
    "- Las **binomiales** se parecen mucho a las **gaussianas**.\n",
    "\n",
    "---"
   ]
  },
  {
   "cell_type": "markdown",
   "id": "41972ed1-ca88-421c-97dd-93e4298a8b10",
   "metadata": {},
   "source": [
    "<font color = 'Black'>\n",
    "<font size = 3>\n",
    "\n",
    "Pero peor aún: **el uso de densidad empírica conlleva un sobreajuste de los datos**. \n",
    "\n",
    "Por ejemplo, si los datos realmente provienen de una gaussiana pero tienes varios atípicos, la densidad empírica puede no parecerse a una gaussiana.\n",
    "\n",
    "Es por ello que necesitamos establecer la verdadera densidad a la que se ajusten casi todas las muestras posibles. Esta densidad es lo que se conoce como **densidad teórica**.\n",
    "\n",
    "De esta manera, podemos decir que el ajuste de distribuciones son las técnicas estadísticas que permiten, a través de las densidades empíricas, conocer aproximadamente a la **densidad teórica**, que es la densidad verdadera ($F$).\n",
    "\n",
    "---"
   ]
  },
  {
   "cell_type": "markdown",
   "id": "6a14f147-ce91-4dfb-82b0-b6fa4bdcbf18",
   "metadata": {},
   "source": [
    "<font color = 'DodgerBlue'>\n",
    "<font size = 5>\n",
    "    \n",
    "**Proceso para ajustar distribuciones**"
   ]
  },
  {
   "cell_type": "markdown",
   "id": "de89ae6f-3ee1-48cf-abd7-f654eb2633d2",
   "metadata": {},
   "source": [
    "<font color = 'Black'>\n",
    "<font size = 3>\n",
    "\n",
    "Básicamente se aplican tres pasos:\n",
    "\n",
    "1. Observar la forma de los datos (gráficas).\n",
    "\n",
    "2. Ajustar los datos con los tipos de distribuciones que tu **intuición** te indique basado en el paso anterior (si le ves cara de alguna distribución como gaussiana, exponencial, piso plano, etc).\n",
    "\n",
    "<img src=\"Img/distributions.png\">\n",
    "\n",
    "3. Verificar cuál de los modelos se ajustó mejor (de todos los modelos que vas proponiendo).\n",
    "\n",
    "Ahora bien, es importante tomar en cuenta que **no todos los datos corresponden a una distribución \"famosa\" o sencilla**. El proceso de ajuste de distribuciones es más un arte que una ciencia. Este proceso depende mucho de la interpretación del investigador así como de su experiencia y **perseverancia** en el sentido de tener que buscar y buscar entre las distribuciones posibles hasta encontrar una que se ajuste al modelo.\n",
    "\n",
    "Debes entender que las distribuciones de los datos reales pueden tener distribuciones muy raras, por eso es importante saber el significado de cada variable aleatoria y saber qué modela cada una de ellas.\n",
    "\n",
    "En **Python** contamos con la paquetería ``distfit`` que nos ayudan a realizar ajustes de distribuciones. No siempre tiene la razón perpo si ayuda en parte del trabajo.\n",
    "\n",
    "---"
   ]
  },
  {
   "cell_type": "markdown",
   "id": "3cee41b2-b144-4055-9fa4-52bf22a1efb1",
   "metadata": {},
   "source": [
    "<font color = 'LightSeaGreen'>\n",
    "<font size = 3>\n",
    "\n",
    "**Ejemplo.**"
   ]
  },
  {
   "cell_type": "markdown",
   "id": "c3f4bd76-9f3b-4b0b-87e9-400a3c5b2d8b",
   "metadata": {},
   "source": [
    "<font color = 'LightSeaGreen'>\n",
    "<font size = 3>\n",
    "\n",
    "Consideremos la siguiente tabla para ver cómo trabaja ``distfit``."
   ]
  },
  {
   "cell_type": "markdown",
   "id": "2023c78a-2e00-480b-b02e-1c6dec7483d6",
   "metadata": {},
   "source": [
    "<font color = 'deepskyblue'>\n",
    "<font size = 5>\n",
    "\n",
    "Librerías"
   ]
  },
  {
   "cell_type": "code",
   "execution_count": 10,
   "id": "0afd725a-9aa5-445a-96bf-4dbe851fa5d8",
   "metadata": {},
   "outputs": [],
   "source": [
    "from distfit import distfit"
   ]
  },
  {
   "cell_type": "code",
   "execution_count": 11,
   "id": "7adbad3d-97be-4cc3-81d2-b885f9b0918c",
   "metadata": {},
   "outputs": [
    {
     "data": {
      "text/html": [
       "<div>\n",
       "<style scoped>\n",
       "    .dataframe tbody tr th:only-of-type {\n",
       "        vertical-align: middle;\n",
       "    }\n",
       "\n",
       "    .dataframe tbody tr th {\n",
       "        vertical-align: top;\n",
       "    }\n",
       "\n",
       "    .dataframe thead th {\n",
       "        text-align: right;\n",
       "    }\n",
       "</style>\n",
       "<table border=\"1\" class=\"dataframe\">\n",
       "  <thead>\n",
       "    <tr style=\"text-align: right;\">\n",
       "      <th></th>\n",
       "      <th>Unnamed: 0</th>\n",
       "      <th>valor</th>\n",
       "    </tr>\n",
       "  </thead>\n",
       "  <tbody>\n",
       "    <tr>\n",
       "      <th>0</th>\n",
       "      <td>1</td>\n",
       "      <td>6.120596</td>\n",
       "    </tr>\n",
       "    <tr>\n",
       "      <th>1</th>\n",
       "      <td>2</td>\n",
       "      <td>38.332637</td>\n",
       "    </tr>\n",
       "    <tr>\n",
       "      <th>2</th>\n",
       "      <td>3</td>\n",
       "      <td>8.380883</td>\n",
       "    </tr>\n",
       "    <tr>\n",
       "      <th>3</th>\n",
       "      <td>4</td>\n",
       "      <td>8.567679</td>\n",
       "    </tr>\n",
       "    <tr>\n",
       "      <th>4</th>\n",
       "      <td>5</td>\n",
       "      <td>4.488034</td>\n",
       "    </tr>\n",
       "    <tr>\n",
       "      <th>...</th>\n",
       "      <td>...</td>\n",
       "      <td>...</td>\n",
       "    </tr>\n",
       "    <tr>\n",
       "      <th>995</th>\n",
       "      <td>996</td>\n",
       "      <td>29.729386</td>\n",
       "    </tr>\n",
       "    <tr>\n",
       "      <th>996</th>\n",
       "      <td>997</td>\n",
       "      <td>9.510358</td>\n",
       "    </tr>\n",
       "    <tr>\n",
       "      <th>997</th>\n",
       "      <td>998</td>\n",
       "      <td>11.825993</td>\n",
       "    </tr>\n",
       "    <tr>\n",
       "      <th>998</th>\n",
       "      <td>999</td>\n",
       "      <td>13.654020</td>\n",
       "    </tr>\n",
       "    <tr>\n",
       "      <th>999</th>\n",
       "      <td>1000</td>\n",
       "      <td>16.629310</td>\n",
       "    </tr>\n",
       "  </tbody>\n",
       "</table>\n",
       "<p>1000 rows × 2 columns</p>\n",
       "</div>"
      ],
      "text/plain": [
       "     Unnamed: 0      valor\n",
       "0             1   6.120596\n",
       "1             2  38.332637\n",
       "2             3   8.380883\n",
       "3             4   8.567679\n",
       "4             5   4.488034\n",
       "..          ...        ...\n",
       "995         996  29.729386\n",
       "996         997   9.510358\n",
       "997         998  11.825993\n",
       "998         999  13.654020\n",
       "999        1000  16.629310\n",
       "\n",
       "[1000 rows x 2 columns]"
      ]
     },
     "execution_count": 11,
     "metadata": {},
     "output_type": "execute_result"
    }
   ],
   "source": [
    "# Importamos la tabla con los datos y la visualizamos\n",
    "ejemplo_02 = pd.read_csv(\"Data/ejemplo_02.csv\")\n",
    "ejemplo_02"
   ]
  },
  {
   "cell_type": "code",
   "execution_count": 12,
   "id": "bcd6ec64-d306-4a8e-89fa-d24155d11b8b",
   "metadata": {},
   "outputs": [
    {
     "data": {
      "text/html": [
       "<div>\n",
       "<style scoped>\n",
       "    .dataframe tbody tr th:only-of-type {\n",
       "        vertical-align: middle;\n",
       "    }\n",
       "\n",
       "    .dataframe tbody tr th {\n",
       "        vertical-align: top;\n",
       "    }\n",
       "\n",
       "    .dataframe thead th {\n",
       "        text-align: right;\n",
       "    }\n",
       "</style>\n",
       "<table border=\"1\" class=\"dataframe\">\n",
       "  <thead>\n",
       "    <tr style=\"text-align: right;\">\n",
       "      <th></th>\n",
       "      <th>Unnamed: 0</th>\n",
       "      <th>valor</th>\n",
       "    </tr>\n",
       "  </thead>\n",
       "  <tbody>\n",
       "    <tr>\n",
       "      <th>0</th>\n",
       "      <td>1</td>\n",
       "      <td>6.120596</td>\n",
       "    </tr>\n",
       "    <tr>\n",
       "      <th>1</th>\n",
       "      <td>2</td>\n",
       "      <td>38.332637</td>\n",
       "    </tr>\n",
       "    <tr>\n",
       "      <th>2</th>\n",
       "      <td>3</td>\n",
       "      <td>8.380883</td>\n",
       "    </tr>\n",
       "    <tr>\n",
       "      <th>3</th>\n",
       "      <td>4</td>\n",
       "      <td>8.567679</td>\n",
       "    </tr>\n",
       "    <tr>\n",
       "      <th>4</th>\n",
       "      <td>5</td>\n",
       "      <td>4.488034</td>\n",
       "    </tr>\n",
       "  </tbody>\n",
       "</table>\n",
       "</div>"
      ],
      "text/plain": [
       "   Unnamed: 0      valor\n",
       "0           1   6.120596\n",
       "1           2  38.332637\n",
       "2           3   8.380883\n",
       "3           4   8.567679\n",
       "4           5   4.488034"
      ]
     },
     "execution_count": 12,
     "metadata": {},
     "output_type": "execute_result"
    }
   ],
   "source": [
    "# Revisamos los datos para ver que se hayan cargado de manera exitosa y observar qué información tiene\n",
    "ejemplo_02.head()"
   ]
  },
  {
   "cell_type": "code",
   "execution_count": 13,
   "id": "2d518a73-d735-40c9-9471-3dd9c8e8e748",
   "metadata": {},
   "outputs": [
    {
     "data": {
      "image/png": "[encoded data removed]"
     },
     "metadata": {
      "image/png": {
       "height": 480,
       "width": 640
      }
     },
     "output_type": "display_data"
    }
   ],
   "source": [
    "# Obtenemos el histograma de los datos para ver su distribución\n",
    "(\n",
    "    ggplot(data = ejemplo_02) +\n",
    "    geom_histogram(mapping = aes(x = \"valor\"),\n",
    "                   binwidth = 0.5,\n",
    "                   fill = \"deepskyblue\",\n",
    "                   color = \"white\") +\n",
    "    scale_x_continuous(\n",
    "breaks=[x * 0.5 - 0.25 for x in range(-1, 10)]\n",
    "    )\n",
    ")"
   ]
  },
  {
   "cell_type": "code",
   "execution_count": 14,
   "id": "cb196c1b-8559-4d08-b7c6-ea79f984cdc1",
   "metadata": {},
   "outputs": [
    {
     "data": {
      "image/png": "[encoded data removed]"
     },
     "metadata": {
      "image/png": {
       "height": 480,
       "width": 640
      }
     },
     "output_type": "display_data"
    }
   ],
   "source": [
    "# Obtenemos el histograma mejorado de los datos para ver su distribución\n",
    "(\n",
    "    ggplot(data = ejemplo_02) +\n",
    "    geom_histogram(mapping = aes(x = \"valor\"),\n",
    "                   binwidth = 0.5,\n",
    "                   fill = \"deepskyblue\",\n",
    "                   color = \"white\")\n",
    ")"
   ]
  },
  {
   "cell_type": "markdown",
   "id": "7b3a245c-4258-4a49-bbec-51fdd21bb323",
   "metadata": {},
   "source": [
    "<font color = 'LightSeaGreen'>\n",
    "<font size = 3>\n",
    "\n",
    "- Observamos que la cola izquierda es más pesada ya que su caída es muy rápida.\n",
    "- La cola derecha es más ligera ya que tarda más en caer.\n",
    "- Las gaussianas tienen ambas colas iguales, por tanto esta no es una gaussiana.\n",
    "- Hay muchas distribuciones por lo que és complicado decidir cuál es la que mejor se ajusta. Por ello vamos a usar ``distfit``."
   ]
  },
  {
   "cell_type": "code",
   "execution_count": 15,
   "id": "75327220-21c9-4a34-a0f1-af1a71d120e4",
   "metadata": {},
   "outputs": [],
   "source": [
    "# Construimos un modelo\n",
    "modelo_automatico = distfit(todf = True) # un modelo que convierte los resultados en un dataframe"
   ]
  },
  {
   "cell_type": "code",
   "execution_count": 16,
   "id": "780ece77-2840-4bbd-9909-17f8aca4fc8f",
   "metadata": {},
   "outputs": [
    {
     "name": "stderr",
     "output_type": "stream",
     "text": [
      "[distfit] >INFO> fit\n",
      "[distfit] >INFO> transform\n",
      "[distfit] >INFO> [norm      ] [0.00 sec] [RSS: 0.00286828] [loc=17.302 scale=10.987]\n",
      "[distfit] >INFO> [expon     ] [0.00 sec] [RSS: 0.00507826] [loc=2.393 scale=14.909]\n",
      "[distfit] >INFO> [pareto    ] [0.00 sec] [RSS: 0.00507826] [loc=-536870909.607 scale=536870912.000]\n",
      "[distfit] >INFO> [dweibull  ] [0.01 sec] [RSS: 0.00123622] [loc=14.655 scale=7.516]\n",
      "[distfit] >INFO> [t         ] [0.07 sec] [RSS: 0.0010627] [loc=14.728 scale=6.481]\n",
      "[distfit] >INFO> [genextreme] [0.05 sec] [RSS: 0.000150596] [loc=12.104 scale=6.421]\n",
      "[distfit] >INFO> [gamma     ] [0.02 sec] [RSS: 0.000311823] [loc=2.182 scale=6.708]\n",
      "[distfit] >INFO> [lognorm   ] [0.00 sec] [RSS: 0.000146975] [loc=0.025 scale=14.616]\n",
      "[distfit] >INFO> [beta      ] [0.05 sec] [RSS: 0.000418812] [loc=2.147 scale=170.313]\n",
      "[distfit] >INFO> [uniform   ] [0.00 sec] [RSS: 0.0122916] [loc=2.393 scale=93.606]\n",
      "[distfit] >INFO> [loggamma  ] [0.03 sec] [RSS: 0.00293147] [loc=-3412.402 scale=460.505]\n",
      "[distfit] >INFO> [norm      ] [0.27 sec] [RSS: 0.00286828] [loc=17.302 scale=10.987]\n",
      "[distfit] >INFO> [expon     ] [0.27 sec] [RSS: 0.00507826] [loc=2.393 scale=14.909]\n",
      "[distfit] >INFO> [pareto    ] [0.27 sec] [RSS: 0.00507826] [loc=-536870909.607 scale=536870912.000]\n",
      "[distfit] >INFO> [dweibull  ] [0.27 sec] [RSS: 0.00123622] [loc=14.655 scale=7.516]\n",
      "[distfit] >INFO> [t         ] [0.25 sec] [RSS: 0.0010627] [loc=14.728 scale=6.481]\n",
      "[distfit] >INFO> [genextreme] [0.17 sec] [RSS: 0.000150596] [loc=12.104 scale=6.421]\n",
      "[distfit] >INFO> [gamma     ] [0.12 sec] [RSS: 0.000311823] [loc=2.182 scale=6.708]\n",
      "[distfit] >INFO> [lognorm   ] [0.10 sec] [RSS: 0.000146975] [loc=0.025 scale=14.616]\n",
      "[distfit] >INFO> [beta      ] [0.09 sec] [RSS: 0.000418812] [loc=2.147 scale=170.313]\n",
      "[distfit] >INFO> [uniform   ] [0.04 sec] [RSS: 0.0122916] [loc=2.393 scale=93.606]\n",
      "[distfit] >INFO> [loggamma  ] [0.04 sec] [RSS: 0.00293147] [loc=-3412.402 scale=460.505]\n",
      "[distfit] >INFO> Compute confidence intervals [parametric]\n"
     ]
    },
    {
     "data": {
      "text/plain": [
       "{'model': {'name': 'lognorm',\n",
       "  'score': 0.00014697490281438184,\n",
       "  'loc': 0.024751070552592448,\n",
       "  'scale': 14.616363291803806,\n",
       "  'arg': (np.float64(0.5764717905165455),),\n",
       "  'params': (np.float64(0.5764717905165455),\n",
       "   0.024751070552592448,\n",
       "   np.float64(14.616363291803806)),\n",
       "  'model': <scipy.stats._distn_infrastructure.rv_continuous_frozen at 0x7f80673dfa30>,\n",
       "  'bootstrap_score': 0,\n",
       "  'bootstrap_pass': None,\n",
       "  'color': '#e41a1c',\n",
       "  'CII_min_alpha': np.float64(5.687616133799033),\n",
       "  'CII_max_alpha': np.float64(37.75089737493124)},\n",
       " 'summary':           name     score              loc        scale  \\\n",
       " 0      lognorm  0.000147         0.024751    14.616363   \n",
       " 1   genextreme  0.000151        12.103688     6.421418   \n",
       " 2        gamma  0.000312         2.181845      6.70832   \n",
       " 3         beta  0.000419         2.147241   170.313475   \n",
       " 4            t  0.001063        14.728374     6.480639   \n",
       " 5     dweibull  0.001236        14.655017     7.515684   \n",
       " 6         norm  0.002868        17.301604    10.986558   \n",
       " 7     loggamma  0.002931     -3412.402295   460.505063   \n",
       " 8        expon  0.005078          2.39297    14.908634   \n",
       " 9       pareto  0.005078 -536870909.60703  536870912.0   \n",
       " 10     uniform  0.012292          2.39297    93.606473   \n",
       " \n",
       "                                        arg  \\\n",
       " 0                    (0.5764717905165455,)   \n",
       " 1                   (-0.1977257777337227,)   \n",
       " 2                    (2.2538816034108464,)   \n",
       " 3   (2.131199727781841, 21.63722475067534)   \n",
       " 4                    (2.7204350176117993,)   \n",
       " 5                    (1.0139167187496834,)   \n",
       " 6                                       ()   \n",
       " 7                     (1716.223131901852,)   \n",
       " 8                                       ()   \n",
       " 9                     (36010738.41075331,)   \n",
       " 10                                      ()   \n",
       " \n",
       "                                                params  \\\n",
       " 0   (0.5764717905165455, 0.024751070552592448, 14....   \n",
       " 1   (-0.1977257777337227, 12.103688405913765, 6.42...   \n",
       " 2   (2.2538816034108464, 2.1818449567957243, 6.708...   \n",
       " 3   (2.131199727781841, 21.63722475067534, 2.14724...   \n",
       " 4   (2.7204350176117993, 14.728373998485147, 6.480...   \n",
       " 5   (1.0139167187496834, 14.65501700651014, 7.5156...   \n",
       " 6            (17.301603792606834, 10.986558419900327)   \n",
       " 7   (1716.223131901852, -3412.402295153459, 460.50...   \n",
       " 8              (2.39296965690675, 14.908634135700083)   \n",
       " 9   (36010738.41075331, -536870909.60703033, 53687...   \n",
       " 10              (2.39296965690675, 93.60647321552045)   \n",
       " \n",
       "                                                 model bootstrap_score  \\\n",
       " 0   <scipy.stats._distn_infrastructure.rv_continuo...               0   \n",
       " 1   <scipy.stats._distn_infrastructure.rv_continuo...               0   \n",
       " 2   <scipy.stats._distn_infrastructure.rv_continuo...               0   \n",
       " 3   <scipy.stats._distn_infrastructure.rv_continuo...               0   \n",
       " 4   <scipy.stats._distn_infrastructure.rv_continuo...               0   \n",
       " 5   <scipy.stats._distn_infrastructure.rv_continuo...               0   \n",
       " 6   <scipy.stats._distn_infrastructure.rv_continuo...               0   \n",
       " 7   <scipy.stats._distn_infrastructure.rv_continuo...               0   \n",
       " 8   <scipy.stats._distn_infrastructure.rv_continuo...               0   \n",
       " 9   <scipy.stats._distn_infrastructure.rv_continuo...               0   \n",
       " 10  <scipy.stats._distn_infrastructure.rv_continuo...               0   \n",
       " \n",
       "    bootstrap_pass    color  \n",
       " 0            None  #e41a1c  \n",
       " 1            None  #e41a1c  \n",
       " 2            None  #377eb8  \n",
       " 3            None  #4daf4a  \n",
       " 4            None  #984ea3  \n",
       " 5            None  #ff7f00  \n",
       " 6            None  #ffff33  \n",
       " 7            None  #a65628  \n",
       " 8            None  #f781bf  \n",
       " 9            None  #999999  \n",
       " 10           None  #999999  ,\n",
       " 'histdata': (array([0.01034117, 0.02820318, 0.05123577, 0.04841546, 0.05734646,\n",
       "         0.05217588, 0.04277482, 0.0399545 , 0.02585291, 0.02256254,\n",
       "         0.01739196, 0.01175132, 0.01128127, 0.00846095, 0.00752085,\n",
       "         0.00517058, 0.00470053, 0.00517058, 0.00564064, 0.00188021,\n",
       "         0.00047005, 0.00282032, 0.00235026, 0.00141016, 0.00141016,\n",
       "         0.        , 0.        , 0.        , 0.00094011, 0.        ,\n",
       "         0.        , 0.        , 0.00047005, 0.00094011, 0.        ,\n",
       "         0.        , 0.00047005, 0.        , 0.        , 0.00047005,\n",
       "         0.        , 0.        , 0.        , 0.00047005]),\n",
       "  array([ 3.45667958,  5.58409943,  7.71151927,  9.83893912, 11.96635896,\n",
       "         14.09377881, 16.22119865, 18.3486185 , 20.47603835, 22.60345819,\n",
       "         24.73087804, 26.85829788, 28.98571773, 31.11313758, 33.24055742,\n",
       "         35.36797727, 37.49539711, 39.62281696, 41.7502368 , 43.87765665,\n",
       "         46.0050765 , 48.13249634, 50.25991619, 52.38733603, 54.51475588,\n",
       "         56.64217572, 58.76959557, 60.89701542, 63.02443526, 65.15185511,\n",
       "         67.27927495, 69.4066948 , 71.53411465, 73.66153449, 75.78895434,\n",
       "         77.91637418, 80.04379403, 82.17121387, 84.29863372, 86.42605357,\n",
       "         88.55347341, 90.68089326, 92.8083131 , 94.93573295])),\n",
       " 'size': 1000,\n",
       " 'alpha': 0.05,\n",
       " 'stats': 'RSS',\n",
       " 'bins': 'auto',\n",
       " 'bound': 'both',\n",
       " 'name': 'popular',\n",
       " 'method': 'parametric',\n",
       " 'multtest': 'fdr_bh',\n",
       " 'n_perm': 10000,\n",
       " 'smooth': None,\n",
       " 'weighted': True,\n",
       " 'f': 1.5,\n",
       " 'n_boots': None,\n",
       " 'random_state': None}"
      ]
     },
     "execution_count": 16,
     "metadata": {},
     "output_type": "execute_result"
    }
   ],
   "source": [
    "# Ajustamos el modelo y le damos de comer datos\n",
    "modelo_automatico.fit_transform(ejemplo_02[\"valor\"])"
   ]
  },
  {
   "cell_type": "code",
   "execution_count": 17,
   "id": "88ceca18-b3fa-4b2a-bcba-7c57df390e07",
   "metadata": {},
   "outputs": [
    {
     "data": {
      "text/html": [
       "<div>\n",
       "<style scoped>\n",
       "    .dataframe tbody tr th:only-of-type {\n",
       "        vertical-align: middle;\n",
       "    }\n",
       "\n",
       "    .dataframe tbody tr th {\n",
       "        vertical-align: top;\n",
       "    }\n",
       "\n",
       "    .dataframe thead th {\n",
       "        text-align: right;\n",
       "    }\n",
       "</style>\n",
       "<table border=\"1\" class=\"dataframe\">\n",
       "  <thead>\n",
       "    <tr style=\"text-align: right;\">\n",
       "      <th></th>\n",
       "      <th>name</th>\n",
       "      <th>score</th>\n",
       "      <th>loc</th>\n",
       "      <th>scale</th>\n",
       "      <th>arg</th>\n",
       "      <th>params</th>\n",
       "      <th>model</th>\n",
       "      <th>bootstrap_score</th>\n",
       "      <th>bootstrap_pass</th>\n",
       "      <th>color</th>\n",
       "    </tr>\n",
       "  </thead>\n",
       "  <tbody>\n",
       "    <tr>\n",
       "      <th>0</th>\n",
       "      <td>lognorm</td>\n",
       "      <td>0.000147</td>\n",
       "      <td>0.024751</td>\n",
       "      <td>14.616363</td>\n",
       "      <td>(0.5764717905165455,)</td>\n",
       "      <td>(0.5764717905165455, 0.024751070552592448, 14....</td>\n",
       "      <td>&lt;scipy.stats._distn_infrastructure.rv_continuo...</td>\n",
       "      <td>0</td>\n",
       "      <td>None</td>\n",
       "      <td>#e41a1c</td>\n",
       "    </tr>\n",
       "    <tr>\n",
       "      <th>1</th>\n",
       "      <td>genextreme</td>\n",
       "      <td>0.000151</td>\n",
       "      <td>12.103688</td>\n",
       "      <td>6.421418</td>\n",
       "      <td>(-0.1977257777337227,)</td>\n",
       "      <td>(-0.1977257777337227, 12.103688405913765, 6.42...</td>\n",
       "      <td>&lt;scipy.stats._distn_infrastructure.rv_continuo...</td>\n",
       "      <td>0</td>\n",
       "      <td>None</td>\n",
       "      <td>#e41a1c</td>\n",
       "    </tr>\n",
       "    <tr>\n",
       "      <th>2</th>\n",
       "      <td>gamma</td>\n",
       "      <td>0.000312</td>\n",
       "      <td>2.181845</td>\n",
       "      <td>6.70832</td>\n",
       "      <td>(2.2538816034108464,)</td>\n",
       "      <td>(2.2538816034108464, 2.1818449567957243, 6.708...</td>\n",
       "      <td>&lt;scipy.stats._distn_infrastructure.rv_continuo...</td>\n",
       "      <td>0</td>\n",
       "      <td>None</td>\n",
       "      <td>#377eb8</td>\n",
       "    </tr>\n",
       "    <tr>\n",
       "      <th>3</th>\n",
       "      <td>beta</td>\n",
       "      <td>0.000419</td>\n",
       "      <td>2.147241</td>\n",
       "      <td>170.313475</td>\n",
       "      <td>(2.131199727781841, 21.63722475067534)</td>\n",
       "      <td>(2.131199727781841, 21.63722475067534, 2.14724...</td>\n",
       "      <td>&lt;scipy.stats._distn_infrastructure.rv_continuo...</td>\n",
       "      <td>0</td>\n",
       "      <td>None</td>\n",
       "      <td>#4daf4a</td>\n",
       "    </tr>\n",
       "    <tr>\n",
       "      <th>4</th>\n",
       "      <td>t</td>\n",
       "      <td>0.001063</td>\n",
       "      <td>14.728374</td>\n",
       "      <td>6.480639</td>\n",
       "      <td>(2.7204350176117993,)</td>\n",
       "      <td>(2.7204350176117993, 14.728373998485147, 6.480...</td>\n",
       "      <td>&lt;scipy.stats._distn_infrastructure.rv_continuo...</td>\n",
       "      <td>0</td>\n",
       "      <td>None</td>\n",
       "      <td>#984ea3</td>\n",
       "    </tr>\n",
       "    <tr>\n",
       "      <th>5</th>\n",
       "      <td>dweibull</td>\n",
       "      <td>0.001236</td>\n",
       "      <td>14.655017</td>\n",
       "      <td>7.515684</td>\n",
       "      <td>(1.0139167187496834,)</td>\n",
       "      <td>(1.0139167187496834, 14.65501700651014, 7.5156...</td>\n",
       "      <td>&lt;scipy.stats._distn_infrastructure.rv_continuo...</td>\n",
       "      <td>0</td>\n",
       "      <td>None</td>\n",
       "      <td>#ff7f00</td>\n",
       "    </tr>\n",
       "    <tr>\n",
       "      <th>6</th>\n",
       "      <td>norm</td>\n",
       "      <td>0.002868</td>\n",
       "      <td>17.301604</td>\n",
       "      <td>10.986558</td>\n",
       "      <td>()</td>\n",
       "      <td>(17.301603792606834, 10.986558419900327)</td>\n",
       "      <td>&lt;scipy.stats._distn_infrastructure.rv_continuo...</td>\n",
       "      <td>0</td>\n",
       "      <td>None</td>\n",
       "      <td>#ffff33</td>\n",
       "    </tr>\n",
       "    <tr>\n",
       "      <th>7</th>\n",
       "      <td>loggamma</td>\n",
       "      <td>0.002931</td>\n",
       "      <td>-3412.402295</td>\n",
       "      <td>460.505063</td>\n",
       "      <td>(1716.223131901852,)</td>\n",
       "      <td>(1716.223131901852, -3412.402295153459, 460.50...</td>\n",
       "      <td>&lt;scipy.stats._distn_infrastructure.rv_continuo...</td>\n",
       "      <td>0</td>\n",
       "      <td>None</td>\n",
       "      <td>#a65628</td>\n",
       "    </tr>\n",
       "    <tr>\n",
       "      <th>8</th>\n",
       "      <td>expon</td>\n",
       "      <td>0.005078</td>\n",
       "      <td>2.39297</td>\n",
       "      <td>14.908634</td>\n",
       "      <td>()</td>\n",
       "      <td>(2.39296965690675, 14.908634135700083)</td>\n",
       "      <td>&lt;scipy.stats._distn_infrastructure.rv_continuo...</td>\n",
       "      <td>0</td>\n",
       "      <td>None</td>\n",
       "      <td>#f781bf</td>\n",
       "    </tr>\n",
       "    <tr>\n",
       "      <th>9</th>\n",
       "      <td>pareto</td>\n",
       "      <td>0.005078</td>\n",
       "      <td>-536870909.60703</td>\n",
       "      <td>536870912.0</td>\n",
       "      <td>(36010738.41075331,)</td>\n",
       "      <td>(36010738.41075331, -536870909.60703033, 53687...</td>\n",
       "      <td>&lt;scipy.stats._distn_infrastructure.rv_continuo...</td>\n",
       "      <td>0</td>\n",
       "      <td>None</td>\n",
       "      <td>#999999</td>\n",
       "    </tr>\n",
       "    <tr>\n",
       "      <th>10</th>\n",
       "      <td>uniform</td>\n",
       "      <td>0.012292</td>\n",
       "      <td>2.39297</td>\n",
       "      <td>93.606473</td>\n",
       "      <td>()</td>\n",
       "      <td>(2.39296965690675, 93.60647321552045)</td>\n",
       "      <td>&lt;scipy.stats._distn_infrastructure.rv_continuo...</td>\n",
       "      <td>0</td>\n",
       "      <td>None</td>\n",
       "      <td>#999999</td>\n",
       "    </tr>\n",
       "  </tbody>\n",
       "</table>\n",
       "</div>"
      ],
      "text/plain": [
       "          name     score              loc        scale  \\\n",
       "0      lognorm  0.000147         0.024751    14.616363   \n",
       "1   genextreme  0.000151        12.103688     6.421418   \n",
       "2        gamma  0.000312         2.181845      6.70832   \n",
       "3         beta  0.000419         2.147241   170.313475   \n",
       "4            t  0.001063        14.728374     6.480639   \n",
       "5     dweibull  0.001236        14.655017     7.515684   \n",
       "6         norm  0.002868        17.301604    10.986558   \n",
       "7     loggamma  0.002931     -3412.402295   460.505063   \n",
       "8        expon  0.005078          2.39297    14.908634   \n",
       "9       pareto  0.005078 -536870909.60703  536870912.0   \n",
       "10     uniform  0.012292          2.39297    93.606473   \n",
       "\n",
       "                                       arg  \\\n",
       "0                    (0.5764717905165455,)   \n",
       "1                   (-0.1977257777337227,)   \n",
       "2                    (2.2538816034108464,)   \n",
       "3   (2.131199727781841, 21.63722475067534)   \n",
       "4                    (2.7204350176117993,)   \n",
       "5                    (1.0139167187496834,)   \n",
       "6                                       ()   \n",
       "7                     (1716.223131901852,)   \n",
       "8                                       ()   \n",
       "9                     (36010738.41075331,)   \n",
       "10                                      ()   \n",
       "\n",
       "                                               params  \\\n",
       "0   (0.5764717905165455, 0.024751070552592448, 14....   \n",
       "1   (-0.1977257777337227, 12.103688405913765, 6.42...   \n",
       "2   (2.2538816034108464, 2.1818449567957243, 6.708...   \n",
       "3   (2.131199727781841, 21.63722475067534, 2.14724...   \n",
       "4   (2.7204350176117993, 14.728373998485147, 6.480...   \n",
       "5   (1.0139167187496834, 14.65501700651014, 7.5156...   \n",
       "6            (17.301603792606834, 10.986558419900327)   \n",
       "7   (1716.223131901852, -3412.402295153459, 460.50...   \n",
       "8              (2.39296965690675, 14.908634135700083)   \n",
       "9   (36010738.41075331, -536870909.60703033, 53687...   \n",
       "10              (2.39296965690675, 93.60647321552045)   \n",
       "\n",
       "                                                model bootstrap_score  \\\n",
       "0   <scipy.stats._distn_infrastructure.rv_continuo...               0   \n",
       "1   <scipy.stats._distn_infrastructure.rv_continuo...               0   \n",
       "2   <scipy.stats._distn_infrastructure.rv_continuo...               0   \n",
       "3   <scipy.stats._distn_infrastructure.rv_continuo...               0   \n",
       "4   <scipy.stats._distn_infrastructure.rv_continuo...               0   \n",
       "5   <scipy.stats._distn_infrastructure.rv_continuo...               0   \n",
       "6   <scipy.stats._distn_infrastructure.rv_continuo...               0   \n",
       "7   <scipy.stats._distn_infrastructure.rv_continuo...               0   \n",
       "8   <scipy.stats._distn_infrastructure.rv_continuo...               0   \n",
       "9   <scipy.stats._distn_infrastructure.rv_continuo...               0   \n",
       "10  <scipy.stats._distn_infrastructure.rv_continuo...               0   \n",
       "\n",
       "   bootstrap_pass    color  \n",
       "0            None  #e41a1c  \n",
       "1            None  #e41a1c  \n",
       "2            None  #377eb8  \n",
       "3            None  #4daf4a  \n",
       "4            None  #984ea3  \n",
       "5            None  #ff7f00  \n",
       "6            None  #ffff33  \n",
       "7            None  #a65628  \n",
       "8            None  #f781bf  \n",
       "9            None  #999999  \n",
       "10           None  #999999  "
      ]
     },
     "execution_count": 17,
     "metadata": {},
     "output_type": "execute_result"
    }
   ],
   "source": [
    "# Crea un resumen en una tabla de lo que obtuvo\n",
    "tabla_resultados = modelo_automatico.summary\n",
    "tabla_resultados"
   ]
  },
  {
   "cell_type": "code",
   "execution_count": 18,
   "id": "8ad8ad95-9e18-4c11-b694-c9305d8bd261",
   "metadata": {},
   "outputs": [
    {
     "name": "stderr",
     "output_type": "stream",
     "text": [
      "[distfit] >INFO> Ploting Summary.\n"
     ]
    },
    {
     "data": {
      "image/png": "[encoded data removed]",
      "text/plain": [
       "<Figure size 2000x1000 with 1 Axes>"
      ]
     },
     "metadata": {},
     "output_type": "display_data"
    }
   ],
   "source": [
    "# Se muestra la gráfica con el score para ver qué distribución podemos tomar\n",
    "modelo_automatico.plot_summary()\n",
    "plt.show()\n",
    "%matplotlib inline"
   ]
  },
  {
   "cell_type": "markdown",
   "id": "12615d41-eda4-45b7-a40f-ac79945b20af",
   "metadata": {},
   "source": [
    "<font color = 'LightSeaGreen'>\n",
    "<font size = 3>\n",
    "\n",
    "- El *fit_transform*, internamente hace muchos procesos aleatorios, toma muchas muestras de los datos y con ello hace su entrenamiento.\n",
    "- El **score** viene siendo como en series de tiempo la **informació de Akaike (AIC)**, se busca que el **score** sea muy pequeño.\n",
    "- Según el resultado nos dice que es una **lognorm**.\n",
    "- Por lo tanto, $X$ es una **Lognorm** con media $= log(14.61) = 2.68$, y $\\sigma = 0.57$.\n",
    "- Lo feo de Python es que trabaja con el **log** y el **scale**, no trabaja con los parámetros naturales de la distribución, en R si te devuelve el parámetro de la distribución.\n",
    "\n",
    "**Cualquier cosa por debajo de 0.05 te va a funcionar bien**. \n",
    "\n",
    "---"
   ]
  },
  {
   "cell_type": "markdown",
   "id": "6e5226c5-7c56-44ae-af25-9aeb05c11e29",
   "metadata": {},
   "source": [
    "<font color = 'LightSeaGreen'>\n",
    "<font size = 3>\n",
    "\n",
    "**Ejemplo.**"
   ]
  },
  {
   "cell_type": "markdown",
   "id": "b06a1d25-c681-4178-a332-2f36872a0525",
   "metadata": {},
   "source": [
    "<font color = 'LightSeaGreen'>\n",
    "<font size = 3>\n",
    "\n",
    "Ahora vamos a generar observaciones gaussianas para ver qué nos dice el ``distfit``, y ver si falla o sigue siendo bueno. "
   ]
  },
  {
   "cell_type": "code",
   "execution_count": 19,
   "id": "33d7a660-8409-45f1-8033-dd0da7735517",
   "metadata": {},
   "outputs": [
    {
     "data": {
      "text/plain": [
       "array([ 5.93054864,  7.55251693,  8.43729533, ...,  2.76740422,\n",
       "       11.61896237,  3.83506472])"
      ]
     },
     "execution_count": 19,
     "metadata": {},
     "output_type": "execute_result"
    }
   ],
   "source": [
    "# Generamos las observaciones gaussianas\n",
    "observaciones_1 = np.random.normal(loc = 8, scale = 2, size = 2000) # loc es la media y scale es la desviación\n",
    "observaciones_1"
   ]
  },
  {
   "cell_type": "code",
   "execution_count": 20,
   "id": "ff766f00-bb1f-4a11-b748-5ad67da65720",
   "metadata": {},
   "outputs": [
    {
     "data": {
      "text/html": [
       "<div>\n",
       "<style scoped>\n",
       "    .dataframe tbody tr th:only-of-type {\n",
       "        vertical-align: middle;\n",
       "    }\n",
       "\n",
       "    .dataframe tbody tr th {\n",
       "        vertical-align: top;\n",
       "    }\n",
       "\n",
       "    .dataframe thead th {\n",
       "        text-align: right;\n",
       "    }\n",
       "</style>\n",
       "<table border=\"1\" class=\"dataframe\">\n",
       "  <thead>\n",
       "    <tr style=\"text-align: right;\">\n",
       "      <th></th>\n",
       "      <th>valor</th>\n",
       "    </tr>\n",
       "  </thead>\n",
       "  <tbody>\n",
       "    <tr>\n",
       "      <th>0</th>\n",
       "      <td>5.930549</td>\n",
       "    </tr>\n",
       "    <tr>\n",
       "      <th>1</th>\n",
       "      <td>7.552517</td>\n",
       "    </tr>\n",
       "    <tr>\n",
       "      <th>2</th>\n",
       "      <td>8.437295</td>\n",
       "    </tr>\n",
       "    <tr>\n",
       "      <th>3</th>\n",
       "      <td>7.114145</td>\n",
       "    </tr>\n",
       "    <tr>\n",
       "      <th>4</th>\n",
       "      <td>4.567864</td>\n",
       "    </tr>\n",
       "    <tr>\n",
       "      <th>...</th>\n",
       "      <td>...</td>\n",
       "    </tr>\n",
       "    <tr>\n",
       "      <th>1995</th>\n",
       "      <td>10.224022</td>\n",
       "    </tr>\n",
       "    <tr>\n",
       "      <th>1996</th>\n",
       "      <td>5.921079</td>\n",
       "    </tr>\n",
       "    <tr>\n",
       "      <th>1997</th>\n",
       "      <td>2.767404</td>\n",
       "    </tr>\n",
       "    <tr>\n",
       "      <th>1998</th>\n",
       "      <td>11.618962</td>\n",
       "    </tr>\n",
       "    <tr>\n",
       "      <th>1999</th>\n",
       "      <td>3.835065</td>\n",
       "    </tr>\n",
       "  </tbody>\n",
       "</table>\n",
       "<p>2000 rows × 1 columns</p>\n",
       "</div>"
      ],
      "text/plain": [
       "          valor\n",
       "0      5.930549\n",
       "1      7.552517\n",
       "2      8.437295\n",
       "3      7.114145\n",
       "4      4.567864\n",
       "...         ...\n",
       "1995  10.224022\n",
       "1996   5.921079\n",
       "1997   2.767404\n",
       "1998  11.618962\n",
       "1999   3.835065\n",
       "\n",
       "[2000 rows x 1 columns]"
      ]
     },
     "execution_count": 20,
     "metadata": {},
     "output_type": "execute_result"
    }
   ],
   "source": [
    "# Para hacer el histograma en ggplot ocupamos que estén como en una tabla\n",
    "mi_tabla1 = pd.DataFrame({\"valor\": observaciones_1})\n",
    "mi_tabla1"
   ]
  },
  {
   "cell_type": "code",
   "execution_count": 21,
   "id": "95d5752a-456e-4f99-8e78-dff17fde07d3",
   "metadata": {},
   "outputs": [
    {
     "data": {
      "image/png": "[encoded data removed]"
     },
     "metadata": {
      "image/png": {
       "height": 480,
       "width": 640
      }
     },
     "output_type": "display_data"
    }
   ],
   "source": [
    "# Creamos el histograma para ver la distribución de los datos\n",
    "(\n",
    "    ggplot(data = mi_tabla1) +\n",
    "    geom_histogram(mapping = aes(x = \"valor\"),\n",
    "                   binwidth = 0.5,\n",
    "                   fill = \"salmon\",\n",
    "                   color = \"white\")\n",
    ")"
   ]
  },
  {
   "cell_type": "code",
   "execution_count": 22,
   "id": "9a9de79f-0fa9-447b-84fb-6fdbc1be3745",
   "metadata": {},
   "outputs": [],
   "source": [
    "# Construimos un modelo\n",
    "modelo_automatico_2 = distfit(todf = True) # un modelo que convierte los resultados en un dataframe"
   ]
  },
  {
   "cell_type": "code",
   "execution_count": 23,
   "id": "d0739f16-12d3-4c1d-9f07-2c498fb28959",
   "metadata": {},
   "outputs": [
    {
     "name": "stderr",
     "output_type": "stream",
     "text": [
      "[distfit] >INFO> fit\n",
      "[distfit] >INFO> transform\n",
      "[distfit] >INFO> [norm      ] [0.00 sec] [RSS: 0.00233242] [loc=8.037 scale=2.026]\n",
      "[distfit] >INFO> [expon     ] [0.00 sec] [RSS: 0.230289] [loc=1.613 scale=6.424]\n",
      "[distfit] >INFO> [pareto    ] [0.00 sec] [RSS: 0.230289] [loc=-536870910.387 scale=536870912.000]\n",
      "[distfit] >INFO> [dweibull  ] [0.02 sec] [RSS: 0.00385312] [loc=7.983 scale=1.725]\n",
      "[distfit] >INFO> [t         ] [0.07 sec] [RSS: 0.00232756] [loc=8.037 scale=2.025]\n",
      "[distfit] >INFO> [genextreme] [0.04 sec] [RSS: 0.0033689] [loc=7.290 scale=2.016]\n",
      "[distfit] >INFO> [gamma     ] [0.03 sec] [RSS: 0.00229727] [loc=-150.937 scale=0.026]\n",
      "[distfit] >INFO> [lognorm   ] [0.00 sec] [RSS: 0.002297] [loc=-230.910 scale=238.938]\n",
      "[distfit] >INFO> [beta      ] [0.03 sec] [RSS: 0.00229522] [loc=-141.647 scale=4033921.222]\n",
      "[distfit] >INFO> [uniform   ] [0.00 sec] [RSS: 0.153512] [loc=1.613 scale=13.110]\n",
      "[distfit] >INFO> [loggamma  ] [0.04 sec] [RSS: 0.00242781] [loc=-453.363 scale=66.214]\n",
      "[distfit] >INFO> [norm      ] [0.28 sec] [RSS: 0.00233242] [loc=8.037 scale=2.026]\n",
      "[distfit] >INFO> [expon     ] [0.28 sec] [RSS: 0.230289] [loc=1.613 scale=6.424]\n",
      "[distfit] >INFO> [pareto    ] [0.28 sec] [RSS: 0.230289] [loc=-536870910.387 scale=536870912.000]\n",
      "[distfit] >INFO> [dweibull  ] [0.27 sec] [RSS: 0.00385312] [loc=7.983 scale=1.725]\n",
      "[distfit] >INFO> [t         ] [0.25 sec] [RSS: 0.00232756] [loc=8.037 scale=2.025]\n",
      "[distfit] >INFO> [genextreme] [0.17 sec] [RSS: 0.0033689] [loc=7.290 scale=2.016]\n",
      "[distfit] >INFO> [gamma     ] [0.12 sec] [RSS: 0.00229727] [loc=-150.937 scale=0.026]\n",
      "[distfit] >INFO> [lognorm   ] [0.09 sec] [RSS: 0.002297] [loc=-230.910 scale=238.938]\n",
      "[distfit] >INFO> [beta      ] [0.08 sec] [RSS: 0.00229522] [loc=-141.647 scale=4033921.222]\n",
      "[distfit] >INFO> [uniform   ] [0.05 sec] [RSS: 0.153512] [loc=1.613 scale=13.110]\n",
      "[distfit] >INFO> [loggamma  ] [0.05 sec] [RSS: 0.00242781] [loc=-453.363 scale=66.214]\n",
      "[distfit] >INFO> Compute confidence intervals [parametric]\n"
     ]
    },
    {
     "data": {
      "text/plain": [
       "{'model': {'name': 'beta',\n",
       "  'score': 0.0022952210109002816,\n",
       "  'loc': -141.64661604226737,\n",
       "  'scale': 4033921.221587239,\n",
       "  'arg': (np.float64(5460.711550012266), np.float64(147158040.33012423)),\n",
       "  'params': (np.float64(5460.711550012266),\n",
       "   np.float64(147158040.33012423),\n",
       "   np.float64(-141.64661604226737),\n",
       "   np.float64(4033921.221587239)),\n",
       "  'model': <scipy.stats._distn_infrastructure.rv_continuous_frozen at 0x7f80672a1090>,\n",
       "  'bootstrap_score': 0,\n",
       "  'bootstrap_pass': None,\n",
       "  'color': '#e41a1c',\n",
       "  'CII_min_alpha': np.float64(4.721697935123615),\n",
       "  'CII_max_alpha': np.float64(11.38503261203931)},\n",
       " 'summary':           name     score               loc           scale  \\\n",
       " 0         beta  0.002295       -141.646616  4033921.221587   \n",
       " 1      lognorm  0.002297       -230.909502      238.938312   \n",
       " 2        gamma  0.002297       -150.936503        0.025813   \n",
       " 3            t  0.002328          8.037369        2.024639   \n",
       " 4         norm  0.002332          8.037396        2.025727   \n",
       " 5     loggamma  0.002428       -453.363299       66.213999   \n",
       " 6   genextreme  0.003369          7.290242        2.016101   \n",
       " 7     dweibull  0.003853           7.98258        1.725412   \n",
       " 8      uniform  0.153512          1.613459       13.109928   \n",
       " 9        expon  0.230289          1.613459        6.423937   \n",
       " 10      pareto  0.230289 -536870910.386541     536870912.0   \n",
       " \n",
       "                                         arg  \\\n",
       " 0   (5460.711550012266, 147158040.33012423)   \n",
       " 1                   (0.008477569449711632,)   \n",
       " 2                      (6158.637951199507,)   \n",
       " 3                       (1879.40003637366,)   \n",
       " 4                                        ()   \n",
       " 5                     (1062.9391429180328,)   \n",
       " 6                     (0.2500860970059668,)   \n",
       " 7                     (1.2582817395864132,)   \n",
       " 8                                        ()   \n",
       " 9                                        ()   \n",
       " 10                     (83573502.83052829,)   \n",
       " \n",
       "                                                params  \\\n",
       " 0   (5460.711550012266, 147158040.33012423, -141.6...   \n",
       " 1   (0.008477569449711632, -230.90950194651342, 23...   \n",
       " 2   (6158.637951199507, -150.93650277018438, 0.025...   \n",
       " 3   (1879.40003637366, 8.037369118174746, 2.024638...   \n",
       " 4             (8.037395972872071, 2.0257265740589725)   \n",
       " 5   (1062.9391429180328, -453.36329886651504, 66.2...   \n",
       " 6   (0.2500860970059668, 7.290242081319644, 2.0161...   \n",
       " 7   (1.2582817395864132, 7.98258025245425, 1.72541...   \n",
       " 8            (1.6134589964705137, 13.109927633249967)   \n",
       " 9             (1.6134589964705137, 6.423936976401557)   \n",
       " 10  (83573502.83052829, -536870910.386541, 5368709...   \n",
       " \n",
       "                                                 model bootstrap_score  \\\n",
       " 0   <scipy.stats._distn_infrastructure.rv_continuo...               0   \n",
       " 1   <scipy.stats._distn_infrastructure.rv_continuo...               0   \n",
       " 2   <scipy.stats._distn_infrastructure.rv_continuo...               0   \n",
       " 3   <scipy.stats._distn_infrastructure.rv_continuo...               0   \n",
       " 4   <scipy.stats._distn_infrastructure.rv_continuo...               0   \n",
       " 5   <scipy.stats._distn_infrastructure.rv_continuo...               0   \n",
       " 6   <scipy.stats._distn_infrastructure.rv_continuo...               0   \n",
       " 7   <scipy.stats._distn_infrastructure.rv_continuo...               0   \n",
       " 8   <scipy.stats._distn_infrastructure.rv_continuo...               0   \n",
       " 9   <scipy.stats._distn_infrastructure.rv_continuo...               0   \n",
       " 10  <scipy.stats._distn_infrastructure.rv_continuo...               0   \n",
       " \n",
       "    bootstrap_pass    color  \n",
       " 0            None  #e41a1c  \n",
       " 1            None  #e41a1c  \n",
       " 2            None  #377eb8  \n",
       " 3            None  #4daf4a  \n",
       " 4            None  #984ea3  \n",
       " 5            None  #ff7f00  \n",
       " 6            None  #ffff33  \n",
       " 7            None  #a65628  \n",
       " 8            None  #f781bf  \n",
       " 9            None  #999999  \n",
       " 10           None  #999999  ,\n",
       " 'histdata': (array([0.00236462, 0.00354693, 0.00709386, 0.01300541, 0.01655234,\n",
       "         0.02719313, 0.04019854, 0.0472924 , 0.05202164, 0.09813174,\n",
       "         0.14424183, 0.14897107, 0.14897107, 0.19981041, 0.19744579,\n",
       "         0.20217503, 0.19508117, 0.18089345, 0.14542414, 0.1170487 ,\n",
       "         0.10759022, 0.08749095, 0.04965702, 0.05202164, 0.02601082,\n",
       "         0.01891696, 0.01537003, 0.0118231 , 0.00354693, 0.00354693,\n",
       "         0.00118231]),\n",
       "  array([ 1.82490944,  2.24781033,  2.67071122,  3.09361212,  3.51651301,\n",
       "          3.9394139 ,  4.36231479,  4.78521568,  5.20811657,  5.63101746,\n",
       "          6.05391836,  6.47681925,  6.89972014,  7.32262103,  7.74552192,\n",
       "          8.16842281,  8.5913237 ,  9.0142246 ,  9.43712549,  9.86002638,\n",
       "         10.28292727, 10.70582816, 11.12872905, 11.55162994, 11.97453084,\n",
       "         12.39743173, 12.82033262, 13.24323351, 13.6661344 , 14.08903529,\n",
       "         14.51193618])),\n",
       " 'size': 2000,\n",
       " 'alpha': 0.05,\n",
       " 'stats': 'RSS',\n",
       " 'bins': 'auto',\n",
       " 'bound': 'both',\n",
       " 'name': 'popular',\n",
       " 'method': 'parametric',\n",
       " 'multtest': 'fdr_bh',\n",
       " 'n_perm': 10000,\n",
       " 'smooth': None,\n",
       " 'weighted': True,\n",
       " 'f': 1.5,\n",
       " 'n_boots': None,\n",
       " 'random_state': None}"
      ]
     },
     "execution_count": 23,
     "metadata": {},
     "output_type": "execute_result"
    }
   ],
   "source": [
    "# Ajustamos el modelo y le damos de comer datos\n",
    "modelo_automatico_2.fit_transform(observaciones_1)"
   ]
  },
  {
   "cell_type": "code",
   "execution_count": 24,
   "id": "50bdfa2f-4cfc-4fa7-ab60-eb8b63f4836d",
   "metadata": {},
   "outputs": [
    {
     "data": {
      "text/html": [
       "<div>\n",
       "<style scoped>\n",
       "    .dataframe tbody tr th:only-of-type {\n",
       "        vertical-align: middle;\n",
       "    }\n",
       "\n",
       "    .dataframe tbody tr th {\n",
       "        vertical-align: top;\n",
       "    }\n",
       "\n",
       "    .dataframe thead th {\n",
       "        text-align: right;\n",
       "    }\n",
       "</style>\n",
       "<table border=\"1\" class=\"dataframe\">\n",
       "  <thead>\n",
       "    <tr style=\"text-align: right;\">\n",
       "      <th></th>\n",
       "      <th>name</th>\n",
       "      <th>score</th>\n",
       "      <th>loc</th>\n",
       "      <th>scale</th>\n",
       "      <th>arg</th>\n",
       "      <th>params</th>\n",
       "      <th>model</th>\n",
       "      <th>bootstrap_score</th>\n",
       "      <th>bootstrap_pass</th>\n",
       "      <th>color</th>\n",
       "    </tr>\n",
       "  </thead>\n",
       "  <tbody>\n",
       "    <tr>\n",
       "      <th>0</th>\n",
       "      <td>beta</td>\n",
       "      <td>0.002295</td>\n",
       "      <td>-141.646616</td>\n",
       "      <td>4033921.221587</td>\n",
       "      <td>(5460.711550012266, 147158040.33012423)</td>\n",
       "      <td>(5460.711550012266, 147158040.33012423, -141.6...</td>\n",
       "      <td>&lt;scipy.stats._distn_infrastructure.rv_continuo...</td>\n",
       "      <td>0</td>\n",
       "      <td>None</td>\n",
       "      <td>#e41a1c</td>\n",
       "    </tr>\n",
       "    <tr>\n",
       "      <th>1</th>\n",
       "      <td>lognorm</td>\n",
       "      <td>0.002297</td>\n",
       "      <td>-230.909502</td>\n",
       "      <td>238.938312</td>\n",
       "      <td>(0.008477569449711632,)</td>\n",
       "      <td>(0.008477569449711632, -230.90950194651342, 23...</td>\n",
       "      <td>&lt;scipy.stats._distn_infrastructure.rv_continuo...</td>\n",
       "      <td>0</td>\n",
       "      <td>None</td>\n",
       "      <td>#e41a1c</td>\n",
       "    </tr>\n",
       "    <tr>\n",
       "      <th>2</th>\n",
       "      <td>gamma</td>\n",
       "      <td>0.002297</td>\n",
       "      <td>-150.936503</td>\n",
       "      <td>0.025813</td>\n",
       "      <td>(6158.637951199507,)</td>\n",
       "      <td>(6158.637951199507, -150.93650277018438, 0.025...</td>\n",
       "      <td>&lt;scipy.stats._distn_infrastructure.rv_continuo...</td>\n",
       "      <td>0</td>\n",
       "      <td>None</td>\n",
       "      <td>#377eb8</td>\n",
       "    </tr>\n",
       "    <tr>\n",
       "      <th>3</th>\n",
       "      <td>t</td>\n",
       "      <td>0.002328</td>\n",
       "      <td>8.037369</td>\n",
       "      <td>2.024639</td>\n",
       "      <td>(1879.40003637366,)</td>\n",
       "      <td>(1879.40003637366, 8.037369118174746, 2.024638...</td>\n",
       "      <td>&lt;scipy.stats._distn_infrastructure.rv_continuo...</td>\n",
       "      <td>0</td>\n",
       "      <td>None</td>\n",
       "      <td>#4daf4a</td>\n",
       "    </tr>\n",
       "    <tr>\n",
       "      <th>4</th>\n",
       "      <td>norm</td>\n",
       "      <td>0.002332</td>\n",
       "      <td>8.037396</td>\n",
       "      <td>2.025727</td>\n",
       "      <td>()</td>\n",
       "      <td>(8.037395972872071, 2.0257265740589725)</td>\n",
       "      <td>&lt;scipy.stats._distn_infrastructure.rv_continuo...</td>\n",
       "      <td>0</td>\n",
       "      <td>None</td>\n",
       "      <td>#984ea3</td>\n",
       "    </tr>\n",
       "    <tr>\n",
       "      <th>5</th>\n",
       "      <td>loggamma</td>\n",
       "      <td>0.002428</td>\n",
       "      <td>-453.363299</td>\n",
       "      <td>66.213999</td>\n",
       "      <td>(1062.9391429180328,)</td>\n",
       "      <td>(1062.9391429180328, -453.36329886651504, 66.2...</td>\n",
       "      <td>&lt;scipy.stats._distn_infrastructure.rv_continuo...</td>\n",
       "      <td>0</td>\n",
       "      <td>None</td>\n",
       "      <td>#ff7f00</td>\n",
       "    </tr>\n",
       "    <tr>\n",
       "      <th>6</th>\n",
       "      <td>genextreme</td>\n",
       "      <td>0.003369</td>\n",
       "      <td>7.290242</td>\n",
       "      <td>2.016101</td>\n",
       "      <td>(0.2500860970059668,)</td>\n",
       "      <td>(0.2500860970059668, 7.290242081319644, 2.0161...</td>\n",
       "      <td>&lt;scipy.stats._distn_infrastructure.rv_continuo...</td>\n",
       "      <td>0</td>\n",
       "      <td>None</td>\n",
       "      <td>#ffff33</td>\n",
       "    </tr>\n",
       "    <tr>\n",
       "      <th>7</th>\n",
       "      <td>dweibull</td>\n",
       "      <td>0.003853</td>\n",
       "      <td>7.98258</td>\n",
       "      <td>1.725412</td>\n",
       "      <td>(1.2582817395864132,)</td>\n",
       "      <td>(1.2582817395864132, 7.98258025245425, 1.72541...</td>\n",
       "      <td>&lt;scipy.stats._distn_infrastructure.rv_continuo...</td>\n",
       "      <td>0</td>\n",
       "      <td>None</td>\n",
       "      <td>#a65628</td>\n",
       "    </tr>\n",
       "    <tr>\n",
       "      <th>8</th>\n",
       "      <td>uniform</td>\n",
       "      <td>0.153512</td>\n",
       "      <td>1.613459</td>\n",
       "      <td>13.109928</td>\n",
       "      <td>()</td>\n",
       "      <td>(1.6134589964705137, 13.109927633249967)</td>\n",
       "      <td>&lt;scipy.stats._distn_infrastructure.rv_continuo...</td>\n",
       "      <td>0</td>\n",
       "      <td>None</td>\n",
       "      <td>#f781bf</td>\n",
       "    </tr>\n",
       "    <tr>\n",
       "      <th>9</th>\n",
       "      <td>expon</td>\n",
       "      <td>0.230289</td>\n",
       "      <td>1.613459</td>\n",
       "      <td>6.423937</td>\n",
       "      <td>()</td>\n",
       "      <td>(1.6134589964705137, 6.423936976401557)</td>\n",
       "      <td>&lt;scipy.stats._distn_infrastructure.rv_continuo...</td>\n",
       "      <td>0</td>\n",
       "      <td>None</td>\n",
       "      <td>#999999</td>\n",
       "    </tr>\n",
       "    <tr>\n",
       "      <th>10</th>\n",
       "      <td>pareto</td>\n",
       "      <td>0.230289</td>\n",
       "      <td>-536870910.386541</td>\n",
       "      <td>536870912.0</td>\n",
       "      <td>(83573502.83052829,)</td>\n",
       "      <td>(83573502.83052829, -536870910.386541, 5368709...</td>\n",
       "      <td>&lt;scipy.stats._distn_infrastructure.rv_continuo...</td>\n",
       "      <td>0</td>\n",
       "      <td>None</td>\n",
       "      <td>#999999</td>\n",
       "    </tr>\n",
       "  </tbody>\n",
       "</table>\n",
       "</div>"
      ],
      "text/plain": [
       "          name     score               loc           scale  \\\n",
       "0         beta  0.002295       -141.646616  4033921.221587   \n",
       "1      lognorm  0.002297       -230.909502      238.938312   \n",
       "2        gamma  0.002297       -150.936503        0.025813   \n",
       "3            t  0.002328          8.037369        2.024639   \n",
       "4         norm  0.002332          8.037396        2.025727   \n",
       "5     loggamma  0.002428       -453.363299       66.213999   \n",
       "6   genextreme  0.003369          7.290242        2.016101   \n",
       "7     dweibull  0.003853           7.98258        1.725412   \n",
       "8      uniform  0.153512          1.613459       13.109928   \n",
       "9        expon  0.230289          1.613459        6.423937   \n",
       "10      pareto  0.230289 -536870910.386541     536870912.0   \n",
       "\n",
       "                                        arg  \\\n",
       "0   (5460.711550012266, 147158040.33012423)   \n",
       "1                   (0.008477569449711632,)   \n",
       "2                      (6158.637951199507,)   \n",
       "3                       (1879.40003637366,)   \n",
       "4                                        ()   \n",
       "5                     (1062.9391429180328,)   \n",
       "6                     (0.2500860970059668,)   \n",
       "7                     (1.2582817395864132,)   \n",
       "8                                        ()   \n",
       "9                                        ()   \n",
       "10                     (83573502.83052829,)   \n",
       "\n",
       "                                               params  \\\n",
       "0   (5460.711550012266, 147158040.33012423, -141.6...   \n",
       "1   (0.008477569449711632, -230.90950194651342, 23...   \n",
       "2   (6158.637951199507, -150.93650277018438, 0.025...   \n",
       "3   (1879.40003637366, 8.037369118174746, 2.024638...   \n",
       "4             (8.037395972872071, 2.0257265740589725)   \n",
       "5   (1062.9391429180328, -453.36329886651504, 66.2...   \n",
       "6   (0.2500860970059668, 7.290242081319644, 2.0161...   \n",
       "7   (1.2582817395864132, 7.98258025245425, 1.72541...   \n",
       "8            (1.6134589964705137, 13.109927633249967)   \n",
       "9             (1.6134589964705137, 6.423936976401557)   \n",
       "10  (83573502.83052829, -536870910.386541, 5368709...   \n",
       "\n",
       "                                                model bootstrap_score  \\\n",
       "0   <scipy.stats._distn_infrastructure.rv_continuo...               0   \n",
       "1   <scipy.stats._distn_infrastructure.rv_continuo...               0   \n",
       "2   <scipy.stats._distn_infrastructure.rv_continuo...               0   \n",
       "3   <scipy.stats._distn_infrastructure.rv_continuo...               0   \n",
       "4   <scipy.stats._distn_infrastructure.rv_continuo...               0   \n",
       "5   <scipy.stats._distn_infrastructure.rv_continuo...               0   \n",
       "6   <scipy.stats._distn_infrastructure.rv_continuo...               0   \n",
       "7   <scipy.stats._distn_infrastructure.rv_continuo...               0   \n",
       "8   <scipy.stats._distn_infrastructure.rv_continuo...               0   \n",
       "9   <scipy.stats._distn_infrastructure.rv_continuo...               0   \n",
       "10  <scipy.stats._distn_infrastructure.rv_continuo...               0   \n",
       "\n",
       "   bootstrap_pass    color  \n",
       "0            None  #e41a1c  \n",
       "1            None  #e41a1c  \n",
       "2            None  #377eb8  \n",
       "3            None  #4daf4a  \n",
       "4            None  #984ea3  \n",
       "5            None  #ff7f00  \n",
       "6            None  #ffff33  \n",
       "7            None  #a65628  \n",
       "8            None  #f781bf  \n",
       "9            None  #999999  \n",
       "10           None  #999999  "
      ]
     },
     "execution_count": 24,
     "metadata": {},
     "output_type": "execute_result"
    }
   ],
   "source": [
    "# Crea un resumen en una tabla de lo que obtuvo\n",
    "tabla_resultados_2 = modelo_automatico_2.summary\n",
    "tabla_resultados_2"
   ]
  },
  {
   "cell_type": "code",
   "execution_count": 25,
   "id": "162110ad-27da-417f-a4f8-14e2062c39a8",
   "metadata": {},
   "outputs": [
    {
     "name": "stderr",
     "output_type": "stream",
     "text": [
      "[distfit] >INFO> Ploting Summary.\n"
     ]
    },
    {
     "data": {
      "image/png": "[encoded data removed]",
      "text/plain": [
       "<Figure size 2000x1000 with 1 Axes>"
      ]
     },
     "metadata": {},
     "output_type": "display_data"
    }
   ],
   "source": [
    "# Se muestra la gráfica con el score para ver qué distribución podemos tomar\n",
    "modelo_automatico_2.plot_summary()\n",
    "plt.show()\n",
    "%matplotlib inline"
   ]
  },
  {
   "cell_type": "markdown",
   "id": "0ac52248-6cab-43f7-8653-6445a1270829",
   "metadata": {},
   "source": [
    "<font color = 'LightSeaGreen'>\n",
    "<font size = 3>\n",
    "\n",
    "- En este ejemplo vemos que Python dice que es una distribución beta. Sin embargo, los datos fueron generados a partir de una gaussiana.\n",
    "- Observamos que en la columna **params** nos da la **media** y la **desviación** en el caso de la **norm** (7.95, 2.06).\n",
    "- Recordemos que los datos fueron generados con **media** $= 8$ y **desviación** $= 2$.\n",
    "- En este caso te fijas en el **score** y como es casi igual al score de la **norm**, por lo que podemos sacrificar las décimas y tomar la gaussiana.\n",
    "- En la gráfica, bien me podría tomar una t ó una norm, sin problemas, ya que el score es muy parecido. La que tome me va a funcionar bien, con los parámetros que da el .summary.\n",
    "\n",
    "**Cualquier cosa por debajo de 0.05 te va a funcionar bien**. \n",
    "\n",
    "---"
   ]
  },
  {
   "cell_type": "markdown",
   "id": "b7190b46-5c13-417b-b6a8-633a7084a566",
   "metadata": {},
   "source": [
    "<font color = 'DodgerBlue'>\n",
    "<font size = 5>\n",
    "    \n",
    "**Simulaciones**"
   ]
  },
  {
   "cell_type": "markdown",
   "id": "03387f30-e852-417c-b0bc-66cdbb1cbf36",
   "metadata": {},
   "source": [
    "<font color = 'Black'>\n",
    "<font size = 3>\n",
    "\n",
    "Vamos hacer simulaciones para solucionar un problema real.\n",
    "\n",
    "Dado un conjunto de datos, hacer simulación es extraer información de ese conjunto de datos para poderla *repetir* mediante la computadora y tener una buena aproximación de la realidad.  "
   ]
  },
  {
   "cell_type": "markdown",
   "id": "f3d7fea3-1840-4b85-a01c-04de39ec373b",
   "metadata": {},
   "source": [
    "<font color = 'LightSeaGreen'>\n",
    "<font size = 3>\n",
    "\n",
    "**Ejemplo.**"
   ]
  },
  {
   "cell_type": "markdown",
   "id": "655872f0-0506-4cd3-ae90-c9a467e5ffd4",
   "metadata": {},
   "source": [
    "<font color = 'LightSeaGreen'>\n",
    "<font size = 3>\n",
    "\n",
    "**Ganancia diaria promedio de un restaurante**.\n",
    "\n",
    "Cierto restaurante te ha contratado para estimar las ganancias diarias de su local. El lugar abre de lunes a viernes de 08:00 a 18:00 horas.\n",
    "\n",
    "Para ello, el administrador sabe que en promedio cada cliente gasta \\\\$35 con una desviación de \\\\$5. \n",
    "\n",
    "Te permite entrar un día completo a su restaurante para tomar tus datos, y obtienes que hubo 58 llegadas de clientes a lo largo del día, cada una con cierta cantidad de clientes.\n",
    "\n",
    "Con esa información, calcula la ganancia promedio aproximada durante cada día."
   ]
  },
  {
   "cell_type": "code",
   "execution_count": 26,
   "id": "16802c5f-512d-454e-93ab-f062db8fbda3",
   "metadata": {},
   "outputs": [],
   "source": [
    "# Datos\n",
    "llegadas = pd.read_csv(\"Data/llegadas_restaurante.csv\")\n",
    "platillos = pd.read_csv(\"Data/platillos.csv\")\n",
    "bebidas = pd.read_csv(\"Data/bebidas.csv\")"
   ]
  },
  {
   "cell_type": "code",
   "execution_count": 27,
   "id": "8be44d35-bf58-48b5-9189-de7c97949b0e",
   "metadata": {},
   "outputs": [
    {
     "data": {
      "text/html": [
       "<div>\n",
       "<style scoped>\n",
       "    .dataframe tbody tr th:only-of-type {\n",
       "        vertical-align: middle;\n",
       "    }\n",
       "\n",
       "    .dataframe tbody tr th {\n",
       "        vertical-align: top;\n",
       "    }\n",
       "\n",
       "    .dataframe thead th {\n",
       "        text-align: right;\n",
       "    }\n",
       "</style>\n",
       "<table border=\"1\" class=\"dataframe\">\n",
       "  <thead>\n",
       "    <tr style=\"text-align: right;\">\n",
       "      <th></th>\n",
       "      <th>Hora_Llegada</th>\n",
       "      <th>Tamaño_Grupo</th>\n",
       "    </tr>\n",
       "  </thead>\n",
       "  <tbody>\n",
       "    <tr>\n",
       "      <th>0</th>\n",
       "      <td>08:10</td>\n",
       "      <td>2</td>\n",
       "    </tr>\n",
       "    <tr>\n",
       "      <th>1</th>\n",
       "      <td>08:21</td>\n",
       "      <td>2</td>\n",
       "    </tr>\n",
       "    <tr>\n",
       "      <th>2</th>\n",
       "      <td>08:28</td>\n",
       "      <td>2</td>\n",
       "    </tr>\n",
       "    <tr>\n",
       "      <th>3</th>\n",
       "      <td>08:56</td>\n",
       "      <td>2</td>\n",
       "    </tr>\n",
       "    <tr>\n",
       "      <th>4</th>\n",
       "      <td>09:04</td>\n",
       "      <td>2</td>\n",
       "    </tr>\n",
       "    <tr>\n",
       "      <th>...</th>\n",
       "      <td>...</td>\n",
       "      <td>...</td>\n",
       "    </tr>\n",
       "    <tr>\n",
       "      <th>57</th>\n",
       "      <td>16:56</td>\n",
       "      <td>2</td>\n",
       "    </tr>\n",
       "    <tr>\n",
       "      <th>58</th>\n",
       "      <td>17:20</td>\n",
       "      <td>2</td>\n",
       "    </tr>\n",
       "    <tr>\n",
       "      <th>59</th>\n",
       "      <td>17:40</td>\n",
       "      <td>2</td>\n",
       "    </tr>\n",
       "    <tr>\n",
       "      <th>60</th>\n",
       "      <td>17:46</td>\n",
       "      <td>2</td>\n",
       "    </tr>\n",
       "    <tr>\n",
       "      <th>61</th>\n",
       "      <td>17:53</td>\n",
       "      <td>2</td>\n",
       "    </tr>\n",
       "  </tbody>\n",
       "</table>\n",
       "<p>62 rows × 2 columns</p>\n",
       "</div>"
      ],
      "text/plain": [
       "   Hora_Llegada  Tamaño_Grupo\n",
       "0         08:10             2\n",
       "1         08:21             2\n",
       "2         08:28             2\n",
       "3         08:56             2\n",
       "4         09:04             2\n",
       "..          ...           ...\n",
       "57        16:56             2\n",
       "58        17:20             2\n",
       "59        17:40             2\n",
       "60        17:46             2\n",
       "61        17:53             2\n",
       "\n",
       "[62 rows x 2 columns]"
      ]
     },
     "execution_count": 27,
     "metadata": {},
     "output_type": "execute_result"
    }
   ],
   "source": [
    "# Inspeccionamos los datos\n",
    "llegadas"
   ]
  },
  {
   "cell_type": "code",
   "execution_count": 28,
   "id": "3fc71c63-af06-4294-a1a8-88d57af7fad9",
   "metadata": {},
   "outputs": [
    {
     "data": {
      "text/plain": [
       "Index(['Hora_Llegada', 'Tamaño_Grupo'], dtype='object')"
      ]
     },
     "execution_count": 28,
     "metadata": {},
     "output_type": "execute_result"
    }
   ],
   "source": [
    "# Muestra las columnas de la tabla\n",
    "llegadas.columns"
   ]
  },
  {
   "cell_type": "code",
   "execution_count": 29,
   "id": "dc7c99fa-f782-4655-a9f6-5609a7ef5d76",
   "metadata": {},
   "outputs": [
    {
     "data": {
      "text/html": [
       "<div>\n",
       "<style scoped>\n",
       "    .dataframe tbody tr th:only-of-type {\n",
       "        vertical-align: middle;\n",
       "    }\n",
       "\n",
       "    .dataframe tbody tr th {\n",
       "        vertical-align: top;\n",
       "    }\n",
       "\n",
       "    .dataframe thead th {\n",
       "        text-align: right;\n",
       "    }\n",
       "</style>\n",
       "<table border=\"1\" class=\"dataframe\">\n",
       "  <thead>\n",
       "    <tr style=\"text-align: right;\">\n",
       "      <th></th>\n",
       "      <th>Hora_Llegada</th>\n",
       "      <th>Tamaño_Grupo</th>\n",
       "    </tr>\n",
       "  </thead>\n",
       "  <tbody>\n",
       "    <tr>\n",
       "      <th>0</th>\n",
       "      <td>08:10</td>\n",
       "      <td>2</td>\n",
       "    </tr>\n",
       "    <tr>\n",
       "      <th>1</th>\n",
       "      <td>08:21</td>\n",
       "      <td>2</td>\n",
       "    </tr>\n",
       "    <tr>\n",
       "      <th>2</th>\n",
       "      <td>08:28</td>\n",
       "      <td>2</td>\n",
       "    </tr>\n",
       "    <tr>\n",
       "      <th>3</th>\n",
       "      <td>08:56</td>\n",
       "      <td>2</td>\n",
       "    </tr>\n",
       "    <tr>\n",
       "      <th>4</th>\n",
       "      <td>09:04</td>\n",
       "      <td>2</td>\n",
       "    </tr>\n",
       "  </tbody>\n",
       "</table>\n",
       "</div>"
      ],
      "text/plain": [
       "  Hora_Llegada  Tamaño_Grupo\n",
       "0        08:10             2\n",
       "1        08:21             2\n",
       "2        08:28             2\n",
       "3        08:56             2\n",
       "4        09:04             2"
      ]
     },
     "execution_count": 29,
     "metadata": {},
     "output_type": "execute_result"
    }
   ],
   "source": [
    "# Se muestran las primeras filas \n",
    "llegadas.head()"
   ]
  },
  {
   "cell_type": "code",
   "execution_count": 30,
   "id": "8c953c14-cd5b-4e55-a07c-aad987d70228",
   "metadata": {},
   "outputs": [
    {
     "data": {
      "text/html": [
       "<div>\n",
       "<style scoped>\n",
       "    .dataframe tbody tr th:only-of-type {\n",
       "        vertical-align: middle;\n",
       "    }\n",
       "\n",
       "    .dataframe tbody tr th {\n",
       "        vertical-align: top;\n",
       "    }\n",
       "\n",
       "    .dataframe thead th {\n",
       "        text-align: right;\n",
       "    }\n",
       "</style>\n",
       "<table border=\"1\" class=\"dataframe\">\n",
       "  <thead>\n",
       "    <tr style=\"text-align: right;\">\n",
       "      <th></th>\n",
       "      <th>Hora_Llegada</th>\n",
       "      <th>Tamaño_Grupo</th>\n",
       "    </tr>\n",
       "  </thead>\n",
       "  <tbody>\n",
       "    <tr>\n",
       "      <th>0</th>\n",
       "      <td>08:10</td>\n",
       "      <td>2</td>\n",
       "    </tr>\n",
       "    <tr>\n",
       "      <th>1</th>\n",
       "      <td>08:21</td>\n",
       "      <td>2</td>\n",
       "    </tr>\n",
       "    <tr>\n",
       "      <th>2</th>\n",
       "      <td>08:28</td>\n",
       "      <td>2</td>\n",
       "    </tr>\n",
       "    <tr>\n",
       "      <th>3</th>\n",
       "      <td>08:56</td>\n",
       "      <td>2</td>\n",
       "    </tr>\n",
       "    <tr>\n",
       "      <th>4</th>\n",
       "      <td>09:04</td>\n",
       "      <td>2</td>\n",
       "    </tr>\n",
       "    <tr>\n",
       "      <th>5</th>\n",
       "      <td>09:05</td>\n",
       "      <td>2</td>\n",
       "    </tr>\n",
       "    <tr>\n",
       "      <th>6</th>\n",
       "      <td>09:07</td>\n",
       "      <td>2</td>\n",
       "    </tr>\n",
       "    <tr>\n",
       "      <th>7</th>\n",
       "      <td>09:13</td>\n",
       "      <td>3</td>\n",
       "    </tr>\n",
       "    <tr>\n",
       "      <th>8</th>\n",
       "      <td>09:14</td>\n",
       "      <td>2</td>\n",
       "    </tr>\n",
       "    <tr>\n",
       "      <th>9</th>\n",
       "      <td>09:27</td>\n",
       "      <td>3</td>\n",
       "    </tr>\n",
       "    <tr>\n",
       "      <th>10</th>\n",
       "      <td>09:38</td>\n",
       "      <td>2</td>\n",
       "    </tr>\n",
       "    <tr>\n",
       "      <th>11</th>\n",
       "      <td>09:40</td>\n",
       "      <td>3</td>\n",
       "    </tr>\n",
       "    <tr>\n",
       "      <th>12</th>\n",
       "      <td>09:54</td>\n",
       "      <td>2</td>\n",
       "    </tr>\n",
       "    <tr>\n",
       "      <th>13</th>\n",
       "      <td>10:09</td>\n",
       "      <td>2</td>\n",
       "    </tr>\n",
       "    <tr>\n",
       "      <th>14</th>\n",
       "      <td>10:32</td>\n",
       "      <td>2</td>\n",
       "    </tr>\n",
       "    <tr>\n",
       "      <th>15</th>\n",
       "      <td>10:36</td>\n",
       "      <td>4</td>\n",
       "    </tr>\n",
       "    <tr>\n",
       "      <th>16</th>\n",
       "      <td>10:40</td>\n",
       "      <td>2</td>\n",
       "    </tr>\n",
       "    <tr>\n",
       "      <th>17</th>\n",
       "      <td>10:43</td>\n",
       "      <td>2</td>\n",
       "    </tr>\n",
       "    <tr>\n",
       "      <th>18</th>\n",
       "      <td>10:46</td>\n",
       "      <td>2</td>\n",
       "    </tr>\n",
       "    <tr>\n",
       "      <th>19</th>\n",
       "      <td>10:50</td>\n",
       "      <td>2</td>\n",
       "    </tr>\n",
       "  </tbody>\n",
       "</table>\n",
       "</div>"
      ],
      "text/plain": [
       "   Hora_Llegada  Tamaño_Grupo\n",
       "0         08:10             2\n",
       "1         08:21             2\n",
       "2         08:28             2\n",
       "3         08:56             2\n",
       "4         09:04             2\n",
       "5         09:05             2\n",
       "6         09:07             2\n",
       "7         09:13             3\n",
       "8         09:14             2\n",
       "9         09:27             3\n",
       "10        09:38             2\n",
       "11        09:40             3\n",
       "12        09:54             2\n",
       "13        10:09             2\n",
       "14        10:32             2\n",
       "15        10:36             4\n",
       "16        10:40             2\n",
       "17        10:43             2\n",
       "18        10:46             2\n",
       "19        10:50             2"
      ]
     },
     "execution_count": 30,
     "metadata": {},
     "output_type": "execute_result"
    }
   ],
   "source": [
    "# Se muestran las primeras 20 filas \n",
    "llegadas.head(20)"
   ]
  },
  {
   "cell_type": "code",
   "execution_count": 31,
   "id": "1f407b89-5c07-4f24-8993-2843ef64bbf9",
   "metadata": {},
   "outputs": [
    {
     "data": {
      "text/plain": [
       "0     08:10\n",
       "1     08:21\n",
       "2     08:28\n",
       "3     08:56\n",
       "4     09:04\n",
       "      ...  \n",
       "57    16:56\n",
       "58    17:20\n",
       "59    17:40\n",
       "60    17:46\n",
       "61    17:53\n",
       "Name: Hora_Llegada, Length: 62, dtype: object"
      ]
     },
     "execution_count": 31,
     "metadata": {},
     "output_type": "execute_result"
    }
   ],
   "source": [
    "# Observamos el tipo de dato de la columna de la hora llegadas es object, el cual es texto\n",
    "llegadas[\"Hora_Llegada\"]"
   ]
  },
  {
   "cell_type": "markdown",
   "id": "402a95dd-922a-45d7-8f18-855d14669627",
   "metadata": {},
   "source": [
    "<font color = 'LightSeaGreen'>\n",
    "<font size = 3>\n",
    "\n",
    "Para Python la columna de hora de llegada es texto, no es la hora.\n",
    "\n",
    "Necesitamos convertir eso a fecha, usando PANDAS, le damos de comer una columna y le decimos como la tiene que interpretar."
   ]
  },
  {
   "cell_type": "code",
   "execution_count": 32,
   "id": "d42e85fe-46f9-4eb4-ae51-326752af0c97",
   "metadata": {},
   "outputs": [
    {
     "data": {
      "text/plain": [
       "0    1900-01-01 08:10:00\n",
       "1    1900-01-01 08:21:00\n",
       "2    1900-01-01 08:28:00\n",
       "3    1900-01-01 08:56:00\n",
       "4    1900-01-01 09:04:00\n",
       "             ...        \n",
       "57   1900-01-01 16:56:00\n",
       "58   1900-01-01 17:20:00\n",
       "59   1900-01-01 17:40:00\n",
       "60   1900-01-01 17:46:00\n",
       "61   1900-01-01 17:53:00\n",
       "Name: Hora_llegada, Length: 62, dtype: datetime64[ns]"
      ]
     },
     "execution_count": 32,
     "metadata": {},
     "output_type": "execute_result"
    }
   ],
   "source": [
    "# Hacemos un preprocesamiento para trabajar con el tipo de dato correcto\n",
    "llegadas[\"Hora_llegada\"] = pd.to_datetime(llegadas[\"Hora_Llegada\"], format = '%H:%M')\n",
    "llegadas[\"Hora_llegada\"] "
   ]
  },
  {
   "cell_type": "markdown",
   "id": "64749442-ed7b-468a-a9d4-eb90a0ac8512",
   "metadata": {},
   "source": [
    "<font color = 'LightSeaGreen'>\n",
    "<font size = 3>\n",
    "\n",
    "Nos aparece ahora si el formato correcto de fecha. \n",
    "\n",
    "El inicio de fecha en Python sale el inicio del tiempo en 1900."
   ]
  },
  {
   "cell_type": "code",
   "execution_count": 33,
   "id": "f139a645-71b3-4e0f-b3eb-ca4a47f97ae7",
   "metadata": {},
   "outputs": [
    {
     "data": {
      "text/html": [
       "<div>\n",
       "<style scoped>\n",
       "    .dataframe tbody tr th:only-of-type {\n",
       "        vertical-align: middle;\n",
       "    }\n",
       "\n",
       "    .dataframe tbody tr th {\n",
       "        vertical-align: top;\n",
       "    }\n",
       "\n",
       "    .dataframe thead th {\n",
       "        text-align: right;\n",
       "    }\n",
       "</style>\n",
       "<table border=\"1\" class=\"dataframe\">\n",
       "  <thead>\n",
       "    <tr style=\"text-align: right;\">\n",
       "      <th></th>\n",
       "      <th>Hora_Llegada</th>\n",
       "      <th>Tamaño_Grupo</th>\n",
       "      <th>Hora_llegada</th>\n",
       "    </tr>\n",
       "  </thead>\n",
       "  <tbody>\n",
       "    <tr>\n",
       "      <th>0</th>\n",
       "      <td>08:10</td>\n",
       "      <td>2</td>\n",
       "      <td>1900-01-01 08:10:00</td>\n",
       "    </tr>\n",
       "    <tr>\n",
       "      <th>1</th>\n",
       "      <td>08:21</td>\n",
       "      <td>2</td>\n",
       "      <td>1900-01-01 08:21:00</td>\n",
       "    </tr>\n",
       "    <tr>\n",
       "      <th>2</th>\n",
       "      <td>08:28</td>\n",
       "      <td>2</td>\n",
       "      <td>1900-01-01 08:28:00</td>\n",
       "    </tr>\n",
       "    <tr>\n",
       "      <th>3</th>\n",
       "      <td>08:56</td>\n",
       "      <td>2</td>\n",
       "      <td>1900-01-01 08:56:00</td>\n",
       "    </tr>\n",
       "    <tr>\n",
       "      <th>4</th>\n",
       "      <td>09:04</td>\n",
       "      <td>2</td>\n",
       "      <td>1900-01-01 09:04:00</td>\n",
       "    </tr>\n",
       "    <tr>\n",
       "      <th>...</th>\n",
       "      <td>...</td>\n",
       "      <td>...</td>\n",
       "      <td>...</td>\n",
       "    </tr>\n",
       "    <tr>\n",
       "      <th>57</th>\n",
       "      <td>16:56</td>\n",
       "      <td>2</td>\n",
       "      <td>1900-01-01 16:56:00</td>\n",
       "    </tr>\n",
       "    <tr>\n",
       "      <th>58</th>\n",
       "      <td>17:20</td>\n",
       "      <td>2</td>\n",
       "      <td>1900-01-01 17:20:00</td>\n",
       "    </tr>\n",
       "    <tr>\n",
       "      <th>59</th>\n",
       "      <td>17:40</td>\n",
       "      <td>2</td>\n",
       "      <td>1900-01-01 17:40:00</td>\n",
       "    </tr>\n",
       "    <tr>\n",
       "      <th>60</th>\n",
       "      <td>17:46</td>\n",
       "      <td>2</td>\n",
       "      <td>1900-01-01 17:46:00</td>\n",
       "    </tr>\n",
       "    <tr>\n",
       "      <th>61</th>\n",
       "      <td>17:53</td>\n",
       "      <td>2</td>\n",
       "      <td>1900-01-01 17:53:00</td>\n",
       "    </tr>\n",
       "  </tbody>\n",
       "</table>\n",
       "<p>62 rows × 3 columns</p>\n",
       "</div>"
      ],
      "text/plain": [
       "   Hora_Llegada  Tamaño_Grupo        Hora_llegada\n",
       "0         08:10             2 1900-01-01 08:10:00\n",
       "1         08:21             2 1900-01-01 08:21:00\n",
       "2         08:28             2 1900-01-01 08:28:00\n",
       "3         08:56             2 1900-01-01 08:56:00\n",
       "4         09:04             2 1900-01-01 09:04:00\n",
       "..          ...           ...                 ...\n",
       "57        16:56             2 1900-01-01 16:56:00\n",
       "58        17:20             2 1900-01-01 17:20:00\n",
       "59        17:40             2 1900-01-01 17:40:00\n",
       "60        17:46             2 1900-01-01 17:46:00\n",
       "61        17:53             2 1900-01-01 17:53:00\n",
       "\n",
       "[62 rows x 3 columns]"
      ]
     },
     "execution_count": 33,
     "metadata": {},
     "output_type": "execute_result"
    }
   ],
   "source": [
    "# Se muestra la columna con la nueva columna con los datos transformados\n",
    "llegadas"
   ]
  },
  {
   "cell_type": "markdown",
   "id": "ca94fef4-80df-4523-bec0-83df7313b22a",
   "metadata": {},
   "source": [
    "<font color = 'LightSeaGreen'>\n",
    "<font size = 3>\n",
    "\n",
    "Buscamos entender cada cuánto llegan los clientes. Si somos capaces de replicar la variable aleatoria que mide los tiempos de espera entre clientes.\n",
    "\n",
    "No hay **variables aleatorias** que te midan la hora, pero hay **variables aleatorias** que te miden el tiempo de espera como la **exponencial**. Es decir, cuál es la probabilidad de que el tiempo de espera sea de tanto.\n",
    "\n",
    "Buscamos tiempo de espera entre llegadas de clientes.\n",
    "\n",
    "Este ejercicio busca entender cómo se debe plantear el problema y cómo se puede resolver con las herramientas que tenemos.\n",
    "\n",
    "Entonces, ahora vamos a obtener el tiempo de espera entre cada llegada de clientes.\n",
    "\n",
    "**RECORDAR QUE LO PRIMERO QUE HAY QUE HACER ES VER EL HISTOGRAMA PARA HACERTE UNA IDEA DE CÓMO ES LA DISTRIBUCIÓN DE LOS DATOS Y DESPUÉS TOMAR LA ELECCIÓN DE QUÉ TIPO DE DISTRIBUCIÓN DEBE DE SER.**"
   ]
  },
  {
   "cell_type": "code",
   "execution_count": 34,
   "id": "8d132439-ff55-4839-a428-e615bb7be444",
   "metadata": {},
   "outputs": [
    {
     "data": {
      "text/plain": [
       "0                NaT\n",
       "1    0 days 00:11:00\n",
       "2    0 days 00:07:00\n",
       "3    0 days 00:28:00\n",
       "4    0 days 00:08:00\n",
       "           ...      \n",
       "57   0 days 00:01:00\n",
       "58   0 days 00:24:00\n",
       "59   0 days 00:20:00\n",
       "60   0 days 00:06:00\n",
       "61   0 days 00:07:00\n",
       "Name: Hora_llegada, Length: 62, dtype: timedelta64[ns]"
      ]
     },
     "execution_count": 34,
     "metadata": {},
     "output_type": "execute_result"
    }
   ],
   "source": [
    "# Obtenemos el tiempo que pasaron entre cada llegada de cliente, obtiene la diferencia entre cada cliente\n",
    "llegadas[\"Hora_llegada\"].diff()"
   ]
  },
  {
   "cell_type": "code",
   "execution_count": 35,
   "id": "190d402f-aa10-472a-bda1-ac2f1995e14d",
   "metadata": {},
   "outputs": [
    {
     "data": {
      "text/plain": [
       "0        NaN\n",
       "1      660.0\n",
       "2      420.0\n",
       "3     1680.0\n",
       "4      480.0\n",
       "       ...  \n",
       "57      60.0\n",
       "58    1440.0\n",
       "59    1200.0\n",
       "60     360.0\n",
       "61     420.0\n",
       "Name: Hora_llegada, Length: 62, dtype: float64"
      ]
     },
     "execution_count": 35,
     "metadata": {},
     "output_type": "execute_result"
    }
   ],
   "source": [
    "# Obtenemos el tiempo que pasaron entre cada llegada de cliente, obtiene la diferencia entre cada cliente\n",
    "llegadas[\"Hora_llegada\"].diff().dt.total_seconds() # unidades en segundos"
   ]
  },
  {
   "cell_type": "code",
   "execution_count": 36,
   "id": "bea5a2db-6215-401a-8a66-2137e8e3924e",
   "metadata": {},
   "outputs": [
    {
     "data": {
      "text/plain": [
       "0      NaN\n",
       "1     11.0\n",
       "2      7.0\n",
       "3     28.0\n",
       "4      8.0\n",
       "      ... \n",
       "57     1.0\n",
       "58    24.0\n",
       "59    20.0\n",
       "60     6.0\n",
       "61     7.0\n",
       "Name: Hora_llegada, Length: 62, dtype: float64"
      ]
     },
     "execution_count": 36,
     "metadata": {},
     "output_type": "execute_result"
    }
   ],
   "source": [
    "# Obtenemos el tiempo que pasaron entre cada llegada de cliente, obtiene la diferencia entre cada cliente\n",
    "llegadas[\"Hora_llegada\"].diff().dt.total_seconds()/60 # unidades en minutos"
   ]
  },
  {
   "cell_type": "markdown",
   "id": "a2e278fb-7952-4c8a-b8f7-efcac9f2d2fe",
   "metadata": {},
   "source": [
    "<font color = 'LightSeaGreen'>\n",
    "<font size = 3>\n",
    "\n",
    "Ya tenemos los tiempos de espera de clientes."
   ]
  },
  {
   "cell_type": "code",
   "execution_count": 37,
   "id": "3cff87ce-01f5-4b49-99d0-26e8d7fb3338",
   "metadata": {},
   "outputs": [
    {
     "data": {
      "text/html": [
       "<div>\n",
       "<style scoped>\n",
       "    .dataframe tbody tr th:only-of-type {\n",
       "        vertical-align: middle;\n",
       "    }\n",
       "\n",
       "    .dataframe tbody tr th {\n",
       "        vertical-align: top;\n",
       "    }\n",
       "\n",
       "    .dataframe thead th {\n",
       "        text-align: right;\n",
       "    }\n",
       "</style>\n",
       "<table border=\"1\" class=\"dataframe\">\n",
       "  <thead>\n",
       "    <tr style=\"text-align: right;\">\n",
       "      <th></th>\n",
       "      <th>Hora_Llegada</th>\n",
       "      <th>Tamaño_Grupo</th>\n",
       "      <th>Hora_llegada</th>\n",
       "      <th>espera</th>\n",
       "    </tr>\n",
       "  </thead>\n",
       "  <tbody>\n",
       "    <tr>\n",
       "      <th>0</th>\n",
       "      <td>08:10</td>\n",
       "      <td>2</td>\n",
       "      <td>1900-01-01 08:10:00</td>\n",
       "      <td>NaN</td>\n",
       "    </tr>\n",
       "    <tr>\n",
       "      <th>1</th>\n",
       "      <td>08:21</td>\n",
       "      <td>2</td>\n",
       "      <td>1900-01-01 08:21:00</td>\n",
       "      <td>11.0</td>\n",
       "    </tr>\n",
       "    <tr>\n",
       "      <th>2</th>\n",
       "      <td>08:28</td>\n",
       "      <td>2</td>\n",
       "      <td>1900-01-01 08:28:00</td>\n",
       "      <td>7.0</td>\n",
       "    </tr>\n",
       "    <tr>\n",
       "      <th>3</th>\n",
       "      <td>08:56</td>\n",
       "      <td>2</td>\n",
       "      <td>1900-01-01 08:56:00</td>\n",
       "      <td>28.0</td>\n",
       "    </tr>\n",
       "    <tr>\n",
       "      <th>4</th>\n",
       "      <td>09:04</td>\n",
       "      <td>2</td>\n",
       "      <td>1900-01-01 09:04:00</td>\n",
       "      <td>8.0</td>\n",
       "    </tr>\n",
       "    <tr>\n",
       "      <th>...</th>\n",
       "      <td>...</td>\n",
       "      <td>...</td>\n",
       "      <td>...</td>\n",
       "      <td>...</td>\n",
       "    </tr>\n",
       "    <tr>\n",
       "      <th>57</th>\n",
       "      <td>16:56</td>\n",
       "      <td>2</td>\n",
       "      <td>1900-01-01 16:56:00</td>\n",
       "      <td>1.0</td>\n",
       "    </tr>\n",
       "    <tr>\n",
       "      <th>58</th>\n",
       "      <td>17:20</td>\n",
       "      <td>2</td>\n",
       "      <td>1900-01-01 17:20:00</td>\n",
       "      <td>24.0</td>\n",
       "    </tr>\n",
       "    <tr>\n",
       "      <th>59</th>\n",
       "      <td>17:40</td>\n",
       "      <td>2</td>\n",
       "      <td>1900-01-01 17:40:00</td>\n",
       "      <td>20.0</td>\n",
       "    </tr>\n",
       "    <tr>\n",
       "      <th>60</th>\n",
       "      <td>17:46</td>\n",
       "      <td>2</td>\n",
       "      <td>1900-01-01 17:46:00</td>\n",
       "      <td>6.0</td>\n",
       "    </tr>\n",
       "    <tr>\n",
       "      <th>61</th>\n",
       "      <td>17:53</td>\n",
       "      <td>2</td>\n",
       "      <td>1900-01-01 17:53:00</td>\n",
       "      <td>7.0</td>\n",
       "    </tr>\n",
       "  </tbody>\n",
       "</table>\n",
       "<p>62 rows × 4 columns</p>\n",
       "</div>"
      ],
      "text/plain": [
       "   Hora_Llegada  Tamaño_Grupo        Hora_llegada  espera\n",
       "0         08:10             2 1900-01-01 08:10:00     NaN\n",
       "1         08:21             2 1900-01-01 08:21:00    11.0\n",
       "2         08:28             2 1900-01-01 08:28:00     7.0\n",
       "3         08:56             2 1900-01-01 08:56:00    28.0\n",
       "4         09:04             2 1900-01-01 09:04:00     8.0\n",
       "..          ...           ...                 ...     ...\n",
       "57        16:56             2 1900-01-01 16:56:00     1.0\n",
       "58        17:20             2 1900-01-01 17:20:00    24.0\n",
       "59        17:40             2 1900-01-01 17:40:00    20.0\n",
       "60        17:46             2 1900-01-01 17:46:00     6.0\n",
       "61        17:53             2 1900-01-01 17:53:00     7.0\n",
       "\n",
       "[62 rows x 4 columns]"
      ]
     },
     "execution_count": 37,
     "metadata": {},
     "output_type": "execute_result"
    }
   ],
   "source": [
    "# Creamos una nueva columna con los tiempos de espera y lo vamos añadir a la tabla original\n",
    "llegadas[\"espera\"] = llegadas[\"Hora_llegada\"].diff().dt.total_seconds()/60 # unidades en minutos\n",
    "llegadas"
   ]
  },
  {
   "cell_type": "code",
   "execution_count": 38,
   "id": "930e5bdf-632b-4719-9547-86a2ea732c46",
   "metadata": {},
   "outputs": [
    {
     "data": {
      "image/png": "[encoded data removed]"
     },
     "metadata": {
      "image/png": {
       "height": 480,
       "width": 640
      }
     },
     "output_type": "display_data"
    }
   ],
   "source": [
    "# Distribución de los tiempos de espera entre llegada y llegada \n",
    "(\n",
    "    ggplot(data = llegadas) + geom_histogram(mapping = aes(x = \"espera\"), \n",
    "                                             binwidth = 5,\n",
    "                                             fill = \"deepskyblue\",\n",
    "                                             color = \"white\")\n",
    ")"
   ]
  },
  {
   "cell_type": "code",
   "execution_count": 39,
   "id": "a43d13f6-1cc3-4ead-8cc5-8391f7bcca87",
   "metadata": {},
   "outputs": [
    {
     "data": {
      "text/plain": [
       "1     11.0\n",
       "2      7.0\n",
       "3     28.0\n",
       "4      8.0\n",
       "5      1.0\n",
       "      ... \n",
       "57     1.0\n",
       "58    24.0\n",
       "59    20.0\n",
       "60     6.0\n",
       "61     7.0\n",
       "Name: espera, Length: 61, dtype: float64"
      ]
     },
     "execution_count": 39,
     "metadata": {},
     "output_type": "execute_result"
    }
   ],
   "source": [
    "# Como hay un dato faltante o NaN, hay que eliminarlo para poder hacer el fit_transform\n",
    "t_espera = llegadas[\"espera\"][1:] # toma todos los datos desde el primer row, quita el row 0\n",
    "t_espera"
   ]
  },
  {
   "cell_type": "code",
   "execution_count": 40,
   "id": "1eb0099c-08bf-4284-8de2-46215e7bdf71",
   "metadata": {},
   "outputs": [],
   "source": [
    "# Construimos el modelo\n",
    "mi_modelo_espera = distfit(todf = True)"
   ]
  },
  {
   "cell_type": "code",
   "execution_count": 41,
   "id": "7bae2a0a-3a7d-41b1-9770-c54fc5a7e493",
   "metadata": {},
   "outputs": [
    {
     "name": "stderr",
     "output_type": "stream",
     "text": [
      "[distfit] >INFO> fit\n",
      "[distfit] >INFO> transform\n",
      "[distfit] >INFO> [norm      ] [0.00 sec] [RSS: 0.00373723] [loc=9.557 scale=9.722]\n",
      "[distfit] >INFO> [expon     ] [0.00 sec] [RSS: 0.000445613] [loc=0.000 scale=9.557]\n",
      "[distfit] >INFO> [pareto    ] [0.00 sec] [RSS: 0.000455771] [loc=-557.344 scale=557.344]\n",
      "[distfit] >INFO> [dweibull  ] [0.01 sec] [RSS: 0.00249125] [loc=6.000 scale=6.147]\n",
      "[distfit] >INFO> [t         ] [0.03 sec] [RSS: 0.00157685] [loc=6.335 scale=4.777]\n",
      "[distfit] >INFO> [genextreme] [0.03 sec] [RSS: 0.000279533] [loc=4.524 scale=4.632]\n",
      "[distfit] >INFO> [gamma     ] [0.03 sec] [RSS: 0.00105706] [loc=-0.000 scale=9.814]\n",
      "[distfit] >INFO> [lognorm   ] [0.02 sec] [RSS: 0.0121663] [loc=-0.000 scale=0.000]\n",
      "[distfit] >INFO> [beta      ] [0.05 sec] [RSS: 0.000632666] [loc=-0.000 scale=430.856]\n",
      "[distfit] >INFO> [uniform   ] [0.00 sec] [RSS: 0.00808918] [loc=0.000 scale=55.000]\n",
      "[distfit] >INFO> [loggamma  ] [0.03 sec] [RSS: 0.00383806] [loc=-2910.253 scale=398.059]\n",
      "[distfit] >INFO> [norm      ] [0.25 sec] [RSS: 0.00373723] [loc=9.557 scale=9.722]\n",
      "[distfit] >INFO> [expon     ] [0.25 sec] [RSS: 0.000445613] [loc=0.000 scale=9.557]\n",
      "[distfit] >INFO> [pareto    ] [0.25 sec] [RSS: 0.000455771] [loc=-557.344 scale=557.344]\n",
      "[distfit] >INFO> [dweibull  ] [0.24 sec] [RSS: 0.00249125] [loc=6.000 scale=6.147]\n",
      "[distfit] >INFO> [t         ] [0.22 sec] [RSS: 0.00157685] [loc=6.335 scale=4.777]\n",
      "[distfit] >INFO> [genextreme] [0.19 sec] [RSS: 0.000279533] [loc=4.524 scale=4.632]\n",
      "[distfit] >INFO> [gamma     ] [0.16 sec] [RSS: 0.00105706] [loc=-0.000 scale=9.814]\n",
      "[distfit] >INFO> [lognorm   ] [0.12 sec] [RSS: 0.0121663] [loc=-0.000 scale=0.000]\n",
      "[distfit] >INFO> [beta      ] [0.09 sec] [RSS: 0.000632666] [loc=-0.000 scale=430.856]\n",
      "[distfit] >INFO> [uniform   ] [0.03 sec] [RSS: 0.00808918] [loc=0.000 scale=55.000]\n",
      "[distfit] >INFO> [loggamma  ] [0.03 sec] [RSS: 0.00383806] [loc=-2910.253 scale=398.059]\n",
      "[distfit] >INFO> Compute confidence intervals [parametric]\n"
     ]
    },
    {
     "data": {
      "text/plain": [
       "{'model': {'name': 'genextreme',\n",
       "  'score': 0.0002795327699719443,\n",
       "  'loc': 4.523833266401557,\n",
       "  'scale': 4.632353625214697,\n",
       "  'arg': (np.float64(-0.4040735753290542),),\n",
       "  'params': (np.float64(-0.4040735753290542),\n",
       "   np.float64(4.523833266401557),\n",
       "   np.float64(4.632353625214697)),\n",
       "  'model': <scipy.stats._distn_infrastructure.rv_continuous_frozen at 0x7f80670a0d90>,\n",
       "  'bootstrap_score': 0,\n",
       "  'bootstrap_pass': None,\n",
       "  'color': '#e41a1c',\n",
       "  'CII_min_alpha': np.float64(0.4183634305846704),\n",
       "  'CII_max_alpha': np.float64(31.128717998587135)},\n",
       " 'summary':           name     score          loc       scale  \\\n",
       " 0   genextreme   0.00028     4.523833    4.632354   \n",
       " 1        expon  0.000446          0.0    9.557377   \n",
       " 2       pareto  0.000456  -557.344119  557.344119   \n",
       " 3         beta  0.000633         -0.0     430.856   \n",
       " 4        gamma  0.001057         -0.0    9.813515   \n",
       " 5            t  0.001577     6.335375    4.776572   \n",
       " 6     dweibull  0.002491          6.0    6.146846   \n",
       " 7         norm  0.003737     9.557377    9.721574   \n",
       " 8     loggamma  0.003838 -2910.253069  398.059312   \n",
       " 9      uniform  0.008089          0.0        55.0   \n",
       " 10     lognorm  0.012166         -0.0         0.0   \n",
       " \n",
       "                                         arg  \\\n",
       " 0                    (-0.4040735753290542,)   \n",
       " 1                                        ()   \n",
       " 2                      (59.31555760619902,)   \n",
       " 3   (0.8457157581496595, 41.28403791329069)   \n",
       " 4                      (0.747300666127164,)   \n",
       " 5                      (1.935468921575933,)   \n",
       " 6                     (0.8858052759402575,)   \n",
       " 7                                        ()   \n",
       " 8                      (1533.573348390265,)   \n",
       " 9                                        ()   \n",
       " 10                    (184.74883843658498,)   \n",
       " \n",
       "                                                params  \\\n",
       " 0   (-0.4040735753290542, 4.523833266401557, 4.632...   \n",
       " 1                            (0.0, 9.557377049180328)   \n",
       " 2   (59.31555760619902, -557.3441193295587, 557.34...   \n",
       " 3   (0.8457157581496595, 41.28403791329069, -7.264...   \n",
       " 4   (0.747300666127164, -3.2756891051050284e-20, 9...   \n",
       " 5   (1.935468921575933, 6.335374918567471, 4.77657...   \n",
       " 6   (0.8858052759402575, 5.999999999999998, 6.1468...   \n",
       " 7              (9.557377049180328, 9.721574098683535)   \n",
       " 8   (1533.573348390265, -2910.253068695817, 398.05...   \n",
       " 9                                         (0.0, 55.0)   \n",
       " 10  (184.74883843658498, -5e-324, 3.73098838046992...   \n",
       " \n",
       "                                                 model bootstrap_score  \\\n",
       " 0   <scipy.stats._distn_infrastructure.rv_continuo...               0   \n",
       " 1   <scipy.stats._distn_infrastructure.rv_continuo...               0   \n",
       " 2   <scipy.stats._distn_infrastructure.rv_continuo...               0   \n",
       " 3   <scipy.stats._distn_infrastructure.rv_continuo...               0   \n",
       " 4   <scipy.stats._distn_infrastructure.rv_continuo...               0   \n",
       " 5   <scipy.stats._distn_infrastructure.rv_continuo...               0   \n",
       " 6   <scipy.stats._distn_infrastructure.rv_continuo...               0   \n",
       " 7   <scipy.stats._distn_infrastructure.rv_continuo...               0   \n",
       " 8   <scipy.stats._distn_infrastructure.rv_continuo...               0   \n",
       " 9   <scipy.stats._distn_infrastructure.rv_continuo...               0   \n",
       " 10  <scipy.stats._distn_infrastructure.rv_continuo...               0   \n",
       " \n",
       "    bootstrap_pass    color  \n",
       " 0            None  #e41a1c  \n",
       " 1            None  #e41a1c  \n",
       " 2            None  #377eb8  \n",
       " 3            None  #4daf4a  \n",
       " 4            None  #984ea3  \n",
       " 5            None  #ff7f00  \n",
       " 6            None  #ffff33  \n",
       " 7            None  #a65628  \n",
       " 8            None  #f781bf  \n",
       " 9            None  #999999  \n",
       " 10           None  #999999  ,\n",
       " 'histdata': (array([0.07749627, 0.06587183, 0.03487332, 0.01549925, 0.00774963,\n",
       "         0.01937407, 0.01162444, 0.        , 0.        , 0.        ,\n",
       "         0.        , 0.        , 0.00387481]),\n",
       "  array([ 2.11538462,  6.34615385, 10.57692308, 14.80769231, 19.03846154,\n",
       "         23.26923077, 27.5       , 31.73076923, 35.96153846, 40.19230769,\n",
       "         44.42307692, 48.65384615, 52.88461538])),\n",
       " 'size': 61,\n",
       " 'alpha': 0.05,\n",
       " 'stats': 'RSS',\n",
       " 'bins': 'auto',\n",
       " 'bound': 'both',\n",
       " 'name': 'popular',\n",
       " 'method': 'parametric',\n",
       " 'multtest': 'fdr_bh',\n",
       " 'n_perm': 10000,\n",
       " 'smooth': None,\n",
       " 'weighted': True,\n",
       " 'f': 1.5,\n",
       " 'n_boots': None,\n",
       " 'random_state': None}"
      ]
     },
     "execution_count": 41,
     "metadata": {},
     "output_type": "execute_result"
    }
   ],
   "source": [
    "# Ajustamos el modelo y le pasamos de comer los datos que nos interesan\n",
    "mi_modelo_espera.fit_transform(t_espera)"
   ]
  },
  {
   "cell_type": "code",
   "execution_count": 42,
   "id": "320a3c13-3b38-4be5-842b-cc03b4cf7a11",
   "metadata": {},
   "outputs": [
    {
     "data": {
      "text/html": [
       "<div>\n",
       "<style scoped>\n",
       "    .dataframe tbody tr th:only-of-type {\n",
       "        vertical-align: middle;\n",
       "    }\n",
       "\n",
       "    .dataframe tbody tr th {\n",
       "        vertical-align: top;\n",
       "    }\n",
       "\n",
       "    .dataframe thead th {\n",
       "        text-align: right;\n",
       "    }\n",
       "</style>\n",
       "<table border=\"1\" class=\"dataframe\">\n",
       "  <thead>\n",
       "    <tr style=\"text-align: right;\">\n",
       "      <th></th>\n",
       "      <th>name</th>\n",
       "      <th>score</th>\n",
       "      <th>loc</th>\n",
       "      <th>scale</th>\n",
       "      <th>arg</th>\n",
       "      <th>params</th>\n",
       "      <th>model</th>\n",
       "      <th>bootstrap_score</th>\n",
       "      <th>bootstrap_pass</th>\n",
       "      <th>color</th>\n",
       "    </tr>\n",
       "  </thead>\n",
       "  <tbody>\n",
       "    <tr>\n",
       "      <th>0</th>\n",
       "      <td>genextreme</td>\n",
       "      <td>0.00028</td>\n",
       "      <td>4.523833</td>\n",
       "      <td>4.632354</td>\n",
       "      <td>(-0.4040735753290542,)</td>\n",
       "      <td>(-0.4040735753290542, 4.523833266401557, 4.632...</td>\n",
       "      <td>&lt;scipy.stats._distn_infrastructure.rv_continuo...</td>\n",
       "      <td>0</td>\n",
       "      <td>None</td>\n",
       "      <td>#e41a1c</td>\n",
       "    </tr>\n",
       "    <tr>\n",
       "      <th>1</th>\n",
       "      <td>expon</td>\n",
       "      <td>0.000446</td>\n",
       "      <td>0.0</td>\n",
       "      <td>9.557377</td>\n",
       "      <td>()</td>\n",
       "      <td>(0.0, 9.557377049180328)</td>\n",
       "      <td>&lt;scipy.stats._distn_infrastructure.rv_continuo...</td>\n",
       "      <td>0</td>\n",
       "      <td>None</td>\n",
       "      <td>#e41a1c</td>\n",
       "    </tr>\n",
       "    <tr>\n",
       "      <th>2</th>\n",
       "      <td>pareto</td>\n",
       "      <td>0.000456</td>\n",
       "      <td>-557.344119</td>\n",
       "      <td>557.344119</td>\n",
       "      <td>(59.31555760619902,)</td>\n",
       "      <td>(59.31555760619902, -557.3441193295587, 557.34...</td>\n",
       "      <td>&lt;scipy.stats._distn_infrastructure.rv_continuo...</td>\n",
       "      <td>0</td>\n",
       "      <td>None</td>\n",
       "      <td>#377eb8</td>\n",
       "    </tr>\n",
       "    <tr>\n",
       "      <th>3</th>\n",
       "      <td>beta</td>\n",
       "      <td>0.000633</td>\n",
       "      <td>-0.0</td>\n",
       "      <td>430.856</td>\n",
       "      <td>(0.8457157581496595, 41.28403791329069)</td>\n",
       "      <td>(0.8457157581496595, 41.28403791329069, -7.264...</td>\n",
       "      <td>&lt;scipy.stats._distn_infrastructure.rv_continuo...</td>\n",
       "      <td>0</td>\n",
       "      <td>None</td>\n",
       "      <td>#4daf4a</td>\n",
       "    </tr>\n",
       "    <tr>\n",
       "      <th>4</th>\n",
       "      <td>gamma</td>\n",
       "      <td>0.001057</td>\n",
       "      <td>-0.0</td>\n",
       "      <td>9.813515</td>\n",
       "      <td>(0.747300666127164,)</td>\n",
       "      <td>(0.747300666127164, -3.2756891051050284e-20, 9...</td>\n",
       "      <td>&lt;scipy.stats._distn_infrastructure.rv_continuo...</td>\n",
       "      <td>0</td>\n",
       "      <td>None</td>\n",
       "      <td>#984ea3</td>\n",
       "    </tr>\n",
       "    <tr>\n",
       "      <th>5</th>\n",
       "      <td>t</td>\n",
       "      <td>0.001577</td>\n",
       "      <td>6.335375</td>\n",
       "      <td>4.776572</td>\n",
       "      <td>(1.935468921575933,)</td>\n",
       "      <td>(1.935468921575933, 6.335374918567471, 4.77657...</td>\n",
       "      <td>&lt;scipy.stats._distn_infrastructure.rv_continuo...</td>\n",
       "      <td>0</td>\n",
       "      <td>None</td>\n",
       "      <td>#ff7f00</td>\n",
       "    </tr>\n",
       "    <tr>\n",
       "      <th>6</th>\n",
       "      <td>dweibull</td>\n",
       "      <td>0.002491</td>\n",
       "      <td>6.0</td>\n",
       "      <td>6.146846</td>\n",
       "      <td>(0.8858052759402575,)</td>\n",
       "      <td>(0.8858052759402575, 5.999999999999998, 6.1468...</td>\n",
       "      <td>&lt;scipy.stats._distn_infrastructure.rv_continuo...</td>\n",
       "      <td>0</td>\n",
       "      <td>None</td>\n",
       "      <td>#ffff33</td>\n",
       "    </tr>\n",
       "    <tr>\n",
       "      <th>7</th>\n",
       "      <td>norm</td>\n",
       "      <td>0.003737</td>\n",
       "      <td>9.557377</td>\n",
       "      <td>9.721574</td>\n",
       "      <td>()</td>\n",
       "      <td>(9.557377049180328, 9.721574098683535)</td>\n",
       "      <td>&lt;scipy.stats._distn_infrastructure.rv_continuo...</td>\n",
       "      <td>0</td>\n",
       "      <td>None</td>\n",
       "      <td>#a65628</td>\n",
       "    </tr>\n",
       "    <tr>\n",
       "      <th>8</th>\n",
       "      <td>loggamma</td>\n",
       "      <td>0.003838</td>\n",
       "      <td>-2910.253069</td>\n",
       "      <td>398.059312</td>\n",
       "      <td>(1533.573348390265,)</td>\n",
       "      <td>(1533.573348390265, -2910.253068695817, 398.05...</td>\n",
       "      <td>&lt;scipy.stats._distn_infrastructure.rv_continuo...</td>\n",
       "      <td>0</td>\n",
       "      <td>None</td>\n",
       "      <td>#f781bf</td>\n",
       "    </tr>\n",
       "    <tr>\n",
       "      <th>9</th>\n",
       "      <td>uniform</td>\n",
       "      <td>0.008089</td>\n",
       "      <td>0.0</td>\n",
       "      <td>55.0</td>\n",
       "      <td>()</td>\n",
       "      <td>(0.0, 55.0)</td>\n",
       "      <td>&lt;scipy.stats._distn_infrastructure.rv_continuo...</td>\n",
       "      <td>0</td>\n",
       "      <td>None</td>\n",
       "      <td>#999999</td>\n",
       "    </tr>\n",
       "    <tr>\n",
       "      <th>10</th>\n",
       "      <td>lognorm</td>\n",
       "      <td>0.012166</td>\n",
       "      <td>-0.0</td>\n",
       "      <td>0.0</td>\n",
       "      <td>(184.74883843658498,)</td>\n",
       "      <td>(184.74883843658498, -5e-324, 3.73098838046992...</td>\n",
       "      <td>&lt;scipy.stats._distn_infrastructure.rv_continuo...</td>\n",
       "      <td>0</td>\n",
       "      <td>None</td>\n",
       "      <td>#999999</td>\n",
       "    </tr>\n",
       "  </tbody>\n",
       "</table>\n",
       "</div>"
      ],
      "text/plain": [
       "          name     score          loc       scale  \\\n",
       "0   genextreme   0.00028     4.523833    4.632354   \n",
       "1        expon  0.000446          0.0    9.557377   \n",
       "2       pareto  0.000456  -557.344119  557.344119   \n",
       "3         beta  0.000633         -0.0     430.856   \n",
       "4        gamma  0.001057         -0.0    9.813515   \n",
       "5            t  0.001577     6.335375    4.776572   \n",
       "6     dweibull  0.002491          6.0    6.146846   \n",
       "7         norm  0.003737     9.557377    9.721574   \n",
       "8     loggamma  0.003838 -2910.253069  398.059312   \n",
       "9      uniform  0.008089          0.0        55.0   \n",
       "10     lognorm  0.012166         -0.0         0.0   \n",
       "\n",
       "                                        arg  \\\n",
       "0                    (-0.4040735753290542,)   \n",
       "1                                        ()   \n",
       "2                      (59.31555760619902,)   \n",
       "3   (0.8457157581496595, 41.28403791329069)   \n",
       "4                      (0.747300666127164,)   \n",
       "5                      (1.935468921575933,)   \n",
       "6                     (0.8858052759402575,)   \n",
       "7                                        ()   \n",
       "8                      (1533.573348390265,)   \n",
       "9                                        ()   \n",
       "10                    (184.74883843658498,)   \n",
       "\n",
       "                                               params  \\\n",
       "0   (-0.4040735753290542, 4.523833266401557, 4.632...   \n",
       "1                            (0.0, 9.557377049180328)   \n",
       "2   (59.31555760619902, -557.3441193295587, 557.34...   \n",
       "3   (0.8457157581496595, 41.28403791329069, -7.264...   \n",
       "4   (0.747300666127164, -3.2756891051050284e-20, 9...   \n",
       "5   (1.935468921575933, 6.335374918567471, 4.77657...   \n",
       "6   (0.8858052759402575, 5.999999999999998, 6.1468...   \n",
       "7              (9.557377049180328, 9.721574098683535)   \n",
       "8   (1533.573348390265, -2910.253068695817, 398.05...   \n",
       "9                                         (0.0, 55.0)   \n",
       "10  (184.74883843658498, -5e-324, 3.73098838046992...   \n",
       "\n",
       "                                                model bootstrap_score  \\\n",
       "0   <scipy.stats._distn_infrastructure.rv_continuo...               0   \n",
       "1   <scipy.stats._distn_infrastructure.rv_continuo...               0   \n",
       "2   <scipy.stats._distn_infrastructure.rv_continuo...               0   \n",
       "3   <scipy.stats._distn_infrastructure.rv_continuo...               0   \n",
       "4   <scipy.stats._distn_infrastructure.rv_continuo...               0   \n",
       "5   <scipy.stats._distn_infrastructure.rv_continuo...               0   \n",
       "6   <scipy.stats._distn_infrastructure.rv_continuo...               0   \n",
       "7   <scipy.stats._distn_infrastructure.rv_continuo...               0   \n",
       "8   <scipy.stats._distn_infrastructure.rv_continuo...               0   \n",
       "9   <scipy.stats._distn_infrastructure.rv_continuo...               0   \n",
       "10  <scipy.stats._distn_infrastructure.rv_continuo...               0   \n",
       "\n",
       "   bootstrap_pass    color  \n",
       "0            None  #e41a1c  \n",
       "1            None  #e41a1c  \n",
       "2            None  #377eb8  \n",
       "3            None  #4daf4a  \n",
       "4            None  #984ea3  \n",
       "5            None  #ff7f00  \n",
       "6            None  #ffff33  \n",
       "7            None  #a65628  \n",
       "8            None  #f781bf  \n",
       "9            None  #999999  \n",
       "10           None  #999999  "
      ]
     },
     "execution_count": 42,
     "metadata": {},
     "output_type": "execute_result"
    }
   ],
   "source": [
    "# Muestra el resumen en una tabla\n",
    "resultado_tabla_t_espera = mi_modelo_espera.summary\n",
    "resultado_tabla_t_espera"
   ]
  },
  {
   "cell_type": "code",
   "execution_count": 43,
   "id": "65cc5c6f-9817-445c-83f0-1285f5dbacee",
   "metadata": {},
   "outputs": [
    {
     "name": "stderr",
     "output_type": "stream",
     "text": [
      "[distfit] >INFO> Ploting Summary.\n"
     ]
    },
    {
     "data": {
      "image/png": "[encoded data removed]",
      "text/plain": [
       "<Figure size 2000x1000 with 1 Axes>"
      ]
     },
     "metadata": {},
     "output_type": "display_data"
    }
   ],
   "source": [
    "# Se muestra la gráfica con el score para ver qué distribución podemos tomar\n",
    "mi_modelo_espera.plot_summary()\n",
    "plt.show()\n",
    "%matplotlib inline"
   ]
  },
  {
   "cell_type": "markdown",
   "id": "f0d9dac4-bfad-4050-8f24-491151518229",
   "metadata": {},
   "source": [
    "<font color = 'LightSeaGreen'>\n",
    "<font size = 3>\n",
    "\n",
    "Ya tenemos que según Python, la distribución que mejor se ajusta es una **genextreme** pero esa no la conocemos, además que es muy fea. \n",
    "\n",
    "El segundo candidato es la **exponencial**, esa si la conocemos mejor y de la columna **params** de la **exponencial** se tienen los siguientes datos (loc, scale): \n",
    "\n",
    "$$(0.0, 9.55)$$\n",
    "\n",
    "El parámetro de loc en las exponenciales es siempre cero.\n",
    "\n",
    "El scale en la exponencial, en Python, es el tiempo de espera promedio, entre llegada y llegada pasan $\\sim 9.55$ min.\n",
    "\n",
    "Aquí el éxito es que lleguen clientes, entre éxito y éxito, es decir, entre llegada y llegada de grupos de clientes se espera $\\sim 9.55$ minutos, es por eso que optamos por una **exponencial** ya que la teoría se ajustó con la realidad.\n",
    "\n",
    "Entonces los tiempos de espera entre llegadas de clientes es **exponencial** con scale $= 9.55$."
   ]
  },
  {
   "cell_type": "markdown",
   "id": "04cbda15-3d44-4576-b9a3-ca905886c50c",
   "metadata": {},
   "source": [
    "<font color = 'LightSeaGreen'>\n",
    "<font size = 3>\n",
    "\n",
    "Veremos cuántos clientes llegan y en qué porcentaje."
   ]
  },
  {
   "cell_type": "code",
   "execution_count": 44,
   "id": "929d4939-6cb8-4ad7-b94d-def62910ba81",
   "metadata": {},
   "outputs": [
    {
     "data": {
      "image/png": "[encoded data removed]"
     },
     "metadata": {
      "image/png": {
       "height": 480,
       "width": 640
      }
     },
     "output_type": "display_data"
    }
   ],
   "source": [
    "# Creamos el histograma de la distribución de los grupos de clientes (REALES) que llegan, es una variable discreta\n",
    "(\n",
    "    ggplot(data = llegadas) + geom_histogram(mapping = aes(x = \"Tamaño_Grupo\"),\n",
    "                                             binwidth = 1,\n",
    "                                             fill = \"green\",\n",
    "                                             color = \"white\")\n",
    ")"
   ]
  },
  {
   "cell_type": "code",
   "execution_count": 45,
   "id": "90ee6a48-0b33-4a5e-b00c-ae245a6524ea",
   "metadata": {},
   "outputs": [
    {
     "data": {
      "text/plain": [
       "Tamaño_Grupo\n",
       "2    42\n",
       "3     8\n",
       "4     6\n",
       "1     4\n",
       "5     2\n",
       "Name: count, dtype: int64"
      ]
     },
     "execution_count": 45,
     "metadata": {},
     "output_type": "execute_result"
    }
   ],
   "source": [
    "# Obtenemos la tabla de frecuencia absoluta\n",
    "llegadas[\"Tamaño_Grupo\"].value_counts() # nos dice cuántas veces aparece cada valor"
   ]
  },
  {
   "cell_type": "code",
   "execution_count": 46,
   "id": "dcdf7cde-363f-4998-a06a-1e1898e8d80b",
   "metadata": {},
   "outputs": [
    {
     "data": {
      "text/plain": [
       "Tamaño_Grupo\n",
       "2    0.677419\n",
       "3    0.129032\n",
       "4    0.096774\n",
       "1    0.064516\n",
       "5    0.032258\n",
       "Name: proportion, dtype: float64"
      ]
     },
     "execution_count": 46,
     "metadata": {},
     "output_type": "execute_result"
    }
   ],
   "source": [
    "# Obtenemos la tabla de frecuencia relativa\n",
    "freq_rel_llegadas = llegadas[\"Tamaño_Grupo\"].value_counts(normalize = True) # normaliza y nos da las frec relativas\n",
    "freq_rel_llegadas"
   ]
  },
  {
   "cell_type": "markdown",
   "id": "47c90778-7a70-4a80-810d-8daed5705f81",
   "metadata": {},
   "source": [
    "<font color = 'LightSeaGreen'>\n",
    "<font size = 3>\n",
    "\n",
    "Se observa que llegan muchas personas en parejas, pocas personas llegan en solitario o pocos grupos grandes."
   ]
  },
  {
   "cell_type": "markdown",
   "id": "0aab9097-a4e5-467d-a7c5-bd6c8cfa021b",
   "metadata": {},
   "source": [
    "<font color = 'LightSeaGreen'>\n",
    "<font size = 3>\n",
    "\n",
    "**Vamos hacer una simulación de un día de trabajo**"
   ]
  },
  {
   "cell_type": "markdown",
   "id": "be8846a4-8a77-49cd-8c0c-a7231eeee7d3",
   "metadata": {},
   "source": [
    "<font color = 'LightSeaGreen'>\n",
    "<font size = 3>\n",
    "\n",
    "Vamos a crear una variable llamada tiempo que incia en 0.\n",
    "\n",
    "Cada vez que llegue un cliente voy a sumar cuánto tuve que esperar para que llegara ese cliente, siguiendo una exponencial con el scale $= 9.55$. \n",
    "\n",
    "En Python, $\\lambda = \\frac{1}{\\text{scale}} = \\frac{1}{9.55}$\n",
    "\n",
    "Ese valor se lo vamos a sumar a tiempo.\n",
    "\n",
    "En la siguiente imagen se muestra la idea de lo que se busca hacer y con ello hacer el programa en Python.\n",
    "\n",
    "<img src=\"Img/programa_simulacion_llegadas_1.jpg\">"
   ]
  },
  {
   "cell_type": "code",
   "execution_count": 47,
   "id": "b61aab16-d25b-4d2c-aadb-0c23c5f6439d",
   "metadata": {},
   "outputs": [
    {
     "name": "stdout",
     "output_type": "stream",
     "text": [
      "El número total de llegadas es: 63\n"
     ]
    }
   ],
   "source": [
    "#Obtenemos el número de grupos que llegaron durante el día\n",
    "\n",
    "# Creamos una variable llamada tiempo\n",
    "tiempo = 0 # todavía no abro el restaurante\n",
    "total_llegadas = 0 # todavía no abro el restaurante, todavía no llega nadie\n",
    "\n",
    "# Creamos un ciclo while\n",
    "while tiempo < 600:\n",
    "    \n",
    "    # Actualizamos los datos\n",
    "    total_llegadas = total_llegadas + 1 # cada que llegue un grupo es lo que tenía mas 1\n",
    "    tiempo = tiempo + np.random.exponential(scale = 9.55) # tiempo actual + más lo que genero con una exponencial\n",
    "\n",
    "# total_llegadas # devuelve el número de llegadas\n",
    "print(f'El número total de llegadas es: {total_llegadas}')"
   ]
  },
  {
   "cell_type": "markdown",
   "id": "e6fc8415-f7c0-4813-86c9-3d0f5148ab3d",
   "metadata": {},
   "source": [
    "<font color = 'LightSeaGreen'>\n",
    "<font size = 3>\n",
    "\n",
    "En la siguiente imagen se describle un poco más el código anterior:\n",
    "\n",
    "<img src=\"Img/code_exp.jpg\">\n",
    "\n",
    "Como sabemos que el restaurante está abierto durante 600 minutos al día y como el tiempo de espera es de $\\sim 10$ min entre llegadas, uno esperaría que llegaran 60 grupos de clientes al día.\n",
    "\n",
    "Recordar que:\n",
    "\n",
    "- Escala $= \\frac{1}{\\lambda} = 9.55$.\n",
    "- Varianza $= \\frac{1}{\\lambda^2}$\n",
    "- $sd = \\frac{1}{\\lambda}$\n",
    "\n",
    "Con eso, se esperaría que al día llegaran $60 \\pm 10$ grupos de clientes ($60 \\pm \\text{desv}$).\n",
    "\n",
    "La simulación debe seguir la distribución de los datos reales."
   ]
  },
  {
   "cell_type": "code",
   "execution_count": 48,
   "id": "f948ecf9-786c-4fcd-8c10-fe835e3c5f41",
   "metadata": {},
   "outputs": [
    {
     "data": {
      "text/plain": [
       "62.82722513089005"
      ]
     },
     "execution_count": 48,
     "metadata": {},
     "output_type": "execute_result"
    }
   ],
   "source": [
    "# El número de llegadas aproximado durante el día es\n",
    "600 / 9.55"
   ]
  },
  {
   "cell_type": "code",
   "execution_count": 49,
   "id": "c0128de7-68e5-489a-bd59-4664f13b1007",
   "metadata": {},
   "outputs": [
    {
     "data": {
      "text/plain": [
       "0.10471204188481674"
      ]
     },
     "execution_count": 49,
     "metadata": {},
     "output_type": "execute_result"
    }
   ],
   "source": [
    "# Calculamos la desviación estándard\n",
    "1 / 9.55"
   ]
  },
  {
   "cell_type": "code",
   "execution_count": 50,
   "id": "2d442b83-402e-48bd-8a86-b4db922d5616",
   "metadata": {},
   "outputs": [
    {
     "data": {
      "text/plain": [
       "Index([2, 3, 4, 1, 5], dtype='int64', name='Tamaño_Grupo')"
      ]
     },
     "execution_count": 50,
     "metadata": {},
     "output_type": "execute_result"
    }
   ],
   "source": [
    "# Observamos que es el freq_rel.index antes de ejecutar todo el código completo\n",
    "freq_rel_llegadas.index"
   ]
  },
  {
   "cell_type": "code",
   "execution_count": 51,
   "id": "1b7e8203-e14d-4267-8123-a3d84f5a1e64",
   "metadata": {},
   "outputs": [
    {
     "data": {
      "text/plain": [
       "array([0.67741935, 0.12903226, 0.09677419, 0.06451613, 0.03225806])"
      ]
     },
     "execution_count": 51,
     "metadata": {},
     "output_type": "execute_result"
    }
   ],
   "source": [
    "# Observamos que es el freq_rel_llegadas.values antes de ejecutar todo el código completo\n",
    "freq_rel_llegadas.values"
   ]
  },
  {
   "cell_type": "markdown",
   "id": "1fb7b60f-2b3a-4297-ad87-17ea69393a3e",
   "metadata": {},
   "source": [
    "<font color = 'LightSeaGreen'>\n",
    "<font size = 3>\n",
    "\n",
    "Ahora vamos hacer elecciones usando np.ramdom.choice.\n",
    "\n",
    "Se muestran algunos ejemplos para comprender lo que hace el código antes de continuar."
   ]
  },
  {
   "cell_type": "code",
   "execution_count": 52,
   "id": "604faaee-9b94-40c7-8a40-1af133439e45",
   "metadata": {},
   "outputs": [
    {
     "data": {
      "text/plain": [
       "array([3])"
      ]
     },
     "execution_count": 52,
     "metadata": {},
     "output_type": "execute_result"
    }
   ],
   "source": [
    "# Elegimos una pelota que está etiquetada con un número del 1 al 5\n",
    "np.random.choice(freq_rel_llegadas.index, 1, p = freq_rel_llegadas.values) # meto la mano y selecciono 1 pelota"
   ]
  },
  {
   "cell_type": "code",
   "execution_count": 53,
   "id": "20272124-9a1a-420a-9b7a-db17a6f1bb44",
   "metadata": {},
   "outputs": [
    {
     "data": {
      "text/plain": [
       "array([2, 2, 3, 1, 4, 2, 4, 2, 2, 2, 2, 3, 2, 2, 1, 3, 2, 2, 2, 3, 3, 2,\n",
       "       2, 2, 2, 2, 2, 2, 2, 2, 2, 2, 2, 3, 2, 2, 2, 2, 3, 2, 1, 3, 2, 2,\n",
       "       2, 3, 2, 2, 2, 3, 5, 2, 1, 2, 2, 2, 5, 2, 2])"
      ]
     },
     "execution_count": 53,
     "metadata": {},
     "output_type": "execute_result"
    }
   ],
   "source": [
    "# Elegimos 59 pelotas que están etiquetadas con un número del 1 al 5\n",
    "np.random.choice(freq_rel_llegadas.index, 59, p = freq_rel_llegadas.values) # meto la mano y selecciono 59 pelotas"
   ]
  },
  {
   "cell_type": "markdown",
   "id": "1ef5510b-b6cf-4fe9-9588-b06f5e2b21a2",
   "metadata": {},
   "source": [
    "<font color = 'LightSeaGreen'>\n",
    "<font size = 3>\n",
    "\n",
    "En la siguiente imagen se describe el código para comprender su función antes de continuar.\n",
    "\n",
    "<img src=\"Img/code_exp2.jpg\">"
   ]
  },
  {
   "cell_type": "code",
   "execution_count": 54,
   "id": "34dbb8ef-e031-472b-bec2-076e58343814",
   "metadata": {},
   "outputs": [
    {
     "data": {
      "text/plain": [
       "array([2, 4, 2, 2, 2, 2, 3, 2, 2, 2, 4, 4, 2, 2, 2, 2, 1, 2, 2, 2, 2, 3,\n",
       "       2, 2, 2, 2, 2, 3, 2, 2, 1, 2, 2, 4, 2, 3, 2, 2, 2, 2, 2, 2, 2, 2,\n",
       "       4, 2, 2, 3, 3, 3, 4, 2, 1, 4, 2, 2, 2, 2, 2, 4, 2, 2, 2])"
      ]
     },
     "execution_count": 54,
     "metadata": {},
     "output_type": "execute_result"
    }
   ],
   "source": [
    "# Hacemos selecciones de grupos ahora usando el valor obtenido de llegadas \n",
    "# para saber de qué tamaño es cada grupo\n",
    "clientes = np.random.choice(freq_rel_llegadas.index, total_llegadas, p = freq_rel_llegadas.values)\n",
    "clientes"
   ]
  },
  {
   "cell_type": "code",
   "execution_count": 55,
   "id": "c19eab58-9552-497b-80c4-4d4a0cc2d924",
   "metadata": {},
   "outputs": [
    {
     "data": {
      "text/plain": [
       "63"
      ]
     },
     "execution_count": 55,
     "metadata": {},
     "output_type": "execute_result"
    }
   ],
   "source": [
    "# Comprobamos el número de llegadas durante el día que fue obtenido con el while, el # debe ser igual\n",
    "len(clientes)"
   ]
  },
  {
   "cell_type": "code",
   "execution_count": 56,
   "id": "575da6d7-f9b3-47c4-8113-99e66e5aa688",
   "metadata": {
    "scrolled": true
   },
   "outputs": [
    {
     "data": {
      "text/html": [
       "<div>\n",
       "<style scoped>\n",
       "    .dataframe tbody tr th:only-of-type {\n",
       "        vertical-align: middle;\n",
       "    }\n",
       "\n",
       "    .dataframe tbody tr th {\n",
       "        vertical-align: top;\n",
       "    }\n",
       "\n",
       "    .dataframe thead th {\n",
       "        text-align: right;\n",
       "    }\n",
       "</style>\n",
       "<table border=\"1\" class=\"dataframe\">\n",
       "  <thead>\n",
       "    <tr style=\"text-align: right;\">\n",
       "      <th></th>\n",
       "      <th>total</th>\n",
       "    </tr>\n",
       "  </thead>\n",
       "  <tbody>\n",
       "    <tr>\n",
       "      <th>0</th>\n",
       "      <td>2</td>\n",
       "    </tr>\n",
       "    <tr>\n",
       "      <th>1</th>\n",
       "      <td>4</td>\n",
       "    </tr>\n",
       "    <tr>\n",
       "      <th>2</th>\n",
       "      <td>2</td>\n",
       "    </tr>\n",
       "    <tr>\n",
       "      <th>3</th>\n",
       "      <td>2</td>\n",
       "    </tr>\n",
       "    <tr>\n",
       "      <th>4</th>\n",
       "      <td>2</td>\n",
       "    </tr>\n",
       "    <tr>\n",
       "      <th>...</th>\n",
       "      <td>...</td>\n",
       "    </tr>\n",
       "    <tr>\n",
       "      <th>58</th>\n",
       "      <td>2</td>\n",
       "    </tr>\n",
       "    <tr>\n",
       "      <th>59</th>\n",
       "      <td>4</td>\n",
       "    </tr>\n",
       "    <tr>\n",
       "      <th>60</th>\n",
       "      <td>2</td>\n",
       "    </tr>\n",
       "    <tr>\n",
       "      <th>61</th>\n",
       "      <td>2</td>\n",
       "    </tr>\n",
       "    <tr>\n",
       "      <th>62</th>\n",
       "      <td>2</td>\n",
       "    </tr>\n",
       "  </tbody>\n",
       "</table>\n",
       "<p>63 rows × 1 columns</p>\n",
       "</div>"
      ],
      "text/plain": [
       "    total\n",
       "0       2\n",
       "1       4\n",
       "2       2\n",
       "3       2\n",
       "4       2\n",
       "..    ...\n",
       "58      2\n",
       "59      4\n",
       "60      2\n",
       "61      2\n",
       "62      2\n",
       "\n",
       "[63 rows x 1 columns]"
      ]
     },
     "execution_count": 56,
     "metadata": {},
     "output_type": "execute_result"
    }
   ],
   "source": [
    "# Creamos un dataframe de los grupos de clientes usando lo obtenido arriba\n",
    "df_clientes = pd.DataFrame({\"total\":clientes})\n",
    "df_clientes"
   ]
  },
  {
   "cell_type": "code",
   "execution_count": 57,
   "id": "e134369e-87fb-4132-ad10-ae132a1d99ff",
   "metadata": {},
   "outputs": [
    {
     "data": {
      "image/png": "[encoded data removed]"
     },
     "metadata": {
      "image/png": {
       "height": 480,
       "width": 640
      }
     },
     "output_type": "display_data"
    }
   ],
   "source": [
    "# Creamos el histograma de los datos simulados\n",
    "(\n",
    "    ggplot(data = df_clientes) + geom_histogram(mapping = aes(x = \"total\"),\n",
    "                                                binwidth = 1,\n",
    "                                                fill = \"salmon\",\n",
    "                                                color = \"white\"\n",
    "                                               )\n",
    ")"
   ]
  },
  {
   "cell_type": "markdown",
   "id": "fc57a622-e3cd-4fb6-a6bc-f1a2442f9e91",
   "metadata": {},
   "source": [
    "<font color = 'LightSeaGreen'>\n",
    "<font size = 3>\n",
    "\n",
    "Observamos que la distribución de los datos simulados es muy parecida a la distribución de los datos reales."
   ]
  },
  {
   "cell_type": "markdown",
   "id": "13a23b16-bd9c-456f-9402-5ea7dd4388b1",
   "metadata": {},
   "source": [
    "<font color = 'LightSeaGreen'>\n",
    "<font size = 3>\n",
    "\n",
    "Ya sabemos cuántos grupos de clientes llegaron durante el día.\n",
    "\n",
    "Ahora hay que simular los pedidos que hicieron cada grupo de clientes.\n",
    "\n",
    "No nos va interesar qué cosa pidieron sino cuánto vale lo que pidieron ó cuánto van a pagar, es por ello que nos debemos fijar en la columna precio, de la tabla de los platillos."
   ]
  },
  {
   "cell_type": "code",
   "execution_count": 58,
   "id": "ebb1423a-532f-4ed0-95d6-c1244a4e000b",
   "metadata": {},
   "outputs": [
    {
     "data": {
      "text/html": [
       "<div>\n",
       "<style scoped>\n",
       "    .dataframe tbody tr th:only-of-type {\n",
       "        vertical-align: middle;\n",
       "    }\n",
       "\n",
       "    .dataframe tbody tr th {\n",
       "        vertical-align: top;\n",
       "    }\n",
       "\n",
       "    .dataframe thead th {\n",
       "        text-align: right;\n",
       "    }\n",
       "</style>\n",
       "<table border=\"1\" class=\"dataframe\">\n",
       "  <thead>\n",
       "    <tr style=\"text-align: right;\">\n",
       "      <th></th>\n",
       "      <th>Platillo</th>\n",
       "      <th>Precio</th>\n",
       "    </tr>\n",
       "  </thead>\n",
       "  <tbody>\n",
       "    <tr>\n",
       "      <th>0</th>\n",
       "      <td>Tacos al Pastor</td>\n",
       "      <td>50</td>\n",
       "    </tr>\n",
       "    <tr>\n",
       "      <th>1</th>\n",
       "      <td>Enchiladas Verdes</td>\n",
       "      <td>65</td>\n",
       "    </tr>\n",
       "    <tr>\n",
       "      <th>2</th>\n",
       "      <td>Quesadilla de Huitlacoche</td>\n",
       "      <td>70</td>\n",
       "    </tr>\n",
       "    <tr>\n",
       "      <th>3</th>\n",
       "      <td>Chilaquiles Rojos</td>\n",
       "      <td>55</td>\n",
       "    </tr>\n",
       "    <tr>\n",
       "      <th>4</th>\n",
       "      <td>Pozole Rojo</td>\n",
       "      <td>60</td>\n",
       "    </tr>\n",
       "  </tbody>\n",
       "</table>\n",
       "</div>"
      ],
      "text/plain": [
       "                    Platillo  Precio\n",
       "0            Tacos al Pastor      50\n",
       "1          Enchiladas Verdes      65\n",
       "2  Quesadilla de Huitlacoche      70\n",
       "3          Chilaquiles Rojos      55\n",
       "4                Pozole Rojo      60"
      ]
     },
     "execution_count": 58,
     "metadata": {},
     "output_type": "execute_result"
    }
   ],
   "source": [
    "# Inspeccionamos los datos\n",
    "platillos"
   ]
  },
  {
   "cell_type": "code",
   "execution_count": 59,
   "id": "0875c4de-a8fd-45b4-99c5-84eb52e92057",
   "metadata": {},
   "outputs": [
    {
     "data": {
      "text/plain": [
       "Index(['Platillo', 'Precio'], dtype='object')"
      ]
     },
     "execution_count": 59,
     "metadata": {},
     "output_type": "execute_result"
    }
   ],
   "source": [
    "# Muestra las columnas de la tabla\n",
    "platillos.columns"
   ]
  },
  {
   "cell_type": "code",
   "execution_count": 60,
   "id": "43b49c4e-82c3-4add-95b9-6b1e9cf0802e",
   "metadata": {},
   "outputs": [
    {
     "data": {
      "text/html": [
       "<div>\n",
       "<style scoped>\n",
       "    .dataframe tbody tr th:only-of-type {\n",
       "        vertical-align: middle;\n",
       "    }\n",
       "\n",
       "    .dataframe tbody tr th {\n",
       "        vertical-align: top;\n",
       "    }\n",
       "\n",
       "    .dataframe thead th {\n",
       "        text-align: right;\n",
       "    }\n",
       "</style>\n",
       "<table border=\"1\" class=\"dataframe\">\n",
       "  <thead>\n",
       "    <tr style=\"text-align: right;\">\n",
       "      <th></th>\n",
       "      <th>Platillo</th>\n",
       "      <th>Precio</th>\n",
       "    </tr>\n",
       "  </thead>\n",
       "  <tbody>\n",
       "    <tr>\n",
       "      <th>0</th>\n",
       "      <td>Tacos al Pastor</td>\n",
       "      <td>50</td>\n",
       "    </tr>\n",
       "    <tr>\n",
       "      <th>1</th>\n",
       "      <td>Enchiladas Verdes</td>\n",
       "      <td>65</td>\n",
       "    </tr>\n",
       "    <tr>\n",
       "      <th>2</th>\n",
       "      <td>Quesadilla de Huitlacoche</td>\n",
       "      <td>70</td>\n",
       "    </tr>\n",
       "    <tr>\n",
       "      <th>3</th>\n",
       "      <td>Chilaquiles Rojos</td>\n",
       "      <td>55</td>\n",
       "    </tr>\n",
       "    <tr>\n",
       "      <th>4</th>\n",
       "      <td>Pozole Rojo</td>\n",
       "      <td>60</td>\n",
       "    </tr>\n",
       "  </tbody>\n",
       "</table>\n",
       "</div>"
      ],
      "text/plain": [
       "                    Platillo  Precio\n",
       "0            Tacos al Pastor      50\n",
       "1          Enchiladas Verdes      65\n",
       "2  Quesadilla de Huitlacoche      70\n",
       "3          Chilaquiles Rojos      55\n",
       "4                Pozole Rojo      60"
      ]
     },
     "execution_count": 60,
     "metadata": {},
     "output_type": "execute_result"
    }
   ],
   "source": [
    "# Se muestran las primeras filas\n",
    "platillos.head()"
   ]
  },
  {
   "cell_type": "code",
   "execution_count": 61,
   "id": "32bab32a-0d28-4ef1-b7c8-75a05901c1fc",
   "metadata": {},
   "outputs": [
    {
     "data": {
      "text/html": [
       "<div>\n",
       "<style scoped>\n",
       "    .dataframe tbody tr th:only-of-type {\n",
       "        vertical-align: middle;\n",
       "    }\n",
       "\n",
       "    .dataframe tbody tr th {\n",
       "        vertical-align: top;\n",
       "    }\n",
       "\n",
       "    .dataframe thead th {\n",
       "        text-align: right;\n",
       "    }\n",
       "</style>\n",
       "<table border=\"1\" class=\"dataframe\">\n",
       "  <thead>\n",
       "    <tr style=\"text-align: right;\">\n",
       "      <th></th>\n",
       "      <th>Bebida</th>\n",
       "      <th>Precio</th>\n",
       "    </tr>\n",
       "  </thead>\n",
       "  <tbody>\n",
       "    <tr>\n",
       "      <th>0</th>\n",
       "      <td>Agua de Jamaica</td>\n",
       "      <td>20</td>\n",
       "    </tr>\n",
       "    <tr>\n",
       "      <th>1</th>\n",
       "      <td>Horchata</td>\n",
       "      <td>15</td>\n",
       "    </tr>\n",
       "    <tr>\n",
       "      <th>2</th>\n",
       "      <td>Refresco</td>\n",
       "      <td>25</td>\n",
       "    </tr>\n",
       "  </tbody>\n",
       "</table>\n",
       "</div>"
      ],
      "text/plain": [
       "            Bebida  Precio\n",
       "0  Agua de Jamaica      20\n",
       "1         Horchata      15\n",
       "2         Refresco      25"
      ]
     },
     "execution_count": 61,
     "metadata": {},
     "output_type": "execute_result"
    }
   ],
   "source": [
    "# Inspeccionamos los datos\n",
    "bebidas"
   ]
  },
  {
   "cell_type": "code",
   "execution_count": 62,
   "id": "7692d302-dcaa-44d4-a3f2-d6729be0e442",
   "metadata": {},
   "outputs": [
    {
     "data": {
      "text/plain": [
       "Index(['Bebida', 'Precio'], dtype='object')"
      ]
     },
     "execution_count": 62,
     "metadata": {},
     "output_type": "execute_result"
    }
   ],
   "source": [
    "# Muestra las columnas de la tabla\n",
    "bebidas.columns"
   ]
  },
  {
   "cell_type": "code",
   "execution_count": 63,
   "id": "4b6ea672-cc90-4ec2-b0a2-fa98fb93d22f",
   "metadata": {},
   "outputs": [
    {
     "data": {
      "text/html": [
       "<div>\n",
       "<style scoped>\n",
       "    .dataframe tbody tr th:only-of-type {\n",
       "        vertical-align: middle;\n",
       "    }\n",
       "\n",
       "    .dataframe tbody tr th {\n",
       "        vertical-align: top;\n",
       "    }\n",
       "\n",
       "    .dataframe thead th {\n",
       "        text-align: right;\n",
       "    }\n",
       "</style>\n",
       "<table border=\"1\" class=\"dataframe\">\n",
       "  <thead>\n",
       "    <tr style=\"text-align: right;\">\n",
       "      <th></th>\n",
       "      <th>Bebida</th>\n",
       "      <th>Precio</th>\n",
       "    </tr>\n",
       "  </thead>\n",
       "  <tbody>\n",
       "    <tr>\n",
       "      <th>0</th>\n",
       "      <td>Agua de Jamaica</td>\n",
       "      <td>20</td>\n",
       "    </tr>\n",
       "    <tr>\n",
       "      <th>1</th>\n",
       "      <td>Horchata</td>\n",
       "      <td>15</td>\n",
       "    </tr>\n",
       "    <tr>\n",
       "      <th>2</th>\n",
       "      <td>Refresco</td>\n",
       "      <td>25</td>\n",
       "    </tr>\n",
       "  </tbody>\n",
       "</table>\n",
       "</div>"
      ],
      "text/plain": [
       "            Bebida  Precio\n",
       "0  Agua de Jamaica      20\n",
       "1         Horchata      15\n",
       "2         Refresco      25"
      ]
     },
     "execution_count": 63,
     "metadata": {},
     "output_type": "execute_result"
    }
   ],
   "source": [
    "# Se muestran las primeras filas\n",
    "bebidas.head()"
   ]
  },
  {
   "cell_type": "code",
   "execution_count": 64,
   "id": "e20d5a07-c4c6-4247-9f01-ddf4d02885b6",
   "metadata": {},
   "outputs": [
    {
     "data": {
      "text/plain": [
       "array([60, 65, 70, 50, 70])"
      ]
     },
     "execution_count": 64,
     "metadata": {},
     "output_type": "execute_result"
    }
   ],
   "source": [
    "# Ocupo que me selecciones \"Precio\" de platillos, con el 5 suponemos que se pidieron 5 platillos en una mesa\n",
    "np.random.choice(platillos[\"Precio\"], 5, replace = True)"
   ]
  },
  {
   "cell_type": "markdown",
   "id": "1239ae77-a4bc-451d-a279-d68cc142fb73",
   "metadata": {},
   "source": [
    "<font color = 'LightSeaGreen'>\n",
    "<font size = 3>\n",
    "\n",
    "En la siguiente imagen se describe el código anterior para comprender su función antes de continuar.\n",
    "\n",
    "<img src=\"Img/code_exp3.jpg\">\n",
    "\n",
    "Este código funciona de manera análoga para el ejemplo de las bebidas, el cual se muestra en el siguiente código."
   ]
  },
  {
   "cell_type": "code",
   "execution_count": 65,
   "id": "3dc9a93b-ae99-45ae-be17-9987a70c9f53",
   "metadata": {},
   "outputs": [
    {
     "data": {
      "text/plain": [
       "array([15, 15, 20, 20, 25])"
      ]
     },
     "execution_count": 65,
     "metadata": {},
     "output_type": "execute_result"
    }
   ],
   "source": [
    "# Ocupo que me selecciones \"Precio\" de bebidas, con el 5 suponemos que se pidieron 3 bebidas en una mesa\n",
    "np.random.choice(bebidas[\"Precio\"], 5, replace = True)"
   ]
  },
  {
   "cell_type": "code",
   "execution_count": 66,
   "id": "33bcbcf4-bb98-40d1-988e-645e941c272f",
   "metadata": {},
   "outputs": [
    {
     "data": {
      "text/plain": [
       "np.int64(295)"
      ]
     },
     "execution_count": 66,
     "metadata": {},
     "output_type": "execute_result"
    }
   ],
   "source": [
    "# Obtenemos la cuenta de platillos de esa mesa\n",
    "np.random.choice(platillos[\"Precio\"], 5, replace = True).sum()"
   ]
  },
  {
   "cell_type": "code",
   "execution_count": 67,
   "id": "02da2fe7-368b-47bf-8625-9ebf6d405fab",
   "metadata": {},
   "outputs": [
    {
     "data": {
      "text/plain": [
       "np.int64(95)"
      ]
     },
     "execution_count": 67,
     "metadata": {},
     "output_type": "execute_result"
    }
   ],
   "source": [
    "# Obtenemos la cuenta de bebidas de esa mesa\n",
    "np.random.choice(bebidas[\"Precio\"], 5, replace = True).sum()"
   ]
  },
  {
   "cell_type": "markdown",
   "id": "f1ff3684-77a8-41f7-835a-b287aad410ce",
   "metadata": {},
   "source": [
    "<font color = 'LightSeaGreen'>\n",
    "<font size = 3>\n",
    "\n",
    "Como tenemos la cantidad de grupos de clientes que llegaron, entonces debemos obtener la suma de la cuenta de cada mesa, usando la cantidad de grupos que se obtuvieron."
   ]
  },
  {
   "cell_type": "code",
   "execution_count": 68,
   "id": "ad63402b-34e0-4b5b-8264-5f6c8adc3f7b",
   "metadata": {},
   "outputs": [
    {
     "data": {
      "text/plain": [
       "array([2, 4, 2, 2, 2, 2, 3, 2, 2, 2, 4, 4, 2, 2, 2, 2, 1, 2, 2, 2, 2, 3,\n",
       "       2, 2, 2, 2, 2, 3, 2, 2, 1, 2, 2, 4, 2, 3, 2, 2, 2, 2, 2, 2, 2, 2,\n",
       "       4, 2, 2, 3, 3, 3, 4, 2, 1, 4, 2, 2, 2, 2, 2, 4, 2, 2, 2])"
      ]
     },
     "execution_count": 68,
     "metadata": {},
     "output_type": "execute_result"
    }
   ],
   "source": [
    "clientes"
   ]
  },
  {
   "cell_type": "code",
   "execution_count": 69,
   "id": "4eec5130-1e4d-4232-8328-fc54c1c234ee",
   "metadata": {},
   "outputs": [
    {
     "data": {
      "text/plain": [
       "[1, 2, 3]"
      ]
     },
     "execution_count": 69,
     "metadata": {},
     "output_type": "execute_result"
    }
   ],
   "source": [
    "# Hacemos un ciclo for para comprender el funcionamiento del código de la siguiente celda para obtener la suma de los pedidos de cada mesa\n",
    "X = [1, 2, 3]\n",
    "Y = []\n",
    "\n",
    "for x in X:\n",
    "    Y.append(x)\n",
    "\n",
    "Y"
   ]
  },
  {
   "cell_type": "code",
   "execution_count": 70,
   "id": "10b9e6b0-3dcc-4c7e-a4f2-55296824ac30",
   "metadata": {
    "scrolled": true
   },
   "outputs": [
    {
     "data": {
      "text/plain": [
       "[np.int64(170),\n",
       " np.int64(330),\n",
       " np.int64(140),\n",
       " np.int64(165),\n",
       " np.int64(140),\n",
       " np.int64(140),\n",
       " np.int64(225),\n",
       " np.int64(165),\n",
       " np.int64(160),\n",
       " np.int64(160),\n",
       " np.int64(315),\n",
       " np.int64(350),\n",
       " np.int64(145),\n",
       " np.int64(175),\n",
       " np.int64(165),\n",
       " np.int64(165),\n",
       " np.int64(85),\n",
       " np.int64(160),\n",
       " np.int64(165),\n",
       " np.int64(155),\n",
       " np.int64(175),\n",
       " np.int64(235),\n",
       " np.int64(155),\n",
       " np.int64(155),\n",
       " np.int64(160),\n",
       " np.int64(165),\n",
       " np.int64(155),\n",
       " np.int64(215),\n",
       " np.int64(160),\n",
       " np.int64(150),\n",
       " np.int64(95),\n",
       " np.int64(175),\n",
       " np.int64(160),\n",
       " np.int64(310),\n",
       " np.int64(155),\n",
       " np.int64(230),\n",
       " np.int64(180),\n",
       " np.int64(165),\n",
       " np.int64(155),\n",
       " np.int64(170),\n",
       " np.int64(170),\n",
       " np.int64(140),\n",
       " np.int64(135),\n",
       " np.int64(175),\n",
       " np.int64(305),\n",
       " np.int64(160),\n",
       " np.int64(185),\n",
       " np.int64(250),\n",
       " np.int64(245),\n",
       " np.int64(240),\n",
       " np.int64(315),\n",
       " np.int64(170),\n",
       " np.int64(85),\n",
       " np.int64(320),\n",
       " np.int64(160),\n",
       " np.int64(130),\n",
       " np.int64(135),\n",
       " np.int64(155),\n",
       " np.int64(165),\n",
       " np.int64(310),\n",
       " np.int64(165),\n",
       " np.int64(160),\n",
       " np.int64(170)]"
      ]
     },
     "execution_count": 70,
     "metadata": {},
     "output_type": "execute_result"
    }
   ],
   "source": [
    "# Creamos una lista vacía de los pagos para guardarlos\n",
    "pago_clientes = []\n",
    "\n",
    "# Creamos un ciclo for para que obtenga la suma de las cuentas\n",
    "for n_cliente in clientes:\n",
    "    pago_comida = np.random.choice(platillos[\"Precio\"], n_cliente, replace = True).sum()\n",
    "    pago_bebida = np.random.choice(bebidas[\"Precio\"], n_cliente, replace = True).sum()\n",
    "    pago_clientes.append(pago_comida + pago_bebida)\n",
    "\n",
    "# Muestra el total que debe pagar cada grupo\n",
    "pago_clientes"
   ]
  },
  {
   "cell_type": "code",
   "execution_count": 71,
   "id": "e68bfc31-6a60-4556-8283-69fc4a3e2b67",
   "metadata": {},
   "outputs": [
    {
     "name": "stdout",
     "output_type": "stream",
     "text": [
      "63\n",
      "63\n"
     ]
    }
   ],
   "source": [
    "# Mostramos el número de llegadas que hubieron durante el día\n",
    "print(len(clientes))\n",
    "\n",
    "# Mostramos el número de pagos que debieron haber hecho, debe coincidir con el número de llegadas\n",
    "print(len(pago_clientes))"
   ]
  },
  {
   "cell_type": "code",
   "execution_count": 72,
   "id": "44be7644-8017-4fb6-a62c-c5367bdbe70e",
   "metadata": {},
   "outputs": [
    {
     "data": {
      "text/plain": [
       "np.int64(11640)"
      ]
     },
     "execution_count": 72,
     "metadata": {},
     "output_type": "execute_result"
    }
   ],
   "source": [
    "# Obtenemos la suma de cuánto gané ese día\n",
    "sum(pago_clientes)"
   ]
  },
  {
   "cell_type": "markdown",
   "id": "8d9bc2a8-f5be-4763-8af0-b72e2bd5340d",
   "metadata": {},
   "source": [
    "<font color = 'LightSeaGreen'>\n",
    "<font size = 3>\n",
    "\n",
    "En resumen, el código que llevamos hasta ahora así quedaría.\n",
    "\n",
    "- Aquí se obtiene el número de grupos de clientes que llegaron en el día. Es decir, cuántas llegadas hubieron en el día:\n",
    "\n",
    "```python\n",
    "#Obtenemos el número de grupos que llegaron durante el día\n",
    "\n",
    "# Creamos una variable llamada tiempo\n",
    "tiempo = 0 # todavía no abro el restaurante\n",
    "total_llegadas = 0 # todavía no abro el restaurante, todavía no llega nadie\n",
    "\n",
    "# Creamos un ciclo while\n",
    "while tiempo < 600:\n",
    "    \n",
    "    # Actualizamos los datos\n",
    "    total_llegadas = total_llegadas + 1 # cada que llegue un grupo es lo que tenía mas 1\n",
    "    tiempo = tiempo + np.random.exponential(scale = 9.55) # tiempo actual + más lo que genero con una exponencial\n",
    "\n",
    "# total_llegadas # devuelve el número de llegadas\n",
    "print(f'El número total de llegadas es: {total_llegadas}')\n",
    "```\n",
    "\n",
    "- Aquí simulamos de qué tamaño fue cada grupo:\n",
    "\n",
    "```python\n",
    "# Hacemos selecciones de grupos ahora usando el valor obtenido de llegadas \n",
    "# para saber de qué tamaño es cada grupo\n",
    "clientes = np.random.choice(freq_rel_llegadas.index, total_llegadas, p = freq_rel_llegadas.values)\n",
    "clientes\n",
    "\n",
    "# Comprobamos el número de llegadas durante el día que fue obtenido con el while, el # debe ser igual\n",
    "len(clientes)\n",
    "```\n",
    "\n",
    "- Aquí calculamos cuánto pagó cada grupo:\n",
    "\n",
    "```python\n",
    "# Creamos una lista vacía de los pagos para guardarlos\n",
    "pago_clientes = []\n",
    "\n",
    "# Creamos un ciclo for para que obtenga la suma de las cuentas\n",
    "for n_cliente in clientes:\n",
    "    pago_comida = np.random.choice(platillos[\"Precio\"], n_cliente, replace = True).sum()\n",
    "    pago_bebida = np.random.choice(bebidas[\"Precio\"], n_cliente, replace = True).sum()\n",
    "    pago_clientes.append(pago_comida + pago_bebida)\n",
    "\n",
    "# Muestra el total que debe pagar cada grupo\n",
    "pago_clientes\n",
    "```\n",
    "\n",
    "- Aquí obtenemos cuánto fue la ganancida de todo el día:\n",
    "\n",
    "```python\n",
    "# Obtenemos la suma de cuánto gané ese día\n",
    "sum(pago_clientes)\n",
    "```"
   ]
  },
  {
   "cell_type": "markdown",
   "id": "f75990ca-360a-4c35-9d62-3b2b3ff2eea6",
   "metadata": {},
   "source": [
    "<font color = 'LightSeaGreen'>\n",
    "<font size = 3>\n",
    "\n",
    "Con esto, ya podemos simular un día completo de trabajo, porque estamos replicando los tamaños de cada grupo y cuánto pagó cada mesa. \n",
    "\n",
    "Lo que nos interesa ahora va ser correr muchas veces ($n$ grande) el código para aplicar el **Teorema del Límite Central**. Es decir, vamos a simular muchas veces los días de trabajo para promediar la ganancia diaria, y eso por el **Teorema del Límite Central** nos va a decir cuánto se gana en promedio al día.\n",
    "\n",
    "De esta manera se garantiza que el **promedio** es **gaussiano**."
   ]
  },
  {
   "cell_type": "code",
   "execution_count": 73,
   "id": "04144c94-df74-4368-88ec-9ce312c6c8ad",
   "metadata": {},
   "outputs": [],
   "source": [
    "# Creamos una función que replique la simulación de un día de trabajo\n",
    "def simulacion():\n",
    "\n",
    "    # Creamos una variable llamada tiempo\n",
    "    tiempo = 0 # todavía no abro el restaurante\n",
    "    total_llegadas = 0 # todavía no abro el restaurante, todavía no llega nadie\n",
    "\n",
    "    # Creamos un ciclo while\n",
    "    while tiempo < 600:\n",
    "        # Actualizamos los datos\n",
    "        total_llegadas = total_llegadas + 1 # cada que llegue un grupo es lo que tenía mas 1\n",
    "        tiempo = tiempo + np.random.exponential(scale = 9.55) # tiempo actual + más lo que genero con una exponencial\n",
    "\n",
    "    # Creamos una lista vacía de los pagos para guardarlos\n",
    "    pago_clientes = []\n",
    "\n",
    "    # Creamos un ciclo for para que obtenga la suma de las cuentas\n",
    "    for n_cliente in clientes:\n",
    "        pago_comida = np.random.choice(platillos[\"Precio\"], n_cliente, replace = True).sum()\n",
    "        pago_bebida = np.random.choice(bebidas[\"Precio\"], n_cliente, replace = True).sum()\n",
    "        pago_clientes.append(pago_comida + pago_bebida)\n",
    "\n",
    "\n",
    "    return sum(pago_clientes)"
   ]
  },
  {
   "cell_type": "code",
   "execution_count": 74,
   "id": "7b603664-f059-427e-b4a1-1b336dc3929e",
   "metadata": {},
   "outputs": [
    {
     "data": {
      "text/plain": [
       "np.int64(11520)"
      ]
     },
     "execution_count": 74,
     "metadata": {},
     "output_type": "execute_result"
    }
   ],
   "source": [
    "# Ejecutamos la función\n",
    "simulacion()"
   ]
  },
  {
   "cell_type": "code",
   "execution_count": 75,
   "id": "fe21318e-730c-4ea7-8a1b-dd3d36afcbfe",
   "metadata": {},
   "outputs": [
    {
     "data": {
      "text/plain": [
       "np.int64(11665)"
      ]
     },
     "execution_count": 75,
     "metadata": {},
     "output_type": "execute_result"
    }
   ],
   "source": [
    "# Ejecutamos la función\n",
    "simulacion()"
   ]
  },
  {
   "cell_type": "code",
   "execution_count": 76,
   "id": "4efc27ad-615e-448f-a445-18d1a88a0072",
   "metadata": {},
   "outputs": [
    {
     "data": {
      "text/plain": [
       "np.int64(11700)"
      ]
     },
     "execution_count": 76,
     "metadata": {},
     "output_type": "execute_result"
    }
   ],
   "source": [
    "# Ejecutamos la función\n",
    "simulacion()"
   ]
  },
  {
   "cell_type": "markdown",
   "id": "6ce429a5-9762-4c65-aae2-0bf0460a96db",
   "metadata": {},
   "source": [
    "<font color = 'LightSeaGreen'>\n",
    "<font size = 3>\n",
    "\n",
    "Con la función creada en el paso anterior nos damos cuenta que podemos acelerar el proceso de simulación para obtener uno o varios días de trabajo, sin necesidad de ejecutar todo el código completo.\n",
    "\n",
    "Ahora, queremos simular muchos días de trabajo, para ello vamos a realizar lo siguiente."
   ]
  },
  {
   "cell_type": "code",
   "execution_count": 77,
   "id": "24c8d1f9-dfc2-43c7-bf54-95bc118d312e",
   "metadata": {},
   "outputs": [
    {
     "data": {
      "text/plain": [
       "[np.int64(11595), np.int64(11655), np.int64(11785)]"
      ]
     },
     "execution_count": 77,
     "metadata": {},
     "output_type": "execute_result"
    }
   ],
   "source": [
    "# Ejecutamos la función\n",
    "simulacion()\n",
    "\n",
    "# Ejecutamos la función 3 veces = 3 días de trabajo\n",
    "[simulacion() for x in range(3)]"
   ]
  },
  {
   "cell_type": "code",
   "execution_count": 78,
   "id": "41c4f615-d4dd-4d31-abf6-2918408d5dd3",
   "metadata": {},
   "outputs": [
    {
     "data": {
      "text/plain": [
       "np.int64(34860)"
      ]
     },
     "execution_count": 78,
     "metadata": {},
     "output_type": "execute_result"
    }
   ],
   "source": [
    "# Creamos una variable de los días simulados\n",
    "dias_simulados = 3\n",
    "\n",
    "# Ejecutamos la función los días simulados y obtenemos la suma de esos días de trabajo o lo ganado en esos días\n",
    "sum([simulacion() for x in range(dias_simulados)])"
   ]
  },
  {
   "cell_type": "code",
   "execution_count": 79,
   "id": "d8db7530-5dc3-41a6-9a6e-12a4e138058c",
   "metadata": {},
   "outputs": [
    {
     "data": {
      "text/plain": [
       "np.float64(11520.0)"
      ]
     },
     "execution_count": 79,
     "metadata": {},
     "output_type": "execute_result"
    }
   ],
   "source": [
    "# Creamos una variable de los días simulados\n",
    "dias_simulados = 3\n",
    "\n",
    "# Ejecutamos la función los días simulados y obtenemos el promedio de ganancia diaria\n",
    "sum([simulacion() for x in range(dias_simulados)]) / dias_simulados"
   ]
  },
  {
   "cell_type": "code",
   "execution_count": 80,
   "id": "cff52d17-dc87-4605-be8c-f0e2f9d0cb4b",
   "metadata": {},
   "outputs": [
    {
     "data": {
      "text/plain": [
       "np.float64(11692.0)"
      ]
     },
     "execution_count": 80,
     "metadata": {},
     "output_type": "execute_result"
    }
   ],
   "source": [
    "# Creamos una variable de los días simulados\n",
    "dias_simulados = 5\n",
    "\n",
    "# Ejecutamos la función los días simulados y obtenemos el promedio de ganancia diaria\n",
    "sum([simulacion() for x in range(dias_simulados)]) / dias_simulados"
   ]
  },
  {
   "cell_type": "markdown",
   "id": "8dbc1769-54a8-4eb4-b389-6a0d2dca2dc1",
   "metadata": {},
   "source": [
    "<font color = 'LightSeaGreen'>\n",
    "<font size = 3>\n",
    "\n",
    "Para este caso vamos a simular 3000 días de trabajo para que el promedio se estacione."
   ]
  },
  {
   "cell_type": "code",
   "execution_count": 81,
   "id": "949ebac1-c525-449f-9673-eaef82ddd1dc",
   "metadata": {},
   "outputs": [
    {
     "data": {
      "text/plain": [
       "np.float64(11680.356666666667)"
      ]
     },
     "execution_count": 81,
     "metadata": {},
     "output_type": "execute_result"
    }
   ],
   "source": [
    "# Creamos una variable de los días simulados\n",
    "dias_simulados = 3000\n",
    "\n",
    "# Ejecutamos la función los días simulados y obtenemos el promedio de ganancia diaria\n",
    "sum([simulacion() for x in range(dias_simulados)]) / dias_simulados"
   ]
  },
  {
   "cell_type": "code",
   "execution_count": 82,
   "id": "99535dab-c6ee-4165-bb62-0bc12459bc1c",
   "metadata": {},
   "outputs": [
    {
     "data": {
      "text/plain": [
       "np.float64(11680.126666666667)"
      ]
     },
     "execution_count": 82,
     "metadata": {},
     "output_type": "execute_result"
    }
   ],
   "source": [
    "# Creamos una variable de los días simulados\n",
    "dias_simulados = 3000\n",
    "\n",
    "# Ejecutamos la función los días simulados y obtenemos el promedio de ganancia diaria\n",
    "sum([simulacion() for x in range(dias_simulados)]) / dias_simulados"
   ]
  },
  {
   "cell_type": "code",
   "execution_count": 83,
   "id": "2074ab2c-1271-4c8c-9578-e10a469911ec",
   "metadata": {},
   "outputs": [
    {
     "data": {
      "text/plain": [
       "np.float64(11679.33)"
      ]
     },
     "execution_count": 83,
     "metadata": {},
     "output_type": "execute_result"
    }
   ],
   "source": [
    "# Creamos una variable de los días simulados\n",
    "dias_simulados = 3000\n",
    "\n",
    "# Ejecutamos la función los días simulados y obtenemos el promedio de ganancia diaria\n",
    "sum([simulacion() for x in range(dias_simulados)]) / dias_simulados"
   ]
  },
  {
   "cell_type": "code",
   "execution_count": 84,
   "id": "d4a921d6-135c-41df-90af-40317b3de53d",
   "metadata": {},
   "outputs": [
    {
     "data": {
      "text/plain": [
       "np.float64(11678.296)"
      ]
     },
     "execution_count": 84,
     "metadata": {},
     "output_type": "execute_result"
    }
   ],
   "source": [
    "# Creamos una variable de los días simulados\n",
    "dias_simulados = 10000\n",
    "\n",
    "# Ejecutamos la función los días simulados y obtenemos el promedio de ganancia diaria\n",
    "sum([simulacion() for x in range(dias_simulados)]) / dias_simulados"
   ]
  },
  {
   "cell_type": "code",
   "execution_count": 85,
   "id": "29ac3c7d-15e3-468e-aa92-e2cf140b0d9d",
   "metadata": {},
   "outputs": [
    {
     "data": {
      "text/plain": [
       "np.float64(11679.565)"
      ]
     },
     "execution_count": 85,
     "metadata": {},
     "output_type": "execute_result"
    }
   ],
   "source": [
    "# Creamos una variable de los días simulados\n",
    "dias_simulados = 50000\n",
    "\n",
    "# Ejecutamos la función los días simulados y obtenemos el promedio de ganancia diaria\n",
    "sum([simulacion() for x in range(dias_simulados)]) / dias_simulados"
   ]
  },
  {
   "cell_type": "markdown",
   "id": "5beda4e6-bb6b-4e74-a5f7-0ad5f17d0156",
   "metadata": {},
   "source": [
    "<font color = 'Brown'>\n",
    "<font size = 4>\n",
    "\n",
    "---\n",
    "    \n",
    "**Notas**"
   ]
  },
  {
   "cell_type": "markdown",
   "id": "44c43c0e-e309-4d1f-bef9-d3ab31976e1c",
   "metadata": {},
   "source": [
    "<font color = 'DarkRed'>\n",
    "<font size = 3>\n",
    "\n",
    "- No existe una **VA.** que te diga horas, minutos, segundos como tal. Ejemplo: Probabilidad de que el bus pase a antes de las 23 hrs. No existe algo que nos de esa información.\n",
    "\n",
    "- Existen **VA.** que te miden los tiempos transcurridos (tiempos de espera). Por ejemplo: Cuál es la probabilidad de que tenga que esperar el bus 30 minutos?\n",
    "\n",
    "- Los tiempos de espera son **va. exponenciales**.\n",
    "\n",
    "- El **scale** $= 9.5573$ min $\\Rightarrow$ **scale** $\\sim 10$ min, esto nos dice que el tiempo de espera promedio entre grupo y grupo son de aprox. 10 min. Con eso ya tenemos controlado los tiempos de espera.\n",
    "\n",
    "- **Revisar el Teorema de la Transformación Inversa de probabilidad** en el siguiente [Link](https://www.ddanieltan.com/posts/some2/).\n",
    "\n",
    "- Usando Excel, podemos generar **exponenciales** usando la siguiente fórmula, gracias al **Teorema de la Transformación Inversa de probabilidad** (se muestra en la siguiente celda):\n",
    "\n",
    "$$- (\\text{scale}) LOG(1 - ALEATORIO()) $$\n",
    "\n",
    "entonces, con nuestro ejemplo queda de la siguiente manera:\n",
    "\n",
    "$$- (9.55) LOG(1 - ALEATORIO()) $$\n",
    "\n",
    "---"
   ]
  },
  {
   "cell_type": "markdown",
   "id": "eb811c1e-c9a3-4c80-8691-0aeb8285d0bb",
   "metadata": {},
   "source": [
    "<font color = 'Black'>\n",
    "<font size = 3>\n",
    "\n",
    "La fórmula que se usó para Excel se deduce del lo siguiente:\n",
    "\n",
    "$y = F_{X}(x)$\n",
    "\n",
    "$x = F_{X}^{-1}(y)$\n",
    "\n",
    "$U \\sim U(0,1)$\n",
    "\n",
    "$Z = F^{-1}(U)$ entonces, cuál es la distribución de $Z$?\n",
    "\n",
    "$F_{Z}(u) = F_{X}(u)$ y por lo tanto $X$ y $Z$ tienen la misma distribución.\n",
    "\n",
    "En el caso de la **exponencial** se tiene $F(x) = 1 - e^{- \\lambda x}$. Por lo tanto, $F^{- 1}(x) = - \\frac{log (1 - x)}{\\lambda}$. \n",
    "\n",
    "Como $F^{- 1}(U)$ sigue siendo del mismo tipo que $X$, entonces\n",
    "\n",
    "$$- \\frac{log (1 - U)}{\\lambda}$$\n",
    "\n",
    "es una **exponencial**.\n",
    "\n",
    "Recordar que Python nos devuleve **exponenciales** con **scala**, y $\\lambda = \\frac{1}{\\text{scale}}$.\n",
    "\n",
    "---"
   ]
  }
 ],
 "metadata": {
  "kernelspec": {
   "display_name": "Python 3 (ipykernel)",
   "language": "python",
   "name": "python3"
  },
  "language_info": {
   "codemirror_mode": {
    "name": "ipython",
    "version": 3
   },
   "file_extension": ".py",
   "mimetype": "text/x-python",
   "name": "python",
   "nbconvert_exporter": "python",
   "pygments_lexer": "ipython3",
   "version": "3.10.15"
  }
 },
 "nbformat": 4,
 "nbformat_minor": 5
}
