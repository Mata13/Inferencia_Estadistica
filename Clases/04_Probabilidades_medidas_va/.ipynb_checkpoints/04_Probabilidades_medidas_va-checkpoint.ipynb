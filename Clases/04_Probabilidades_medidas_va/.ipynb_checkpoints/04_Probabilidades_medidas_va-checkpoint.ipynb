{
 "cells": [
  {
   "cell_type": "markdown",
   "id": "1b28c943-1331-492d-9323-b41bc8c53f1a",
   "metadata": {},
   "source": [
    "<font color='IndianRed'>\n",
    "<font size=9> \n",
    "\n",
    "**Curso Inferencia Estadística**"
   ]
  },
  {
   "cell_type": "markdown",
   "id": "9a62e76f-35f9-467f-9822-84deeea4b123",
   "metadata": {},
   "source": [
    "<font color = 'DodgerBlue'>\n",
    "<font size = 5>\n",
    "    \n",
    "**Medidas de las variables aleatorias**"
   ]
  },
  {
   "cell_type": "markdown",
   "id": "908a7937-41e9-4b7c-8ee0-d81d250f252c",
   "metadata": {},
   "source": [
    "<font color = 'Black'>\n",
    "<font size = 3>\n",
    "\n",
    "---\n",
    "\n",
    "Una **variable aleatoria** es una función que asigna un número real a cada resultado de un experimento aleatorio. \n",
    "\n",
    "Se clasifica en:\n",
    "\n",
    "- **Discretas**: Toman valores específicos y contables. Ejemplo: número de caras al lanzar dos monedas.\n",
    "\n",
    "- **Continuas**: Toman cualquier valor dentro de un intervalo. Ejemplo: la altura de una persona.\n",
    "\n",
    "**Explicación Conceptual:**\n",
    "\n",
    "Imagina que estás realizando un experimento como lanzar un dado. Una variable aleatoria es una forma de traducir los posibles resultados de ese experimento (1, 2, 3, ...) en números que podamos analizar."
   ]
  },
  {
   "cell_type": "markdown",
   "id": "0094565e-8343-441d-894b-a1fd2ba3965c",
   "metadata": {},
   "source": [
    "<font color = 'LightSeaGreen'>\n",
    "<font size = 3>\n",
    "\n",
    "---\n",
    "\n",
    "**Ejemplos.**\n",
    "\n",
    "- **Variable Discreta**: Sea $X$ el número de caras al lanzar dos monedas. Los valores posibles de $X$ son $0$, $1$, o $2$.\n",
    "\n",
    "- **Variable Continua**: Sea $Y$ la temperatura diaria en tu ciudad. $Y$ puede tomar valores como $25.3^\\circ$C o $30.7^\\circ$C."
   ]
  },
  {
   "cell_type": "markdown",
   "id": "c0f28d1e-8bd7-4998-a911-605a1759b3f3",
   "metadata": {},
   "source": [
    "<font color = 'Black'>\n",
    "<font size = 3>\n",
    "\n",
    "---\n",
    "\n",
    "**Variables Aleatorias Independientes**\n",
    "\n",
    "Decimos que dos **variables** son **independientes** si saber el resultado de una no te dice nada sobre la otra. \n",
    "\n",
    "Por ejemplo, lanzar un dado y lanzar una moneda son eventos independientes: el número del dado no afecta si sale cara o cruz.\n",
    "\n",
    "**Definición Matemática**\n",
    "\n",
    "Dos **variables aleatorias** $X$ e $Y$ son **independientes** si:\n",
    "$$\n",
    "P(X \\leq x, Y \\leq y) = P(X \\leq x) \\cdot P(Y \\leq y)\n",
    "$$\n",
    "\n",
    "La probabilidad de que sucedan dos **eventos** $P(X \\leq x, Y \\leq y)$ es igual al producto de las probabilidades $P(X \\leq x) \\cdot P(Y \\leq y)$.\n",
    "\n",
    "---"
   ]
  },
  {
   "cell_type": "markdown",
   "id": "dbe997de-9f2a-478e-9da0-3d34634eabeb",
   "metadata": {},
   "source": [
    "<font color = 'LightSeaGreen'>\n",
    "<font size = 3>\n",
    "\n",
    "**Ejemplos.**\n",
    "\n",
    "- Si $X$ es el resultado de lanzar un dado y $Y$ es el resultado de lanzar una moneda:\n",
    "$$\n",
    "P(X = 4 \\, \\text{y} \\, Y = \\text{cara}) = P(X = 4) \\cdot P(Y = \\text{cara}) = \\frac{1}{6} \\cdot \\frac{1}{2} = \\frac{1}{12}\n",
    "$$"
   ]
  },
  {
   "cell_type": "markdown",
   "id": "62d8c10d-df2b-443a-a94f-1eb890523507",
   "metadata": {},
   "source": [
    "<font color = 'Black'>\n",
    "<font size = 3>\n",
    "\n",
    "---\n",
    "\n",
    "**Esperanza Matemática**\n",
    "\n",
    "La esperanza es el \"promedio esperado\" o el valor típico que obtendrías si repitieras el experimento muchas veces.\n",
    "\n",
    "La **esperanza matemática** (o valor esperado) de una variable aleatoria es:\n",
    "\n",
    "- Para una variable discreta:\n",
    "  $$\n",
    "  E[X] = \\sum_{x \\in \\text{Rango}(X)} x \\cdot P(X = x)\n",
    "  $$\n",
    "- Para una variable continua:\n",
    "  $$\n",
    "  E[X] = \\int_{-\\infty}^\\infty x \\cdot f_X(x) \\, dx\n",
    "  $$\n",
    "  Esta integral es la manera análoga de calcular el centro de masa de una lámina de densidad uniforme. Esto viene del centro de gravedad pero visto desde la teoría de la medida. A partir de la Teoría de la Medida te llevas esos conceptos a la física o conceptos probabilísticos.\n",
    "  \n",
    "---"
   ]
  },
  {
   "cell_type": "markdown",
   "id": "326554c4-6c6d-4a14-bfaa-f89fe40e660a",
   "metadata": {},
   "source": [
    "<font color = 'LightSeaGreen'>\n",
    "<font size = 3>\n",
    "\n",
    "**Ejemplos.**\n",
    "\n",
    "- $X$ es el número que sale al lanzar un dado de 6 caras. Entonces la **esperanza** es:\n",
    "\n",
    "$$\n",
    "\\begin{aligned}\n",
    "E(X) &= 1 \\cdot P(X = 1) + 2 \\cdot P(X = 2) + 3 \\cdot P(X = 3) + 4 \\cdot P(X = 4) + 5 \\cdot P(X = 5) + 6 \\cdot P(X = 6) \\\\\n",
    "&= 1 \\cdot \\left(\\frac{1}{6}\\right) + 2 \\cdot \\left(\\frac{1}{6}\\right) + 3 \\cdot \\left(\\frac{1}{6}\\right) + 4 \\cdot \\left(\\frac{1}{6}\\right) + 5 \\cdot \\left(\\frac{1}{6}\\right) + 6 \\cdot \\left(\\frac{1}{6}\\right) \\\\\n",
    "&= \\left(\\frac{1}{6}\\right) \\cdot \\left(1 + 2 + 3 + 4 + 5 + 6\\right) \\\\\n",
    "&= \\frac{21}{6} \\\\\n",
    "&= \\frac{7}{2} \\\\\n",
    "&= 3.5\n",
    "\\end{aligned}\n",
    "$$\n",
    "\n",
    "No siempre tienen una interpretación como tal, ya que en este caso el valor 3.5 no sale en la cara de un dado."
   ]
  },
  {
   "cell_type": "code",
   "execution_count": null,
   "id": "af420165-2314-47e0-9133-bbcbf03454b1",
   "metadata": {},
   "outputs": [],
   "source": []
  }
 ],
 "metadata": {
  "kernelspec": {
   "display_name": "Python 3 (ipykernel)",
   "language": "python",
   "name": "python3"
  },
  "language_info": {
   "codemirror_mode": {
    "name": "ipython",
    "version": 3
   },
   "file_extension": ".py",
   "mimetype": "text/x-python",
   "name": "python",
   "nbconvert_exporter": "python",
   "pygments_lexer": "ipython3",
   "version": "3.10.15"
  }
 },
 "nbformat": 4,
 "nbformat_minor": 5
}
