{
 "cells": [
  {
   "cell_type": "markdown",
   "id": "b5cb3092-0ca3-4924-8deb-e7e8d9e4b915",
   "metadata": {},
   "source": [
    "<font color='IndianRed'>\n",
    "<font size=9> \n",
    "\n",
    "**Curso Inferencia Estadística**"
   ]
  },
  {
   "cell_type": "markdown",
   "id": "1cfa7ace-9ff9-4fc9-a0bf-f47465959b27",
   "metadata": {},
   "source": [
    "<font color = 'DodgerBlue'>\n",
    "<font size = 5>\n",
    "    \n",
    "**Intervalos de Confianza**"
   ]
  },
  {
   "cell_type": "markdown",
   "id": "7e4de615-1e14-436a-9baf-360456560caa",
   "metadata": {},
   "source": [
    "<font color = 'Black'>\n",
    "<font size = 3>\n",
    "\n",
    "Un **parámetro poblacional** es una característica que deseamos conocer en una **población**. Usualmente ese **parámetro poblacional** es **desconocido** y, a través de ciertas técnicas estadísticas, lo estimamos mediante una **muestra**. \n",
    "\n",
    "Frecuentemente los **parámetros poblacionales** que nos interesa medir es el valor **promedio** de una **característica** en una **población**; o la **proporcición** en la que la característica se presenta, o la **desviación poblacional** de cierta característica.\n",
    "\n",
    "De esta manera, si $\\theta$ es un **parámetro poblacional**, entonces $\\theta$ puede ser, por ejemplo, el promedio del número de delitos que sufrieron las víctimas de delito en México durante 2022, la proporción de mujeres estudiantes de ciencias que ejercerán sus carreras o el tiempo promedio de recuperación de un enfermo cuando recibe un tratamiento médico.\n",
    "\n",
    "En general, son tres cosas que te van a interesar de los **parámetros poblacionales**:\n",
    "\n",
    "- Valores promedios.\n",
    "- Valores proporcionales (*i.e. Qué porcentaje cumple con cierta condición*).\n",
    "- Desviaciones estándar (*desviaciones de las poblaciones*).\n",
    "- *Valores totales* (*se pueden calcular a partir de los valores promedios*).\n",
    "\n",
    "No basta con saber el valor promedio, se necesita la **desviación estándar**.\n",
    "\n",
    "Una estimación por **intervalos de confianza** de un **parámetro poblacional** es una regla para calcular, a partir de nuestra muestra, un intervalo en el que, con una cierta probabilidad, se encuentra el **valor verdadero** del **parámetro poblacional**.\n",
    "\n",
    "Así, si $\\theta$ es un **parámetro poblacional**, se dice que el intervalo $(A,B)$ es un **intervalo de confianza para $\\theta$** con nivel de significancia $\\alpha$, si $P(A<\\theta<B)=1-\\alpha$\n",
    "\n",
    "<img src=\"Data/im013.png\">\n",
    "\n",
    "Al nivel de significancia $\\alpha$ se le asocia el número $1-\\alpha$, y se dice que el intervalo tiene una confianza del $(1-\\alpha)*100$ *por ciento*. En la práctica se toma $\\alpha$ como $0.01$, $0.05$ y $0.1$, por lo cual tenemos intervalos de confianza del 99%, 95% y 90%, respectivamente."
   ]
  },
  {
   "cell_type": "markdown",
   "id": "d29f01a6-6a33-4bb6-bd05-5fc762d61a39",
   "metadata": {},
   "source": [
    "<font color = 'DodgerBlue'>\n",
    "<font size = 5>\n",
    "\n",
    "---\n",
    "    \n",
    "**Interpretación**"
   ]
  },
  {
   "cell_type": "markdown",
   "id": "65b032b1-b541-44f1-b6e6-2f8d09ff63ca",
   "metadata": {},
   "source": [
    "<font color = 'Black'>\n",
    "<font size = 3>\n",
    "    \n",
    "La interpretación de los **intervalos de confianza** puede resumirse de la siguiente manera: \n",
    "\n",
    "*Supongamos que nos interesa estimar el **parámetro poblacional** $\\theta$ de una **población**. Si tomamos **muestras** y **muestras** de una **población** y se calcula el valor del parámetro en cada una de las **muestras**, entonces el **intervalo de confianza** con significancia $\\alpha$ que construyas en cada muestra contendrá al valor verdadero del **parámetro muestral** un $1-\\alpha$ por ciento de las veces*.\n",
    "\n",
    "Tienes a la población, tienes el parámetro desconocido $\\theta$, que es el que quieres estimar. Lo que te está diciendo es que si te tomas una muestra de esa población, luego le calculas el parámetro que te interesa (por ejemplo la media, proporción, etc.), calculas el parámetro muestral en esa muestra y lo anotas, luego te vuelves a tomar otra muestra y le vuelves a calcular el parámetro muestral de esa nueva muestra y lo anotas. Haces ese proceso unas 100 veces, vas a tener 100 numerítos, entonces vas a construir 100 intervalos de confianza, un intervalo de confianza para cada muestra.\n",
    "\n",
    "Lo que te está diciendo la interpretación es que en el $1-\\alpha$ *por ciento de las veces*, por ejemplo en una confianza del 99%, te estaría diciendo que aproximadamente en el 99% o en el 99 de cada 100 veces, el valor verdadero del parámetro poblacional que tú no conoces, va caer el valor verdadero dentro del intervalo. \n",
    "\n",
    "Una analogía de lo que es el intervalo de confianza sería **el juego de botella y un aro de la feria** y aquí se explica:\n",
    "\n",
    "Tú tienes una botella y te dan un aro para lanzarlo a la botella. El **intervalo de confianza** es, de cada 100 intentos que le avientes para atinarle a la botella, en un **intervalo de confianza** al 95% significa: que en 95 veces el aro va entrar a la botella. \n",
    "\n",
    "Entre mayor confianza necesites, vas a necesitar que el aro sea más grande para asegurar que va entrar.\n",
    "\n",
    "Si necesitas poca confianza significa que te estás permitiendo más fallos, ya que el intervalo de confianza se vuelve más pequeño, por lo tanto es más difícil que insertes el aro en la botella.\n",
    "\n",
    "El diámetro del aro sería proporcional a la confianza.\n",
    "\n",
    "**El intervalo de confianza es lanzar aros a la botella, la botella sería el parámetro poblacional, el aro (la confianza) te mide cuántas veces le atinaste al parámetro poblacional. Es decir, cuántas veces el aro atrapó a la botella. Cuántas veces con tu intervalo atrapaste al parámetro poblacional**.\n",
    "\n",
    "---"
   ]
  },
  {
   "cell_type": "markdown",
   "id": "e791cb59-7f8a-441a-b51c-f54d43d9d046",
   "metadata": {},
   "source": [
    "<font color = 'Black'>\n",
    "<font size = 3>\n",
    "    \n",
    "**Importante: selección de muestras en Python**\n",
    "\n",
    "```python\n",
    "\n",
    "tabla = pd.DataFrame(data)\n",
    "\n",
    "# Definir el tamaño de la muestra\n",
    "n = 3\n",
    "\n",
    "# Tomar una muestra aleatoria; random_state es para establecer reproductibilidad\n",
    "muestra = tabla.sample(n=n, random_state=42) "
   ]
  },
  {
   "cell_type": "markdown",
   "id": "23952dce-f25b-433d-83e4-79625f06d94b",
   "metadata": {},
   "source": [
    "<font color = 'DodgerBlue'>\n",
    "<font size = 5>\n",
    "\n",
    "---\n",
    "\n",
    "**Intervalo de confianza** para la **media poblacional** con **varianza** conocida (**población normal**)"
   ]
  },
  {
   "cell_type": "markdown",
   "id": "fcda6559-4af2-4f44-8f56-3352f811680d",
   "metadata": {},
   "source": [
    "<font color = 'Black'>\n",
    "<font size = 3>\n",
    "    \n",
    "Supongamos que queremos medir el valor promedio de la característica $X$ de cierta población, donde $X$ es **una gaussiana con media $\\mu$ desconocida pero varianza poblacional $\\sigma$ conocida.** Es decir, queremos hallar $\\mu$.\n",
    "\n",
    "Tomemos una muestra de tamaño $n$. Sean $X_1$, $X_2$,...,$X_n$ los valores de la característica $X$ en esa muestra. Un intervalo de confianza con significancia $\\alpha$ para la media $\\mu$, conociendo la desviación poblacional $\\sigma$, es $$\\left(\\overline{X_n}-Z_{1-\\frac{\\alpha}{2}}\\frac{\\sigma}{\\sqrt{n}},\\overline{X_n}+Z_{1-\\frac{\\alpha}{2}}\\frac{\\sigma}{\\sqrt{n}}\\right),$$\n",
    "\n",
    "donde $Z_{1-\\frac{\\alpha}{2}}$ tiene los siguientes valores:\n",
    "\n",
    "$\\alpha$|1-$\\alpha$|$Z_{1-\\alpha/2}$\n",
    "--|--|--\n",
    "0.1|0.90|1.645\n",
    "0.05|0.95|1.96\n",
    "0.01|0.99|2.575\n",
    "\n",
    "En la siguiente imagen se un poco el significado geométrico de la $\\alpha$.\n",
    "\n",
    "<img src=\"Data/exp_z.jpg\">\n",
    "\n",
    "---"
   ]
  },
  {
   "cell_type": "markdown",
   "id": "cd1fcbf4-3149-4017-b79a-1462e16ef54e",
   "metadata": {},
   "source": [
    "<font color = 'Black'>\n",
    "<font size = 3>\n",
    "    \n",
    "Con lo visto hasta ahora, el cálculo del intervalo de confianza puede ser algo tedioso y para eso hacemos el uso de Python para calcularlo con el siguiente código:\n",
    "\n",
    "```python\n",
    "import numpy as np\n",
    "from scipy.stats import norm\n",
    "\n",
    "# Parámetros\n",
    "media_muestral = 50  # media muestral\n",
    "sigma = 10           # desviación estándar de la población\n",
    "n = 30               # tamaño de la muestra\n",
    "alpha = 0.05         # nivel de significancia para el 95% de confianza\n",
    "\n",
    "# Cálculo del valor crítico Z\n",
    "Z = norm.ppf(1 - alpha / 2)\n",
    "\n",
    "# Cálculo del margen de error\n",
    "margen_error = Z * (sigma / np.sqrt(n))\n",
    "\n",
    "# Cálculo del intervalo de confianza\n",
    "IC_inferior = media_muestral - margen_error\n",
    "IC_superior = media_muestral + margen_error\n",
    "\n",
    "# Mostrar los resultados\n",
    "print(f\"Intervalo de confianza para la media: ({IC_inferior:.2f}, {IC_superior:.2f})\")\n",
    "```"
   ]
  },
  {
   "cell_type": "code",
   "execution_count": 9,
   "id": "88069745-2db6-45ea-8404-03b5e247bf79",
   "metadata": {},
   "outputs": [
    {
     "name": "stdout",
     "output_type": "stream",
     "text": [
      "El valor de Z es: 1.959963984540054\n",
      "El margen de error fue de: 3.5783882874343145\n",
      "Intervalo de confianza para la media: (46.42, 53.58)\n"
     ]
    }
   ],
   "source": [
    "import numpy as np\n",
    "from scipy.stats import norm\n",
    "\n",
    "# Parámetros\n",
    "media_muestral = 50  # media muestral\n",
    "sigma = 10           # desviación estándar de la población\n",
    "n = 30               # tamaño de la muestra\n",
    "alpha = 0.05         # nivel de significancia para el 95% de confianza\n",
    "\n",
    "# Cálculo del valor crítico Z\n",
    "Z = norm.ppf(1 - alpha / 2)\n",
    "print(f\"El valor de Z es: {Z}\")\n",
    "\n",
    "# Cálculo del margen de error\n",
    "margen_error = Z * (sigma / np.sqrt(n))\n",
    "print(f\"El margen de error fue de: {margen_error}\")\n",
    "\n",
    "# Cálculo del intervalo de confianza\n",
    "IC_inferior = media_muestral - margen_error\n",
    "IC_superior = media_muestral + margen_error\n",
    "\n",
    "# Mostrar los resultados\n",
    "print(f\"Intervalo de confianza para la media: ({IC_inferior:.2f}, {IC_superior:.2f})\")"
   ]
  },
  {
   "cell_type": "markdown",
   "id": "3477aa8b-1458-4957-b6f6-0ef3b5b71d90",
   "metadata": {},
   "source": [
    "<font color = 'DodgerBlue'>\n",
    "<font size = 5>\n",
    "\n",
    "---\n",
    "\n",
    "**Sustento teórico**"
   ]
  },
  {
   "cell_type": "markdown",
   "id": "abc4c0f8-d2fd-4f6f-8df1-fbaaac7e8aeb",
   "metadata": {},
   "source": [
    "<font color = 'Black'>\n",
    "<font size = 3>\n",
    "    \n",
    "El sustento teorico del por qué el intervalo de confianza tiene la forma que se mostró en el caso de población gaussiana con desviación conocida y media desconocida es el siguiente resultado que vimos en la sección de variables aleatorias gaussianas:\n",
    "\n",
    "Si $X_1,X_2,...,X_n$ son gaussianas independientes, todas con media $\\mu$ y desviación $\\sigma$, y $\\overline{X}=(X_1+X_2+...+X_n)/n$, entonces \n",
    "\n",
    "$$\\frac{\\overline{X}-\\mu}{\\sigma/\\sqrt{n}}\\sim N(0,1)$$\n",
    "\n",
    "Es decir, es una **gaussiana** ($N$), con **media** $= 0$ y **desviación** $= 1$.\n",
    "\n",
    "---"
   ]
  },
  {
   "cell_type": "markdown",
   "id": "f1cee1ed-68c7-4f87-b9f0-2c7c96336c58",
   "metadata": {},
   "source": [
    "<font color = 'LightSeaGreen'>\n",
    "<font size = 3>\n",
    "\n",
    "**Ejemplo 1.**"
   ]
  },
  {
   "cell_type": "markdown",
   "id": "ff6bd71c-4654-4f2d-b256-94d1ada7bcd1",
   "metadata": {},
   "source": [
    "<font color = 'LightSeaGreen'>\n",
    "<font size = 3>\n",
    "\n",
    "La tabla [tabla_poblacion_simulada.csv](https://github.com/scidatmath2020/Inferencia_Estadistica_2024/blob/main/data/tabla_poblacion_simulada.csv) es un dataframe de dos columnas, ambas de una característica de tipo gaussiana tomadas de una población de tamaño 10,000 y de las cuales desconocemos el valor de la media de la población. \n",
    "\n",
    "En el caso de la desviación estándar de la columna *sd_4*, el valor es 4.\n",
    "\n",
    "1. Toma una muestra de tamaño 25 y calcula el intervalo de confianza al 95% de la media poblacional.\n",
    "\n",
    "2. El valor verdadero de la media poblacional es 20. Toma 1000 muestras de tamaño 25; construye el intervalo de confianza al 99% para cada una de esas muestras y verifica que aproximadamente en el 99% de los casos la media poblacional se encuentra en el intervalo de confianza."
   ]
  },
  {
   "cell_type": "markdown",
   "id": "ed2bd090-0829-4e8e-a46a-22aa43364ead",
   "metadata": {},
   "source": [
    "<font color = 'Brown'>\n",
    "<font size = 4>\n",
    "\n",
    "---\n",
    "    \n",
    "**Notas**"
   ]
  },
  {
   "cell_type": "markdown",
   "id": "963d5912-11d1-4a67-88e3-aa364f612299",
   "metadata": {},
   "source": [
    "<font color = 'DarkRed'>\n",
    "<font size = 3>\n",
    "\n",
    "- Entre más confianza necesites, vas a necesitar que el intervalo de confianza sea cada vez más grande.\n",
    "- A mayor confianza, para poder asegurarte que el parámetro va estar en el intervalo, el intervalo debe crecer.\n",
    "- Si quisieras tener una confianza del $100\\%$ (certeza), el intervalo se convierte en toda la recta de los números $\\mathbb{R}$. Es por eso que nunca llegas al $100\\%$ de confianza ya que el intervalo son todos los valores posibles.\n",
    "- Para confianzas pequeñas el intervalo es pequeño, pero no da nada de información.\n",
    "- Tú decides con qué confianza trabajar. En medicina ocupan mucho el $99\\%$ porque necesitas tener mucha seguridad.\n",
    "- El **parámetro poblacional** no puede cambiar, es el valor verdadero y por eso está fijo.\n",
    "- El **intervalo de confianza** cambia y depende de la **muestra**.\n",
    "- La $\\alpha$ puede tomar cualquier valor. Es decir, $\\alpha \\in [0,1]$.\n",
    "- La **media poblacional** nunca la vas a conocer.\n",
    "- Si nos tomamos varias **gaussianas** su **promedio** va seguir siendo gaussiano. \n",
    "\n",
    "---"
   ]
  },
  {
   "cell_type": "code",
   "execution_count": null,
   "id": "42a740e3-d6cc-4f69-b331-c1d6d197c8f0",
   "metadata": {},
   "outputs": [],
   "source": [
    "# Video sesion 17 min 42:00"
   ]
  }
 ],
 "metadata": {
  "kernelspec": {
   "display_name": "Python 3 (ipykernel)",
   "language": "python",
   "name": "python3"
  },
  "language_info": {
   "codemirror_mode": {
    "name": "ipython",
    "version": 3
   },
   "file_extension": ".py",
   "mimetype": "text/x-python",
   "name": "python",
   "nbconvert_exporter": "python",
   "pygments_lexer": "ipython3",
   "version": "3.10.15"
  }
 },
 "nbformat": 4,
 "nbformat_minor": 5
}
