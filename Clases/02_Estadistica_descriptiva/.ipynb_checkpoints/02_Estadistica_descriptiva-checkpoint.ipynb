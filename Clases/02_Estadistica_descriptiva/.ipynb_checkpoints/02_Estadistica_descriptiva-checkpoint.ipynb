{
 "cells": [
  {
   "cell_type": "markdown",
   "id": "26c4c902-9672-4355-aa3c-c11f11569eb5",
   "metadata": {},
   "source": [
    "<font color='IndianRed'>\n",
    "<font size=9> \n",
    "\n",
    "**Curso Inferencia Estadística**"
   ]
  },
  {
   "cell_type": "markdown",
   "id": "69df02d8-80b4-4b63-9438-5c5edd92d21b",
   "metadata": {},
   "source": [
    "<font color = 'slateblue'>\n",
    "<font size = 5>\n",
    "    \n",
    "**Estadística descriptiva**"
   ]
  },
  {
   "cell_type": "markdown",
   "id": "e6b3a0b6-8203-4bcc-9f1f-d1e95b0f95ec",
   "metadata": {},
   "source": [
    "<font color = 'Black'>\n",
    "<font size = 3>\n",
    "\n",
    "La **estadística descriptiva** es el proceso de resumir la información mediante el uso de varias **métricas** (**estadístico**)."
   ]
  },
  {
   "cell_type": "markdown",
   "id": "158b5905-d0f2-4119-923f-77f2b31fb9b8",
   "metadata": {},
   "source": [
    "<font color = 'DodgerBlue'>\n",
    "<font size = 5>\n",
    "    \n",
    "**Tablas de frecuencias**"
   ]
  },
  {
   "cell_type": "markdown",
   "id": "427baf80-44c9-4bdb-ae4e-b7347bcb6ce8",
   "metadata": {},
   "source": [
    "<font color = 'LightSeaGreen'>\n",
    "<font size = 3>\n",
    "\n",
    "En la siguiete imagen vemos una tabla de frencuencias. Consideremos una tabla de 50 estudiantes, donde tenemos la calificación de cada uno de ellos.\n",
    "\n",
    "![DatosObsDataF](Img/im008.png)\n",
    "\n",
    "Como se observa en la imagen, se necesita una mejor manera de resumir la información.\n",
    "\n",
    "- Una tabla de frecuencias es una tabla que divide los valores de una columna en algunas clases de cierto ancho y muestra cuántos elementos hay en cada una de dichas clases. A ese número se le denomina **frecuencia**.\n",
    "- La etiqueta de clase es el valor medio de cada clase.\n",
    "- Del total de datos, qué porcentaje representa el número 4, por ejemplo.\n",
    "- La frecuencia relativa acomulada representa que el procentaje de datos que se encuentra en cada clase. Es ir sumando 0.08+0.16=0.24\n",
    "\n",
    "| Clase   | Etiqueta de clase | Frecuencia | Frecuencia relativa| Frecuencia relativa acumulada |\n",
    "|---------|-------------|-----------|--------------------|------------------------------|\n",
    "| 0-20    | 10          | 4         | 0.08               | 0.08                         |\n",
    "| 20-40   | 30          | 8         | 0.16               | 0.24                         |\n",
    "| 40-60   | 50          | 17        | 0.34               | 0.58                         |\n",
    "| 60-80   | 70          | 14        | 0.28               | 0.86                         |\n",
    "| 80-100  | 90          | 7         | 0.14               | 1.00                         |"
   ]
  },
  {
   "cell_type": "markdown",
   "id": "8fa922dd-07e4-4cf3-a905-32cb8fb8ff19",
   "metadata": {},
   "source": [
    "<font color = 'Brown'>\n",
    "<font size = 4>\n",
    "    \n",
    "**Notas**"
   ]
  },
  {
   "cell_type": "markdown",
   "id": "8b8fcf55-522f-4386-94dc-2b37b4ae9e0a",
   "metadata": {},
   "source": [
    "<font color = 'DarkRed'>\n",
    "<font size = 3>\n",
    "\n",
    "- El **estadístico** es un valor representativo de una **muestra**.\n",
    "- El **estadístico** resume la información."
   ]
  },
  {
   "cell_type": "markdown",
   "id": "d1a2fd70-f36c-427f-8ad0-e18325cbd3b3",
   "metadata": {},
   "source": [
    "<font color = 'deepskyblue'>\n",
    "<font size = 5>\n",
    "Librerías"
   ]
  },
  {
   "cell_type": "code",
   "execution_count": 1,
   "id": "f42a864e-d27c-42d4-a3a3-c5b602c50792",
   "metadata": {},
   "outputs": [],
   "source": [
    "# Importamos las librerías que ocupamos\n",
    "import pandas as pd\n",
    "import numpy as np\n",
    "from plotnine import *\n",
    "import os"
   ]
  },
  {
   "cell_type": "code",
   "execution_count": 2,
   "id": "97ae2995-0a88-48d4-8e0b-708ecf4827a8",
   "metadata": {},
   "outputs": [
    {
     "data": {
      "text/plain": [
       "'/home/zick13/Documentos/Developer/Courses/Curso_Inferencia_Estadistica/Clases/02_Estadistica_descriptiva'"
      ]
     },
     "execution_count": 2,
     "metadata": {},
     "output_type": "execute_result"
    }
   ],
   "source": [
    "# Obtenemos la ruta del notebook\n",
    "os.getcwd() "
   ]
  },
  {
   "cell_type": "code",
   "execution_count": 3,
   "id": "58ebf860-288b-4f06-baee-cdf56e58fc6c",
   "metadata": {},
   "outputs": [],
   "source": [
    "os.chdir(\"/home/zick13/Documentos/Developer/Courses/Curso_Inferencia_Estadistica/Clases/02_Estadistica_descriptiva\")"
   ]
  },
  {
   "cell_type": "markdown",
   "id": "b8d2df5f-b1bf-41ec-95d5-ade577762f02",
   "metadata": {},
   "source": [
    "<font color = 'deepskyblue'>\n",
    "<font size = 5>\n",
    "Lectura de los datos"
   ]
  },
  {
   "cell_type": "code",
   "execution_count": 4,
   "id": "928c4082-98ec-40ea-a046-84ce410c31f2",
   "metadata": {},
   "outputs": [],
   "source": [
    "# Importamos el data set\n",
    "df_calif = pd.read_csv('Data/calif_estudiantes1.csv')"
   ]
  },
  {
   "cell_type": "code",
   "execution_count": 5,
   "id": "56289be3-a340-4548-9ad8-0c9bc9c8cd91",
   "metadata": {
    "scrolled": true
   },
   "outputs": [
    {
     "data": {
      "text/html": [
       "<div>\n",
       "<style scoped>\n",
       "    .dataframe tbody tr th:only-of-type {\n",
       "        vertical-align: middle;\n",
       "    }\n",
       "\n",
       "    .dataframe tbody tr th {\n",
       "        vertical-align: top;\n",
       "    }\n",
       "\n",
       "    .dataframe thead th {\n",
       "        text-align: right;\n",
       "    }\n",
       "</style>\n",
       "<table border=\"1\" class=\"dataframe\">\n",
       "  <thead>\n",
       "    <tr style=\"text-align: right;\">\n",
       "      <th></th>\n",
       "      <th>studentID</th>\n",
       "      <th>exam_score</th>\n",
       "    </tr>\n",
       "  </thead>\n",
       "  <tbody>\n",
       "    <tr>\n",
       "      <th>0</th>\n",
       "      <td>10001</td>\n",
       "      <td>80</td>\n",
       "    </tr>\n",
       "    <tr>\n",
       "      <th>1</th>\n",
       "      <td>10002</td>\n",
       "      <td>50</td>\n",
       "    </tr>\n",
       "    <tr>\n",
       "      <th>2</th>\n",
       "      <td>10003</td>\n",
       "      <td>60</td>\n",
       "    </tr>\n",
       "    <tr>\n",
       "      <th>3</th>\n",
       "      <td>10004</td>\n",
       "      <td>70</td>\n",
       "    </tr>\n",
       "    <tr>\n",
       "      <th>4</th>\n",
       "      <td>10005</td>\n",
       "      <td>80</td>\n",
       "    </tr>\n",
       "    <tr>\n",
       "      <th>5</th>\n",
       "      <td>10006</td>\n",
       "      <td>10</td>\n",
       "    </tr>\n",
       "    <tr>\n",
       "      <th>6</th>\n",
       "      <td>10007</td>\n",
       "      <td>38</td>\n",
       "    </tr>\n",
       "    <tr>\n",
       "      <th>7</th>\n",
       "      <td>10008</td>\n",
       "      <td>55</td>\n",
       "    </tr>\n",
       "    <tr>\n",
       "      <th>8</th>\n",
       "      <td>10009</td>\n",
       "      <td>35</td>\n",
       "    </tr>\n",
       "    <tr>\n",
       "      <th>9</th>\n",
       "      <td>10010</td>\n",
       "      <td>50</td>\n",
       "    </tr>\n",
       "    <tr>\n",
       "      <th>10</th>\n",
       "      <td>10011</td>\n",
       "      <td>45</td>\n",
       "    </tr>\n",
       "    <tr>\n",
       "      <th>11</th>\n",
       "      <td>10012</td>\n",
       "      <td>50</td>\n",
       "    </tr>\n",
       "    <tr>\n",
       "      <th>12</th>\n",
       "      <td>10013</td>\n",
       "      <td>65</td>\n",
       "    </tr>\n",
       "    <tr>\n",
       "      <th>13</th>\n",
       "      <td>10014</td>\n",
       "      <td>45</td>\n",
       "    </tr>\n",
       "    <tr>\n",
       "      <th>14</th>\n",
       "      <td>10015</td>\n",
       "      <td>30</td>\n",
       "    </tr>\n",
       "    <tr>\n",
       "      <th>15</th>\n",
       "      <td>10016</td>\n",
       "      <td>44</td>\n",
       "    </tr>\n",
       "    <tr>\n",
       "      <th>16</th>\n",
       "      <td>10017</td>\n",
       "      <td>58</td>\n",
       "    </tr>\n",
       "    <tr>\n",
       "      <th>17</th>\n",
       "      <td>10018</td>\n",
       "      <td>45</td>\n",
       "    </tr>\n",
       "    <tr>\n",
       "      <th>18</th>\n",
       "      <td>10019</td>\n",
       "      <td>55</td>\n",
       "    </tr>\n",
       "    <tr>\n",
       "      <th>19</th>\n",
       "      <td>10020</td>\n",
       "      <td>50</td>\n",
       "    </tr>\n",
       "    <tr>\n",
       "      <th>20</th>\n",
       "      <td>10021</td>\n",
       "      <td>35</td>\n",
       "    </tr>\n",
       "    <tr>\n",
       "      <th>21</th>\n",
       "      <td>10022</td>\n",
       "      <td>90</td>\n",
       "    </tr>\n",
       "    <tr>\n",
       "      <th>22</th>\n",
       "      <td>10023</td>\n",
       "      <td>55</td>\n",
       "    </tr>\n",
       "    <tr>\n",
       "      <th>23</th>\n",
       "      <td>10024</td>\n",
       "      <td>60</td>\n",
       "    </tr>\n",
       "    <tr>\n",
       "      <th>24</th>\n",
       "      <td>10025</td>\n",
       "      <td>25</td>\n",
       "    </tr>\n",
       "    <tr>\n",
       "      <th>25</th>\n",
       "      <td>10026</td>\n",
       "      <td>50</td>\n",
       "    </tr>\n",
       "    <tr>\n",
       "      <th>26</th>\n",
       "      <td>10027</td>\n",
       "      <td>40</td>\n",
       "    </tr>\n",
       "    <tr>\n",
       "      <th>27</th>\n",
       "      <td>10028</td>\n",
       "      <td>68</td>\n",
       "    </tr>\n",
       "    <tr>\n",
       "      <th>28</th>\n",
       "      <td>10029</td>\n",
       "      <td>20</td>\n",
       "    </tr>\n",
       "    <tr>\n",
       "      <th>29</th>\n",
       "      <td>10030</td>\n",
       "      <td>75</td>\n",
       "    </tr>\n",
       "    <tr>\n",
       "      <th>30</th>\n",
       "      <td>10031</td>\n",
       "      <td>50</td>\n",
       "    </tr>\n",
       "    <tr>\n",
       "      <th>31</th>\n",
       "      <td>10032</td>\n",
       "      <td>60</td>\n",
       "    </tr>\n",
       "    <tr>\n",
       "      <th>32</th>\n",
       "      <td>10033</td>\n",
       "      <td>78</td>\n",
       "    </tr>\n",
       "    <tr>\n",
       "      <th>33</th>\n",
       "      <td>10034</td>\n",
       "      <td>95</td>\n",
       "    </tr>\n",
       "    <tr>\n",
       "      <th>34</th>\n",
       "      <td>10035</td>\n",
       "      <td>85</td>\n",
       "    </tr>\n",
       "    <tr>\n",
       "      <th>35</th>\n",
       "      <td>10036</td>\n",
       "      <td>56</td>\n",
       "    </tr>\n",
       "    <tr>\n",
       "      <th>36</th>\n",
       "      <td>10037</td>\n",
       "      <td>40</td>\n",
       "    </tr>\n",
       "    <tr>\n",
       "      <th>37</th>\n",
       "      <td>10038</td>\n",
       "      <td>10</td>\n",
       "    </tr>\n",
       "    <tr>\n",
       "      <th>38</th>\n",
       "      <td>10039</td>\n",
       "      <td>65</td>\n",
       "    </tr>\n",
       "    <tr>\n",
       "      <th>39</th>\n",
       "      <td>10040</td>\n",
       "      <td>60</td>\n",
       "    </tr>\n",
       "    <tr>\n",
       "      <th>40</th>\n",
       "      <td>10041</td>\n",
       "      <td>15</td>\n",
       "    </tr>\n",
       "    <tr>\n",
       "      <th>41</th>\n",
       "      <td>10042</td>\n",
       "      <td>70</td>\n",
       "    </tr>\n",
       "    <tr>\n",
       "      <th>42</th>\n",
       "      <td>10043</td>\n",
       "      <td>36</td>\n",
       "    </tr>\n",
       "    <tr>\n",
       "      <th>43</th>\n",
       "      <td>10044</td>\n",
       "      <td>70</td>\n",
       "    </tr>\n",
       "    <tr>\n",
       "      <th>44</th>\n",
       "      <td>10045</td>\n",
       "      <td>30</td>\n",
       "    </tr>\n",
       "    <tr>\n",
       "      <th>45</th>\n",
       "      <td>10046</td>\n",
       "      <td>90</td>\n",
       "    </tr>\n",
       "    <tr>\n",
       "      <th>46</th>\n",
       "      <td>10047</td>\n",
       "      <td>75</td>\n",
       "    </tr>\n",
       "    <tr>\n",
       "      <th>47</th>\n",
       "      <td>10048</td>\n",
       "      <td>15</td>\n",
       "    </tr>\n",
       "    <tr>\n",
       "      <th>48</th>\n",
       "      <td>10049</td>\n",
       "      <td>66</td>\n",
       "    </tr>\n",
       "    <tr>\n",
       "      <th>49</th>\n",
       "      <td>10050</td>\n",
       "      <td>85</td>\n",
       "    </tr>\n",
       "  </tbody>\n",
       "</table>\n",
       "</div>"
      ],
      "text/plain": [
       "    studentID  exam_score\n",
       "0       10001          80\n",
       "1       10002          50\n",
       "2       10003          60\n",
       "3       10004          70\n",
       "4       10005          80\n",
       "5       10006          10\n",
       "6       10007          38\n",
       "7       10008          55\n",
       "8       10009          35\n",
       "9       10010          50\n",
       "10      10011          45\n",
       "11      10012          50\n",
       "12      10013          65\n",
       "13      10014          45\n",
       "14      10015          30\n",
       "15      10016          44\n",
       "16      10017          58\n",
       "17      10018          45\n",
       "18      10019          55\n",
       "19      10020          50\n",
       "20      10021          35\n",
       "21      10022          90\n",
       "22      10023          55\n",
       "23      10024          60\n",
       "24      10025          25\n",
       "25      10026          50\n",
       "26      10027          40\n",
       "27      10028          68\n",
       "28      10029          20\n",
       "29      10030          75\n",
       "30      10031          50\n",
       "31      10032          60\n",
       "32      10033          78\n",
       "33      10034          95\n",
       "34      10035          85\n",
       "35      10036          56\n",
       "36      10037          40\n",
       "37      10038          10\n",
       "38      10039          65\n",
       "39      10040          60\n",
       "40      10041          15\n",
       "41      10042          70\n",
       "42      10043          36\n",
       "43      10044          70\n",
       "44      10045          30\n",
       "45      10046          90\n",
       "46      10047          75\n",
       "47      10048          15\n",
       "48      10049          66\n",
       "49      10050          85"
      ]
     },
     "execution_count": 5,
     "metadata": {},
     "output_type": "execute_result"
    }
   ],
   "source": [
    "# Se muestra el dataframe para ver si cargó de manera exitosa\n",
    "df_calif"
   ]
  },
  {
   "cell_type": "code",
   "execution_count": 6,
   "id": "13f8e860-493c-4169-ac4c-5b22c7a9bf75",
   "metadata": {},
   "outputs": [
    {
     "data": {
      "text/html": [
       "<div>\n",
       "<style scoped>\n",
       "    .dataframe tbody tr th:only-of-type {\n",
       "        vertical-align: middle;\n",
       "    }\n",
       "\n",
       "    .dataframe tbody tr th {\n",
       "        vertical-align: top;\n",
       "    }\n",
       "\n",
       "    .dataframe thead th {\n",
       "        text-align: right;\n",
       "    }\n",
       "</style>\n",
       "<table border=\"1\" class=\"dataframe\">\n",
       "  <thead>\n",
       "    <tr style=\"text-align: right;\">\n",
       "      <th></th>\n",
       "      <th>studentID</th>\n",
       "      <th>exam_score</th>\n",
       "    </tr>\n",
       "  </thead>\n",
       "  <tbody>\n",
       "    <tr>\n",
       "      <th>0</th>\n",
       "      <td>10001</td>\n",
       "      <td>80</td>\n",
       "    </tr>\n",
       "    <tr>\n",
       "      <th>1</th>\n",
       "      <td>10002</td>\n",
       "      <td>50</td>\n",
       "    </tr>\n",
       "    <tr>\n",
       "      <th>2</th>\n",
       "      <td>10003</td>\n",
       "      <td>60</td>\n",
       "    </tr>\n",
       "    <tr>\n",
       "      <th>3</th>\n",
       "      <td>10004</td>\n",
       "      <td>70</td>\n",
       "    </tr>\n",
       "    <tr>\n",
       "      <th>4</th>\n",
       "      <td>10005</td>\n",
       "      <td>80</td>\n",
       "    </tr>\n",
       "  </tbody>\n",
       "</table>\n",
       "</div>"
      ],
      "text/plain": [
       "   studentID  exam_score\n",
       "0      10001          80\n",
       "1      10002          50\n",
       "2      10003          60\n",
       "3      10004          70\n",
       "4      10005          80"
      ]
     },
     "execution_count": 6,
     "metadata": {},
     "output_type": "execute_result"
    }
   ],
   "source": [
    "# Imprimimos las primeras 5 filas del data set para verificar si cargaron exitosamente\n",
    "df_calif.head()"
   ]
  },
  {
   "cell_type": "code",
   "execution_count": 7,
   "id": "b27954ae-7c36-48d0-ac63-be44a734f74b",
   "metadata": {
    "scrolled": true
   },
   "outputs": [
    {
     "data": {
      "text/html": [
       "<div>\n",
       "<style scoped>\n",
       "    .dataframe tbody tr th:only-of-type {\n",
       "        vertical-align: middle;\n",
       "    }\n",
       "\n",
       "    .dataframe tbody tr th {\n",
       "        vertical-align: top;\n",
       "    }\n",
       "\n",
       "    .dataframe thead th {\n",
       "        text-align: right;\n",
       "    }\n",
       "</style>\n",
       "<table border=\"1\" class=\"dataframe\">\n",
       "  <thead>\n",
       "    <tr style=\"text-align: right;\">\n",
       "      <th></th>\n",
       "      <th>studentID</th>\n",
       "      <th>exam_score</th>\n",
       "    </tr>\n",
       "  </thead>\n",
       "  <tbody>\n",
       "    <tr>\n",
       "      <th>45</th>\n",
       "      <td>10046</td>\n",
       "      <td>90</td>\n",
       "    </tr>\n",
       "    <tr>\n",
       "      <th>46</th>\n",
       "      <td>10047</td>\n",
       "      <td>75</td>\n",
       "    </tr>\n",
       "    <tr>\n",
       "      <th>47</th>\n",
       "      <td>10048</td>\n",
       "      <td>15</td>\n",
       "    </tr>\n",
       "    <tr>\n",
       "      <th>48</th>\n",
       "      <td>10049</td>\n",
       "      <td>66</td>\n",
       "    </tr>\n",
       "    <tr>\n",
       "      <th>49</th>\n",
       "      <td>10050</td>\n",
       "      <td>85</td>\n",
       "    </tr>\n",
       "  </tbody>\n",
       "</table>\n",
       "</div>"
      ],
      "text/plain": [
       "    studentID  exam_score\n",
       "45      10046          90\n",
       "46      10047          75\n",
       "47      10048          15\n",
       "48      10049          66\n",
       "49      10050          85"
      ]
     },
     "execution_count": 7,
     "metadata": {},
     "output_type": "execute_result"
    }
   ],
   "source": [
    "# Imprimimos las ultimas filas del dataframe para inspeccionar los datos\n",
    "df_calif.tail()"
   ]
  },
  {
   "cell_type": "code",
   "execution_count": 8,
   "id": "497abf6c-e814-4d98-8d7c-6867e0bff955",
   "metadata": {},
   "outputs": [
    {
     "data": {
      "text/plain": [
       "(50, 2)"
      ]
     },
     "execution_count": 8,
     "metadata": {},
     "output_type": "execute_result"
    }
   ],
   "source": [
    "# Imprimimos las dimensiones del data set (rows, columns)\n",
    "df_calif.shape"
   ]
  },
  {
   "cell_type": "code",
   "execution_count": 9,
   "id": "55fe7848-71a7-40ea-8ff8-54c8344cb38a",
   "metadata": {},
   "outputs": [
    {
     "data": {
      "text/plain": [
       "Index(['studentID', 'exam_score'], dtype='object')"
      ]
     },
     "execution_count": 9,
     "metadata": {},
     "output_type": "execute_result"
    }
   ],
   "source": [
    "# Muestra el nombre de las columnas\n",
    "df_calif.columns"
   ]
  },
  {
   "cell_type": "code",
   "execution_count": 10,
   "id": "e0288081-82ee-47d0-865a-80d134c124ca",
   "metadata": {},
   "outputs": [],
   "source": [
    "# Obtenemos la columna de nuestro interés. En este caso es la columna exam_score\n",
    "columna = \"exam_score\""
   ]
  },
  {
   "cell_type": "code",
   "execution_count": 11,
   "id": "780a9574-f07a-40cb-9d68-38a7569856f0",
   "metadata": {},
   "outputs": [
    {
     "data": {
      "text/plain": [
       "'exam_score'"
      ]
     },
     "execution_count": 11,
     "metadata": {},
     "output_type": "execute_result"
    }
   ],
   "source": [
    "# Se muestra la columna de interés\n",
    "columna"
   ]
  },
  {
   "cell_type": "markdown",
   "id": "fee5c784-0909-4923-895b-e9f7cf1ce8ca",
   "metadata": {},
   "source": [
    "<font color = 'deepskyblue'>\n",
    "<font size = 5>\n",
    "Personalización de la tabla de frecuencias"
   ]
  },
  {
   "cell_type": "code",
   "execution_count": 12,
   "id": "3c08b551-2ba0-4ece-a15c-b2f021ccacc0",
   "metadata": {},
   "outputs": [],
   "source": [
    "# Crea los intervalos (clases) manual\n",
    "bins = [0, 20, 40, 60, 80, 100] # límites de los paquetes"
   ]
  },
  {
   "cell_type": "code",
   "execution_count": 13,
   "id": "158ebdb4-3973-47b3-8984-fcf40cce0798",
   "metadata": {},
   "outputs": [
    {
     "data": {
      "text/plain": [
       "[0, 20, 40, 60, 80, 100]"
      ]
     },
     "execution_count": 13,
     "metadata": {},
     "output_type": "execute_result"
    }
   ],
   "source": [
    "bins"
   ]
  },
  {
   "cell_type": "code",
   "execution_count": 14,
   "id": "6ce75318-8691-4d37-860b-e8f899907867",
   "metadata": {},
   "outputs": [],
   "source": [
    "# Crea los nombres de las clases\n",
    "labels = [f\"{bins[x]} - {bins[x + 1]}\" for x in range(0, len(bins) - 1)]"
   ]
  },
  {
   "cell_type": "code",
   "execution_count": 15,
   "id": "93281017-5c10-4bb6-8757-422c9e31ac4d",
   "metadata": {
    "scrolled": true
   },
   "outputs": [
    {
     "data": {
      "text/plain": [
       "<bound method NDFrame.describe of     studentID  exam_score\n",
       "0       10001          80\n",
       "1       10002          50\n",
       "2       10003          60\n",
       "3       10004          70\n",
       "4       10005          80\n",
       "5       10006          10\n",
       "6       10007          38\n",
       "7       10008          55\n",
       "8       10009          35\n",
       "9       10010          50\n",
       "10      10011          45\n",
       "11      10012          50\n",
       "12      10013          65\n",
       "13      10014          45\n",
       "14      10015          30\n",
       "15      10016          44\n",
       "16      10017          58\n",
       "17      10018          45\n",
       "18      10019          55\n",
       "19      10020          50\n",
       "20      10021          35\n",
       "21      10022          90\n",
       "22      10023          55\n",
       "23      10024          60\n",
       "24      10025          25\n",
       "25      10026          50\n",
       "26      10027          40\n",
       "27      10028          68\n",
       "28      10029          20\n",
       "29      10030          75\n",
       "30      10031          50\n",
       "31      10032          60\n",
       "32      10033          78\n",
       "33      10034          95\n",
       "34      10035          85\n",
       "35      10036          56\n",
       "36      10037          40\n",
       "37      10038          10\n",
       "38      10039          65\n",
       "39      10040          60\n",
       "40      10041          15\n",
       "41      10042          70\n",
       "42      10043          36\n",
       "43      10044          70\n",
       "44      10045          30\n",
       "45      10046          90\n",
       "46      10047          75\n",
       "47      10048          15\n",
       "48      10049          66\n",
       "49      10050          85>"
      ]
     },
     "execution_count": 15,
     "metadata": {},
     "output_type": "execute_result"
    }
   ],
   "source": [
    "df_calif.describe"
   ]
  },
  {
   "cell_type": "code",
   "execution_count": 16,
   "id": "0a126640-e6fd-4530-9b68-4e5205d043fd",
   "metadata": {},
   "outputs": [
    {
     "data": {
      "text/plain": [
       "['0 - 20', '20 - 40', '40 - 60', '60 - 80', '80 - 100']"
      ]
     },
     "execution_count": 16,
     "metadata": {},
     "output_type": "execute_result"
    }
   ],
   "source": [
    "# Se muestran los labels\n",
    "labels"
   ]
  },
  {
   "cell_type": "code",
   "execution_count": 17,
   "id": "a60249c0-b27c-4c1c-9aff-886edde3cd04",
   "metadata": {
    "scrolled": true
   },
   "outputs": [
    {
     "data": {
      "text/plain": [
       "0     80 - 100\n",
       "1      40 - 60\n",
       "2      60 - 80\n",
       "3      60 - 80\n",
       "4     80 - 100\n",
       "5       0 - 20\n",
       "6      20 - 40\n",
       "7      40 - 60\n",
       "8      20 - 40\n",
       "9      40 - 60\n",
       "10     40 - 60\n",
       "11     40 - 60\n",
       "12     60 - 80\n",
       "13     40 - 60\n",
       "14     20 - 40\n",
       "15     40 - 60\n",
       "16     40 - 60\n",
       "17     40 - 60\n",
       "18     40 - 60\n",
       "19     40 - 60\n",
       "20     20 - 40\n",
       "21    80 - 100\n",
       "22     40 - 60\n",
       "23     60 - 80\n",
       "24     20 - 40\n",
       "25     40 - 60\n",
       "26     40 - 60\n",
       "27     60 - 80\n",
       "28     20 - 40\n",
       "29     60 - 80\n",
       "30     40 - 60\n",
       "31     60 - 80\n",
       "32     60 - 80\n",
       "33    80 - 100\n",
       "34    80 - 100\n",
       "35     40 - 60\n",
       "36     40 - 60\n",
       "37      0 - 20\n",
       "38     60 - 80\n",
       "39     60 - 80\n",
       "40      0 - 20\n",
       "41     60 - 80\n",
       "42     20 - 40\n",
       "43     60 - 80\n",
       "44     20 - 40\n",
       "45    80 - 100\n",
       "46     60 - 80\n",
       "47      0 - 20\n",
       "48     60 - 80\n",
       "49    80 - 100\n",
       "Name: Class, dtype: category\n",
       "Categories (5, object): ['0 - 20' < '20 - 40' < '40 - 60' < '60 - 80' < '80 - 100']"
      ]
     },
     "execution_count": 17,
     "metadata": {},
     "output_type": "execute_result"
    }
   ],
   "source": [
    "# Crea las clases\n",
    "df_calif['Class'] = pd.cut(df_calif[columna], bins = bins, labels = labels, right = False)\n",
    "df_calif['Class']"
   ]
  },
  {
   "cell_type": "code",
   "execution_count": 18,
   "id": "c7d8bf14-e479-4d54-a04a-9d536aef647e",
   "metadata": {},
   "outputs": [
    {
     "data": {
      "text/plain": [
       "[10.0, 30.0, 50.0, 70.0, 90.0]"
      ]
     },
     "execution_count": 18,
     "metadata": {},
     "output_type": "execute_result"
    }
   ],
   "source": [
    "# Crea las marcas de clase\n",
    "Class_value = [(bins[x] + bins[x + 1]) / 2 for x in range(0, len(bins) - 1)]\n",
    "Class_value"
   ]
  },
  {
   "cell_type": "code",
   "execution_count": 19,
   "id": "deb022bf-6b10-4355-93d1-393285a614c4",
   "metadata": {},
   "outputs": [
    {
     "data": {
      "text/plain": [
       "Class\n",
       "0 - 20       4\n",
       "20 - 40      8\n",
       "40 - 60     17\n",
       "60 - 80     14\n",
       "80 - 100     7\n",
       "Name: count, dtype: int64"
      ]
     },
     "execution_count": 19,
     "metadata": {},
     "output_type": "execute_result"
    }
   ],
   "source": [
    "# Calcula la frecuencia\n",
    "frequency = df_calif['Class'].value_counts(sort = False)\n",
    "frequency"
   ]
  },
  {
   "cell_type": "code",
   "execution_count": 20,
   "id": "ace3631e-e322-41a1-850e-28805baf80c0",
   "metadata": {},
   "outputs": [
    {
     "data": {
      "text/plain": [
       "Class\n",
       "0 - 20      0.08\n",
       "20 - 40     0.16\n",
       "40 - 60     0.34\n",
       "60 - 80     0.28\n",
       "80 - 100    0.14\n",
       "Name: count, dtype: float64"
      ]
     },
     "execution_count": 20,
     "metadata": {},
     "output_type": "execute_result"
    }
   ],
   "source": [
    "# Calcula la frecuencia relativa\n",
    "relative_frequency = frequency / frequency.sum()\n",
    "relative_frequency"
   ]
  },
  {
   "cell_type": "code",
   "execution_count": 21,
   "id": "22637f27-cf0e-4d76-8a82-055facdbe230",
   "metadata": {},
   "outputs": [
    {
     "data": {
      "text/plain": [
       "Class\n",
       "0 - 20      0.08\n",
       "20 - 40     0.24\n",
       "40 - 60     0.58\n",
       "60 - 80     0.86\n",
       "80 - 100    1.00\n",
       "Name: count, dtype: float64"
      ]
     },
     "execution_count": 21,
     "metadata": {},
     "output_type": "execute_result"
    }
   ],
   "source": [
    "# Calcula la frecuencia relativa acumulada\n",
    "cumulative_relative_frequency = relative_frequency.cumsum()\n",
    "cumulative_relative_frequency"
   ]
  },
  {
   "cell_type": "code",
   "execution_count": 22,
   "id": "5500e536-aa55-40c1-94e8-3def08fee763",
   "metadata": {},
   "outputs": [],
   "source": [
    "# Crea la tabla de frecuencias final\n",
    "table_v1 = pd.DataFrame({\n",
    "    'Class': labels,\n",
    "    'Class_value': Class_value,\n",
    "    'Frequency': frequency,\n",
    "    'Relative_frequency': relative_frequency,\n",
    "    'Cumulative_relative_frequency': cumulative_relative_frequency\n",
    "})"
   ]
  },
  {
   "cell_type": "code",
   "execution_count": 23,
   "id": "ae99d187-4052-4790-ad24-2c49abac457b",
   "metadata": {},
   "outputs": [
    {
     "data": {
      "text/html": [
       "<div>\n",
       "<style scoped>\n",
       "    .dataframe tbody tr th:only-of-type {\n",
       "        vertical-align: middle;\n",
       "    }\n",
       "\n",
       "    .dataframe tbody tr th {\n",
       "        vertical-align: top;\n",
       "    }\n",
       "\n",
       "    .dataframe thead th {\n",
       "        text-align: right;\n",
       "    }\n",
       "</style>\n",
       "<table border=\"1\" class=\"dataframe\">\n",
       "  <thead>\n",
       "    <tr style=\"text-align: right;\">\n",
       "      <th></th>\n",
       "      <th>Class</th>\n",
       "      <th>Class_value</th>\n",
       "      <th>Frequency</th>\n",
       "      <th>Relative_frequency</th>\n",
       "      <th>Cumulative_relative_frequency</th>\n",
       "    </tr>\n",
       "    <tr>\n",
       "      <th>Class</th>\n",
       "      <th></th>\n",
       "      <th></th>\n",
       "      <th></th>\n",
       "      <th></th>\n",
       "      <th></th>\n",
       "    </tr>\n",
       "  </thead>\n",
       "  <tbody>\n",
       "    <tr>\n",
       "      <th>0 - 20</th>\n",
       "      <td>0 - 20</td>\n",
       "      <td>10.0</td>\n",
       "      <td>4</td>\n",
       "      <td>0.08</td>\n",
       "      <td>0.08</td>\n",
       "    </tr>\n",
       "    <tr>\n",
       "      <th>20 - 40</th>\n",
       "      <td>20 - 40</td>\n",
       "      <td>30.0</td>\n",
       "      <td>8</td>\n",
       "      <td>0.16</td>\n",
       "      <td>0.24</td>\n",
       "    </tr>\n",
       "    <tr>\n",
       "      <th>40 - 60</th>\n",
       "      <td>40 - 60</td>\n",
       "      <td>50.0</td>\n",
       "      <td>17</td>\n",
       "      <td>0.34</td>\n",
       "      <td>0.58</td>\n",
       "    </tr>\n",
       "    <tr>\n",
       "      <th>60 - 80</th>\n",
       "      <td>60 - 80</td>\n",
       "      <td>70.0</td>\n",
       "      <td>14</td>\n",
       "      <td>0.28</td>\n",
       "      <td>0.86</td>\n",
       "    </tr>\n",
       "    <tr>\n",
       "      <th>80 - 100</th>\n",
       "      <td>80 - 100</td>\n",
       "      <td>90.0</td>\n",
       "      <td>7</td>\n",
       "      <td>0.14</td>\n",
       "      <td>1.00</td>\n",
       "    </tr>\n",
       "  </tbody>\n",
       "</table>\n",
       "</div>"
      ],
      "text/plain": [
       "             Class  Class_value  Frequency  Relative_frequency  \\\n",
       "Class                                                            \n",
       "0 - 20      0 - 20         10.0          4                0.08   \n",
       "20 - 40    20 - 40         30.0          8                0.16   \n",
       "40 - 60    40 - 60         50.0         17                0.34   \n",
       "60 - 80    60 - 80         70.0         14                0.28   \n",
       "80 - 100  80 - 100         90.0          7                0.14   \n",
       "\n",
       "          Cumulative_relative_frequency  \n",
       "Class                                    \n",
       "0 - 20                             0.08  \n",
       "20 - 40                            0.24  \n",
       "40 - 60                            0.58  \n",
       "60 - 80                            0.86  \n",
       "80 - 100                           1.00  "
      ]
     },
     "execution_count": 23,
     "metadata": {},
     "output_type": "execute_result"
    }
   ],
   "source": [
    "table_v1 "
   ]
  },
  {
   "cell_type": "code",
   "execution_count": 24,
   "id": "d6984744-4df6-420d-8189-fe0fdcd9876c",
   "metadata": {},
   "outputs": [],
   "source": [
    "# Guardamos la tabla \n",
    "table_v1.to_csv(\"Frecuencias_relativas_calificaciones.csv\", index = False)"
   ]
  },
  {
   "cell_type": "markdown",
   "id": "b9b44a92-a829-41db-91c4-1e2b9f1787fe",
   "metadata": {},
   "source": [
    "<font color = 'RoyalBlue'>\n",
    "<font size = 5>\n",
    "Personalización de la tabla de frecuencias usando la Regla de Sturgges"
   ]
  },
  {
   "cell_type": "code",
   "execution_count": 25,
   "id": "fd63faf4-f4a2-4205-ac90-b7e79b164841",
   "metadata": {},
   "outputs": [],
   "source": [
    "# Importamos el data set\n",
    "df_calificaciones = pd.read_csv('Data/calif_estudiantes2.csv')"
   ]
  },
  {
   "cell_type": "code",
   "execution_count": 26,
   "id": "704e363f-3c44-4e69-a2ee-7cd3e40fa887",
   "metadata": {
    "scrolled": true
   },
   "outputs": [
    {
     "data": {
      "text/html": [
       "<div>\n",
       "<style scoped>\n",
       "    .dataframe tbody tr th:only-of-type {\n",
       "        vertical-align: middle;\n",
       "    }\n",
       "\n",
       "    .dataframe tbody tr th {\n",
       "        vertical-align: top;\n",
       "    }\n",
       "\n",
       "    .dataframe thead th {\n",
       "        text-align: right;\n",
       "    }\n",
       "</style>\n",
       "<table border=\"1\" class=\"dataframe\">\n",
       "  <thead>\n",
       "    <tr style=\"text-align: right;\">\n",
       "      <th></th>\n",
       "      <th>studentID</th>\n",
       "      <th>exam_score</th>\n",
       "    </tr>\n",
       "  </thead>\n",
       "  <tbody>\n",
       "    <tr>\n",
       "      <th>0</th>\n",
       "      <td>10001</td>\n",
       "      <td>80</td>\n",
       "    </tr>\n",
       "    <tr>\n",
       "      <th>1</th>\n",
       "      <td>10002</td>\n",
       "      <td>50</td>\n",
       "    </tr>\n",
       "    <tr>\n",
       "      <th>2</th>\n",
       "      <td>10003</td>\n",
       "      <td>60</td>\n",
       "    </tr>\n",
       "    <tr>\n",
       "      <th>3</th>\n",
       "      <td>10004</td>\n",
       "      <td>70</td>\n",
       "    </tr>\n",
       "    <tr>\n",
       "      <th>4</th>\n",
       "      <td>10005</td>\n",
       "      <td>80</td>\n",
       "    </tr>\n",
       "    <tr>\n",
       "      <th>5</th>\n",
       "      <td>10006</td>\n",
       "      <td>10</td>\n",
       "    </tr>\n",
       "    <tr>\n",
       "      <th>6</th>\n",
       "      <td>10007</td>\n",
       "      <td>38</td>\n",
       "    </tr>\n",
       "    <tr>\n",
       "      <th>7</th>\n",
       "      <td>10008</td>\n",
       "      <td>55</td>\n",
       "    </tr>\n",
       "    <tr>\n",
       "      <th>8</th>\n",
       "      <td>10009</td>\n",
       "      <td>35</td>\n",
       "    </tr>\n",
       "    <tr>\n",
       "      <th>9</th>\n",
       "      <td>10010</td>\n",
       "      <td>50</td>\n",
       "    </tr>\n",
       "    <tr>\n",
       "      <th>10</th>\n",
       "      <td>10011</td>\n",
       "      <td>45</td>\n",
       "    </tr>\n",
       "    <tr>\n",
       "      <th>11</th>\n",
       "      <td>10012</td>\n",
       "      <td>50</td>\n",
       "    </tr>\n",
       "    <tr>\n",
       "      <th>12</th>\n",
       "      <td>10013</td>\n",
       "      <td>65</td>\n",
       "    </tr>\n",
       "    <tr>\n",
       "      <th>13</th>\n",
       "      <td>10014</td>\n",
       "      <td>45</td>\n",
       "    </tr>\n",
       "    <tr>\n",
       "      <th>14</th>\n",
       "      <td>10015</td>\n",
       "      <td>30</td>\n",
       "    </tr>\n",
       "    <tr>\n",
       "      <th>15</th>\n",
       "      <td>10016</td>\n",
       "      <td>44</td>\n",
       "    </tr>\n",
       "    <tr>\n",
       "      <th>16</th>\n",
       "      <td>10017</td>\n",
       "      <td>58</td>\n",
       "    </tr>\n",
       "    <tr>\n",
       "      <th>17</th>\n",
       "      <td>10018</td>\n",
       "      <td>45</td>\n",
       "    </tr>\n",
       "    <tr>\n",
       "      <th>18</th>\n",
       "      <td>10019</td>\n",
       "      <td>55</td>\n",
       "    </tr>\n",
       "    <tr>\n",
       "      <th>19</th>\n",
       "      <td>10020</td>\n",
       "      <td>50</td>\n",
       "    </tr>\n",
       "    <tr>\n",
       "      <th>20</th>\n",
       "      <td>10021</td>\n",
       "      <td>35</td>\n",
       "    </tr>\n",
       "    <tr>\n",
       "      <th>21</th>\n",
       "      <td>10022</td>\n",
       "      <td>90</td>\n",
       "    </tr>\n",
       "    <tr>\n",
       "      <th>22</th>\n",
       "      <td>10023</td>\n",
       "      <td>55</td>\n",
       "    </tr>\n",
       "    <tr>\n",
       "      <th>23</th>\n",
       "      <td>10024</td>\n",
       "      <td>60</td>\n",
       "    </tr>\n",
       "    <tr>\n",
       "      <th>24</th>\n",
       "      <td>10025</td>\n",
       "      <td>25</td>\n",
       "    </tr>\n",
       "    <tr>\n",
       "      <th>25</th>\n",
       "      <td>10026</td>\n",
       "      <td>50</td>\n",
       "    </tr>\n",
       "    <tr>\n",
       "      <th>26</th>\n",
       "      <td>10027</td>\n",
       "      <td>40</td>\n",
       "    </tr>\n",
       "    <tr>\n",
       "      <th>27</th>\n",
       "      <td>10028</td>\n",
       "      <td>68</td>\n",
       "    </tr>\n",
       "    <tr>\n",
       "      <th>28</th>\n",
       "      <td>10029</td>\n",
       "      <td>20</td>\n",
       "    </tr>\n",
       "    <tr>\n",
       "      <th>29</th>\n",
       "      <td>10030</td>\n",
       "      <td>75</td>\n",
       "    </tr>\n",
       "    <tr>\n",
       "      <th>30</th>\n",
       "      <td>10031</td>\n",
       "      <td>50</td>\n",
       "    </tr>\n",
       "    <tr>\n",
       "      <th>31</th>\n",
       "      <td>10032</td>\n",
       "      <td>60</td>\n",
       "    </tr>\n",
       "    <tr>\n",
       "      <th>32</th>\n",
       "      <td>10033</td>\n",
       "      <td>78</td>\n",
       "    </tr>\n",
       "    <tr>\n",
       "      <th>33</th>\n",
       "      <td>10034</td>\n",
       "      <td>95</td>\n",
       "    </tr>\n",
       "    <tr>\n",
       "      <th>34</th>\n",
       "      <td>10035</td>\n",
       "      <td>85</td>\n",
       "    </tr>\n",
       "    <tr>\n",
       "      <th>35</th>\n",
       "      <td>10036</td>\n",
       "      <td>56</td>\n",
       "    </tr>\n",
       "    <tr>\n",
       "      <th>36</th>\n",
       "      <td>10037</td>\n",
       "      <td>40</td>\n",
       "    </tr>\n",
       "    <tr>\n",
       "      <th>37</th>\n",
       "      <td>10038</td>\n",
       "      <td>10</td>\n",
       "    </tr>\n",
       "    <tr>\n",
       "      <th>38</th>\n",
       "      <td>10039</td>\n",
       "      <td>65</td>\n",
       "    </tr>\n",
       "    <tr>\n",
       "      <th>39</th>\n",
       "      <td>10040</td>\n",
       "      <td>60</td>\n",
       "    </tr>\n",
       "    <tr>\n",
       "      <th>40</th>\n",
       "      <td>10041</td>\n",
       "      <td>15</td>\n",
       "    </tr>\n",
       "    <tr>\n",
       "      <th>41</th>\n",
       "      <td>10042</td>\n",
       "      <td>70</td>\n",
       "    </tr>\n",
       "    <tr>\n",
       "      <th>42</th>\n",
       "      <td>10043</td>\n",
       "      <td>36</td>\n",
       "    </tr>\n",
       "    <tr>\n",
       "      <th>43</th>\n",
       "      <td>10044</td>\n",
       "      <td>70</td>\n",
       "    </tr>\n",
       "    <tr>\n",
       "      <th>44</th>\n",
       "      <td>10045</td>\n",
       "      <td>30</td>\n",
       "    </tr>\n",
       "    <tr>\n",
       "      <th>45</th>\n",
       "      <td>10046</td>\n",
       "      <td>90</td>\n",
       "    </tr>\n",
       "    <tr>\n",
       "      <th>46</th>\n",
       "      <td>10047</td>\n",
       "      <td>75</td>\n",
       "    </tr>\n",
       "    <tr>\n",
       "      <th>47</th>\n",
       "      <td>10048</td>\n",
       "      <td>15</td>\n",
       "    </tr>\n",
       "    <tr>\n",
       "      <th>48</th>\n",
       "      <td>10049</td>\n",
       "      <td>66</td>\n",
       "    </tr>\n",
       "    <tr>\n",
       "      <th>49</th>\n",
       "      <td>10050</td>\n",
       "      <td>85</td>\n",
       "    </tr>\n",
       "  </tbody>\n",
       "</table>\n",
       "</div>"
      ],
      "text/plain": [
       "    studentID  exam_score\n",
       "0       10001          80\n",
       "1       10002          50\n",
       "2       10003          60\n",
       "3       10004          70\n",
       "4       10005          80\n",
       "5       10006          10\n",
       "6       10007          38\n",
       "7       10008          55\n",
       "8       10009          35\n",
       "9       10010          50\n",
       "10      10011          45\n",
       "11      10012          50\n",
       "12      10013          65\n",
       "13      10014          45\n",
       "14      10015          30\n",
       "15      10016          44\n",
       "16      10017          58\n",
       "17      10018          45\n",
       "18      10019          55\n",
       "19      10020          50\n",
       "20      10021          35\n",
       "21      10022          90\n",
       "22      10023          55\n",
       "23      10024          60\n",
       "24      10025          25\n",
       "25      10026          50\n",
       "26      10027          40\n",
       "27      10028          68\n",
       "28      10029          20\n",
       "29      10030          75\n",
       "30      10031          50\n",
       "31      10032          60\n",
       "32      10033          78\n",
       "33      10034          95\n",
       "34      10035          85\n",
       "35      10036          56\n",
       "36      10037          40\n",
       "37      10038          10\n",
       "38      10039          65\n",
       "39      10040          60\n",
       "40      10041          15\n",
       "41      10042          70\n",
       "42      10043          36\n",
       "43      10044          70\n",
       "44      10045          30\n",
       "45      10046          90\n",
       "46      10047          75\n",
       "47      10048          15\n",
       "48      10049          66\n",
       "49      10050          85"
      ]
     },
     "execution_count": 26,
     "metadata": {},
     "output_type": "execute_result"
    }
   ],
   "source": [
    "# Se muestra el dataframe para ver si cargó de manera exitosa\n",
    "df_calificaciones"
   ]
  },
  {
   "cell_type": "code",
   "execution_count": 27,
   "id": "c2b4dbae-1641-4595-b99a-7cb83ab2d591",
   "metadata": {},
   "outputs": [
    {
     "data": {
      "text/plain": [
       "Index(['studentID', 'exam_score'], dtype='object')"
      ]
     },
     "execution_count": 27,
     "metadata": {},
     "output_type": "execute_result"
    }
   ],
   "source": [
    "# Muestra el nombre de las columnas de dataframe\n",
    "df_calificaciones.columns"
   ]
  },
  {
   "cell_type": "code",
   "execution_count": 28,
   "id": "132553b6-4029-4ecc-84be-6aa5cb808b06",
   "metadata": {
    "scrolled": true
   },
   "outputs": [
    {
     "data": {
      "text/html": [
       "<div>\n",
       "<style scoped>\n",
       "    .dataframe tbody tr th:only-of-type {\n",
       "        vertical-align: middle;\n",
       "    }\n",
       "\n",
       "    .dataframe tbody tr th {\n",
       "        vertical-align: top;\n",
       "    }\n",
       "\n",
       "    .dataframe thead th {\n",
       "        text-align: right;\n",
       "    }\n",
       "</style>\n",
       "<table border=\"1\" class=\"dataframe\">\n",
       "  <thead>\n",
       "    <tr style=\"text-align: right;\">\n",
       "      <th></th>\n",
       "      <th>studentID</th>\n",
       "      <th>exam_score</th>\n",
       "    </tr>\n",
       "  </thead>\n",
       "  <tbody>\n",
       "    <tr>\n",
       "      <th>0</th>\n",
       "      <td>10001</td>\n",
       "      <td>80</td>\n",
       "    </tr>\n",
       "    <tr>\n",
       "      <th>1</th>\n",
       "      <td>10002</td>\n",
       "      <td>50</td>\n",
       "    </tr>\n",
       "    <tr>\n",
       "      <th>2</th>\n",
       "      <td>10003</td>\n",
       "      <td>60</td>\n",
       "    </tr>\n",
       "    <tr>\n",
       "      <th>3</th>\n",
       "      <td>10004</td>\n",
       "      <td>70</td>\n",
       "    </tr>\n",
       "    <tr>\n",
       "      <th>4</th>\n",
       "      <td>10005</td>\n",
       "      <td>80</td>\n",
       "    </tr>\n",
       "  </tbody>\n",
       "</table>\n",
       "</div>"
      ],
      "text/plain": [
       "   studentID  exam_score\n",
       "0      10001          80\n",
       "1      10002          50\n",
       "2      10003          60\n",
       "3      10004          70\n",
       "4      10005          80"
      ]
     },
     "execution_count": 28,
     "metadata": {},
     "output_type": "execute_result"
    }
   ],
   "source": [
    "df_calificaciones.head()"
   ]
  },
  {
   "cell_type": "code",
   "execution_count": 29,
   "id": "3ba8036a-9138-4a5e-bc52-af84271b4d65",
   "metadata": {},
   "outputs": [
    {
     "data": {
      "text/html": [
       "<div>\n",
       "<style scoped>\n",
       "    .dataframe tbody tr th:only-of-type {\n",
       "        vertical-align: middle;\n",
       "    }\n",
       "\n",
       "    .dataframe tbody tr th {\n",
       "        vertical-align: top;\n",
       "    }\n",
       "\n",
       "    .dataframe thead th {\n",
       "        text-align: right;\n",
       "    }\n",
       "</style>\n",
       "<table border=\"1\" class=\"dataframe\">\n",
       "  <thead>\n",
       "    <tr style=\"text-align: right;\">\n",
       "      <th></th>\n",
       "      <th>studentID</th>\n",
       "      <th>exam_score</th>\n",
       "    </tr>\n",
       "  </thead>\n",
       "  <tbody>\n",
       "    <tr>\n",
       "      <th>45</th>\n",
       "      <td>10046</td>\n",
       "      <td>90</td>\n",
       "    </tr>\n",
       "    <tr>\n",
       "      <th>46</th>\n",
       "      <td>10047</td>\n",
       "      <td>75</td>\n",
       "    </tr>\n",
       "    <tr>\n",
       "      <th>47</th>\n",
       "      <td>10048</td>\n",
       "      <td>15</td>\n",
       "    </tr>\n",
       "    <tr>\n",
       "      <th>48</th>\n",
       "      <td>10049</td>\n",
       "      <td>66</td>\n",
       "    </tr>\n",
       "    <tr>\n",
       "      <th>49</th>\n",
       "      <td>10050</td>\n",
       "      <td>85</td>\n",
       "    </tr>\n",
       "  </tbody>\n",
       "</table>\n",
       "</div>"
      ],
      "text/plain": [
       "    studentID  exam_score\n",
       "45      10046          90\n",
       "46      10047          75\n",
       "47      10048          15\n",
       "48      10049          66\n",
       "49      10050          85"
      ]
     },
     "execution_count": 29,
     "metadata": {},
     "output_type": "execute_result"
    }
   ],
   "source": [
    "# Imprimimos las ultimas filas del dataframe para inspeccionar los datos\n",
    "df_calificaciones.tail()"
   ]
  },
  {
   "cell_type": "code",
   "execution_count": 30,
   "id": "e040c5a5-cfb0-40cc-be44-00e2bb35a0e8",
   "metadata": {},
   "outputs": [
    {
     "data": {
      "text/plain": [
       "7"
      ]
     },
     "execution_count": 30,
     "metadata": {},
     "output_type": "execute_result"
    }
   ],
   "source": [
    "# Para calcular los bins se puede usar la Regla de Sturges\n",
    "c = round(1 + np.log2(df_calif.shape[0])) \n",
    "c"
   ]
  },
  {
   "cell_type": "code",
   "execution_count": 31,
   "id": "6d97f43c-2a56-49da-9b9d-29c507f706eb",
   "metadata": {},
   "outputs": [
    {
     "data": {
      "text/plain": [
       "np.int64(95)"
      ]
     },
     "execution_count": 31,
     "metadata": {},
     "output_type": "execute_result"
    }
   ],
   "source": [
    "df_calificaciones.exam_score.max()"
   ]
  },
  {
   "cell_type": "code",
   "execution_count": 32,
   "id": "c3dfcc36-de78-457c-9213-6bb568d090a8",
   "metadata": {},
   "outputs": [
    {
     "data": {
      "text/plain": [
       "np.int64(10)"
      ]
     },
     "execution_count": 32,
     "metadata": {},
     "output_type": "execute_result"
    }
   ],
   "source": [
    "df_calificaciones.exam_score.min()"
   ]
  },
  {
   "cell_type": "code",
   "execution_count": 33,
   "id": "4e91519c-7f81-47ee-8b2a-d99482ac5823",
   "metadata": {},
   "outputs": [
    {
     "data": {
      "text/plain": [
       "array([  0.        ,  14.28571429,  28.57142857,  42.85714286,\n",
       "        57.14285714,  71.42857143,  85.71428571, 100.        ])"
      ]
     },
     "execution_count": 33,
     "metadata": {},
     "output_type": "execute_result"
    }
   ],
   "source": [
    "# Crea los intervalos (clases)\n",
    "bins = np.linspace(0, 100, c + 1)\n",
    "bins"
   ]
  },
  {
   "cell_type": "code",
   "execution_count": 34,
   "id": "bcc1fd7c-b2d0-4b7f-952a-7745b1cd22d7",
   "metadata": {},
   "outputs": [
    {
     "data": {
      "text/plain": [
       "['0.0 - 14.285714285714286',\n",
       " '14.285714285714286 - 28.571428571428573',\n",
       " '28.571428571428573 - 42.85714285714286',\n",
       " '42.85714285714286 - 57.142857142857146',\n",
       " '57.142857142857146 - 71.42857142857143',\n",
       " '71.42857142857143 - 85.71428571428572',\n",
       " '85.71428571428572 - 100.0']"
      ]
     },
     "execution_count": 34,
     "metadata": {},
     "output_type": "execute_result"
    }
   ],
   "source": [
    "# Crea los nombres de las clases\n",
    "labels = [f\"{bins[x]} - {bins[x + 1]}\" for x in range(0, len(bins) - 1)]\n",
    "labels #  se muestran los labels"
   ]
  },
  {
   "cell_type": "code",
   "execution_count": 35,
   "id": "8424e343-5849-4e45-a592-fc37603fc1e7",
   "metadata": {
    "scrolled": true
   },
   "outputs": [
    {
     "data": {
      "text/plain": [
       "0       71.42857142857143 - 85.71428571428572\n",
       "1      42.85714285714286 - 57.142857142857146\n",
       "2      57.142857142857146 - 71.42857142857143\n",
       "3      57.142857142857146 - 71.42857142857143\n",
       "4       71.42857142857143 - 85.71428571428572\n",
       "5                    0.0 - 14.285714285714286\n",
       "6      28.571428571428573 - 42.85714285714286\n",
       "7      42.85714285714286 - 57.142857142857146\n",
       "8      28.571428571428573 - 42.85714285714286\n",
       "9      42.85714285714286 - 57.142857142857146\n",
       "10     42.85714285714286 - 57.142857142857146\n",
       "11     42.85714285714286 - 57.142857142857146\n",
       "12     57.142857142857146 - 71.42857142857143\n",
       "13     42.85714285714286 - 57.142857142857146\n",
       "14     28.571428571428573 - 42.85714285714286\n",
       "15     42.85714285714286 - 57.142857142857146\n",
       "16     57.142857142857146 - 71.42857142857143\n",
       "17     42.85714285714286 - 57.142857142857146\n",
       "18     42.85714285714286 - 57.142857142857146\n",
       "19     42.85714285714286 - 57.142857142857146\n",
       "20     28.571428571428573 - 42.85714285714286\n",
       "21                  85.71428571428572 - 100.0\n",
       "22     42.85714285714286 - 57.142857142857146\n",
       "23     57.142857142857146 - 71.42857142857143\n",
       "24    14.285714285714286 - 28.571428571428573\n",
       "25     42.85714285714286 - 57.142857142857146\n",
       "26     28.571428571428573 - 42.85714285714286\n",
       "27     57.142857142857146 - 71.42857142857143\n",
       "28    14.285714285714286 - 28.571428571428573\n",
       "29      71.42857142857143 - 85.71428571428572\n",
       "30     42.85714285714286 - 57.142857142857146\n",
       "31     57.142857142857146 - 71.42857142857143\n",
       "32      71.42857142857143 - 85.71428571428572\n",
       "33                  85.71428571428572 - 100.0\n",
       "34      71.42857142857143 - 85.71428571428572\n",
       "35     42.85714285714286 - 57.142857142857146\n",
       "36     28.571428571428573 - 42.85714285714286\n",
       "37                   0.0 - 14.285714285714286\n",
       "38     57.142857142857146 - 71.42857142857143\n",
       "39     57.142857142857146 - 71.42857142857143\n",
       "40    14.285714285714286 - 28.571428571428573\n",
       "41     57.142857142857146 - 71.42857142857143\n",
       "42     28.571428571428573 - 42.85714285714286\n",
       "43     57.142857142857146 - 71.42857142857143\n",
       "44     28.571428571428573 - 42.85714285714286\n",
       "45                  85.71428571428572 - 100.0\n",
       "46      71.42857142857143 - 85.71428571428572\n",
       "47    14.285714285714286 - 28.571428571428573\n",
       "48     57.142857142857146 - 71.42857142857143\n",
       "49      71.42857142857143 - 85.71428571428572\n",
       "Name: Class, dtype: category\n",
       "Categories (7, object): ['0.0 - 14.285714285714286' < '14.285714285714286 - 28.571428571428573' < '28.571428571428573 - 42.85714285714286' < '42.85714285714286 - 57.142857142857146' < '57.142857142857146 - 71.42857142857143' < '71.42857142857143 - 85.71428571428572' < '85.71428571428572 - 100.0']"
      ]
     },
     "execution_count": 35,
     "metadata": {},
     "output_type": "execute_result"
    }
   ],
   "source": [
    "# Crea las clases\n",
    "df_calif['Class'] = pd.cut(df_calif[\"exam_score\"], bins = bins, labels = labels, right = False) # right = False no toma en cuenta el intervalo derecho, es un intervalo abierto\n",
    "df_calif['Class']"
   ]
  },
  {
   "cell_type": "code",
   "execution_count": 36,
   "id": "0812d0d4-cd40-4314-b95a-670b01e5a256",
   "metadata": {},
   "outputs": [
    {
     "data": {
      "text/plain": [
       "[np.float64(7.142857142857143),\n",
       " np.float64(21.42857142857143),\n",
       " np.float64(35.714285714285715),\n",
       " np.float64(50.0),\n",
       " np.float64(64.28571428571429),\n",
       " np.float64(78.57142857142858),\n",
       " np.float64(92.85714285714286)]"
      ]
     },
     "execution_count": 36,
     "metadata": {},
     "output_type": "execute_result"
    }
   ],
   "source": [
    "# Crea las marcas de clase\n",
    "Class_value = [(bins[x] + bins[x + 1]) / 2 for x in range(0, len(bins) - 1)]\n",
    "Class_value"
   ]
  },
  {
   "cell_type": "code",
   "execution_count": 37,
   "id": "6cab08c9-ff12-4030-9ce0-c0cc80f60892",
   "metadata": {},
   "outputs": [
    {
     "data": {
      "text/plain": [
       "Class\n",
       "0.0 - 14.285714285714286                    2\n",
       "14.285714285714286 - 28.571428571428573     4\n",
       "28.571428571428573 - 42.85714285714286      8\n",
       "42.85714285714286 - 57.142857142857146     14\n",
       "57.142857142857146 - 71.42857142857143     12\n",
       "71.42857142857143 - 85.71428571428572       7\n",
       "85.71428571428572 - 100.0                   3\n",
       "Name: count, dtype: int64"
      ]
     },
     "execution_count": 37,
     "metadata": {},
     "output_type": "execute_result"
    }
   ],
   "source": [
    "# Calcula la frecuencia\n",
    "frequency = df_calif['Class'].value_counts(sort = False)\n",
    "frequency"
   ]
  },
  {
   "cell_type": "code",
   "execution_count": 38,
   "id": "445a572d-5ad9-4073-8b10-d4ba95e1fbb1",
   "metadata": {},
   "outputs": [
    {
     "data": {
      "text/plain": [
       "Class\n",
       "0.0 - 14.285714285714286                   0.04\n",
       "14.285714285714286 - 28.571428571428573    0.08\n",
       "28.571428571428573 - 42.85714285714286     0.16\n",
       "42.85714285714286 - 57.142857142857146     0.28\n",
       "57.142857142857146 - 71.42857142857143     0.24\n",
       "71.42857142857143 - 85.71428571428572      0.14\n",
       "85.71428571428572 - 100.0                  0.06\n",
       "Name: count, dtype: float64"
      ]
     },
     "execution_count": 38,
     "metadata": {},
     "output_type": "execute_result"
    }
   ],
   "source": [
    "# Calcula la frecuencia relativa\n",
    "relative_frequency = frequency / frequency.sum()\n",
    "relative_frequency"
   ]
  },
  {
   "cell_type": "code",
   "execution_count": 39,
   "id": "e300fdac-8445-4af7-ae82-b0527fcf037e",
   "metadata": {},
   "outputs": [
    {
     "data": {
      "text/plain": [
       "Class\n",
       "0.0 - 14.285714285714286                   0.04\n",
       "14.285714285714286 - 28.571428571428573    0.12\n",
       "28.571428571428573 - 42.85714285714286     0.28\n",
       "42.85714285714286 - 57.142857142857146     0.56\n",
       "57.142857142857146 - 71.42857142857143     0.80\n",
       "71.42857142857143 - 85.71428571428572      0.94\n",
       "85.71428571428572 - 100.0                  1.00\n",
       "Name: count, dtype: float64"
      ]
     },
     "execution_count": 39,
     "metadata": {},
     "output_type": "execute_result"
    }
   ],
   "source": [
    "# Calcula la frecuencia relativa acumulada\n",
    "cumulative_relative_frequency = relative_frequency.cumsum()\n",
    "cumulative_relative_frequency"
   ]
  },
  {
   "cell_type": "code",
   "execution_count": 40,
   "id": "5fa63920-3814-4b93-92d9-fcc203f0bd89",
   "metadata": {},
   "outputs": [],
   "source": [
    "# Crea la tabla de frecuencias final con la regla de Sturges\n",
    "tablev2 = pd.DataFrame({\n",
    "    'Class': labels,\n",
    "    'Class_value': Class_value,\n",
    "    'Frequency': frequency.values,\n",
    "    'Relative_frequency': relative_frequency.values,\n",
    "    'Cumulative_relative_frequency': cumulative_relative_frequency\n",
    "})"
   ]
  },
  {
   "cell_type": "code",
   "execution_count": 41,
   "id": "758f38d7-0aaa-42f7-8574-9ed5e535e1ff",
   "metadata": {},
   "outputs": [
    {
     "data": {
      "text/html": [
       "<div>\n",
       "<style scoped>\n",
       "    .dataframe tbody tr th:only-of-type {\n",
       "        vertical-align: middle;\n",
       "    }\n",
       "\n",
       "    .dataframe tbody tr th {\n",
       "        vertical-align: top;\n",
       "    }\n",
       "\n",
       "    .dataframe thead th {\n",
       "        text-align: right;\n",
       "    }\n",
       "</style>\n",
       "<table border=\"1\" class=\"dataframe\">\n",
       "  <thead>\n",
       "    <tr style=\"text-align: right;\">\n",
       "      <th></th>\n",
       "      <th>Class</th>\n",
       "      <th>Class_value</th>\n",
       "      <th>Frequency</th>\n",
       "      <th>Relative_frequency</th>\n",
       "      <th>Cumulative_relative_frequency</th>\n",
       "    </tr>\n",
       "    <tr>\n",
       "      <th>Class</th>\n",
       "      <th></th>\n",
       "      <th></th>\n",
       "      <th></th>\n",
       "      <th></th>\n",
       "      <th></th>\n",
       "    </tr>\n",
       "  </thead>\n",
       "  <tbody>\n",
       "    <tr>\n",
       "      <th>0.0 - 14.285714285714286</th>\n",
       "      <td>0.0 - 14.285714285714286</td>\n",
       "      <td>7.142857</td>\n",
       "      <td>2</td>\n",
       "      <td>0.04</td>\n",
       "      <td>0.04</td>\n",
       "    </tr>\n",
       "    <tr>\n",
       "      <th>14.285714285714286 - 28.571428571428573</th>\n",
       "      <td>14.285714285714286 - 28.571428571428573</td>\n",
       "      <td>21.428571</td>\n",
       "      <td>4</td>\n",
       "      <td>0.08</td>\n",
       "      <td>0.12</td>\n",
       "    </tr>\n",
       "    <tr>\n",
       "      <th>28.571428571428573 - 42.85714285714286</th>\n",
       "      <td>28.571428571428573 - 42.85714285714286</td>\n",
       "      <td>35.714286</td>\n",
       "      <td>8</td>\n",
       "      <td>0.16</td>\n",
       "      <td>0.28</td>\n",
       "    </tr>\n",
       "    <tr>\n",
       "      <th>42.85714285714286 - 57.142857142857146</th>\n",
       "      <td>42.85714285714286 - 57.142857142857146</td>\n",
       "      <td>50.000000</td>\n",
       "      <td>14</td>\n",
       "      <td>0.28</td>\n",
       "      <td>0.56</td>\n",
       "    </tr>\n",
       "    <tr>\n",
       "      <th>57.142857142857146 - 71.42857142857143</th>\n",
       "      <td>57.142857142857146 - 71.42857142857143</td>\n",
       "      <td>64.285714</td>\n",
       "      <td>12</td>\n",
       "      <td>0.24</td>\n",
       "      <td>0.80</td>\n",
       "    </tr>\n",
       "    <tr>\n",
       "      <th>71.42857142857143 - 85.71428571428572</th>\n",
       "      <td>71.42857142857143 - 85.71428571428572</td>\n",
       "      <td>78.571429</td>\n",
       "      <td>7</td>\n",
       "      <td>0.14</td>\n",
       "      <td>0.94</td>\n",
       "    </tr>\n",
       "    <tr>\n",
       "      <th>85.71428571428572 - 100.0</th>\n",
       "      <td>85.71428571428572 - 100.0</td>\n",
       "      <td>92.857143</td>\n",
       "      <td>3</td>\n",
       "      <td>0.06</td>\n",
       "      <td>1.00</td>\n",
       "    </tr>\n",
       "  </tbody>\n",
       "</table>\n",
       "</div>"
      ],
      "text/plain": [
       "                                                                           Class  \\\n",
       "Class                                                                              \n",
       "0.0 - 14.285714285714286                                0.0 - 14.285714285714286   \n",
       "14.285714285714286 - 28.571428571428573  14.285714285714286 - 28.571428571428573   \n",
       "28.571428571428573 - 42.85714285714286    28.571428571428573 - 42.85714285714286   \n",
       "42.85714285714286 - 57.142857142857146    42.85714285714286 - 57.142857142857146   \n",
       "57.142857142857146 - 71.42857142857143    57.142857142857146 - 71.42857142857143   \n",
       "71.42857142857143 - 85.71428571428572      71.42857142857143 - 85.71428571428572   \n",
       "85.71428571428572 - 100.0                              85.71428571428572 - 100.0   \n",
       "\n",
       "                                         Class_value  Frequency  \\\n",
       "Class                                                             \n",
       "0.0 - 14.285714285714286                    7.142857          2   \n",
       "14.285714285714286 - 28.571428571428573    21.428571          4   \n",
       "28.571428571428573 - 42.85714285714286     35.714286          8   \n",
       "42.85714285714286 - 57.142857142857146     50.000000         14   \n",
       "57.142857142857146 - 71.42857142857143     64.285714         12   \n",
       "71.42857142857143 - 85.71428571428572      78.571429          7   \n",
       "85.71428571428572 - 100.0                  92.857143          3   \n",
       "\n",
       "                                         Relative_frequency  \\\n",
       "Class                                                         \n",
       "0.0 - 14.285714285714286                               0.04   \n",
       "14.285714285714286 - 28.571428571428573                0.08   \n",
       "28.571428571428573 - 42.85714285714286                 0.16   \n",
       "42.85714285714286 - 57.142857142857146                 0.28   \n",
       "57.142857142857146 - 71.42857142857143                 0.24   \n",
       "71.42857142857143 - 85.71428571428572                  0.14   \n",
       "85.71428571428572 - 100.0                              0.06   \n",
       "\n",
       "                                         Cumulative_relative_frequency  \n",
       "Class                                                                   \n",
       "0.0 - 14.285714285714286                                          0.04  \n",
       "14.285714285714286 - 28.571428571428573                           0.12  \n",
       "28.571428571428573 - 42.85714285714286                            0.28  \n",
       "42.85714285714286 - 57.142857142857146                            0.56  \n",
       "57.142857142857146 - 71.42857142857143                            0.80  \n",
       "71.42857142857143 - 85.71428571428572                             0.94  \n",
       "85.71428571428572 - 100.0                                         1.00  "
      ]
     },
     "execution_count": 41,
     "metadata": {},
     "output_type": "execute_result"
    }
   ],
   "source": [
    "tablev2 "
   ]
  },
  {
   "cell_type": "code",
   "execution_count": 42,
   "id": "d72e119a-510e-421a-9b2d-fde3f27c60c4",
   "metadata": {},
   "outputs": [],
   "source": [
    "# Guardamos la tabla \n",
    "tablev2.to_csv(\"Frecuencias_relativas_calif_sturges.csv\", index = False)"
   ]
  },
  {
   "cell_type": "markdown",
   "id": "8ab3d54b-a262-4793-a5e3-17693d1929ed",
   "metadata": {},
   "source": [
    "* ``right=False``\n",
    "\n",
    "$$[0,20)[20,40)[40,60)[60,80)[80,100]$$\n",
    "\n",
    "* ``left=False``\n",
    "\n",
    "$$[0,20](20,40](40,60](60,80](80,100]$$"
   ]
  },
  {
   "cell_type": "markdown",
   "id": "8daae5f2-4f55-4470-aac8-0816a573428e",
   "metadata": {},
   "source": [
    "<font color = 'slateblue'>\n",
    "<font size = 5>\n",
    "    \n",
    "**Datos de Fútbol**"
   ]
  },
  {
   "cell_type": "markdown",
   "id": "5a38596a-94d7-4389-a12a-b02a3e3162da",
   "metadata": {},
   "source": [
    "<font color = 'LightSeaGreen'>\n",
    "<font size = 3>\n",
    "\n",
    "Consideremos ahora la siguiente tabla de estadísticas de fútbol\n",
    "\n",
    "| País        | Goles marcados | Partidos ganados | Penales atajados | Zona|\n",
    "|-------------|----------------|------------------|------------------|-----|\n",
    "| Brasil      | 12             | 4                | 2                |SudA|\n",
    "| Argentina   | 10             | 3                | 1                |SudA|\n",
    "| Francia     | 15             | 5                | 3                |Euro|\n",
    "| Alemania    | 13             | 4                | 2                |Euro|\n",
    "| España      | 9              | 2                | 0                |Euro|\n",
    "| México      | 8              | 2                | 1                |Conca|\n",
    "| Italia      | 11             | 3                | 2                |Euro|\n",
    "| Inglaterra  | 10             | 3                | 1                |Euro|\n",
    "| Uruguay     | 7              | 1                | 1                |SudA|\n",
    "| Portugal    | 9              | 2                | 0                |Euro|\n"
   ]
  },
  {
   "cell_type": "code",
   "execution_count": 43,
   "id": "b2491e9b-b244-457a-b4a8-c91f625c0f92",
   "metadata": {},
   "outputs": [
    {
     "data": {
      "text/plain": [
       "'/home/zick13/Documentos/Developer/Courses/Curso_Inferencia_Estadistica/Clases/02_Estadistica_descriptiva'"
      ]
     },
     "execution_count": 43,
     "metadata": {},
     "output_type": "execute_result"
    }
   ],
   "source": [
    "# Obtenemos las ruta del notebook\n",
    "os.getcwd() "
   ]
  },
  {
   "cell_type": "code",
   "execution_count": 44,
   "id": "9019ebfa-d757-4e28-acf3-4b728c12477a",
   "metadata": {},
   "outputs": [],
   "source": [
    "os.chdir(\"/home/zick13/Documentos/Developer/Courses/Curso_Inferencia_Estadistica/Clases/02_Estadistica_descriptiva\")"
   ]
  },
  {
   "cell_type": "markdown",
   "id": "9be8b653-a09a-4784-be66-8d1a95f82317",
   "metadata": {},
   "source": [
    "<font color = 'deepskyblue'>\n",
    "<font size = 5>\n",
    "Lectura de los datos"
   ]
  },
  {
   "cell_type": "code",
   "execution_count": 45,
   "id": "8450110b-8bf1-4014-bdcf-aaf40ee1bec7",
   "metadata": {},
   "outputs": [],
   "source": [
    "# Importamos el data set\n",
    "df_fut_1 = pd.read_csv('Data/estadisticas_futbol_1.csv')"
   ]
  },
  {
   "cell_type": "code",
   "execution_count": 46,
   "id": "9f1af370-df50-4d59-8f05-b94c9fc92a49",
   "metadata": {},
   "outputs": [
    {
     "data": {
      "text/html": [
       "<div>\n",
       "<style scoped>\n",
       "    .dataframe tbody tr th:only-of-type {\n",
       "        vertical-align: middle;\n",
       "    }\n",
       "\n",
       "    .dataframe tbody tr th {\n",
       "        vertical-align: top;\n",
       "    }\n",
       "\n",
       "    .dataframe thead th {\n",
       "        text-align: right;\n",
       "    }\n",
       "</style>\n",
       "<table border=\"1\" class=\"dataframe\">\n",
       "  <thead>\n",
       "    <tr style=\"text-align: right;\">\n",
       "      <th></th>\n",
       "      <th>País</th>\n",
       "      <th>Goles_marcados</th>\n",
       "      <th>Partidos_ganados</th>\n",
       "      <th>Penales_atajados</th>\n",
       "      <th>Zona</th>\n",
       "    </tr>\n",
       "  </thead>\n",
       "  <tbody>\n",
       "    <tr>\n",
       "      <th>0</th>\n",
       "      <td>Brasil</td>\n",
       "      <td>12</td>\n",
       "      <td>4</td>\n",
       "      <td>2</td>\n",
       "      <td>SudA</td>\n",
       "    </tr>\n",
       "    <tr>\n",
       "      <th>1</th>\n",
       "      <td>Argentina</td>\n",
       "      <td>10</td>\n",
       "      <td>3</td>\n",
       "      <td>1</td>\n",
       "      <td>SudA</td>\n",
       "    </tr>\n",
       "    <tr>\n",
       "      <th>2</th>\n",
       "      <td>Francia</td>\n",
       "      <td>15</td>\n",
       "      <td>5</td>\n",
       "      <td>3</td>\n",
       "      <td>Euro</td>\n",
       "    </tr>\n",
       "    <tr>\n",
       "      <th>3</th>\n",
       "      <td>Alemania</td>\n",
       "      <td>13</td>\n",
       "      <td>4</td>\n",
       "      <td>2</td>\n",
       "      <td>Euro</td>\n",
       "    </tr>\n",
       "    <tr>\n",
       "      <th>4</th>\n",
       "      <td>España</td>\n",
       "      <td>9</td>\n",
       "      <td>2</td>\n",
       "      <td>0</td>\n",
       "      <td>Euro</td>\n",
       "    </tr>\n",
       "    <tr>\n",
       "      <th>5</th>\n",
       "      <td>México</td>\n",
       "      <td>8</td>\n",
       "      <td>2</td>\n",
       "      <td>1</td>\n",
       "      <td>Conca</td>\n",
       "    </tr>\n",
       "    <tr>\n",
       "      <th>6</th>\n",
       "      <td>Italia</td>\n",
       "      <td>11</td>\n",
       "      <td>3</td>\n",
       "      <td>2</td>\n",
       "      <td>Euro</td>\n",
       "    </tr>\n",
       "    <tr>\n",
       "      <th>7</th>\n",
       "      <td>Inglaterra</td>\n",
       "      <td>10</td>\n",
       "      <td>3</td>\n",
       "      <td>1</td>\n",
       "      <td>Euro</td>\n",
       "    </tr>\n",
       "    <tr>\n",
       "      <th>8</th>\n",
       "      <td>Uruguay</td>\n",
       "      <td>7</td>\n",
       "      <td>1</td>\n",
       "      <td>1</td>\n",
       "      <td>SudA</td>\n",
       "    </tr>\n",
       "    <tr>\n",
       "      <th>9</th>\n",
       "      <td>Portugal</td>\n",
       "      <td>9</td>\n",
       "      <td>2</td>\n",
       "      <td>0</td>\n",
       "      <td>SudA</td>\n",
       "    </tr>\n",
       "  </tbody>\n",
       "</table>\n",
       "</div>"
      ],
      "text/plain": [
       "         País  Goles_marcados  Partidos_ganados  Penales_atajados   Zona\n",
       "0      Brasil              12                 4                 2   SudA\n",
       "1   Argentina              10                 3                 1   SudA\n",
       "2     Francia              15                 5                 3   Euro\n",
       "3    Alemania              13                 4                 2   Euro\n",
       "4      España               9                 2                 0   Euro\n",
       "5      México               8                 2                 1  Conca\n",
       "6      Italia              11                 3                 2   Euro\n",
       "7  Inglaterra              10                 3                 1   Euro\n",
       "8     Uruguay               7                 1                 1   SudA\n",
       "9    Portugal               9                 2                 0   SudA"
      ]
     },
     "execution_count": 46,
     "metadata": {},
     "output_type": "execute_result"
    }
   ],
   "source": [
    "# Se muestra el dataframe para ver si cargó de manera exitosa\n",
    "df_fut_1"
   ]
  },
  {
   "cell_type": "code",
   "execution_count": 47,
   "id": "2c5abde9-75f1-4e44-b340-64d0c28a3afc",
   "metadata": {},
   "outputs": [
    {
     "data": {
      "text/html": [
       "<div>\n",
       "<style scoped>\n",
       "    .dataframe tbody tr th:only-of-type {\n",
       "        vertical-align: middle;\n",
       "    }\n",
       "\n",
       "    .dataframe tbody tr th {\n",
       "        vertical-align: top;\n",
       "    }\n",
       "\n",
       "    .dataframe thead th {\n",
       "        text-align: right;\n",
       "    }\n",
       "</style>\n",
       "<table border=\"1\" class=\"dataframe\">\n",
       "  <thead>\n",
       "    <tr style=\"text-align: right;\">\n",
       "      <th></th>\n",
       "      <th>País</th>\n",
       "      <th>Goles_marcados</th>\n",
       "      <th>Partidos_ganados</th>\n",
       "      <th>Penales_atajados</th>\n",
       "      <th>Zona</th>\n",
       "    </tr>\n",
       "  </thead>\n",
       "  <tbody>\n",
       "    <tr>\n",
       "      <th>0</th>\n",
       "      <td>Brasil</td>\n",
       "      <td>12</td>\n",
       "      <td>4</td>\n",
       "      <td>2</td>\n",
       "      <td>SudA</td>\n",
       "    </tr>\n",
       "    <tr>\n",
       "      <th>1</th>\n",
       "      <td>Argentina</td>\n",
       "      <td>10</td>\n",
       "      <td>3</td>\n",
       "      <td>1</td>\n",
       "      <td>SudA</td>\n",
       "    </tr>\n",
       "    <tr>\n",
       "      <th>2</th>\n",
       "      <td>Francia</td>\n",
       "      <td>15</td>\n",
       "      <td>5</td>\n",
       "      <td>3</td>\n",
       "      <td>Euro</td>\n",
       "    </tr>\n",
       "    <tr>\n",
       "      <th>3</th>\n",
       "      <td>Alemania</td>\n",
       "      <td>13</td>\n",
       "      <td>4</td>\n",
       "      <td>2</td>\n",
       "      <td>Euro</td>\n",
       "    </tr>\n",
       "    <tr>\n",
       "      <th>4</th>\n",
       "      <td>España</td>\n",
       "      <td>9</td>\n",
       "      <td>2</td>\n",
       "      <td>0</td>\n",
       "      <td>Euro</td>\n",
       "    </tr>\n",
       "  </tbody>\n",
       "</table>\n",
       "</div>"
      ],
      "text/plain": [
       "        País  Goles_marcados  Partidos_ganados  Penales_atajados  Zona\n",
       "0     Brasil              12                 4                 2  SudA\n",
       "1  Argentina              10                 3                 1  SudA\n",
       "2    Francia              15                 5                 3  Euro\n",
       "3   Alemania              13                 4                 2  Euro\n",
       "4     España               9                 2                 0  Euro"
      ]
     },
     "execution_count": 47,
     "metadata": {},
     "output_type": "execute_result"
    }
   ],
   "source": [
    "# Imprimimos las primeras 5 filas del data set para verificar si cargaron exitosamente\n",
    "df_fut_1.head()"
   ]
  },
  {
   "cell_type": "code",
   "execution_count": 48,
   "id": "ba7c6f4c-3b5c-4a89-a1dc-bf5763098286",
   "metadata": {},
   "outputs": [
    {
     "data": {
      "text/html": [
       "<div>\n",
       "<style scoped>\n",
       "    .dataframe tbody tr th:only-of-type {\n",
       "        vertical-align: middle;\n",
       "    }\n",
       "\n",
       "    .dataframe tbody tr th {\n",
       "        vertical-align: top;\n",
       "    }\n",
       "\n",
       "    .dataframe thead th {\n",
       "        text-align: right;\n",
       "    }\n",
       "</style>\n",
       "<table border=\"1\" class=\"dataframe\">\n",
       "  <thead>\n",
       "    <tr style=\"text-align: right;\">\n",
       "      <th></th>\n",
       "      <th>País</th>\n",
       "      <th>Goles_marcados</th>\n",
       "      <th>Partidos_ganados</th>\n",
       "      <th>Penales_atajados</th>\n",
       "      <th>Zona</th>\n",
       "    </tr>\n",
       "  </thead>\n",
       "  <tbody>\n",
       "    <tr>\n",
       "      <th>5</th>\n",
       "      <td>México</td>\n",
       "      <td>8</td>\n",
       "      <td>2</td>\n",
       "      <td>1</td>\n",
       "      <td>Conca</td>\n",
       "    </tr>\n",
       "    <tr>\n",
       "      <th>6</th>\n",
       "      <td>Italia</td>\n",
       "      <td>11</td>\n",
       "      <td>3</td>\n",
       "      <td>2</td>\n",
       "      <td>Euro</td>\n",
       "    </tr>\n",
       "    <tr>\n",
       "      <th>7</th>\n",
       "      <td>Inglaterra</td>\n",
       "      <td>10</td>\n",
       "      <td>3</td>\n",
       "      <td>1</td>\n",
       "      <td>Euro</td>\n",
       "    </tr>\n",
       "    <tr>\n",
       "      <th>8</th>\n",
       "      <td>Uruguay</td>\n",
       "      <td>7</td>\n",
       "      <td>1</td>\n",
       "      <td>1</td>\n",
       "      <td>SudA</td>\n",
       "    </tr>\n",
       "    <tr>\n",
       "      <th>9</th>\n",
       "      <td>Portugal</td>\n",
       "      <td>9</td>\n",
       "      <td>2</td>\n",
       "      <td>0</td>\n",
       "      <td>SudA</td>\n",
       "    </tr>\n",
       "  </tbody>\n",
       "</table>\n",
       "</div>"
      ],
      "text/plain": [
       "         País  Goles_marcados  Partidos_ganados  Penales_atajados   Zona\n",
       "5      México               8                 2                 1  Conca\n",
       "6      Italia              11                 3                 2   Euro\n",
       "7  Inglaterra              10                 3                 1   Euro\n",
       "8     Uruguay               7                 1                 1   SudA\n",
       "9    Portugal               9                 2                 0   SudA"
      ]
     },
     "execution_count": 48,
     "metadata": {},
     "output_type": "execute_result"
    }
   ],
   "source": [
    "# Imprimimos las ultimas filas del dataframe para inspeccionar los datos\n",
    "df_fut_1.tail()"
   ]
  },
  {
   "cell_type": "code",
   "execution_count": 49,
   "id": "c9545b2e-ec81-49c5-8454-0ee4245d4d06",
   "metadata": {},
   "outputs": [
    {
     "data": {
      "text/plain": [
       "(10, 5)"
      ]
     },
     "execution_count": 49,
     "metadata": {},
     "output_type": "execute_result"
    }
   ],
   "source": [
    "# Imprimimos las dimensiones del data set (rows, columns)\n",
    "df_fut_1.shape"
   ]
  },
  {
   "cell_type": "code",
   "execution_count": 50,
   "id": "5f0c38c7-721c-4ca1-842a-d2f414c8bf19",
   "metadata": {},
   "outputs": [
    {
     "data": {
      "text/plain": [
       "Index(['País', 'Goles_marcados', 'Partidos_ganados', 'Penales_atajados',\n",
       "       'Zona'],\n",
       "      dtype='object')"
      ]
     },
     "execution_count": 50,
     "metadata": {},
     "output_type": "execute_result"
    }
   ],
   "source": [
    "# Muestra el nombre de las columnas\n",
    "df_fut_1.columns"
   ]
  },
  {
   "cell_type": "code",
   "execution_count": 51,
   "id": "5cde2f9e-a253-42d9-acdd-e4d7828e298d",
   "metadata": {},
   "outputs": [],
   "source": [
    "# Obtenemos la columna de nuestro interés. En este caso es la columna exam_score\n",
    "columna = \"Goles_marcados\""
   ]
  },
  {
   "cell_type": "markdown",
   "id": "30df6e49-76d7-4978-b217-f991fe6d1d8d",
   "metadata": {},
   "source": [
    "<font color = 'Salmon'>\n",
    "<font size = 5>\n",
    "Personalización de la tabla de frecuencias con los datos de fútbol con la regla de Sturges"
   ]
  },
  {
   "cell_type": "code",
   "execution_count": 52,
   "id": "d1847b75-3e01-4ab2-b9cb-0d56d6ceafb6",
   "metadata": {},
   "outputs": [
    {
     "data": {
      "text/plain": [
       "4"
      ]
     },
     "execution_count": 52,
     "metadata": {},
     "output_type": "execute_result"
    }
   ],
   "source": [
    "# Para calcular los bins se puede usar la Regla de Sturges\n",
    "c = round(1 + np.log2(df_fut_1.shape[0])) \n",
    "c"
   ]
  },
  {
   "cell_type": "code",
   "execution_count": 53,
   "id": "fcbbed16-9a47-46a6-ba35-213d1838bb5c",
   "metadata": {},
   "outputs": [
    {
     "data": {
      "text/plain": [
       "np.int64(15)"
      ]
     },
     "execution_count": 53,
     "metadata": {},
     "output_type": "execute_result"
    }
   ],
   "source": [
    "df_fut_1.Goles_marcados.max()"
   ]
  },
  {
   "cell_type": "code",
   "execution_count": 54,
   "id": "3ede59e2-27b4-48e5-b0bd-dcdda1825239",
   "metadata": {},
   "outputs": [
    {
     "data": {
      "text/plain": [
       "np.int64(7)"
      ]
     },
     "execution_count": 54,
     "metadata": {},
     "output_type": "execute_result"
    }
   ],
   "source": [
    "df_fut_1.Goles_marcados.min()"
   ]
  },
  {
   "cell_type": "code",
   "execution_count": 55,
   "id": "c9c6a148-7fe9-4f63-b2dc-2a00d13b8758",
   "metadata": {},
   "outputs": [
    {
     "data": {
      "text/plain": [
       "array([ 7.,  9., 11., 13., 15.])"
      ]
     },
     "execution_count": 55,
     "metadata": {},
     "output_type": "execute_result"
    }
   ],
   "source": [
    "# Crea los intervalos (clases)\n",
    "bins = np.linspace(min(df_fut_1[columna]), max(df_fut_1[columna]), c + 1)\n",
    "bins"
   ]
  },
  {
   "cell_type": "code",
   "execution_count": 56,
   "id": "e2b8c351-6ed2-4689-a5f6-e0a42df305f3",
   "metadata": {},
   "outputs": [
    {
     "data": {
      "text/plain": [
       "['7.0 - 9.0', '9.0 - 11.0', '11.0 - 13.0', '13.0 - 15.0']"
      ]
     },
     "execution_count": 56,
     "metadata": {},
     "output_type": "execute_result"
    }
   ],
   "source": [
    "# Crea los nombres de las clases\n",
    "labels = [f\"{bins[x]} - {bins[x + 1]}\" for x in range(0, len(bins) - 1)]\n",
    "labels # se muestran los labels"
   ]
  },
  {
   "cell_type": "code",
   "execution_count": 57,
   "id": "7aeb331c-cbc3-4fcb-95a6-29c23fb20ef2",
   "metadata": {},
   "outputs": [
    {
     "data": {
      "text/plain": [
       "0    11.0 - 13.0\n",
       "1     9.0 - 11.0\n",
       "2            NaN\n",
       "3    13.0 - 15.0\n",
       "4     9.0 - 11.0\n",
       "5      7.0 - 9.0\n",
       "6    11.0 - 13.0\n",
       "7     9.0 - 11.0\n",
       "8      7.0 - 9.0\n",
       "9     9.0 - 11.0\n",
       "Name: Class, dtype: category\n",
       "Categories (4, object): ['7.0 - 9.0' < '9.0 - 11.0' < '11.0 - 13.0' < '13.0 - 15.0']"
      ]
     },
     "execution_count": 57,
     "metadata": {},
     "output_type": "execute_result"
    }
   ],
   "source": [
    "# Crea las clases\n",
    "df_fut_1['Class'] = pd.cut(df_fut_1[columna], bins = bins, labels = labels, right = False) # right = False no toma en cuenta el intervalo derecho, es un intervalo abierto\n",
    "df_fut_1['Class']"
   ]
  },
  {
   "cell_type": "code",
   "execution_count": 58,
   "id": "35f5ac7b-9adc-4075-b4a3-541cc3402e39",
   "metadata": {},
   "outputs": [
    {
     "data": {
      "text/plain": [
       "[np.float64(8.0), np.float64(10.0), np.float64(12.0), np.float64(14.0)]"
      ]
     },
     "execution_count": 58,
     "metadata": {},
     "output_type": "execute_result"
    }
   ],
   "source": [
    "# Crea las marcas de clase\n",
    "Class_value = [(bins[x] + bins[x + 1]) / 2 for x in range(0, len(bins) - 1)]\n",
    "Class_value"
   ]
  },
  {
   "cell_type": "code",
   "execution_count": 59,
   "id": "e5d58741-206b-4e09-af75-d48f6a646c15",
   "metadata": {},
   "outputs": [
    {
     "data": {
      "text/plain": [
       "Class\n",
       "7.0 - 9.0      2\n",
       "9.0 - 11.0     4\n",
       "11.0 - 13.0    2\n",
       "13.0 - 15.0    1\n",
       "Name: count, dtype: int64"
      ]
     },
     "execution_count": 59,
     "metadata": {},
     "output_type": "execute_result"
    }
   ],
   "source": [
    "# Calcula la frecuencia\n",
    "frequency = df_fut_1['Class'].value_counts(sort = False)\n",
    "frequency"
   ]
  },
  {
   "cell_type": "code",
   "execution_count": 60,
   "id": "ede86668-e642-486e-9fa6-a20d985107a8",
   "metadata": {},
   "outputs": [
    {
     "data": {
      "text/plain": [
       "Class\n",
       "7.0 - 9.0      0.222222\n",
       "9.0 - 11.0     0.444444\n",
       "11.0 - 13.0    0.222222\n",
       "13.0 - 15.0    0.111111\n",
       "Name: count, dtype: float64"
      ]
     },
     "execution_count": 60,
     "metadata": {},
     "output_type": "execute_result"
    }
   ],
   "source": [
    "# Calcula la frecuencia relativa\n",
    "relative_frequency = frequency / frequency.sum()\n",
    "relative_frequency"
   ]
  },
  {
   "cell_type": "code",
   "execution_count": 61,
   "id": "1feea536-3061-4ca5-b2ea-9a1092da8570",
   "metadata": {},
   "outputs": [
    {
     "data": {
      "text/plain": [
       "Class\n",
       "7.0 - 9.0      0.222222\n",
       "9.0 - 11.0     0.666667\n",
       "11.0 - 13.0    0.888889\n",
       "13.0 - 15.0    1.000000\n",
       "Name: count, dtype: float64"
      ]
     },
     "execution_count": 61,
     "metadata": {},
     "output_type": "execute_result"
    }
   ],
   "source": [
    "# Calcula la frecuencia relativa acumulada\n",
    "cumulative_relative_frequency = relative_frequency.cumsum()\n",
    "cumulative_relative_frequency"
   ]
  },
  {
   "cell_type": "code",
   "execution_count": 62,
   "id": "41c1e80c-699f-4912-be28-6070a239ca5f",
   "metadata": {},
   "outputs": [],
   "source": [
    "# Crea la tabla de frecuencias final con la regla de Sturges\n",
    "table_fut = pd.DataFrame({\n",
    "    'Class': labels,\n",
    "    'Class_value': Class_value,\n",
    "    'Frequency': frequency.values,\n",
    "    'Relative_frequency': relative_frequency.values,\n",
    "    'Cumulative_relative_frequency': cumulative_relative_frequency\n",
    "})"
   ]
  },
  {
   "cell_type": "code",
   "execution_count": 63,
   "id": "107a8fdc-782a-496d-901e-0c4685e47fd6",
   "metadata": {},
   "outputs": [
    {
     "data": {
      "text/html": [
       "<div>\n",
       "<style scoped>\n",
       "    .dataframe tbody tr th:only-of-type {\n",
       "        vertical-align: middle;\n",
       "    }\n",
       "\n",
       "    .dataframe tbody tr th {\n",
       "        vertical-align: top;\n",
       "    }\n",
       "\n",
       "    .dataframe thead th {\n",
       "        text-align: right;\n",
       "    }\n",
       "</style>\n",
       "<table border=\"1\" class=\"dataframe\">\n",
       "  <thead>\n",
       "    <tr style=\"text-align: right;\">\n",
       "      <th></th>\n",
       "      <th>Class</th>\n",
       "      <th>Class_value</th>\n",
       "      <th>Frequency</th>\n",
       "      <th>Relative_frequency</th>\n",
       "      <th>Cumulative_relative_frequency</th>\n",
       "    </tr>\n",
       "    <tr>\n",
       "      <th>Class</th>\n",
       "      <th></th>\n",
       "      <th></th>\n",
       "      <th></th>\n",
       "      <th></th>\n",
       "      <th></th>\n",
       "    </tr>\n",
       "  </thead>\n",
       "  <tbody>\n",
       "    <tr>\n",
       "      <th>7.0 - 9.0</th>\n",
       "      <td>7.0 - 9.0</td>\n",
       "      <td>8.0</td>\n",
       "      <td>2</td>\n",
       "      <td>0.222222</td>\n",
       "      <td>0.222222</td>\n",
       "    </tr>\n",
       "    <tr>\n",
       "      <th>9.0 - 11.0</th>\n",
       "      <td>9.0 - 11.0</td>\n",
       "      <td>10.0</td>\n",
       "      <td>4</td>\n",
       "      <td>0.444444</td>\n",
       "      <td>0.666667</td>\n",
       "    </tr>\n",
       "    <tr>\n",
       "      <th>11.0 - 13.0</th>\n",
       "      <td>11.0 - 13.0</td>\n",
       "      <td>12.0</td>\n",
       "      <td>2</td>\n",
       "      <td>0.222222</td>\n",
       "      <td>0.888889</td>\n",
       "    </tr>\n",
       "    <tr>\n",
       "      <th>13.0 - 15.0</th>\n",
       "      <td>13.0 - 15.0</td>\n",
       "      <td>14.0</td>\n",
       "      <td>1</td>\n",
       "      <td>0.111111</td>\n",
       "      <td>1.000000</td>\n",
       "    </tr>\n",
       "  </tbody>\n",
       "</table>\n",
       "</div>"
      ],
      "text/plain": [
       "                   Class  Class_value  Frequency  Relative_frequency  \\\n",
       "Class                                                                  \n",
       "7.0 - 9.0      7.0 - 9.0          8.0          2            0.222222   \n",
       "9.0 - 11.0    9.0 - 11.0         10.0          4            0.444444   \n",
       "11.0 - 13.0  11.0 - 13.0         12.0          2            0.222222   \n",
       "13.0 - 15.0  13.0 - 15.0         14.0          1            0.111111   \n",
       "\n",
       "             Cumulative_relative_frequency  \n",
       "Class                                       \n",
       "7.0 - 9.0                         0.222222  \n",
       "9.0 - 11.0                        0.666667  \n",
       "11.0 - 13.0                       0.888889  \n",
       "13.0 - 15.0                       1.000000  "
      ]
     },
     "execution_count": 63,
     "metadata": {},
     "output_type": "execute_result"
    }
   ],
   "source": [
    "table_fut"
   ]
  },
  {
   "cell_type": "code",
   "execution_count": 64,
   "id": "33d47b4b-ac70-4f93-af1f-6532bf0dc955",
   "metadata": {},
   "outputs": [],
   "source": [
    "# Guardamos la tabla \n",
    "table_fut.to_csv(\"Frecuencias_relativas_fut.csv\", index = False)"
   ]
  },
  {
   "cell_type": "markdown",
   "id": "db1529b6-1aed-430f-887d-4a3785fcfad0",
   "metadata": {},
   "source": [
    "<font color = 'DodgerBlue'>\n",
    "<font size = 5>\n",
    "    \n",
    "**Medidas de tendencia central**"
   ]
  },
  {
   "cell_type": "markdown",
   "id": "57f6bc46-8049-4058-aba5-4688d5a6f56b",
   "metadata": {},
   "source": [
    "<font color = 'Black'>\n",
    "<font size = 3>\n",
    "\n",
    "- En Estadística, todos los datos están distribuidos a través de varios puntos, que se le conoce como **distribución de los datos**.\n",
    "- Cuando los datos tienden a juntarse al rededor de un cierto valor se le conoce como una **tendencia central**.\n",
    "- La tendencia central es un representante global de los datos.\n",
    "- En particular, representa las características generales del conjunto de datos."
   ]
  },
  {
   "cell_type": "markdown",
   "id": "05af493a-6a2d-49e9-99bf-d550ed65c613",
   "metadata": {},
   "source": [
    "<font color = 'DodgerBlue'>\n",
    "<font size = 5>\n",
    "    \n",
    "**Media**"
   ]
  },
  {
   "cell_type": "markdown",
   "id": "d997b865-8de7-4ed3-9c1b-8b2e18d85f98",
   "metadata": {},
   "source": [
    "<font color = 'Black'>\n",
    "<font size = 3>\n",
    "\n",
    "Se define como el promedio aritmético de los datos de la muestra o de la población en una característica medida (es decir, en una columna). Su valor tiene la siguiente interpretación: **si elijo una observación al azar, ya sea de la muestra o de la población, su valor en dicha característica se *espera* que sea cercano a la media aritmética**.\n",
    "\n",
    "\n",
    "Es decir, si tenemos una columna $X$ que toma valores $x_1,x_2,...,x_n$ en nuestra tabla, se denota por $\\overline{x}$ al valor promedio. Esto es: $$\\overline{x}=\\frac{x_1+x_2+...+x_n}{n}=\\frac{1}{n}\\sum_{i=1}^nx_i$$ donde $n$ es el tamaño de la muestra.\n",
    "\n",
    "Existe también la llamada **media poblacional**. Este sería el parámetro poblacional que representa al promedio. Si $x_1,x_2,...,x_N$ son toda la población (una población de tamaño $N$), su media poblacional se representa por $\\mu$ y viene dada por el promedio de los valores de toda la población: $$\\mu=\\frac{x_1+x_2+...+x_N}{N}=\\frac{1}{N}\\sum_{i=1}^Nx_i$$\n",
    "\n",
    "Recordemos que los parámetro poblacionales son, en general, desconocidos, de modo que utilizaremos $\\overline{x}$ como una aproximación de $\\mu$ (y posteriormente veremos qué tan buena es dicha aproximación)."
   ]
  },
  {
   "cell_type": "markdown",
   "id": "c7bb572b-7924-4aec-9def-d40ae174da15",
   "metadata": {},
   "source": [
    "<font color = 'Brown'>\n",
    "<font size = 4>\n",
    "    \n",
    "**Notas**"
   ]
  },
  {
   "cell_type": "markdown",
   "id": "561aa204-3482-4729-91db-d8bf57c4960d",
   "metadata": {},
   "source": [
    "<font color = 'DarkRed'>\n",
    "<font size = 3>\n",
    "\n",
    "- Existen dos problemas fundamentales en la Estadística:\n",
    "    - La estimación de la **media poblacional** ($\\mu$).\n",
    "    - La **proporción**.\n",
    "- Para aproximar la **media poblacional** ($\\mu$) vamos a usar los **intervalos de confianza**.\n",
    "- Los **intervalos de confianza** se calculan a partir de la **media muestral**\n",
    "- La **media** es muy sensible a **datos atípicos**.\n",
    "- La **mediana** es menos sensible a los **datos atípicos**."
   ]
  },
  {
   "cell_type": "markdown",
   "id": "ecb50ea1-4d50-49ad-8782-4f0aeb342ed7",
   "metadata": {},
   "source": [
    "<font color = 'deepskyblue'>\n",
    "<font size = 5>\n",
    "Lectura de los datos"
   ]
  },
  {
   "cell_type": "code",
   "execution_count": 65,
   "id": "4296ca5e-3dce-411a-8f2d-338293f7f5b4",
   "metadata": {},
   "outputs": [],
   "source": [
    "# Importamos el data set\n",
    "df_fut_2 = pd.read_csv('Data/estadisticas_futbol_2.csv')"
   ]
  },
  {
   "cell_type": "code",
   "execution_count": 66,
   "id": "944193fa-39f0-49b4-acff-eaca58f771ec",
   "metadata": {},
   "outputs": [
    {
     "data": {
      "text/html": [
       "<div>\n",
       "<style scoped>\n",
       "    .dataframe tbody tr th:only-of-type {\n",
       "        vertical-align: middle;\n",
       "    }\n",
       "\n",
       "    .dataframe tbody tr th {\n",
       "        vertical-align: top;\n",
       "    }\n",
       "\n",
       "    .dataframe thead th {\n",
       "        text-align: right;\n",
       "    }\n",
       "</style>\n",
       "<table border=\"1\" class=\"dataframe\">\n",
       "  <thead>\n",
       "    <tr style=\"text-align: right;\">\n",
       "      <th></th>\n",
       "      <th>País</th>\n",
       "      <th>Goles_marcados</th>\n",
       "      <th>Partidos_ganados</th>\n",
       "      <th>Penales_atajados</th>\n",
       "      <th>Zona</th>\n",
       "    </tr>\n",
       "  </thead>\n",
       "  <tbody>\n",
       "    <tr>\n",
       "      <th>0</th>\n",
       "      <td>Brasil</td>\n",
       "      <td>12</td>\n",
       "      <td>4</td>\n",
       "      <td>2</td>\n",
       "      <td>SudA</td>\n",
       "    </tr>\n",
       "    <tr>\n",
       "      <th>1</th>\n",
       "      <td>Argentina</td>\n",
       "      <td>10</td>\n",
       "      <td>3</td>\n",
       "      <td>1</td>\n",
       "      <td>SudA</td>\n",
       "    </tr>\n",
       "    <tr>\n",
       "      <th>2</th>\n",
       "      <td>Francia</td>\n",
       "      <td>15</td>\n",
       "      <td>5</td>\n",
       "      <td>3</td>\n",
       "      <td>Euro</td>\n",
       "    </tr>\n",
       "    <tr>\n",
       "      <th>3</th>\n",
       "      <td>Alemania</td>\n",
       "      <td>13</td>\n",
       "      <td>4</td>\n",
       "      <td>2</td>\n",
       "      <td>Euro</td>\n",
       "    </tr>\n",
       "    <tr>\n",
       "      <th>4</th>\n",
       "      <td>España</td>\n",
       "      <td>9</td>\n",
       "      <td>2</td>\n",
       "      <td>0</td>\n",
       "      <td>Euro</td>\n",
       "    </tr>\n",
       "    <tr>\n",
       "      <th>5</th>\n",
       "      <td>México</td>\n",
       "      <td>8</td>\n",
       "      <td>2</td>\n",
       "      <td>1</td>\n",
       "      <td>Conca</td>\n",
       "    </tr>\n",
       "    <tr>\n",
       "      <th>6</th>\n",
       "      <td>Italia</td>\n",
       "      <td>11</td>\n",
       "      <td>3</td>\n",
       "      <td>2</td>\n",
       "      <td>Euro</td>\n",
       "    </tr>\n",
       "    <tr>\n",
       "      <th>7</th>\n",
       "      <td>Inglaterra</td>\n",
       "      <td>10</td>\n",
       "      <td>3</td>\n",
       "      <td>1</td>\n",
       "      <td>Euro</td>\n",
       "    </tr>\n",
       "    <tr>\n",
       "      <th>8</th>\n",
       "      <td>Uruguay</td>\n",
       "      <td>7</td>\n",
       "      <td>1</td>\n",
       "      <td>1</td>\n",
       "      <td>SudA</td>\n",
       "    </tr>\n",
       "    <tr>\n",
       "      <th>9</th>\n",
       "      <td>Portugal</td>\n",
       "      <td>9</td>\n",
       "      <td>2</td>\n",
       "      <td>0</td>\n",
       "      <td>SudA</td>\n",
       "    </tr>\n",
       "  </tbody>\n",
       "</table>\n",
       "</div>"
      ],
      "text/plain": [
       "         País  Goles_marcados  Partidos_ganados  Penales_atajados   Zona\n",
       "0      Brasil              12                 4                 2   SudA\n",
       "1   Argentina              10                 3                 1   SudA\n",
       "2     Francia              15                 5                 3   Euro\n",
       "3    Alemania              13                 4                 2   Euro\n",
       "4      España               9                 2                 0   Euro\n",
       "5      México               8                 2                 1  Conca\n",
       "6      Italia              11                 3                 2   Euro\n",
       "7  Inglaterra              10                 3                 1   Euro\n",
       "8     Uruguay               7                 1                 1   SudA\n",
       "9    Portugal               9                 2                 0   SudA"
      ]
     },
     "execution_count": 66,
     "metadata": {},
     "output_type": "execute_result"
    }
   ],
   "source": [
    "# Se muestra el dataframe para ver si cargó de manera exitosa\n",
    "df_fut_2"
   ]
  },
  {
   "cell_type": "code",
   "execution_count": 67,
   "id": "7515646f-c09a-4167-a897-279eb368241a",
   "metadata": {},
   "outputs": [
    {
     "data": {
      "text/html": [
       "<div>\n",
       "<style scoped>\n",
       "    .dataframe tbody tr th:only-of-type {\n",
       "        vertical-align: middle;\n",
       "    }\n",
       "\n",
       "    .dataframe tbody tr th {\n",
       "        vertical-align: top;\n",
       "    }\n",
       "\n",
       "    .dataframe thead th {\n",
       "        text-align: right;\n",
       "    }\n",
       "</style>\n",
       "<table border=\"1\" class=\"dataframe\">\n",
       "  <thead>\n",
       "    <tr style=\"text-align: right;\">\n",
       "      <th></th>\n",
       "      <th>País</th>\n",
       "      <th>Goles_marcados</th>\n",
       "      <th>Partidos_ganados</th>\n",
       "      <th>Penales_atajados</th>\n",
       "      <th>Zona</th>\n",
       "    </tr>\n",
       "  </thead>\n",
       "  <tbody>\n",
       "    <tr>\n",
       "      <th>0</th>\n",
       "      <td>Brasil</td>\n",
       "      <td>12</td>\n",
       "      <td>4</td>\n",
       "      <td>2</td>\n",
       "      <td>SudA</td>\n",
       "    </tr>\n",
       "    <tr>\n",
       "      <th>1</th>\n",
       "      <td>Argentina</td>\n",
       "      <td>10</td>\n",
       "      <td>3</td>\n",
       "      <td>1</td>\n",
       "      <td>SudA</td>\n",
       "    </tr>\n",
       "    <tr>\n",
       "      <th>2</th>\n",
       "      <td>Francia</td>\n",
       "      <td>15</td>\n",
       "      <td>5</td>\n",
       "      <td>3</td>\n",
       "      <td>Euro</td>\n",
       "    </tr>\n",
       "    <tr>\n",
       "      <th>3</th>\n",
       "      <td>Alemania</td>\n",
       "      <td>13</td>\n",
       "      <td>4</td>\n",
       "      <td>2</td>\n",
       "      <td>Euro</td>\n",
       "    </tr>\n",
       "    <tr>\n",
       "      <th>4</th>\n",
       "      <td>España</td>\n",
       "      <td>9</td>\n",
       "      <td>2</td>\n",
       "      <td>0</td>\n",
       "      <td>Euro</td>\n",
       "    </tr>\n",
       "  </tbody>\n",
       "</table>\n",
       "</div>"
      ],
      "text/plain": [
       "        País  Goles_marcados  Partidos_ganados  Penales_atajados  Zona\n",
       "0     Brasil              12                 4                 2  SudA\n",
       "1  Argentina              10                 3                 1  SudA\n",
       "2    Francia              15                 5                 3  Euro\n",
       "3   Alemania              13                 4                 2  Euro\n",
       "4     España               9                 2                 0  Euro"
      ]
     },
     "execution_count": 67,
     "metadata": {},
     "output_type": "execute_result"
    }
   ],
   "source": [
    "# Imprimimos las primeras 5 filas del data set para verificar si cargaron exitosamente\n",
    "df_fut_2.head()"
   ]
  },
  {
   "cell_type": "code",
   "execution_count": 68,
   "id": "cb291d18-98f9-44e6-b939-8d7e55cea5fe",
   "metadata": {},
   "outputs": [
    {
     "data": {
      "text/html": [
       "<div>\n",
       "<style scoped>\n",
       "    .dataframe tbody tr th:only-of-type {\n",
       "        vertical-align: middle;\n",
       "    }\n",
       "\n",
       "    .dataframe tbody tr th {\n",
       "        vertical-align: top;\n",
       "    }\n",
       "\n",
       "    .dataframe thead th {\n",
       "        text-align: right;\n",
       "    }\n",
       "</style>\n",
       "<table border=\"1\" class=\"dataframe\">\n",
       "  <thead>\n",
       "    <tr style=\"text-align: right;\">\n",
       "      <th></th>\n",
       "      <th>País</th>\n",
       "      <th>Goles_marcados</th>\n",
       "      <th>Partidos_ganados</th>\n",
       "      <th>Penales_atajados</th>\n",
       "      <th>Zona</th>\n",
       "    </tr>\n",
       "  </thead>\n",
       "  <tbody>\n",
       "    <tr>\n",
       "      <th>5</th>\n",
       "      <td>México</td>\n",
       "      <td>8</td>\n",
       "      <td>2</td>\n",
       "      <td>1</td>\n",
       "      <td>Conca</td>\n",
       "    </tr>\n",
       "    <tr>\n",
       "      <th>6</th>\n",
       "      <td>Italia</td>\n",
       "      <td>11</td>\n",
       "      <td>3</td>\n",
       "      <td>2</td>\n",
       "      <td>Euro</td>\n",
       "    </tr>\n",
       "    <tr>\n",
       "      <th>7</th>\n",
       "      <td>Inglaterra</td>\n",
       "      <td>10</td>\n",
       "      <td>3</td>\n",
       "      <td>1</td>\n",
       "      <td>Euro</td>\n",
       "    </tr>\n",
       "    <tr>\n",
       "      <th>8</th>\n",
       "      <td>Uruguay</td>\n",
       "      <td>7</td>\n",
       "      <td>1</td>\n",
       "      <td>1</td>\n",
       "      <td>SudA</td>\n",
       "    </tr>\n",
       "    <tr>\n",
       "      <th>9</th>\n",
       "      <td>Portugal</td>\n",
       "      <td>9</td>\n",
       "      <td>2</td>\n",
       "      <td>0</td>\n",
       "      <td>SudA</td>\n",
       "    </tr>\n",
       "  </tbody>\n",
       "</table>\n",
       "</div>"
      ],
      "text/plain": [
       "         País  Goles_marcados  Partidos_ganados  Penales_atajados   Zona\n",
       "5      México               8                 2                 1  Conca\n",
       "6      Italia              11                 3                 2   Euro\n",
       "7  Inglaterra              10                 3                 1   Euro\n",
       "8     Uruguay               7                 1                 1   SudA\n",
       "9    Portugal               9                 2                 0   SudA"
      ]
     },
     "execution_count": 68,
     "metadata": {},
     "output_type": "execute_result"
    }
   ],
   "source": [
    "# Imprimimos las ultimas filas del dataframe para inspeccionar los datos\n",
    "df_fut_2.tail()"
   ]
  },
  {
   "cell_type": "code",
   "execution_count": 69,
   "id": "4e4ec007-5115-4a40-9975-537f4b796ec9",
   "metadata": {},
   "outputs": [
    {
     "data": {
      "text/plain": [
       "(10, 5)"
      ]
     },
     "execution_count": 69,
     "metadata": {},
     "output_type": "execute_result"
    }
   ],
   "source": [
    "# Imprimimos las dimensiones del data set (rows, columns)\n",
    "df_fut_2.shape"
   ]
  },
  {
   "cell_type": "code",
   "execution_count": 70,
   "id": "0b5be4b2-dec9-4fb7-a0bd-252c9a237e53",
   "metadata": {},
   "outputs": [
    {
     "data": {
      "text/plain": [
       "Index(['País', 'Goles_marcados', 'Partidos_ganados', 'Penales_atajados',\n",
       "       'Zona', 'Class'],\n",
       "      dtype='object')"
      ]
     },
     "execution_count": 70,
     "metadata": {},
     "output_type": "execute_result"
    }
   ],
   "source": [
    "# Muestra el nombre de las columnas\n",
    "df_fut_1.columns"
   ]
  },
  {
   "cell_type": "code",
   "execution_count": 71,
   "id": "0f038c71-978a-492e-87cf-cf49bc7a66cb",
   "metadata": {},
   "outputs": [
    {
     "data": {
      "text/plain": [
       "np.float64(10.4)"
      ]
     },
     "execution_count": 71,
     "metadata": {},
     "output_type": "execute_result"
    }
   ],
   "source": [
    "# Obtenemos la media de los goles marcados\n",
    "mean_goles = df_fut_2[\"Goles_marcados\"].mean()\n",
    "mean_goles"
   ]
  },
  {
   "cell_type": "code",
   "execution_count": 72,
   "id": "ec76a425-0cf0-418b-b0b8-076aff08f8d4",
   "metadata": {},
   "outputs": [
    {
     "data": {
      "text/plain": [
       "np.float64(2.9)"
      ]
     },
     "execution_count": 72,
     "metadata": {},
     "output_type": "execute_result"
    }
   ],
   "source": [
    "# Obtenemos la media de partidos ganados\n",
    "mean_partidos = df_fut_2[\"Partidos_ganados\"].mean()\n",
    "mean_partidos"
   ]
  },
  {
   "cell_type": "code",
   "execution_count": 73,
   "id": "c986cca1-6717-43c4-947c-a52fd49b2489",
   "metadata": {},
   "outputs": [
    {
     "data": {
      "text/html": [
       "<div>\n",
       "<style scoped>\n",
       "    .dataframe tbody tr th:only-of-type {\n",
       "        vertical-align: middle;\n",
       "    }\n",
       "\n",
       "    .dataframe tbody tr th {\n",
       "        vertical-align: top;\n",
       "    }\n",
       "\n",
       "    .dataframe thead th {\n",
       "        text-align: right;\n",
       "    }\n",
       "</style>\n",
       "<table border=\"1\" class=\"dataframe\">\n",
       "  <thead>\n",
       "    <tr style=\"text-align: right;\">\n",
       "      <th></th>\n",
       "      <th>País</th>\n",
       "      <th>Goles_marcados</th>\n",
       "      <th>Partidos_ganados</th>\n",
       "      <th>Penales_atajados</th>\n",
       "      <th>Zona</th>\n",
       "    </tr>\n",
       "  </thead>\n",
       "  <tbody>\n",
       "    <tr>\n",
       "      <th>6</th>\n",
       "      <td>Italia</td>\n",
       "      <td>11</td>\n",
       "      <td>3</td>\n",
       "      <td>2</td>\n",
       "      <td>Euro</td>\n",
       "    </tr>\n",
       "  </tbody>\n",
       "</table>\n",
       "</div>"
      ],
      "text/plain": [
       "     País  Goles_marcados  Partidos_ganados  Penales_atajados  Zona\n",
       "6  Italia              11                 3                 2  Euro"
      ]
     },
     "execution_count": 73,
     "metadata": {},
     "output_type": "execute_result"
    }
   ],
   "source": [
    "# Se toma una observación aleatoria (un row completo)\n",
    "observacion_aleatoria = df_fut_2.sample(1) # sample = muestra de tamaño 1, es decir un row completo\n",
    "observacion_aleatoria"
   ]
  },
  {
   "cell_type": "code",
   "execution_count": 74,
   "id": "cfe144cf-ff0f-404e-b58c-163918c0ef0d",
   "metadata": {},
   "outputs": [
    {
     "data": {
      "text/html": [
       "<div>\n",
       "<style scoped>\n",
       "    .dataframe tbody tr th:only-of-type {\n",
       "        vertical-align: middle;\n",
       "    }\n",
       "\n",
       "    .dataframe tbody tr th {\n",
       "        vertical-align: top;\n",
       "    }\n",
       "\n",
       "    .dataframe thead th {\n",
       "        text-align: right;\n",
       "    }\n",
       "</style>\n",
       "<table border=\"1\" class=\"dataframe\">\n",
       "  <thead>\n",
       "    <tr style=\"text-align: right;\">\n",
       "      <th></th>\n",
       "      <th>valor</th>\n",
       "    </tr>\n",
       "  </thead>\n",
       "  <tbody>\n",
       "    <tr>\n",
       "      <th>0</th>\n",
       "      <td>35</td>\n",
       "    </tr>\n",
       "    <tr>\n",
       "      <th>1</th>\n",
       "      <td>58</td>\n",
       "    </tr>\n",
       "    <tr>\n",
       "      <th>2</th>\n",
       "      <td>61</td>\n",
       "    </tr>\n",
       "    <tr>\n",
       "      <th>3</th>\n",
       "      <td>41</td>\n",
       "    </tr>\n",
       "    <tr>\n",
       "      <th>4</th>\n",
       "      <td>216</td>\n",
       "    </tr>\n",
       "    <tr>\n",
       "      <th>5</th>\n",
       "      <td>72</td>\n",
       "    </tr>\n",
       "    <tr>\n",
       "      <th>6</th>\n",
       "      <td>56</td>\n",
       "    </tr>\n",
       "    <tr>\n",
       "      <th>7</th>\n",
       "      <td>48</td>\n",
       "    </tr>\n",
       "    <tr>\n",
       "      <th>8</th>\n",
       "      <td>90</td>\n",
       "    </tr>\n",
       "    <tr>\n",
       "      <th>9</th>\n",
       "      <td>66</td>\n",
       "    </tr>\n",
       "  </tbody>\n",
       "</table>\n",
       "</div>"
      ],
      "text/plain": [
       "   valor\n",
       "0     35\n",
       "1     58\n",
       "2     61\n",
       "3     41\n",
       "4    216\n",
       "5     72\n",
       "6     56\n",
       "7     48\n",
       "8     90\n",
       "9     66"
      ]
     },
     "execution_count": 74,
     "metadata": {},
     "output_type": "execute_result"
    }
   ],
   "source": [
    "# Vamos a crear una tabla con los siguientes datos\n",
    "datos = pd.DataFrame({\"valor\":[35, 58, 61, 41, 216, 72, 56, 48, 90, 66]})\n",
    "datos"
   ]
  },
  {
   "cell_type": "code",
   "execution_count": 75,
   "id": "c7b67ebd-c76a-4ccf-8ce2-e96f5736231c",
   "metadata": {},
   "outputs": [
    {
     "data": {
      "text/plain": [
       "np.float64(74.3)"
      ]
     },
     "execution_count": 75,
     "metadata": {},
     "output_type": "execute_result"
    }
   ],
   "source": [
    "# Obtenemos la media de los datos\n",
    "datos[\"valor\"].mean()"
   ]
  },
  {
   "cell_type": "code",
   "execution_count": 76,
   "id": "27f7c7ee-bc0b-4765-9e4f-cd32858c9683",
   "metadata": {},
   "outputs": [
    {
     "data": {
      "image/png": "[encoded data removed]"
     },
     "metadata": {
      "image/png": {
       "height": 480,
       "width": 640
      }
     },
     "output_type": "display_data"
    }
   ],
   "source": [
    "# Obtenemos un gráfico de los datos para visualizar\n",
    "(ggplot(data=datos) + \n",
    "    geom_point(mapping=aes(x=\"valor\"),y=0) + \n",
    "    geom_vline(mapping=aes(xintercept=\"valor.mean()\"),color=\"red\") +\n",
    "    ylim(-0.01,0.01)\n",
    "    )"
   ]
  },
  {
   "cell_type": "markdown",
   "id": "4fc44c5c-c6d5-4ef9-b478-d121f4eb75a7",
   "metadata": {},
   "source": [
    "<font color = 'Brown'>\n",
    "<font size = 4>\n",
    "    \n",
    "**Notas**"
   ]
  },
  {
   "cell_type": "markdown",
   "id": "ec287ebb-bc79-424d-b859-0644d99f8fc7",
   "metadata": {},
   "source": [
    "<font color = 'DarkRed'>\n",
    "<font size = 3>\n",
    "\n",
    "- En la gráfica anterior se observa como el dato atípico afecta la **media** de los datos, ya que estira mucho el promedio.\n",
    "- Por lo tanto, la **media** no es un buen representante de los **datos**."
   ]
  },
  {
   "cell_type": "markdown",
   "id": "474030ee-61a9-4b17-b081-de543f10f8d3",
   "metadata": {},
   "source": [
    "<font color = 'DodgerBlue'>\n",
    "<font size = 5>\n",
    "    \n",
    "**Mediana**"
   ]
  },
  {
   "cell_type": "markdown",
   "id": "669c6e6a-3c5d-4032-b900-40d04346865f",
   "metadata": {},
   "source": [
    "<font color = 'Black'>\n",
    "<font size = 3>\n",
    "\n",
    "- Ante situaciones como la anterior, una alternativa para representar los datos es mediante la **mediana**.\n",
    "- La **mediana** es un valor que divide al total de datos de la columna en el 50% más alto y el 50% más bajo.\n",
    "- Es el valor que queda a la mitad aproximada de los datos cuando se ordenan de menor a mayor.\n",
    "- Cuando hay un número par de datos, se ordenan de menor a mayor, entonces la **mediana** es el promedio de los dos de en medio o del centro.\n",
    "- Cuando hay un número impar de datos, la **mediana** siempre queda exactamente a la mitad."
   ]
  },
  {
   "cell_type": "code",
   "execution_count": 77,
   "id": "71da0141-7df8-4ec1-93b2-778afc659dd8",
   "metadata": {},
   "outputs": [
    {
     "data": {
      "text/plain": [
       "8     7\n",
       "5     8\n",
       "9     9\n",
       "4     9\n",
       "1    10\n",
       "7    10\n",
       "6    11\n",
       "0    12\n",
       "3    13\n",
       "2    15\n",
       "Name: Goles_marcados, dtype: int64"
      ]
     },
     "execution_count": 77,
     "metadata": {},
     "output_type": "execute_result"
    }
   ],
   "source": [
    "# Ordenar de menor al mayor de los goles marcados\n",
    "df_fut_2[\"Goles_marcados\"].sort_values()"
   ]
  },
  {
   "cell_type": "code",
   "execution_count": 78,
   "id": "59ddbb7e-8750-45fb-9165-452d534f677b",
   "metadata": {},
   "outputs": [
    {
     "data": {
      "text/plain": [
       "np.float64(10.0)"
      ]
     },
     "execution_count": 78,
     "metadata": {},
     "output_type": "execute_result"
    }
   ],
   "source": [
    "# Obtenemos la mediana de los goles marcados\n",
    "median_goles = df_fut_2[\"Goles_marcados\"].median()\n",
    "median_goles"
   ]
  },
  {
   "cell_type": "code",
   "execution_count": 79,
   "id": "88764a82-937a-4fb6-aac8-b5524d63ce80",
   "metadata": {},
   "outputs": [
    {
     "data": {
      "text/plain": [
       "8    1\n",
       "5    2\n",
       "9    2\n",
       "4    2\n",
       "7    3\n",
       "6    3\n",
       "1    3\n",
       "0    4\n",
       "3    4\n",
       "2    5\n",
       "Name: Partidos_ganados, dtype: int64"
      ]
     },
     "execution_count": 79,
     "metadata": {},
     "output_type": "execute_result"
    }
   ],
   "source": [
    "# Ordenar de menor al mayor de los partidos ganados\n",
    "df_fut_2[\"Partidos_ganados\"].sort_values()"
   ]
  },
  {
   "cell_type": "code",
   "execution_count": 80,
   "id": "3a57c46a-3cc7-4842-ab68-ece8547c1bec",
   "metadata": {},
   "outputs": [
    {
     "data": {
      "text/plain": [
       "np.float64(3.0)"
      ]
     },
     "execution_count": 80,
     "metadata": {},
     "output_type": "execute_result"
    }
   ],
   "source": [
    "# Obtenemos la mediana de los partidos ganados\n",
    "median_partidos = df_fut_2[\"Partidos_ganados\"].median()\n",
    "median_partidos"
   ]
  },
  {
   "cell_type": "markdown",
   "id": "884fc4cf-e037-4d13-80a3-3a2800e78471",
   "metadata": {},
   "source": [
    "<font color = 'Brown'>\n",
    "<font size = 4>\n",
    "    \n",
    "**Notas**"
   ]
  },
  {
   "cell_type": "markdown",
   "id": "483debe0-6c16-4fe4-a1b4-6dc271b758d7",
   "metadata": {},
   "source": [
    "<font color = 'DarkRed'>\n",
    "<font size = 3>\n",
    "\n",
    "- Esto que nos dice es que el 50% de los equipos ganó 3 o menos partidos.\n",
    "- Esto que nos dice es que el 50% de los equipos ganó 3 o más partidos.\n",
    "- La **mediana** nos da una medida de qué tan concentrados están los datos.\n",
    "- La **mediana** no es tan sensible ante la presencia de datos atípicos."
   ]
  },
  {
   "cell_type": "code",
   "execution_count": 81,
   "id": "a7af7403-2b33-45db-a084-9f86f6ed4152",
   "metadata": {},
   "outputs": [
    {
     "data": {
      "text/plain": [
       "np.float64(59.5)"
      ]
     },
     "execution_count": 81,
     "metadata": {},
     "output_type": "execute_result"
    }
   ],
   "source": [
    "# Creamos una tabla de datos\n",
    "datos = pd.DataFrame({\"valor\":[35,58,61,41,216,72,56,48,90,66]})\n",
    "datos[\"valor\"].median()"
   ]
  },
  {
   "cell_type": "code",
   "execution_count": 82,
   "id": "e1cfecc9-4f9c-424f-b6ec-c8e2492d1ac1",
   "metadata": {},
   "outputs": [
    {
     "data": {
      "image/png": "[encoded data removed]"
     },
     "metadata": {
      "image/png": {
       "height": 480,
       "width": 640
      }
     },
     "output_type": "display_data"
    }
   ],
   "source": [
    "# Visualizamos su comportamiento\n",
    "(ggplot(data=datos) + \n",
    "     geom_point(mapping=aes(x=\"valor\"),y=0) + \n",
    "     geom_vline(mapping=aes(xintercept=\"valor.mean()\"),color=\"red\") +\n",
    "     geom_vline(mapping=aes(xintercept=\"valor.median()\"),color=\"blue\") +\n",
    "     ylim(-0.01,0.01)\n",
    ")"
   ]
  },
  {
   "cell_type": "markdown",
   "id": "9c136fab-ecb7-4195-b0e2-a1ca22181f68",
   "metadata": {},
   "source": [
    "<font color = 'DodgerBlue'>\n",
    "<font size = 5>\n",
    "    \n",
    "**Moda**"
   ]
  },
  {
   "cell_type": "markdown",
   "id": "20fd2ce0-f7fb-4c71-a7c3-215556cd0684",
   "metadata": {},
   "source": [
    "<font color = 'Black'>\n",
    "<font size = 3>\n",
    "\n",
    "- La **moda** es el valor que más se repite.\n",
    "- La **moda** se puede aplicar a **datos categóricos**.\n",
    "- La **media** y **mediana** se alimenta de valores numéricos."
   ]
  },
  {
   "cell_type": "code",
   "execution_count": 83,
   "id": "ca674f0f-1270-4dd2-8786-acbc1f304a99",
   "metadata": {},
   "outputs": [
    {
     "data": {
      "text/plain": [
       "0    2\n",
       "1    3\n",
       "Name: Partidos_ganados, dtype: int64"
      ]
     },
     "execution_count": 83,
     "metadata": {},
     "output_type": "execute_result"
    }
   ],
   "source": [
    "# Obtenemos la moda a los partidos ganados\n",
    "df_fut_2[\"Partidos_ganados\"].mode() "
   ]
  },
  {
   "cell_type": "markdown",
   "id": "7f9cf3d2-7dd9-4f26-bc46-2107bdc7947d",
   "metadata": {},
   "source": [
    "<font color = 'DodgerBlue'>\n",
    "<font size = 5>\n",
    "    \n",
    "**Medidad de tendencia central para grupos con Python**"
   ]
  },
  {
   "cell_type": "markdown",
   "id": "8ec19453-3319-4282-81e3-ecfd85746c25",
   "metadata": {},
   "source": [
    "<font color = 'Black'>\n",
    "<font size = 3>\n",
    "\n",
    "Ahora trabajamos con grupos para ver su comportamiento."
   ]
  },
  {
   "cell_type": "code",
   "execution_count": 84,
   "id": "ae24037e-df65-4cf1-9f93-ed401f494e0f",
   "metadata": {},
   "outputs": [
    {
     "data": {
      "text/plain": [
       "Index(['País', 'Goles_marcados', 'Partidos_ganados', 'Penales_atajados',\n",
       "       'Zona'],\n",
       "      dtype='object')"
      ]
     },
     "execution_count": 84,
     "metadata": {},
     "output_type": "execute_result"
    }
   ],
   "source": [
    "# Se muestra el nombre de las columnas\n",
    "df_fut_2.columns"
   ]
  },
  {
   "cell_type": "code",
   "execution_count": 85,
   "id": "5b036d77-b1a2-4864-b54d-b919c48a5d03",
   "metadata": {},
   "outputs": [
    {
     "data": {
      "text/plain": [
       "<bound method NDFrame.head of          País  Goles_marcados  Partidos_ganados  Penales_atajados   Zona\n",
       "0      Brasil              12                 4                 2   SudA\n",
       "1   Argentina              10                 3                 1   SudA\n",
       "2     Francia              15                 5                 3   Euro\n",
       "3    Alemania              13                 4                 2   Euro\n",
       "4      España               9                 2                 0   Euro\n",
       "5      México               8                 2                 1  Conca\n",
       "6      Italia              11                 3                 2   Euro\n",
       "7  Inglaterra              10                 3                 1   Euro\n",
       "8     Uruguay               7                 1                 1   SudA\n",
       "9    Portugal               9                 2                 0   SudA>"
      ]
     },
     "execution_count": 85,
     "metadata": {},
     "output_type": "execute_result"
    }
   ],
   "source": [
    "df_fut_2.head"
   ]
  },
  {
   "cell_type": "markdown",
   "id": "c6288b34-8263-465c-9f7b-d40b0e72bf62",
   "metadata": {},
   "source": [
    "<font color = 'DarkCyan'>\n",
    "<font size = 4>\n",
    "Trabajamos con la media"
   ]
  },
  {
   "cell_type": "code",
   "execution_count": 86,
   "id": "017677b4-bd7a-4be4-b3bc-994df682830a",
   "metadata": {},
   "outputs": [
    {
     "data": {
      "text/html": [
       "<div>\n",
       "<style scoped>\n",
       "    .dataframe tbody tr th:only-of-type {\n",
       "        vertical-align: middle;\n",
       "    }\n",
       "\n",
       "    .dataframe tbody tr th {\n",
       "        vertical-align: top;\n",
       "    }\n",
       "\n",
       "    .dataframe thead th {\n",
       "        text-align: right;\n",
       "    }\n",
       "</style>\n",
       "<table border=\"1\" class=\"dataframe\">\n",
       "  <thead>\n",
       "    <tr style=\"text-align: right;\">\n",
       "      <th></th>\n",
       "      <th>País</th>\n",
       "      <th>Goles_marcados</th>\n",
       "      <th>Partidos_ganados</th>\n",
       "      <th>Penales_atajados</th>\n",
       "      <th>Zona</th>\n",
       "    </tr>\n",
       "  </thead>\n",
       "  <tbody>\n",
       "    <tr>\n",
       "      <th>2</th>\n",
       "      <td>Francia</td>\n",
       "      <td>15</td>\n",
       "      <td>5</td>\n",
       "      <td>3</td>\n",
       "      <td>Euro</td>\n",
       "    </tr>\n",
       "    <tr>\n",
       "      <th>3</th>\n",
       "      <td>Alemania</td>\n",
       "      <td>13</td>\n",
       "      <td>4</td>\n",
       "      <td>2</td>\n",
       "      <td>Euro</td>\n",
       "    </tr>\n",
       "    <tr>\n",
       "      <th>4</th>\n",
       "      <td>España</td>\n",
       "      <td>9</td>\n",
       "      <td>2</td>\n",
       "      <td>0</td>\n",
       "      <td>Euro</td>\n",
       "    </tr>\n",
       "    <tr>\n",
       "      <th>6</th>\n",
       "      <td>Italia</td>\n",
       "      <td>11</td>\n",
       "      <td>3</td>\n",
       "      <td>2</td>\n",
       "      <td>Euro</td>\n",
       "    </tr>\n",
       "    <tr>\n",
       "      <th>7</th>\n",
       "      <td>Inglaterra</td>\n",
       "      <td>10</td>\n",
       "      <td>3</td>\n",
       "      <td>1</td>\n",
       "      <td>Euro</td>\n",
       "    </tr>\n",
       "  </tbody>\n",
       "</table>\n",
       "</div>"
      ],
      "text/plain": [
       "         País  Goles_marcados  Partidos_ganados  Penales_atajados  Zona\n",
       "2     Francia              15                 5                 3  Euro\n",
       "3    Alemania              13                 4                 2  Euro\n",
       "4      España               9                 2                 0  Euro\n",
       "6      Italia              11                 3                 2  Euro\n",
       "7  Inglaterra              10                 3                 1  Euro"
      ]
     },
     "execution_count": 86,
     "metadata": {},
     "output_type": "execute_result"
    }
   ],
   "source": [
    "# Se muestra solo la tabla de nuestro interés\n",
    "df_fut_2[df_fut_2[\"Zona\"] == \"Euro\"] # se muestra la tabla solo de europa"
   ]
  },
  {
   "cell_type": "code",
   "execution_count": 87,
   "id": "4fd5454b-ec26-496b-9e3c-635dd5d46ffc",
   "metadata": {},
   "outputs": [
    {
     "data": {
      "text/plain": [
       "np.float64(11.6)"
      ]
     },
     "execution_count": 87,
     "metadata": {},
     "output_type": "execute_result"
    }
   ],
   "source": [
    "# Media en un grupo en una columna: tabla[tabla[\"columna de clases\"] == \"grupo requerido\"].columna_requerida.mean()\n",
    "df_fut_2[df_fut_2[\"Zona\"] == \"Euro\"].Goles_marcados.mean() # obtenemos las media de los goles marcados de la zona de Europa"
   ]
  },
  {
   "cell_type": "code",
   "execution_count": 88,
   "id": "7e8ca758-9614-433f-b83e-6e24a13bbbfa",
   "metadata": {},
   "outputs": [
    {
     "data": {
      "text/html": [
       "<div>\n",
       "<style scoped>\n",
       "    .dataframe tbody tr th:only-of-type {\n",
       "        vertical-align: middle;\n",
       "    }\n",
       "\n",
       "    .dataframe tbody tr th {\n",
       "        vertical-align: top;\n",
       "    }\n",
       "\n",
       "    .dataframe thead th {\n",
       "        text-align: right;\n",
       "    }\n",
       "</style>\n",
       "<table border=\"1\" class=\"dataframe\">\n",
       "  <thead>\n",
       "    <tr style=\"text-align: right;\">\n",
       "      <th></th>\n",
       "      <th>Goles_marcados</th>\n",
       "      <th>Partidos_ganados</th>\n",
       "    </tr>\n",
       "  </thead>\n",
       "  <tbody>\n",
       "    <tr>\n",
       "      <th>0</th>\n",
       "      <td>12</td>\n",
       "      <td>4</td>\n",
       "    </tr>\n",
       "    <tr>\n",
       "      <th>1</th>\n",
       "      <td>10</td>\n",
       "      <td>3</td>\n",
       "    </tr>\n",
       "    <tr>\n",
       "      <th>2</th>\n",
       "      <td>15</td>\n",
       "      <td>5</td>\n",
       "    </tr>\n",
       "    <tr>\n",
       "      <th>3</th>\n",
       "      <td>13</td>\n",
       "      <td>4</td>\n",
       "    </tr>\n",
       "    <tr>\n",
       "      <th>4</th>\n",
       "      <td>9</td>\n",
       "      <td>2</td>\n",
       "    </tr>\n",
       "    <tr>\n",
       "      <th>5</th>\n",
       "      <td>8</td>\n",
       "      <td>2</td>\n",
       "    </tr>\n",
       "    <tr>\n",
       "      <th>6</th>\n",
       "      <td>11</td>\n",
       "      <td>3</td>\n",
       "    </tr>\n",
       "    <tr>\n",
       "      <th>7</th>\n",
       "      <td>10</td>\n",
       "      <td>3</td>\n",
       "    </tr>\n",
       "    <tr>\n",
       "      <th>8</th>\n",
       "      <td>7</td>\n",
       "      <td>1</td>\n",
       "    </tr>\n",
       "    <tr>\n",
       "      <th>9</th>\n",
       "      <td>9</td>\n",
       "      <td>2</td>\n",
       "    </tr>\n",
       "  </tbody>\n",
       "</table>\n",
       "</div>"
      ],
      "text/plain": [
       "   Goles_marcados  Partidos_ganados\n",
       "0              12                 4\n",
       "1              10                 3\n",
       "2              15                 5\n",
       "3              13                 4\n",
       "4               9                 2\n",
       "5               8                 2\n",
       "6              11                 3\n",
       "7              10                 3\n",
       "8               7                 1\n",
       "9               9                 2"
      ]
     },
     "execution_count": 88,
     "metadata": {},
     "output_type": "execute_result"
    }
   ],
   "source": [
    "# Solo se muestran las columnas que nos interesan\n",
    "df_fut_2[[\"Goles_marcados\", \"Partidos_ganados\"]] # solo se muestran las columnas de Goles_marcados y Partidos_ganados()"
   ]
  },
  {
   "cell_type": "code",
   "execution_count": 89,
   "id": "26eeaf11-14c4-4dad-90c2-5abcc6dc8742",
   "metadata": {},
   "outputs": [
    {
     "data": {
      "text/plain": [
       "Goles_marcados      11.6\n",
       "Partidos_ganados     3.4\n",
       "dtype: float64"
      ]
     },
     "execution_count": 89,
     "metadata": {},
     "output_type": "execute_result"
    }
   ],
   "source": [
    "# Media en un grupo en algunas columnas de interés\n",
    "df_fut_2[[\"Goles_marcados\", \"Partidos_ganados\"]][df_fut_2[\"Zona\"] == \"Euro\"].mean() # obtenemos la media de cada una de las columnas de interés"
   ]
  },
  {
   "cell_type": "code",
   "execution_count": 90,
   "id": "664359eb-9ec3-465b-8cd5-893559590281",
   "metadata": {},
   "outputs": [
    {
     "data": {
      "text/html": [
       "<div>\n",
       "<style scoped>\n",
       "    .dataframe tbody tr th:only-of-type {\n",
       "        vertical-align: middle;\n",
       "    }\n",
       "\n",
       "    .dataframe tbody tr th {\n",
       "        vertical-align: top;\n",
       "    }\n",
       "\n",
       "    .dataframe thead th {\n",
       "        text-align: right;\n",
       "    }\n",
       "</style>\n",
       "<table border=\"1\" class=\"dataframe\">\n",
       "  <thead>\n",
       "    <tr style=\"text-align: right;\">\n",
       "      <th></th>\n",
       "      <th>País</th>\n",
       "      <th>Goles_marcados</th>\n",
       "      <th>Partidos_ganados</th>\n",
       "      <th>Penales_atajados</th>\n",
       "      <th>Zona</th>\n",
       "    </tr>\n",
       "  </thead>\n",
       "  <tbody>\n",
       "    <tr>\n",
       "      <th>2</th>\n",
       "      <td>Francia</td>\n",
       "      <td>15</td>\n",
       "      <td>5</td>\n",
       "      <td>3</td>\n",
       "      <td>Euro</td>\n",
       "    </tr>\n",
       "    <tr>\n",
       "      <th>3</th>\n",
       "      <td>Alemania</td>\n",
       "      <td>13</td>\n",
       "      <td>4</td>\n",
       "      <td>2</td>\n",
       "      <td>Euro</td>\n",
       "    </tr>\n",
       "    <tr>\n",
       "      <th>4</th>\n",
       "      <td>España</td>\n",
       "      <td>9</td>\n",
       "      <td>2</td>\n",
       "      <td>0</td>\n",
       "      <td>Euro</td>\n",
       "    </tr>\n",
       "    <tr>\n",
       "      <th>6</th>\n",
       "      <td>Italia</td>\n",
       "      <td>11</td>\n",
       "      <td>3</td>\n",
       "      <td>2</td>\n",
       "      <td>Euro</td>\n",
       "    </tr>\n",
       "    <tr>\n",
       "      <th>7</th>\n",
       "      <td>Inglaterra</td>\n",
       "      <td>10</td>\n",
       "      <td>3</td>\n",
       "      <td>1</td>\n",
       "      <td>Euro</td>\n",
       "    </tr>\n",
       "  </tbody>\n",
       "</table>\n",
       "</div>"
      ],
      "text/plain": [
       "         País  Goles_marcados  Partidos_ganados  Penales_atajados  Zona\n",
       "2     Francia              15                 5                 3  Euro\n",
       "3    Alemania              13                 4                 2  Euro\n",
       "4      España               9                 2                 0  Euro\n",
       "6      Italia              11                 3                 2  Euro\n",
       "7  Inglaterra              10                 3                 1  Euro"
      ]
     },
     "execution_count": 90,
     "metadata": {},
     "output_type": "execute_result"
    }
   ],
   "source": [
    "# Se muestran la tabla de la zona de interés\n",
    "df_fut_2[df_fut_2[\"Zona\"] == \"Euro\"] # en este caso es la de europa"
   ]
  },
  {
   "cell_type": "code",
   "execution_count": 91,
   "id": "5baefd1e-b180-4486-bb46-98604947a3c2",
   "metadata": {},
   "outputs": [
    {
     "data": {
      "text/html": [
       "<div>\n",
       "<style scoped>\n",
       "    .dataframe tbody tr th:only-of-type {\n",
       "        vertical-align: middle;\n",
       "    }\n",
       "\n",
       "    .dataframe tbody tr th {\n",
       "        vertical-align: top;\n",
       "    }\n",
       "\n",
       "    .dataframe thead th {\n",
       "        text-align: right;\n",
       "    }\n",
       "</style>\n",
       "<table border=\"1\" class=\"dataframe\">\n",
       "  <thead>\n",
       "    <tr style=\"text-align: right;\">\n",
       "      <th></th>\n",
       "      <th>Goles_marcados</th>\n",
       "      <th>Partidos_ganados</th>\n",
       "      <th>Penales_atajados</th>\n",
       "    </tr>\n",
       "  </thead>\n",
       "  <tbody>\n",
       "    <tr>\n",
       "      <th>0</th>\n",
       "      <td>12</td>\n",
       "      <td>4</td>\n",
       "      <td>2</td>\n",
       "    </tr>\n",
       "    <tr>\n",
       "      <th>1</th>\n",
       "      <td>10</td>\n",
       "      <td>3</td>\n",
       "      <td>1</td>\n",
       "    </tr>\n",
       "    <tr>\n",
       "      <th>2</th>\n",
       "      <td>15</td>\n",
       "      <td>5</td>\n",
       "      <td>3</td>\n",
       "    </tr>\n",
       "    <tr>\n",
       "      <th>3</th>\n",
       "      <td>13</td>\n",
       "      <td>4</td>\n",
       "      <td>2</td>\n",
       "    </tr>\n",
       "    <tr>\n",
       "      <th>4</th>\n",
       "      <td>9</td>\n",
       "      <td>2</td>\n",
       "      <td>0</td>\n",
       "    </tr>\n",
       "    <tr>\n",
       "      <th>5</th>\n",
       "      <td>8</td>\n",
       "      <td>2</td>\n",
       "      <td>1</td>\n",
       "    </tr>\n",
       "    <tr>\n",
       "      <th>6</th>\n",
       "      <td>11</td>\n",
       "      <td>3</td>\n",
       "      <td>2</td>\n",
       "    </tr>\n",
       "    <tr>\n",
       "      <th>7</th>\n",
       "      <td>10</td>\n",
       "      <td>3</td>\n",
       "      <td>1</td>\n",
       "    </tr>\n",
       "    <tr>\n",
       "      <th>8</th>\n",
       "      <td>7</td>\n",
       "      <td>1</td>\n",
       "      <td>1</td>\n",
       "    </tr>\n",
       "    <tr>\n",
       "      <th>9</th>\n",
       "      <td>9</td>\n",
       "      <td>2</td>\n",
       "      <td>0</td>\n",
       "    </tr>\n",
       "  </tbody>\n",
       "</table>\n",
       "</div>"
      ],
      "text/plain": [
       "   Goles_marcados  Partidos_ganados  Penales_atajados\n",
       "0              12                 4                 2\n",
       "1              10                 3                 1\n",
       "2              15                 5                 3\n",
       "3              13                 4                 2\n",
       "4               9                 2                 0\n",
       "5               8                 2                 1\n",
       "6              11                 3                 2\n",
       "7              10                 3                 1\n",
       "8               7                 1                 1\n",
       "9               9                 2                 0"
      ]
     },
     "execution_count": 91,
     "metadata": {},
     "output_type": "execute_result"
    }
   ],
   "source": [
    "# Se muestra la tabla solo con los datos numéricos\n",
    "df_fut_2.select_dtypes(include = [\"number\"]) # se queda solo con las columnas con valores numéricos"
   ]
  },
  {
   "cell_type": "code",
   "execution_count": 92,
   "id": "7ec86747-34d3-4779-b359-4198cb6d75be",
   "metadata": {},
   "outputs": [
    {
     "data": {
      "text/plain": [
       "Goles_marcados      11.6\n",
       "Partidos_ganados     3.4\n",
       "Penales_atajados     1.6\n",
       "dtype: float64"
      ]
     },
     "execution_count": 92,
     "metadata": {},
     "output_type": "execute_result"
    }
   ],
   "source": [
    "# Media en un grupo en todas las columnas ===> Forma 1\n",
    "df_fut_2[df_fut_2[\"Zona\"] == \"Euro\"].select_dtypes(include = [\"number\"]).mean() # media de los datos de europa"
   ]
  },
  {
   "cell_type": "code",
   "execution_count": 93,
   "id": "41e75dd6-2b52-4cee-84d4-1fb025a38994",
   "metadata": {},
   "outputs": [
    {
     "data": {
      "text/plain": [
       "Goles_marcados      11.6\n",
       "Partidos_ganados     3.4\n",
       "Penales_atajados     1.6\n",
       "dtype: float64"
      ]
     },
     "execution_count": 93,
     "metadata": {},
     "output_type": "execute_result"
    }
   ],
   "source": [
    "# Media en un grupo en todas las columnas ===> Forma 2\n",
    "df_fut_2[df_fut_2[\"Zona\"] == \"Euro\"].mean(numeric_only = True) # media de los datos de europa"
   ]
  },
  {
   "cell_type": "code",
   "execution_count": 94,
   "id": "aea391ec-d86a-4225-a8b6-bc4e98560575",
   "metadata": {},
   "outputs": [
    {
     "data": {
      "text/plain": [
       "Zona\n",
       "Conca     8.0\n",
       "Euro     11.6\n",
       "SudA      9.5\n",
       "Name: Goles_marcados, dtype: float64"
      ]
     },
     "execution_count": 94,
     "metadata": {},
     "output_type": "execute_result"
    }
   ],
   "source": [
    "# Media en todos los grupos y una columna\n",
    "df_fut_2.groupby(\"Zona\").Goles_marcados.mean() # se obtiene la media de Goles marcados por zona"
   ]
  },
  {
   "cell_type": "code",
   "execution_count": 95,
   "id": "ce8bd812-e56d-4651-b98c-f596d07c2b89",
   "metadata": {},
   "outputs": [
    {
     "data": {
      "text/html": [
       "<div>\n",
       "<style scoped>\n",
       "    .dataframe tbody tr th:only-of-type {\n",
       "        vertical-align: middle;\n",
       "    }\n",
       "\n",
       "    .dataframe tbody tr th {\n",
       "        vertical-align: top;\n",
       "    }\n",
       "\n",
       "    .dataframe thead th {\n",
       "        text-align: right;\n",
       "    }\n",
       "</style>\n",
       "<table border=\"1\" class=\"dataframe\">\n",
       "  <thead>\n",
       "    <tr style=\"text-align: right;\">\n",
       "      <th></th>\n",
       "      <th>Goles_marcados</th>\n",
       "      <th>Partidos_ganados</th>\n",
       "    </tr>\n",
       "    <tr>\n",
       "      <th>Zona</th>\n",
       "      <th></th>\n",
       "      <th></th>\n",
       "    </tr>\n",
       "  </thead>\n",
       "  <tbody>\n",
       "    <tr>\n",
       "      <th>Conca</th>\n",
       "      <td>8.0</td>\n",
       "      <td>2.0</td>\n",
       "    </tr>\n",
       "    <tr>\n",
       "      <th>Euro</th>\n",
       "      <td>11.6</td>\n",
       "      <td>3.4</td>\n",
       "    </tr>\n",
       "    <tr>\n",
       "      <th>SudA</th>\n",
       "      <td>9.5</td>\n",
       "      <td>2.5</td>\n",
       "    </tr>\n",
       "  </tbody>\n",
       "</table>\n",
       "</div>"
      ],
      "text/plain": [
       "       Goles_marcados  Partidos_ganados\n",
       "Zona                                   \n",
       "Conca             8.0               2.0\n",
       "Euro             11.6               3.4\n",
       "SudA              9.5               2.5"
      ]
     },
     "execution_count": 95,
     "metadata": {},
     "output_type": "execute_result"
    }
   ],
   "source": [
    "# Media en todos los grupos y algunas columnas\n",
    "df_fut_2[[\"Goles_marcados\", \"Partidos_ganados\", \"Zona\"]].groupby(\"Zona\").mean() # se obtiene de media por zona de Goles y Partidos"
   ]
  },
  {
   "cell_type": "code",
   "execution_count": 96,
   "id": "394356f0-86cf-4433-878e-0f01665d7b77",
   "metadata": {},
   "outputs": [
    {
     "data": {
      "text/html": [
       "<div>\n",
       "<style scoped>\n",
       "    .dataframe tbody tr th:only-of-type {\n",
       "        vertical-align: middle;\n",
       "    }\n",
       "\n",
       "    .dataframe tbody tr th {\n",
       "        vertical-align: top;\n",
       "    }\n",
       "\n",
       "    .dataframe thead th {\n",
       "        text-align: right;\n",
       "    }\n",
       "</style>\n",
       "<table border=\"1\" class=\"dataframe\">\n",
       "  <thead>\n",
       "    <tr style=\"text-align: right;\">\n",
       "      <th></th>\n",
       "      <th>Goles_marcados</th>\n",
       "      <th>Partidos_ganados</th>\n",
       "      <th>Penales_atajados</th>\n",
       "    </tr>\n",
       "    <tr>\n",
       "      <th>Zona</th>\n",
       "      <th></th>\n",
       "      <th></th>\n",
       "      <th></th>\n",
       "    </tr>\n",
       "  </thead>\n",
       "  <tbody>\n",
       "    <tr>\n",
       "      <th>Conca</th>\n",
       "      <td>8.0</td>\n",
       "      <td>2.0</td>\n",
       "      <td>1.0</td>\n",
       "    </tr>\n",
       "    <tr>\n",
       "      <th>Euro</th>\n",
       "      <td>11.6</td>\n",
       "      <td>3.4</td>\n",
       "      <td>1.6</td>\n",
       "    </tr>\n",
       "    <tr>\n",
       "      <th>SudA</th>\n",
       "      <td>9.5</td>\n",
       "      <td>2.5</td>\n",
       "      <td>1.0</td>\n",
       "    </tr>\n",
       "  </tbody>\n",
       "</table>\n",
       "</div>"
      ],
      "text/plain": [
       "       Goles_marcados  Partidos_ganados  Penales_atajados\n",
       "Zona                                                     \n",
       "Conca             8.0               2.0               1.0\n",
       "Euro             11.6               3.4               1.6\n",
       "SudA              9.5               2.5               1.0"
      ]
     },
     "execution_count": 96,
     "metadata": {},
     "output_type": "execute_result"
    }
   ],
   "source": [
    "# Media en todos los grupos y todas las columnas\n",
    "df_fut_2.groupby(\"Zona\").mean(numeric_only = True) # obtiene la media de todas las columnas de cada zona que incluye solo valores numéricos"
   ]
  },
  {
   "cell_type": "markdown",
   "id": "b968d6ef-09ff-4a33-b3bb-849419205020",
   "metadata": {},
   "source": [
    "<font color = 'DarkCyan'>\n",
    "<font size = 4>\n",
    "Trabajamos con la mediana"
   ]
  },
  {
   "cell_type": "code",
   "execution_count": 97,
   "id": "006933ec-b9c7-4997-b494-fb0b2288155d",
   "metadata": {},
   "outputs": [
    {
     "data": {
      "text/html": [
       "<div>\n",
       "<style scoped>\n",
       "    .dataframe tbody tr th:only-of-type {\n",
       "        vertical-align: middle;\n",
       "    }\n",
       "\n",
       "    .dataframe tbody tr th {\n",
       "        vertical-align: top;\n",
       "    }\n",
       "\n",
       "    .dataframe thead th {\n",
       "        text-align: right;\n",
       "    }\n",
       "</style>\n",
       "<table border=\"1\" class=\"dataframe\">\n",
       "  <thead>\n",
       "    <tr style=\"text-align: right;\">\n",
       "      <th></th>\n",
       "      <th>País</th>\n",
       "      <th>Goles_marcados</th>\n",
       "      <th>Partidos_ganados</th>\n",
       "      <th>Penales_atajados</th>\n",
       "      <th>Zona</th>\n",
       "    </tr>\n",
       "  </thead>\n",
       "  <tbody>\n",
       "    <tr>\n",
       "      <th>2</th>\n",
       "      <td>Francia</td>\n",
       "      <td>15</td>\n",
       "      <td>5</td>\n",
       "      <td>3</td>\n",
       "      <td>Euro</td>\n",
       "    </tr>\n",
       "    <tr>\n",
       "      <th>3</th>\n",
       "      <td>Alemania</td>\n",
       "      <td>13</td>\n",
       "      <td>4</td>\n",
       "      <td>2</td>\n",
       "      <td>Euro</td>\n",
       "    </tr>\n",
       "    <tr>\n",
       "      <th>4</th>\n",
       "      <td>España</td>\n",
       "      <td>9</td>\n",
       "      <td>2</td>\n",
       "      <td>0</td>\n",
       "      <td>Euro</td>\n",
       "    </tr>\n",
       "    <tr>\n",
       "      <th>6</th>\n",
       "      <td>Italia</td>\n",
       "      <td>11</td>\n",
       "      <td>3</td>\n",
       "      <td>2</td>\n",
       "      <td>Euro</td>\n",
       "    </tr>\n",
       "    <tr>\n",
       "      <th>7</th>\n",
       "      <td>Inglaterra</td>\n",
       "      <td>10</td>\n",
       "      <td>3</td>\n",
       "      <td>1</td>\n",
       "      <td>Euro</td>\n",
       "    </tr>\n",
       "  </tbody>\n",
       "</table>\n",
       "</div>"
      ],
      "text/plain": [
       "         País  Goles_marcados  Partidos_ganados  Penales_atajados  Zona\n",
       "2     Francia              15                 5                 3  Euro\n",
       "3    Alemania              13                 4                 2  Euro\n",
       "4      España               9                 2                 0  Euro\n",
       "6      Italia              11                 3                 2  Euro\n",
       "7  Inglaterra              10                 3                 1  Euro"
      ]
     },
     "execution_count": 97,
     "metadata": {},
     "output_type": "execute_result"
    }
   ],
   "source": [
    "# Se muestra solo la tabla de nuestro interés\n",
    "df_fut_2[df_fut_2[\"Zona\"] == \"Euro\"] # se muestra la tabla solo de europa"
   ]
  },
  {
   "cell_type": "code",
   "execution_count": 98,
   "id": "7eabbc13-2b81-40cc-bcb0-64b7821d7da6",
   "metadata": {},
   "outputs": [
    {
     "data": {
      "text/plain": [
       "np.float64(11.0)"
      ]
     },
     "execution_count": 98,
     "metadata": {},
     "output_type": "execute_result"
    }
   ],
   "source": [
    "# Mediana en un grupo en una columna: tabla[tabla[\"columna de clases\"] == \"grupo requerido\"].columna_requerida.median()\n",
    "df_fut_2[df_fut_2[\"Zona\"] == \"Euro\"].Goles_marcados.median() # obtenemos las media de los goles marcados de la zona de Europa"
   ]
  },
  {
   "cell_type": "code",
   "execution_count": 99,
   "id": "7b45a0e4-4a6b-4a1e-87ac-cdc2270d063b",
   "metadata": {},
   "outputs": [
    {
     "data": {
      "text/plain": [
       "Goles_marcados      11.0\n",
       "Partidos_ganados     3.0\n",
       "dtype: float64"
      ]
     },
     "execution_count": 99,
     "metadata": {},
     "output_type": "execute_result"
    }
   ],
   "source": [
    "# Mediana en un grupo en algunas columnas de interés\n",
    "df_fut_2[df_fut_2[\"Zona\"]==\"Euro\"][[\"Goles_marcados\",\"Partidos_ganados\"]].median() # obtenemos la mediana de cada una de las columnas de interés"
   ]
  },
  {
   "cell_type": "code",
   "execution_count": 100,
   "id": "5b0ef056-73da-405a-8d59-5130b06863e8",
   "metadata": {},
   "outputs": [
    {
     "data": {
      "text/plain": [
       "Goles_marcados      11.0\n",
       "Partidos_ganados     3.0\n",
       "Penales_atajados     2.0\n",
       "dtype: float64"
      ]
     },
     "execution_count": 100,
     "metadata": {},
     "output_type": "execute_result"
    }
   ],
   "source": [
    "# Mediana en un grupo en todas las columnas ===> Forma 2\n",
    "df_fut_2[df_fut_2[\"Zona\"] == \"Euro\"].median(numeric_only = True) # mediana de los datos de europa"
   ]
  },
  {
   "cell_type": "code",
   "execution_count": 101,
   "id": "ad96c46e-8c91-4148-8912-96849e586558",
   "metadata": {},
   "outputs": [
    {
     "data": {
      "text/plain": [
       "Zona\n",
       "Conca     8.0\n",
       "Euro     11.0\n",
       "SudA      9.5\n",
       "Name: Goles_marcados, dtype: float64"
      ]
     },
     "execution_count": 101,
     "metadata": {},
     "output_type": "execute_result"
    }
   ],
   "source": [
    "# Mediana en todos los grupos y una columna\n",
    "df_fut_2.groupby(\"Zona\").Goles_marcados.median() # se obtiene la mediana de Goles marcados por zona"
   ]
  },
  {
   "cell_type": "code",
   "execution_count": 102,
   "id": "87632114-edd7-482a-96d5-b5e12e54db39",
   "metadata": {},
   "outputs": [
    {
     "data": {
      "text/html": [
       "<div>\n",
       "<style scoped>\n",
       "    .dataframe tbody tr th:only-of-type {\n",
       "        vertical-align: middle;\n",
       "    }\n",
       "\n",
       "    .dataframe tbody tr th {\n",
       "        vertical-align: top;\n",
       "    }\n",
       "\n",
       "    .dataframe thead th {\n",
       "        text-align: right;\n",
       "    }\n",
       "</style>\n",
       "<table border=\"1\" class=\"dataframe\">\n",
       "  <thead>\n",
       "    <tr style=\"text-align: right;\">\n",
       "      <th></th>\n",
       "      <th>Goles_marcados</th>\n",
       "      <th>Partidos_ganados</th>\n",
       "    </tr>\n",
       "    <tr>\n",
       "      <th>Zona</th>\n",
       "      <th></th>\n",
       "      <th></th>\n",
       "    </tr>\n",
       "  </thead>\n",
       "  <tbody>\n",
       "    <tr>\n",
       "      <th>Conca</th>\n",
       "      <td>8.0</td>\n",
       "      <td>2.0</td>\n",
       "    </tr>\n",
       "    <tr>\n",
       "      <th>Euro</th>\n",
       "      <td>11.0</td>\n",
       "      <td>3.0</td>\n",
       "    </tr>\n",
       "    <tr>\n",
       "      <th>SudA</th>\n",
       "      <td>9.5</td>\n",
       "      <td>2.5</td>\n",
       "    </tr>\n",
       "  </tbody>\n",
       "</table>\n",
       "</div>"
      ],
      "text/plain": [
       "       Goles_marcados  Partidos_ganados\n",
       "Zona                                   \n",
       "Conca             8.0               2.0\n",
       "Euro             11.0               3.0\n",
       "SudA              9.5               2.5"
      ]
     },
     "execution_count": 102,
     "metadata": {},
     "output_type": "execute_result"
    }
   ],
   "source": [
    "# Mediana en todos los grupos y algunas columnas\n",
    "df_fut_2[[\"Goles_marcados\", \"Partidos_ganados\", \"Zona\"]].groupby(\"Zona\").median() # se obtiene de mediana por zona de Goles y Partidos"
   ]
  },
  {
   "cell_type": "code",
   "execution_count": 103,
   "id": "5d36443d-2c77-4805-89f2-976d378cf095",
   "metadata": {
    "scrolled": true
   },
   "outputs": [
    {
     "data": {
      "text/html": [
       "<div>\n",
       "<style scoped>\n",
       "    .dataframe tbody tr th:only-of-type {\n",
       "        vertical-align: middle;\n",
       "    }\n",
       "\n",
       "    .dataframe tbody tr th {\n",
       "        vertical-align: top;\n",
       "    }\n",
       "\n",
       "    .dataframe thead th {\n",
       "        text-align: right;\n",
       "    }\n",
       "</style>\n",
       "<table border=\"1\" class=\"dataframe\">\n",
       "  <thead>\n",
       "    <tr style=\"text-align: right;\">\n",
       "      <th></th>\n",
       "      <th>Goles_marcados</th>\n",
       "      <th>Partidos_ganados</th>\n",
       "      <th>Penales_atajados</th>\n",
       "    </tr>\n",
       "    <tr>\n",
       "      <th>Zona</th>\n",
       "      <th></th>\n",
       "      <th></th>\n",
       "      <th></th>\n",
       "    </tr>\n",
       "  </thead>\n",
       "  <tbody>\n",
       "    <tr>\n",
       "      <th>Conca</th>\n",
       "      <td>8.0</td>\n",
       "      <td>2.0</td>\n",
       "      <td>1.0</td>\n",
       "    </tr>\n",
       "    <tr>\n",
       "      <th>Euro</th>\n",
       "      <td>11.0</td>\n",
       "      <td>3.0</td>\n",
       "      <td>2.0</td>\n",
       "    </tr>\n",
       "    <tr>\n",
       "      <th>SudA</th>\n",
       "      <td>9.5</td>\n",
       "      <td>2.5</td>\n",
       "      <td>1.0</td>\n",
       "    </tr>\n",
       "  </tbody>\n",
       "</table>\n",
       "</div>"
      ],
      "text/plain": [
       "       Goles_marcados  Partidos_ganados  Penales_atajados\n",
       "Zona                                                     \n",
       "Conca             8.0               2.0               1.0\n",
       "Euro             11.0               3.0               2.0\n",
       "SudA              9.5               2.5               1.0"
      ]
     },
     "execution_count": 103,
     "metadata": {},
     "output_type": "execute_result"
    }
   ],
   "source": [
    "# Mediana en todos los grupos y todas las columnas\n",
    "df_fut_2.groupby(\"Zona\").median(numeric_only = True) # obtiene la mediana de todas las columnas de cada zona que incluye solo valores numéricos"
   ]
  },
  {
   "cell_type": "markdown",
   "id": "bccff49e-5f3e-4f11-8d31-fa7801c46fe7",
   "metadata": {},
   "source": [
    "<font color = 'DodgerBlue'>\n",
    "<font size = 5>\n",
    "    \n",
    "**Medidas de variabilidad**"
   ]
  },
  {
   "cell_type": "markdown",
   "id": "7d18305f-e24d-4e57-a358-0c0a5ca4cf98",
   "metadata": {},
   "source": [
    "<font color = 'Black'>\n",
    "<font size = 3>\n",
    "\n",
    "Después de conocer diferentes formas de resumir los datos, debemos encontrar una manera de mostrar qué tan buenos son estos representantes. \n",
    "\n",
    "- La **variabilidad** es qué tan proximos o alejados están los datos del representante (medida de tendencia central) elegido.\n",
    "- La **moda** es el valor que más se repite."
   ]
  },
  {
   "cell_type": "code",
   "execution_count": 104,
   "id": "8c998421-5ed9-4940-bab3-85d71ae8b5cd",
   "metadata": {},
   "outputs": [
    {
     "data": {
      "text/html": [
       "<div>\n",
       "<style scoped>\n",
       "    .dataframe tbody tr th:only-of-type {\n",
       "        vertical-align: middle;\n",
       "    }\n",
       "\n",
       "    .dataframe tbody tr th {\n",
       "        vertical-align: top;\n",
       "    }\n",
       "\n",
       "    .dataframe thead th {\n",
       "        text-align: right;\n",
       "    }\n",
       "</style>\n",
       "<table border=\"1\" class=\"dataframe\">\n",
       "  <thead>\n",
       "    <tr style=\"text-align: right;\">\n",
       "      <th></th>\n",
       "      <th>datos_A</th>\n",
       "      <th>datos_B</th>\n",
       "    </tr>\n",
       "  </thead>\n",
       "  <tbody>\n",
       "    <tr>\n",
       "      <th>0</th>\n",
       "      <td>5</td>\n",
       "      <td>5</td>\n",
       "    </tr>\n",
       "    <tr>\n",
       "      <th>1</th>\n",
       "      <td>4</td>\n",
       "      <td>1</td>\n",
       "    </tr>\n",
       "    <tr>\n",
       "      <th>2</th>\n",
       "      <td>5</td>\n",
       "      <td>2</td>\n",
       "    </tr>\n",
       "    <tr>\n",
       "      <th>3</th>\n",
       "      <td>4</td>\n",
       "      <td>10</td>\n",
       "    </tr>\n",
       "    <tr>\n",
       "      <th>4</th>\n",
       "      <td>3</td>\n",
       "      <td>5</td>\n",
       "    </tr>\n",
       "    <tr>\n",
       "      <th>5</th>\n",
       "      <td>7</td>\n",
       "      <td>9</td>\n",
       "    </tr>\n",
       "    <tr>\n",
       "      <th>6</th>\n",
       "      <td>4</td>\n",
       "      <td>1</td>\n",
       "    </tr>\n",
       "    <tr>\n",
       "      <th>7</th>\n",
       "      <td>5</td>\n",
       "      <td>8</td>\n",
       "    </tr>\n",
       "    <tr>\n",
       "      <th>8</th>\n",
       "      <td>6</td>\n",
       "      <td>5</td>\n",
       "    </tr>\n",
       "    <tr>\n",
       "      <th>9</th>\n",
       "      <td>5</td>\n",
       "      <td>2</td>\n",
       "    </tr>\n",
       "  </tbody>\n",
       "</table>\n",
       "</div>"
      ],
      "text/plain": [
       "   datos_A  datos_B\n",
       "0        5        5\n",
       "1        4        1\n",
       "2        5        2\n",
       "3        4       10\n",
       "4        3        5\n",
       "5        7        9\n",
       "6        4        1\n",
       "7        5        8\n",
       "8        6        5\n",
       "9        5        2"
      ]
     },
     "execution_count": 104,
     "metadata": {},
     "output_type": "execute_result"
    }
   ],
   "source": [
    "# Creamos una tabla de datos\n",
    "datos = pd.DataFrame({\"datos_A\":[5,4,5,4,3,7,4,5,6,5],\n",
    "\"datos_B\":[5,1,2,10,5,9,1,8,5,2]})\n",
    "datos"
   ]
  },
  {
   "cell_type": "markdown",
   "id": "17230ba6-348f-4fb2-bfd0-28d965c5bdeb",
   "metadata": {},
   "source": [
    "<font color = 'DarkCyan'>\n",
    "<font size = 4>\n",
    "Calculamos sus medidas de tendencia central"
   ]
  },
  {
   "cell_type": "code",
   "execution_count": 105,
   "id": "4e122cc3-0261-4e85-89bd-736bbb8b3b74",
   "metadata": {},
   "outputs": [
    {
     "data": {
      "text/plain": [
       "datos_A    4.8\n",
       "datos_B    4.8\n",
       "dtype: float64"
      ]
     },
     "execution_count": 105,
     "metadata": {},
     "output_type": "execute_result"
    }
   ],
   "source": [
    "# Calculamos la media\n",
    "datos.mean()"
   ]
  },
  {
   "cell_type": "code",
   "execution_count": 106,
   "id": "607a7a64-ca3e-4814-9f8b-b9a8e1841514",
   "metadata": {},
   "outputs": [
    {
     "data": {
      "text/plain": [
       "datos_A    5.0\n",
       "datos_B    5.0\n",
       "dtype: float64"
      ]
     },
     "execution_count": 106,
     "metadata": {},
     "output_type": "execute_result"
    }
   ],
   "source": [
    "# Calculamos la mediana\n",
    "datos.median()"
   ]
  },
  {
   "cell_type": "code",
   "execution_count": 107,
   "id": "dc06e1fe-4b85-42f4-8bb8-53773616ac7e",
   "metadata": {},
   "outputs": [
    {
     "data": {
      "text/html": [
       "<div>\n",
       "<style scoped>\n",
       "    .dataframe tbody tr th:only-of-type {\n",
       "        vertical-align: middle;\n",
       "    }\n",
       "\n",
       "    .dataframe tbody tr th {\n",
       "        vertical-align: top;\n",
       "    }\n",
       "\n",
       "    .dataframe thead th {\n",
       "        text-align: right;\n",
       "    }\n",
       "</style>\n",
       "<table border=\"1\" class=\"dataframe\">\n",
       "  <thead>\n",
       "    <tr style=\"text-align: right;\">\n",
       "      <th></th>\n",
       "      <th>datos_A</th>\n",
       "      <th>datos_B</th>\n",
       "    </tr>\n",
       "  </thead>\n",
       "  <tbody>\n",
       "    <tr>\n",
       "      <th>0</th>\n",
       "      <td>5</td>\n",
       "      <td>5</td>\n",
       "    </tr>\n",
       "  </tbody>\n",
       "</table>\n",
       "</div>"
      ],
      "text/plain": [
       "   datos_A  datos_B\n",
       "0        5        5"
      ]
     },
     "execution_count": 107,
     "metadata": {},
     "output_type": "execute_result"
    }
   ],
   "source": [
    "# Calculamos la moda\n",
    "datos.mode()"
   ]
  },
  {
   "cell_type": "markdown",
   "id": "118dc513-26df-4ff2-8665-93c1e0a8d48b",
   "metadata": {},
   "source": [
    "<font color = 'Black'>\n",
    "<font size = 3>\n",
    "\n",
    "- Observamos que ambos conjuntos tienen las mismas medidas de tencencia centra, tienen los mismos representantes pero no se parecen.\n",
    "\n",
    "![Dato](Img/im009.png)"
   ]
  },
  {
   "cell_type": "markdown",
   "id": "b4bb4805-7455-4255-b007-50b7d397ce33",
   "metadata": {},
   "source": [
    "<font color = 'DodgerBlue'>\n",
    "<font size = 5>\n",
    "    \n",
    "**Rango**"
   ]
  },
  {
   "cell_type": "markdown",
   "id": "73c6df48-9937-40f1-93fa-d856417dc21b",
   "metadata": {},
   "source": [
    "<font color = 'Black'>\n",
    "<font size = 3>\n",
    "\n",
    "Se trata de la diferencia entre el valor máximo y el valor mínimo de tu columna:\n",
    "\n",
    "$$Rango=x_{\\max}-x_{\\min}$$\n",
    "\n",
    "- Si **rango** es un número pequeño, entonces máximo y el mínimo en se deben parecer mucho. Si se parecen mucho, entonces todos los que están dentro del máximo y el mínimo se van ir aprentando (como un acordeón)."
   ]
  },
  {
   "cell_type": "code",
   "execution_count": 108,
   "id": "72b0c501-e76b-4183-b070-ce32ea4426f7",
   "metadata": {},
   "outputs": [
    {
     "data": {
      "text/plain": [
       "np.int64(4)"
      ]
     },
     "execution_count": 108,
     "metadata": {},
     "output_type": "execute_result"
    }
   ],
   "source": [
    "# Obtenemos el valor del rango de la columna A\n",
    "rango_A = datos[\"datos_A\"].max() - datos[\"datos_A\"].min()\n",
    "rango_A"
   ]
  },
  {
   "cell_type": "code",
   "execution_count": 109,
   "id": "ea2c20ed-90f0-429c-a3c7-f5844c702390",
   "metadata": {},
   "outputs": [
    {
     "data": {
      "text/plain": [
       "np.int64(9)"
      ]
     },
     "execution_count": 109,
     "metadata": {},
     "output_type": "execute_result"
    }
   ],
   "source": [
    "# Obtenemos el valor del rango de la columna B\n",
    "rango_B = datos[\"datos_B\"].max() - datos[\"datos_B\"].min()\n",
    "rango_B"
   ]
  },
  {
   "cell_type": "markdown",
   "id": "f3af20b8-c515-4e35-8a93-55ee388143cd",
   "metadata": {},
   "source": [
    "<font color = 'DodgerBlue'>\n",
    "<font size = 5>\n",
    "    \n",
    "**Desviación media absoluta**"
   ]
  },
  {
   "cell_type": "markdown",
   "id": "6931ae28-e546-40f7-a733-b7e629395df6",
   "metadata": {},
   "source": [
    "<font color = 'Black'>\n",
    "<font size = 3>\n",
    "\n",
    "Sea $M$ la medida de tendencia central elegida para representar los datos. Se define la **desviación media absoluta respecto de $M$** como \n",
    "\n",
    "$$D_M=\\frac{1}{n}\\sum_{k=1}^n|x_k-M|=\\frac{|x_1-M|+|x_2-M|+...+|x_n-M|}{n}$$\n",
    "\n",
    "Es decir, te tomas el primer dato ($x_1$) menos el representante que elegiste ($M$) y sacas valor absoluto ... hasta el último dato ($x_n$) menos el representante que elegiste ($M$) y sacas valor absoluto, depués promedias todos esos valores absolutos.\n",
    "\n",
    "*$M$* puede ser la **media**, **mediana**, **moda**, etc."
   ]
  },
  {
   "cell_type": "markdown",
   "id": "542686c6-c715-4faa-a0ce-05f0941c4cd7",
   "metadata": {},
   "source": [
    "<font color = 'Black'>\n",
    "<font size = 3>\n",
    "\n",
    "Por ejemplo, para los datos $\\{2,2,3,4,14\\}$ se tiene:\n",
    "\n",
    "![Dato](Img/im011.png)\n",
    "\n",
    "En particular puedes elegir cualquer medida de tendencia central, pero debes tener encuenta las matemáticas que hay detrás, las cuales se indican más adelante."
   ]
  },
  {
   "cell_type": "markdown",
   "id": "38a5daf2-3980-4ed6-9c9c-96fa4bb1551d",
   "metadata": {},
   "source": [
    "<font color = 'Black'>\n",
    "<font size = 3>\n",
    "\n",
    "En particular, cuando $M$ es la media, a $D_M$ se le conoce simplemente como desviación media absoluta. Sin embargo, es **importante saber** que, sin importar el representante, o incluso para cualquier número $t$ que te imagines, siempre se cumple que \n",
    "\n",
    "$$D_{\\mbox{mediana}}\\le \\frac{|x_1-t|+|x_2-t|+...+|x_n-t|}{n}$$\n",
    "\n",
    "- Si la $t$ es la **media**, la desviación con respecto de la mediana es más pequeña.\n",
    "- Si la $t$ es la **moda**, la desviación con respecto de la mediana es más pequeña.\n",
    "\n",
    "**En términos topológicos:** dado $\\boldsymbol{x}=(x_1,x_2,...,x_n)\\in\\mathbb{R}^n$ y $Y=\\mathrm{span}\\{(1,1,...,1)\\}$, entonces existe un elemento $y\\in Y$ tal que \n",
    "\n",
    "$$d_{L^1}(y,\\boldsymbol{x})=\\min_{u\\in Y}\\{d_{L^1}(u,\\boldsymbol{x})\\}$$\n",
    "\n",
    "Como $y\\in Y$, entonces $y=\\lambda(1,1,...,1)$. Ese $\\lambda$ es precisamente la mediana de $(x_1,x_2,...,x_n)$"
   ]
  },
  {
   "cell_type": "markdown",
   "id": "ecf75b38-eb0c-40a7-b26e-9c84e83ead25",
   "metadata": {},
   "source": [
    "<font color = 'Black'>\n",
    "<font size = 3>\n",
    "\n",
    "Lo anterior quiere decir: \n",
    "\n",
    "$\\boldsymbol{x}=(x_1,x_2,...,x_n)\\in\\mathbb{R}^n$ es tu vector de datos, luego te tomas el espacio generado por el vector $Y=\\mathrm{span}\\{(1,1,...,1)\\}$, existe un elemento $y\\in Y$ tal que se alcanza la distancia mínima para un elemento del subespacio $Y=\\mathrm{span}\\{(1,1,...,1)\\}$ para el punto que diste $(x_1,x_2,...,x_n)\\in\\mathbb{R}^n$.\n",
    "\n",
    "Es decir, tú trazas una recta que una al origen con el punto $(1,1,...,1)$, luego dibujas el punto $(x_1,x_2,...,x_n)$, entonces resulta que hay un número sobre la recta que une al origen con el $(1,1,...,1)$ que está más cerca del punto $(x_1,x_2,...,x_n)$ que todos los demás. \n",
    "\n",
    "Con qué distancia?\n",
    "Sería con la métrica $L^1$ o métrica del taxista o Manhattan (arriba, abajo, en horizontal y en combinación de esos movimientos, pero nunca en diagonal). \n",
    "\n",
    "Como existe el número $y$ que minimiza la distancia y, $y\\in Y$, entonces es de la forma $y=\\lambda(1,1,...,1)$, es un múltiplo de $(1,1,...,1)$, todas sus entradas son iguales. Por lo tanto, esa $\\lambda$ es la **mediana** de los datos.\n",
    "\n",
    "- Este resultado permite generalizar la **mediana** en varias dimensiones cuando tienes datos multidimensionales.\n",
    "- En datos multidimensionales no tiene sentido ordenar de menor a mayor, porque en dimensiones $> 2$ no existe una manera correcta de ordenar las cosas. Es por eso que se define una métrica en un espacio vectorial. "
   ]
  },
  {
   "cell_type": "markdown",
   "id": "20a0c281-4ee6-42cb-a2f5-c56454d38c41",
   "metadata": {},
   "source": [
    "<font color = 'Black'>\n",
    "<font size = 3>\n",
    "\n",
    "**Si elegimos medir la variabilidad de los datos mediante la **desviación media absoluta**, resulta que el mejor representante de los datos es la **mediana**, y la **variabilidad** sería:**\n",
    "\n",
    "$$M_{\\mbox{mediana}} \\frac{|x_1-mediana|+|x_2-mediana|+...+|x_n-mediana|}{n}$$"
   ]
  },
  {
   "cell_type": "markdown",
   "id": "558f93ec-3ef4-4f93-8035-f64f34204fc9",
   "metadata": {},
   "source": [
    "<font color = 'Black'>\n",
    "<font size = 3>\n",
    "\n",
    "Teorema libro Kreyszig - Introductory Functional Analysis - pp.328.\n",
    "\n",
    "**6.1-1 Existence Theorem (Best approximations).** Si $Y$ es un espacio de dimensión finita dentro de un espacio normado $X = (X,\\| \\cdot \\|)$, entonces para cada elemento en el espacio $x \\in X$, siempre existe una mejor aproximación a ese elemento $x$ dentro del subespacio finito $Y$.\n",
    "\n",
    "Ese teorema se puede ver de la siguiente manera: $Y$ sería mi línea recta, $X$ sería mi espacio. Lo que nos dice es que siempre hay un punto sobre la línea recta que está más cerca de mis datos $x$ que cualquier otro punto sobre esa recta, sin importar quién sea la norma de mi espacio normado. En el caso de la **mediana**, es la norma $L^1$. "
   ]
  },
  {
   "cell_type": "markdown",
   "id": "102970d8-fdbc-45e7-9e20-eda159464d36",
   "metadata": {},
   "source": [
    "<font color = 'DodgerBlue'>\n",
    "<font size = 5>\n",
    "    \n",
    "**Varianza**"
   ]
  },
  {
   "cell_type": "markdown",
   "id": "15cebf57-ac4f-49bb-ab4c-81d43d531c86",
   "metadata": {},
   "source": [
    "<font color = 'Black'>\n",
    "<font size = 3>\n",
    "\n",
    "La varianza es la manera en que los datos se alejan, en promedio, de la media. \n",
    "\n",
    "Existen dos tipos de varianza: **varianza poblacional** ($\\mu$) y **varianza muestral** ($x$). \n",
    "\n",
    "La **varianza poblacional** se refiere a la dispersión de los datos respecto de la media **en toda la población**. Si la población tiene $N$ elementos, entonces se denota por $\\sigma^2$ y se calcula como\n",
    "\n",
    "$$\\sigma^2=\\frac{1}{N}\\sum_{k=1}^N(x_i-\\mu)^2=\\frac{(x_1-\\mu)^2+(x_2-\\mu)^2+...+(x_N-\\mu)^2}{N}$$\n",
    "\n",
    "Por otra parte, la **varianza muestral** se refiere a cómo están dispersos los datos de la muestra respecto de la media muestral. Si la muestra tiene $n$ elementos entonces se denota por $s^2$ y se calcula como\n",
    "\n",
    "$$s^2=\\frac{1}{n-1}\\sum_{k=1}^n(x_k-\\overline{x})^2=\\frac{(x_1-\\overline{x})^2+(x_2-\\overline{x})^2+...+(x_n-\\overline{x})^2}{n-1}$$\n",
    "\n",
    "Es **importante saber** que para cualquier número $t$ que te imagines, siempre se cumple que \n",
    "\n",
    "$$s^2\\le \\frac{1}{n-1}\\sum_{k=1}^n(x_k-t)^2=\\frac{(x_1-t)^2+(x_2-t)^2+...+(x_n-t)^2}{n-1}$$\n",
    "\n",
    "El término $n - 1$ es para obtener un estimador insesgado de la varianza verdades.\n",
    "\n",
    "**En términos topológicos:** dado $\\boldsymbol{x}=(x_1,x_2,...,x_n)\\in\\mathbb{R}^n$ y $Y=\\mathrm{span}\\{(1,1,...,1)\\}$, entonces existe un elemento $y\\in Y$ tal que \n",
    "\n",
    "$$d_{L^2}(y,\\boldsymbol{x})=\\min_{u\\in Y}\\{d_{L^2}(u,\\boldsymbol{x})\\}$$\n",
    "\n",
    "Lo anterior, **en términos topológicos** significa que dado mi vector $(x_1,x_2,...,x_n)$ y la recta $Y=\\mathrm{span}\\{(1,1,...,1)\\}$, entonces existe un elemento en esa recta $y\\in Y$, tal que la distancia en $L^2$ es mínima. La distancia en $L^2$ es la distancia de Pitágoras, es decir, la distancia más corta entre dos puntos es la recta que los une.\n",
    "\n",
    "Como $y\\in Y$, entonces $y=\\lambda(1,1,...,1)$. Ese $\\lambda$ es precisamente la media de $(x_1,x_2,...,x_n)$."
   ]
  },
  {
   "cell_type": "markdown",
   "id": "abdf682f-20a7-48a9-afd8-20ee72f0e0d5",
   "metadata": {},
   "source": [
    "<font color = 'Black'>\n",
    "<font size = 3>\n",
    "\n",
    "**Si elegimos medir la variabilidad de los datos mediante la varianza, resulta que el mejor representante de los datos es la media y la variabilidad sería $s^2$ o con $s = \\sqrt{s^2}$**."
   ]
  },
  {
   "cell_type": "markdown",
   "id": "dcbb3ba6-aa2c-4742-85a2-677b3f4f3961",
   "metadata": {},
   "source": [
    "<font color = 'Black'>\n",
    "<font size = 3>\n",
    "\n",
    "Cuando usas la **moda**, minimizas con la **métrica discreta**.\n",
    "\n",
    "La **métrica discreta** se define de la siguiente manera:\n",
    "\n",
    "$$d_{\\mbox{dis}}(a,b) = \\left\\{\\begin{array}{ll}\n",
    "1 & \\mbox{si } a \\neq b \\\\\n",
    "0 & \\mbox{si } a = b\n",
    "\\end{array}\\right.$$\n",
    "\n",
    "$\\boldsymbol{x}=(x_1,x_2,...,x_n)\\in\\mathbb{R}^n$ y $Y=\\mathrm{span}\\{(1,1,...,1)\\}$.\n",
    "\n",
    "$$\\sum_{i=1}^nd_{\\mbox{dis}}(x_i,t)$$\n",
    "\n",
    "- Si los dos objetos son iguales $d=0$.\n",
    "- Los objetos $a$ y $b$ pueden ser cualquier cosa.\n",
    "- La **moda** es el valor que más se repite.\n",
    "\n",
    "Lo que quiere decir es que si tu pones la moda $t$ en la suma de arriba, como la **moda** es el valor que más se repite, va hacer que esa suma sea 0. Por lo tanto, esa suma se va a minimizar."
   ]
  },
  {
   "cell_type": "markdown",
   "id": "72542f32-38cc-41b1-88f1-16717ca5e90b",
   "metadata": {},
   "source": [
    "<font color = 'Brown'>\n",
    "<font size = 4>\n",
    "    \n",
    "**Notas**"
   ]
  },
  {
   "cell_type": "markdown",
   "id": "4afe954b-e0d0-4073-96bf-0dd28d10941f",
   "metadata": {},
   "source": [
    "<font color = 'DarkRed'>\n",
    "<font size = 3>\n",
    "\n",
    "- Entre menor variabilidad, el representante es mejor.\n",
    "- Si los datos tienen poca variabilidad se deben parecer mucho entre sí porque hay poca variación entre ellos. Si se parecen mucho entre sí, los representantes que elijas van a ser buenos representante.\n",
    "- Las medidas de tencencia central no pueden identificar de manera completa a los datos.\n",
    "- El problema del **rango** es que es demasiado susceptible a **valores atípicos**.\n",
    "- La **Estadística** busca aproximarnos a los parámetros poblacionales.\n",
    "- Cuando tienes dos datos, la **media** y la **mediana** son iguales.\n",
    "- La **Varianza** es muy susceptible a los datos atípicos.\n",
    "- Cuando tú tomas de representante a la **mediana**, el que menos variabilidad te va a dar es la **desviación media absoluta**.\n",
    "- Si la **varianza** es muy grande, la **media** o el promedio sirven de nada.\n",
    "- El **método de mínimos cuadrados** es un teorema de análisis funcional.\n",
    "- La **varianza poblacional** la vas a conocer cuando haces un senso.\n",
    "- En la práctica es muy difícil que puedas tener los **datos poblacionales**.\n",
    "- La **desviación** verdadera la vamos a intentar aproximar con la $s^2$.\n",
    "- Las **pruebas de hipótesis** nos van a decir que tan buena fue nuestra aproximación.\n",
    "- La **varianza** es más útil que la **desviación media absoluta** debido a que es una función derivable.\n",
    "- Computacionalmente, es más sencillo calcular la **varianza** que la **desviación media absoluta**.\n",
    "- La **moda** rara vez se usa como representante numérico.\n",
    "\n",
    "- La **mediana** va con la **desviación media absoluta**.\n",
    "- La **media** va con la **varianza**. El que tenga un valor más pequeño entre este y el anterior, te quedas con el más pequeño ya que será el que menor variabilidad tenga."
   ]
  },
  {
   "cell_type": "markdown",
   "id": "ab054105-194c-4c60-ab2e-948ec2c45c0a",
   "metadata": {},
   "source": [
    "<font color = 'LightSeaGreen'>\n",
    "<font size = 3>\n",
    "\n",
    "En el ejemplo de que una persona tiene `$0` y la otra tiene `$1,000,000`.\n",
    "\n",
    "- La **media** $= 500,000$.\n",
    "- La **varianza** sería: $(0 - 500000)^2 + (1000000 - 500000)^2) / 1 = 500,000,000$.\n",
    "- En este ejemplo la **varianza** es extremadamente grande, quiere decir que tienes gente con muchísimo y gente con muy poco.\n",
    "- Es importante conocer la varianza cuando nos dan un resultado o dato.\n",
    "- Si la **varianza** es muy grande esa **media** no significa nada.\n",
    "\n",
    "desviación estándar = $sqrt$(varianza)\n",
    "\n",
    "En promedio cada uno tiene $= 500,000 \\pm sqrt(500 millones)$."
   ]
  }
 ],
 "metadata": {
  "kernelspec": {
   "display_name": "Python 3 (ipykernel)",
   "language": "python",
   "name": "python3"
  },
  "language_info": {
   "codemirror_mode": {
    "name": "ipython",
    "version": 3
   },
   "file_extension": ".py",
   "mimetype": "text/x-python",
   "name": "python",
   "nbconvert_exporter": "python",
   "pygments_lexer": "ipython3",
   "version": "3.10.15"
  }
 },
 "nbformat": 4,
 "nbformat_minor": 5
}
