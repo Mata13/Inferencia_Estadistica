{
 "cells": [
  {
   "cell_type": "markdown",
   "id": "13e53d9b-6b80-475c-811f-656206011ab8",
   "metadata": {},
   "source": [
    "<font color='IndianRed'>\n",
    "<font size=9> \n",
    "\n",
    "**Curso Inferencia Estadística**"
   ]
  },
  {
   "cell_type": "markdown",
   "id": "e522ab4d-364d-4257-a779-33ae280d750c",
   "metadata": {},
   "source": [
    "<font color = 'DodgerBlue'>\n",
    "<font size = 5>\n",
    "    \n",
    "**Anova de un factor**"
   ]
  },
  {
   "cell_type": "markdown",
   "id": "8b842d06-3363-45be-be88-173690006c1b",
   "metadata": {},
   "source": [
    "<font color = 'DodgerBlue'>\n",
    "<font size = 4>\n",
    "    \n",
    "**Introducción al análisis de la varianza (analysis of variance)**"
   ]
  },
  {
   "cell_type": "markdown",
   "id": "bb14c61a-3f54-439d-ba50-d5a2cfbf699c",
   "metadata": {},
   "source": [
    "<font color = 'Black'>\n",
    "<font size = 3>\n",
    "\n",
    "Algunas veces nos interesa dividir a la **población** en **subpoblaciones** utilizando **una sola característica $F$**. \n",
    "\n",
    "Para fines prácticos, nos vamos a restringir a una sola columna de clasificación. Cuando este es el caso, decimos que la **población** está **clasificada por un factor**.\n",
    "\n",
    "---"
   ]
  },
  {
   "cell_type": "markdown",
   "id": "9f05dc78-1d11-4f6c-8821-74eac14d094c",
   "metadata": {},
   "source": [
    "<font color = 'LightSeaGreen'>\n",
    "<font size = 3>\n",
    "\n",
    "**Ejemplo.**\n",
    "\n",
    "Delitos cometidos en México durante el 2024.\n",
    "\n",
    "- Tú tendrías una columna de cuántos delitos se cometieron en enero, febrero, etc. Por lo que tendrías una columna con la información numérica de los delitos que se cometieron durante cada mes.\n",
    "- Pero tendrías una columna extra, que sería una columna de una característica, que sería el mes en que se cometió.\n",
    "- Pero a su vez, puedes tener más columnas con diferentes clases y clasificaciones. Y lo puedes complicar tanto como quieras, combinando clases y grupos de clases, etc. Así como se muestra en la siguiente imagen de una tabla de Excel.\n",
    "- A cada clase de la columna Factor se le denomina niveles. Donde enero es un nivel, febrero es otro nivel. Por lo que tenemos 12 niveles.\n",
    "- Los niveles son cada una de las clases.\n",
    "- La columna de factor permite clasificar.\n",
    "\n",
    "<img src = \"Img/anova_tabla.png\">\n",
    "\n",
    "---"
   ]
  },
  {
   "cell_type": "markdown",
   "id": "7d0a5b7c-94ac-415f-9725-bb3ed60af76d",
   "metadata": {},
   "source": [
    "<font color = 'LightSeaGreen'>\n",
    "<font size = 3>\n",
    "\n",
    "**Ejemplo.**\n",
    "\n",
    "Animales\n",
    "\n",
    "- La columna de **datos** 'Edad'.\n",
    "- La columna de **factor** sería la columna de animales (A).\n",
    "- La columna de **factor** sirve para clasificar.\n",
    "- Los **niveles** serían los animales (perro, gato, ratón, elefante), por lo que tenemos 4 niveles. Es decir, tiene 4 **clases**.\n",
    "- Los niveles son los valores diferentes que puede tomar la columna **factor**.\n",
    "- Si calculas la edad promedio de cada una de las clases, sería la columna \"Edad_promedio\".\n",
    "\n",
    "Lo que la **Anova** nos ayudaría a resolver sería: Tenemos evidencia estadística suficiente para afirmar que esos cuatro valores **promedio** son diferentes?\n",
    "\n",
    "<img src = \"Img/animales.png\">\n",
    "\n",
    "---"
   ]
  },
  {
   "cell_type": "markdown",
   "id": "74f066ee-f9ee-4412-bbc7-1ffa81eb4b51",
   "metadata": {},
   "source": [
    "<font color = 'LightSeaGreen'>\n",
    "<font size = 3>\n",
    "\n",
    "**Ejemplo.**\n",
    "\n",
    "Sismos\n",
    "\n",
    "Con la **Anova**, podemos plantear la siguiente pregunta: Será cierto que hay meses en donde la magnitud **promedio** de los sismos es mayor?\n",
    "\n",
    "Como el típico mito de que en septiembre los sismos son más fuertes. Hay evidencia **estadística** para decir que los sismos en septiembre, en México, son de mayor magtitud que en los demás meses?\n",
    "\n",
    "La idea sería tomar el valor **promedio** de cada mes, con eso tendríamos 12 magnitudes **promedio** diferentes, un **promedio** para cada mes. Tendremos evidencia **estadística** para poder afirmar que las **medias verdaderas**, es decir, el histórico completo de los sismos en la historia, en México, son diferentes mes a mes?\n",
    "\n",
    "---"
   ]
  },
  {
   "cell_type": "markdown",
   "id": "2428c33f-04bc-4f9a-bc01-1064d22b1b7a",
   "metadata": {},
   "source": [
    "<font color = 'Black'>\n",
    "<font size = 3>\n",
    "\n",
    "Digamos que nuestra **característica** nos ha formado $k$ subgrupos de la **población**. Decimos entonces que la **población** está dividida en $k$ niveles del factor $F$.\n",
    "\n",
    "El **ANOVA de un solo factor** es una **prueba de hipótesis** para saber si las **medias** de cierta **característica** $X$ de la **población** son iguales en cada uno de los $k$ niveles de un factor $F$, siempre que $k>2$. \n",
    "\n",
    "Es decir, si $F$ es una **característica** de la **población** que tiene $k$ valores diferentes, y $X$ es otra **característica** de la **población**, vale la pena preguntarnos si el valor **promedio** de $X$ en cada una de las $k$ **subpoblaciones** inducidas por $F$ es el mismo.\n",
    "\n",
    "---"
   ]
  },
  {
   "cell_type": "markdown",
   "id": "e4aec9f2-04ee-49a8-b94b-78cb13725777",
   "metadata": {},
   "source": [
    "<font color = 'LightSeaGreen'>\n",
    "<font size = 3>\n",
    "\n",
    "**Ejemplo 1.**"
   ]
  },
  {
   "cell_type": "markdown",
   "id": "dfeaea07-ea41-493a-b993-bd54a61a5bc9",
   "metadata": {},
   "source": [
    "<font color = 'LightSeaGreen'>\n",
    "<font size = 3>\n",
    "\n",
    "Relativo a la delincuencia en México, si $F$ es la **característica** \"entidad donde se cometió el delito\" entonces los factores de $F$ son las 32 Entidades Federativas, de modo que $k = 32$ ($k$ es el número de niveles), y nos podemos preguntar si el **promedio** de delitos cometidos a cada víctima del delito es el mismo en las 32 entidades. \n",
    "\n",
    "Esto serviría para respondernos si hay entidades más peligrosas que otras ó que el valor **promedio** de delincuencia será **estadísticamente** el mismo en cada una de las entidades?\n",
    "\n",
    "La idea es, tú tienes tienes muchos grupos ($k$ grupos), con $k \\ge 3$, en los que dividiste a tu **población** y mides la misma **característica** $X$ en todos esos grupos. La pregunta es: será que hay grupos que tengan una **media** de la **característica** diferente a los demás? \n",
    "\n",
    "Dicho en otros términos: será que la clase, al nivel que pertenece el **dato** realmente influye en algo?\n",
    "\n",
    "---"
   ]
  },
  {
   "cell_type": "markdown",
   "id": "e4a355de-7a85-4cb5-8096-ff9d4ff72a39",
   "metadata": {},
   "source": [
    "<font color = 'Black'>\n",
    "<font size = 3>\n",
    "\n",
    "Más concretamente, sea $X$ una **característica** de la **población**, la cual está dividida en $k \\ge 3$ **subpoblaciones**. \n",
    "\n",
    "Denotemos por $\\mu_1, \\mu_2,..., \\mu_{k}$ a la **media** \"poblacional\" de $X$ en cada una de las **subpoblaciones** (la **media** verdadera en cada una de las **subpoblaciones**). El **ANOVA** de un factor es la **prueba de hipótesis**:\n",
    "\n",
    "$$\\left\\{\\begin{array}{l}H_0: \\mu_1 = \\mu_2 =...= \\mu_k \\mbox{ (será cierto que las medias poblacionales son todas iguales?)} \\\\H_1:\\mbox{ existen al menos dos grupos con medias poblacionales diferentes}\\end{array}\\right.$$\n",
    "\n",
    "Para poder testear esta **prueba de hipótesis** debes tomar **muestras**.\n",
    "\n",
    "En caso de no rechazar $H_1$ (es decir, que hay al menos dos grupos con **medias** diferentes), debemos ser capaces, además, de identificar cuáles son las parejas de grupos cuyas medias son diferentes. \n",
    "\n",
    "Como hemos dicho, el **ANOVA** de un solo factor es una **prueba de hipótesis** para saber si las **medias** de cierta **característica**  $X$  de la **población** son iguales en cada una de las $k$ clases (niveles) en que se clasifica la **población** de acuerdo a una **característica** $F$ (factor).\n",
    "\n",
    "**Los supuestos para poderlo aplicar son los siguientes:**\n",
    "\n",
    "* Las **muestras** de cada **subpoblación** son independientes interna y externamente (siempre que hagas un **muestreo** aleatorio se te van a cumplir).\n",
    "* Cada una de las **subpoblaciones** son **gaussianas**.\n",
    "* Todas las **subpoblaciones** tienen la misma **varianza** común $\\sigma^2$ (**homocedasticidad**). Es decir, que la variabilidad dentro de cada grupo debe ser más o menos la misma.\n",
    "\n",
    "---"
   ]
  },
  {
   "cell_type": "markdown",
   "id": "4045c92a-8193-42e0-8790-5d42729f04a1",
   "metadata": {},
   "source": [
    "<font color = 'DodgerBlue'>\n",
    "<font size = 5>\n",
    "    \n",
    "**Idea general del ANOVA de un factor**"
   ]
  },
  {
   "cell_type": "markdown",
   "id": "ce439738-b978-4fff-a930-998a70890aa4",
   "metadata": {},
   "source": [
    "<font color = 'Black'>\n",
    "<font size = 3>\n",
    "\n",
    "La idea general es:\n",
    "\n",
    "* Observar cómo varían los **datos** dentro de la **población** total (es decir, la **varianza poblacional** de toda la **población**).\n",
    "* Observar cómo varían los **datos** dentro de cada **subpoblación** (es decir, la **varianza poblacional** de cada grupo).\n",
    "* Observar cómo varían las **medias** de cada **subpoblación** respecto de la **media** global.\n",
    "\n",
    "De esta manera, **si la variabilidad total de los datos se puede explicar por la variabilidad de las medias de las subpoblaciones y la \"poca\" variabilidad dentro de cada subpoblación, tendremos evidencia suficiente para decir que las medias son diferentes**.\n",
    "\n",
    "En cristiano: si observamos que todos los **datos** varían mucho entre sí, pero dentro de cada **subpoblación** se parecen, entonces los **promedios** de cada subgrupo no pueden ser iguales.\n",
    "\n",
    "---"
   ]
  },
  {
   "cell_type": "markdown",
   "id": "50ef0ce1-024a-4967-91d8-51ce431a32bc",
   "metadata": {},
   "source": [
    "<font color = 'LightSeaGreen'>\n",
    "<font size = 3>\n",
    "\n",
    "**Ejemplo 2.**"
   ]
  },
  {
   "cell_type": "markdown",
   "id": "f2eb4b19-cc63-4f17-86a6-b71062e78881",
   "metadata": {},
   "source": [
    "<font color = 'LightSeaGreen'>\n",
    "<font size = 3>\n",
    "\n",
    "Tienes 3 grupos:\n",
    "\n",
    "- los puntos azules, verdes, rojos.\n",
    "\n",
    "Digamos que la línea morada es el **promedio**.\n",
    "\n",
    "En la imagen izquierda estaríamos viendo cómo varían los **datos** con respecto de la **media poblacional**. Es decir, qué tanto se **desvían** los **datos** de esa línea. Se puede observar que están cercanos a la línea.\n",
    "\n",
    "En la imagen derecha vemos:\n",
    "\n",
    "- la línea roja sería la **media poblacional** de los puntos rojos.\n",
    "- la línea verde sería la **media poblacional** de los puntos verdes.\n",
    "- la línea azul sería la **media poblacional** de los puntos azules.\n",
    "\n",
    "Nos interesa ver qué tanto se alejan los puntos de su propia **media**. Cada una de las líneas (roja, verde, azul) serían las **medias poblacionales** en cada grupo.\n",
    "\n",
    "Los puntos azules, verdes y rojos están muy próximos a su propia **media**. La variabilidad, qué tan próximos están a la **media poblacional** (imagen izquierda). Como esa variabilidad es pequeña, es de esperarse que cada uno de los puntos esté cerca de su propia **media**.\n",
    "\n",
    "Otra observación importante es que como los datos no están muy alejados de la **media poblacional** (línea morada - imagen izquierda), pero tampoco están alejados de sus propias **medias** (imagen derecha), es de esperarse que haya una **media** (una línea) que no se parezca a las demás. En este caso, la línea verde. Prácticamente, toda la variación que hay en la imagen izquierda, la manera en que los puntos se alejan de la línea morada se puede explicar a través de qué tan lejos está la línea verde de las otras dos líneas.\n",
    "\n",
    "Digamos que en el **Anova** lo que qusiéramos ver es si las tres líneas (roja, azul, verde) son iguales. Eso es lo que buscaríamos respondernos en el **Anova**.\n",
    "\n",
    "<img src = \"Img/im014.png\">\n",
    "\n",
    "---"
   ]
  },
  {
   "cell_type": "markdown",
   "id": "aa668307-793c-4def-94a5-5ed704a9b69d",
   "metadata": {},
   "source": [
    "<font color = 'LightSeaGreen'>\n",
    "<font size = 3>\n",
    "\n",
    "**Ejemplo 3.**"
   ]
  },
  {
   "cell_type": "markdown",
   "id": "3c3e6603-3fb0-49ad-a15f-80bef0f9f653",
   "metadata": {},
   "source": [
    "<font color = 'LightSeaGreen'>\n",
    "<font size = 3>\n",
    "\n",
    "En la imagen izquierda vemos que los puntos están muy pegados a la línea morada.\n",
    "\n",
    "En la imagen derecha vemos que las líneas roja, azul y verde están muy pegadas a la línea morada.\n",
    "\n",
    "A qué se debe?\n",
    "\n",
    "De alguna manera, como que la línea morada los atráe tanto que, atráe a sus órbitas (las líneas puntedas roja, azul y verde), tal y como se muestra en la imagen izquierda.\n",
    "\n",
    "<img src = \"Img/im015.png\">\n",
    "\n",
    "Esto es lo que se conoce como la **identidad de las suma de cuadrados**, una especie de teorema de Pitágoras.\n",
    "\n",
    "---"
   ]
  },
  {
   "cell_type": "markdown",
   "id": "00dde0c0-6fed-4cfe-9640-b9c524a9ae1a",
   "metadata": {},
   "source": [
    "<font color = 'DodgerBlue'>\n",
    "<font size = 5>\n",
    "    \n",
    "**Pasos del ANOVA**"
   ]
  },
  {
   "cell_type": "markdown",
   "id": "c9c64647-13ec-4d7d-9429-abcf935d6007",
   "metadata": {},
   "source": [
    "<font color = 'Black'>\n",
    "<font size = 3>\n",
    "\n",
    "Ahora, para aplicar un **ANOVA** de un factor debe cumplirse que cada **subpoblación** es **gaussiana** y todas tienen la misma **varianza**. Además, una vez que tenemos el resultado, debemos conocer cuáles **subplobaciones** tienen varianzas diferentes. \n",
    "\n",
    "Para poder realizar **ANOVA** de forma automática se requiere, en primer lugar, que nuestra tabla se presente en formato largo (formato tidy). Es decir, de la forma:\n",
    "\n",
    "Característica $X$|Factor $F$\n",
    ":--:|:--:\n",
    "$X_{1}^{(1)}$|1\n",
    "$X_{2}^{(1)}$|1\n",
    "$\\vdots$|$\\vdots$\n",
    "$X_{n_1}^{(1)}$|1\n",
    "$X_{1}^{(2)}$|2\n",
    "$X_{2}^{(2)}$|2\n",
    "$\\vdots$|$\\vdots$\n",
    "$X_{n_2}^{(2)}$|2\n",
    "$\\vdots$|$\\vdots$\n",
    "$X_{1}^{(k)}$|$k$\n",
    "$X_{2}^{(k)}$|$k$\n",
    "$\\vdots$|$\\vdots$\n",
    "$X_{n_k}^{(k)}$|$k$\n",
    "\n",
    "En el siguiente link se puede consultar este [notebook](https://github.com/scidatmath2020/CDD_Py_24/blob/main/C10.1%20Formato%20tidy%20siubido.ipynb) para ver más a cerca del formato tidy.\n",
    "\n",
    "A continuación se presenta una serie de pasos para realizar el **ANOVA** de un factor. Para ello, se va a ilustrar con un ejemplo."
   ]
  },
  {
   "cell_type": "markdown",
   "id": "a57cc843-a5ee-4976-b7b5-babc7103645c",
   "metadata": {},
   "source": [
    "<font color = 'LightSeaGreen'>\n",
    "<font size = 3>\n",
    "\n",
    "**Ejemplo 1.**"
   ]
  },
  {
   "cell_type": "markdown",
   "id": "7c53ebf8-3a8a-499a-a9d1-a9a5a4eff593",
   "metadata": {},
   "source": [
    "<font color = 'LightSeaGreen'>\n",
    "<font size = 3>\n",
    "\n",
    "Supóngase que un estudio quiere comprobar si existe una diferencia significativa entre el % de bateos exitosos de los jugadores de béisbol dependiendo de la posición en la que juegan. En el caso de que exista, se quiere saber qué posiciones difieren del resto. Los datos los encuentras en [beisbol](https://github.com/scidatmath2020/Inferencia_Estadistica_2024/blob/main/data/beisbol.csv) del repositorio de data.\n",
    "\n",
    "Las posiciones de los jugadores son:\n",
    "\n",
    "- OF: Outfielder (jardinero).\n",
    "- IF: Infielder.\n",
    "- DH: Designated Hitter (bateador designado).\n",
    "- C: Catcher (receptor).\n",
    "\n",
    "La idea de lo que se debe resolver es: será cierto que dependiendo de la posición de los jugadores dentro del campo de beisbol, cambia el porcentaje de bateo?\n",
    "\n",
    "Como hay un grupo de jugadores que se encarga de batear, se esperaría si haya un grupo que batea mejor que los otros. Será que el porcentaje de bateo si depende de la posición? Y en caso que dependa de la posición, serás capaz de encontrar en qué posición de batea mejor?\n",
    "\n",
    "**Pasos del ANOVA en Python**\n",
    "\n",
    "```python\n",
    "################################################################\n",
    "########################    EN PYTHON    #######################\n",
    "################################################################\n",
    "\n",
    "import pandas as pd\n",
    "import numpy as np\n",
    "import matplotlib.pyplot as plt\n",
    "from plotnine import *\n",
    "import pingouin as pg\n",
    "\n",
    "################################################################\n",
    "```\n",
    "\n",
    "Recuerda tener tu tabla en formato largo. **A partir del Paso 2 es fundamental**.\n",
    "\n",
    "**Paso 0) Identificación de parámetros**\n",
    "\n",
    "```python\n",
    "################################################################\n",
    "########################    EN PYTHON    #######################\n",
    "################################################################\n",
    "\n",
    "##### Tamaño de cada grupo\n",
    "tabla.groupby('columna de factores').size()\n",
    "\n",
    "#### Cálculo de la media y desviación en cada grupo\n",
    "tabla.groupby('columna de factores').agg(['mean', 'std'])\n",
    "\n",
    "#### Gráfico de cajas\n",
    "(ggplot(data=tabla) + geom_boxplot(mapping=aes(x=\"columna de factor\",y=\"columna de datos\")))\n",
    "\n",
    "#### Histogramas\n",
    "(\n",
    "    ggplot(tabla, aes(x='columna de datos')) +\n",
    "    geom_histogram(bins=15, fill='skyblue', color='black', alpha=0.7) +\n",
    "    facet_wrap('~columna de factor', ncol=2)\n",
    ")\n",
    "\n",
    "################################################################\n",
    "```\n",
    "\n",
    "\n",
    "\n",
    "**Paso 1) Prueba de normalidad**\n",
    "\n",
    "$p$-valor|Decisión|Significado\n",
    ":--|:--|:--\n",
    "Pequeño|Rechazar $H_0$|Hay buena probabilidad de que **NO es gaussiana**\n",
    "Grande|Rechazar $H_1$|Hay buena probabilidad de que **SÍ es gaussiana**\n",
    "\n",
    "**Recuerda que para utilizarlos en Python requieres la biblioteca ``scipy.stats`` y/o ``statsmodels``**.\n",
    "\n",
    "Prueba|Abreviatura|Tamaño de<br> muestra|Desventaja|Estadístico|**Python**\n",
    ":--|:--:|:--:|:--|:--:|:--\n",
    "Shapiro-Wilk|SW|$n \\leq 5000$|Sensible a valores repetidos y colas|W|``shapiro()``\n",
    "Kolmogorov-Smirnov|KS|$n \\leq 1000$|Requiere especificar parámetros|D|``kstest()``\n",
    "Anderson-Darling|AD|$n \\leq 5000$|Menos eficiente en muestras grandes|A|``anderson()``\n",
    "Jarque-Bera|JB|$n \\geq 20$|Menos sensible a desviaciones pequeñas|JB|``jarque_bera()``\n",
    "\n",
    "https://github.com/scidatmath2020/Inferencia_Estadistica_2024/blob/main/scripts/Pruebas%20de%20hipotesis/gaussianidad.py\n",
    "\n",
    "```python\n",
    "################################################################\n",
    "########################    EN PYTHON    #######################\n",
    "################################################################\n",
    "\n",
    "gaussianidad = tabla.groupby('columna de factor')['columna de datos'].apply(gaussian_test)\n",
    "\n",
    "################################################################\n",
    "```"
   ]
  },
  {
   "cell_type": "markdown",
   "id": "8be599a5-3341-4dfa-9e5c-cc89e8779864",
   "metadata": {},
   "source": [
    "<font color = 'LightSeaGreen'>\n",
    "<font size = 3>\n",
    "\n",
    "Supóngase "
   ]
  },
  {
   "cell_type": "markdown",
   "id": "a724d7e2-41ab-480e-a93d-d7f70d0f7387",
   "metadata": {},
   "source": [
    "<font color = 'deepskyblue'>\n",
    "<font size = 5>\n",
    "\n",
    "Paqueterías"
   ]
  },
  {
   "cell_type": "code",
   "execution_count": 5,
   "id": "a63b902e-9f1c-4dc9-a684-80b0edda42f0",
   "metadata": {},
   "outputs": [],
   "source": [
    "# Importamos las paqueterías que vamos a usar\n",
    "import pandas as pd\n",
    "import numpy as np\n",
    "import matplotlib.pyplot as plt\n",
    "from plotnine import *\n",
    "import pingouin as pg"
   ]
  },
  {
   "cell_type": "markdown",
   "id": "b19bccc7-ebac-4358-8eb2-cdc47525320a",
   "metadata": {},
   "source": [
    "<font color = 'deepskyblue'>\n",
    "<font size = 5>\n",
    "\n",
    "Lectura de los datos"
   ]
  },
  {
   "cell_type": "code",
   "execution_count": 13,
   "id": "15ac2148-ba30-4610-ab99-4f4dc56de2df",
   "metadata": {},
   "outputs": [
    {
     "data": {
      "text/html": [
       "<div>\n",
       "<style scoped>\n",
       "    .dataframe tbody tr th:only-of-type {\n",
       "        vertical-align: middle;\n",
       "    }\n",
       "\n",
       "    .dataframe tbody tr th {\n",
       "        vertical-align: top;\n",
       "    }\n",
       "\n",
       "    .dataframe thead th {\n",
       "        text-align: right;\n",
       "    }\n",
       "</style>\n",
       "<table border=\"1\" class=\"dataframe\">\n",
       "  <thead>\n",
       "    <tr style=\"text-align: right;\">\n",
       "      <th></th>\n",
       "      <th>posicion</th>\n",
       "      <th>bateo</th>\n",
       "    </tr>\n",
       "  </thead>\n",
       "  <tbody>\n",
       "    <tr>\n",
       "      <th>0</th>\n",
       "      <td>OF</td>\n",
       "      <td>0.359</td>\n",
       "    </tr>\n",
       "    <tr>\n",
       "      <th>1</th>\n",
       "      <td>IF</td>\n",
       "      <td>0.340</td>\n",
       "    </tr>\n",
       "    <tr>\n",
       "      <th>2</th>\n",
       "      <td>IF</td>\n",
       "      <td>0.330</td>\n",
       "    </tr>\n",
       "    <tr>\n",
       "      <th>3</th>\n",
       "      <td>OF</td>\n",
       "      <td>0.341</td>\n",
       "    </tr>\n",
       "    <tr>\n",
       "      <th>4</th>\n",
       "      <td>IF</td>\n",
       "      <td>0.366</td>\n",
       "    </tr>\n",
       "  </tbody>\n",
       "</table>\n",
       "</div>"
      ],
      "text/plain": [
       "  posicion  bateo\n",
       "0       OF  0.359\n",
       "1       IF  0.340\n",
       "2       IF  0.330\n",
       "3       OF  0.341\n",
       "4       IF  0.366"
      ]
     },
     "execution_count": 13,
     "metadata": {},
     "output_type": "execute_result"
    }
   ],
   "source": [
    "# Importamos los datos que vamos a usar\n",
    "beisbol = pd.read_csv(\"Data/beisbol.csv\")\n",
    "\n",
    "# Muestra los primeros 5 rows\n",
    "beisbol.head()"
   ]
  },
  {
   "cell_type": "code",
   "execution_count": 18,
   "id": "afd54838-06b1-4980-ae2e-71fd93cf2fdb",
   "metadata": {},
   "outputs": [
    {
     "name": "stdout",
     "output_type": "stream",
     "text": [
      "Dimensiones del dataframe: (327, 2)\n",
      "Index(['posicion', 'bateo'], dtype='object')\n"
     ]
    }
   ],
   "source": [
    "# Muestra las dimensiones de la tabla\n",
    "print(f\"Dimensiones del dataframe: {beisbol.shape}\")\n",
    "\n",
    "# Muestra el nombre de las columnas\n",
    "print(beisbol.columns)"
   ]
  },
  {
   "cell_type": "markdown",
   "id": "455bc480-ccd8-4860-9885-0b0de8139cbf",
   "metadata": {},
   "source": [
    "<font color = 'deepskyblue'>\n",
    "<font size = 5>\n",
    "\n",
    "Paso 0) Identificación de parámetros"
   ]
  },
  {
   "cell_type": "code",
   "execution_count": 21,
   "id": "7f39ac10-dc18-4f82-af88-3f8ab2695215",
   "metadata": {},
   "outputs": [
    {
     "data": {
      "text/plain": [
       "posicion\n",
       "C      39\n",
       "DH     14\n",
       "IF    154\n",
       "OF    120\n",
       "dtype: int64"
      ]
     },
     "execution_count": 21,
     "metadata": {},
     "output_type": "execute_result"
    }
   ],
   "source": [
    "##### Tamaño de cada grupo\n",
    "beisbol.groupby('posicion').size()"
   ]
  },
  {
   "cell_type": "code",
   "execution_count": 23,
   "id": "37a3122a-e73a-4d7e-8cd5-dc6336c37ff1",
   "metadata": {},
   "outputs": [
    {
     "data": {
      "text/html": [
       "<div>\n",
       "<style scoped>\n",
       "    .dataframe tbody tr th:only-of-type {\n",
       "        vertical-align: middle;\n",
       "    }\n",
       "\n",
       "    .dataframe tbody tr th {\n",
       "        vertical-align: top;\n",
       "    }\n",
       "\n",
       "    .dataframe thead tr th {\n",
       "        text-align: left;\n",
       "    }\n",
       "\n",
       "    .dataframe thead tr:last-of-type th {\n",
       "        text-align: right;\n",
       "    }\n",
       "</style>\n",
       "<table border=\"1\" class=\"dataframe\">\n",
       "  <thead>\n",
       "    <tr>\n",
       "      <th></th>\n",
       "      <th colspan=\"2\" halign=\"left\">bateo</th>\n",
       "    </tr>\n",
       "    <tr>\n",
       "      <th></th>\n",
       "      <th>mean</th>\n",
       "      <th>std</th>\n",
       "    </tr>\n",
       "    <tr>\n",
       "      <th>posicion</th>\n",
       "      <th></th>\n",
       "      <th></th>\n",
       "    </tr>\n",
       "  </thead>\n",
       "  <tbody>\n",
       "    <tr>\n",
       "      <th>C</th>\n",
       "      <td>0.322615</td>\n",
       "      <td>0.045132</td>\n",
       "    </tr>\n",
       "    <tr>\n",
       "      <th>DH</th>\n",
       "      <td>0.347786</td>\n",
       "      <td>0.036037</td>\n",
       "    </tr>\n",
       "    <tr>\n",
       "      <th>IF</th>\n",
       "      <td>0.331526</td>\n",
       "      <td>0.037095</td>\n",
       "    </tr>\n",
       "    <tr>\n",
       "      <th>OF</th>\n",
       "      <td>0.334250</td>\n",
       "      <td>0.029444</td>\n",
       "    </tr>\n",
       "  </tbody>\n",
       "</table>\n",
       "</div>"
      ],
      "text/plain": [
       "             bateo          \n",
       "              mean       std\n",
       "posicion                    \n",
       "C         0.322615  0.045132\n",
       "DH        0.347786  0.036037\n",
       "IF        0.331526  0.037095\n",
       "OF        0.334250  0.029444"
      ]
     },
     "execution_count": 23,
     "metadata": {},
     "output_type": "execute_result"
    }
   ],
   "source": [
    "#### Cálculo de la media y desviación en cada grupo\n",
    "beisbol.groupby('posicion').agg(['mean', 'std'])"
   ]
  },
  {
   "cell_type": "code",
   "execution_count": 24,
   "id": "d409d274-433a-46ea-9369-f876220f6028",
   "metadata": {},
   "outputs": [
    {
     "data": {
      "image/png": "[encoded data removed]"
     },
     "metadata": {
      "image/png": {
       "height": 480,
       "width": 640
      }
     },
     "output_type": "display_data"
    }
   ],
   "source": [
    "#### Gráfico de cajas\n",
    "(ggplot(data = beisbol) + geom_boxplot(mapping= aes(x = \"posicion\",y = \"bateo\")))"
   ]
  },
  {
   "cell_type": "code",
   "execution_count": 28,
   "id": "8b32c95f-bc5d-49a3-97ce-70575f61e56e",
   "metadata": {},
   "outputs": [
    {
     "data": {
      "image/png": "[encoded data removed]"
     },
     "metadata": {
      "image/png": {
       "height": 480,
       "width": 640
      }
     },
     "output_type": "display_data"
    }
   ],
   "source": [
    "#### Histogramas\n",
    "(\n",
    "    ggplot(beisbol, aes(x = 'posicion')) +\n",
    "    geom_histogram(bins = 15, fill = 'skyblue', color = 'black', alpha = 0.7) +\n",
    "    facet_wrap('~posicion', ncol = 2)\n",
    ")"
   ]
  },
  {
   "cell_type": "markdown",
   "id": "99626cbd-30d2-479d-8949-c09b582b2d53",
   "metadata": {},
   "source": [
    "<font color = 'Brown'>\n",
    "<font size = 4>\n",
    "    \n",
    "**Notas**"
   ]
  },
  {
   "cell_type": "markdown",
   "id": "c5f33f75-eaab-4c3c-8a92-3bcedb834cee",
   "metadata": {},
   "source": [
    "<font color = 'DarkRed'>\n",
    "<font size = 3>\n",
    "\n",
    "- Nunca vas a tener acceso a las **poblaciones**.\n",
    "- La **hipótesis** alternativa nunca lleva el símbolo de igualdad ($=$).\n",
    "- En la **ANOVA** te enfrentas a dos problemas:\n",
    "    1. el problema de la **prueba de hipótesis**.\n",
    "    2. en caso de que las **medias** no sean iguales, encontrar cuáles son los grupos que tienen las **medias** diferentes.\n",
    "- En ciencia de datos, es mejor trabajar con las tablas en formato largo (formato tidy) ya que a las computadoras les cuesta menos trabajo procesarlas.\n",
    "- El **Anova** por si solo, lo único que te va a decir es si todos son iguales o hay al menos uno diferente. \n",
    "- El análisis post hoc te va a decir quiénes son los diferentes. \n",
    "\n",
    "---"
   ]
  }
 ],
 "metadata": {
  "kernelspec": {
   "display_name": "Python 3 (ipykernel)",
   "language": "python",
   "name": "python3"
  },
  "language_info": {
   "codemirror_mode": {
    "name": "ipython",
    "version": 3
   },
   "file_extension": ".py",
   "mimetype": "text/x-python",
   "name": "python",
   "nbconvert_exporter": "python",
   "pygments_lexer": "ipython3",
   "version": "3.10.15"
  }
 },
 "nbformat": 4,
 "nbformat_minor": 5
}
