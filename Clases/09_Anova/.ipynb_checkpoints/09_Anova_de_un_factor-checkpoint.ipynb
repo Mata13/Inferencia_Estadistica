{
 "cells": [
  {
   "cell_type": "markdown",
   "id": "13e53d9b-6b80-475c-811f-656206011ab8",
   "metadata": {},
   "source": [
    "<font color='IndianRed'>\n",
    "<font size=9> \n",
    "\n",
    "**Curso Inferencia Estadística**"
   ]
  },
  {
   "cell_type": "markdown",
   "id": "e522ab4d-364d-4257-a779-33ae280d750c",
   "metadata": {},
   "source": [
    "<font color = 'DodgerBlue'>\n",
    "<font size = 5>\n",
    "    \n",
    "**Anova de un factor**"
   ]
  },
  {
   "cell_type": "markdown",
   "id": "8b842d06-3363-45be-be88-173690006c1b",
   "metadata": {},
   "source": [
    "<font color = 'DodgerBlue'>\n",
    "<font size = 4>\n",
    "    \n",
    "**Introducción al análisis de la varianza (analysis of variance)**"
   ]
  },
  {
   "cell_type": "markdown",
   "id": "bb14c61a-3f54-439d-ba50-d5a2cfbf699c",
   "metadata": {},
   "source": [
    "<font color = 'Black'>\n",
    "<font size = 3>\n",
    "\n",
    "Algunas veces nos interesa dividir a la **población** en **subpoblaciones** utilizando **una sola característica $F$**. \n",
    "\n",
    "Cuando este es el caso, decimos que la **población** está **clasificada por un factor**."
   ]
  },
  {
   "cell_type": "markdown",
   "id": "9f05dc78-1d11-4f6c-8821-74eac14d094c",
   "metadata": {},
   "source": [
    "<font color = 'LightSeaGreen'>\n",
    "<font size = 3>\n",
    "\n",
    "**Ejemplo.**\n",
    "\n",
    "Delitos cometidos en México durante el 2024.\n",
    "\n",
    "- Tú tendrías una columna de cuántos delitos se cometieron en enero, febrero, etc. Por lo que tendrías una columna con la información numérica de los delitos que se cometieron durante cada mes.\n",
    "- Pero tendrías una columna extra, que sería una columna de una característica, que sería el mes en que se cometió.\n",
    "- Pero a su vez, puedes tener más columnas con diferentes clases y clasificaciones. Y lo puedes complicar tanto como quieras. Así como se muestra en la siguiente imagen de una tabla de Excel.\n",
    "\n",
    "<img src = \"Img/anova_tabla.png\">"
   ]
  },
  {
   "cell_type": "markdown",
   "id": "2428c33f-04bc-4f9a-bc01-1064d22b1b7a",
   "metadata": {},
   "source": [
    "<font color = 'Black'>\n",
    "<font size = 3>\n",
    "\n",
    "Digamos que nuestra característica nos ha formado $k$ subgrupos de la población. Decimos entonces que la población está dividida en $k$ niveles del factor $F$.\n",
    "\n",
    "El **ANOVA de un solo factor** es una prueba de hipótesis para saber si las medias de cierta característica $X$ de la población son iguales en cada uno de los $k$ niveles de un factor $F$, siempre que $k>2$. \n",
    "\n",
    "Es decir, si $F$ es una característica de la población que tiene $k$ valores diferentes, y $X$ es otra característica de la población, vale la pena preguntarnos si el valor promedio de $X$ en cada una de las $k$ subpoblaciones inducidas por $F$ es el mismo."
   ]
  }
 ],
 "metadata": {
  "kernelspec": {
   "display_name": "Python 3 (ipykernel)",
   "language": "python",
   "name": "python3"
  },
  "language_info": {
   "codemirror_mode": {
    "name": "ipython",
    "version": 3
   },
   "file_extension": ".py",
   "mimetype": "text/x-python",
   "name": "python",
   "nbconvert_exporter": "python",
   "pygments_lexer": "ipython3",
   "version": "3.10.15"
  }
 },
 "nbformat": 4,
 "nbformat_minor": 5
}
