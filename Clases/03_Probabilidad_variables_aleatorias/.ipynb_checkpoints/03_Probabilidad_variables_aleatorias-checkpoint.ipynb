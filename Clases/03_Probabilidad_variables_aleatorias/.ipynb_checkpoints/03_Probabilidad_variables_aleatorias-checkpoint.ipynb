{
 "cells": [
  {
   "cell_type": "markdown",
   "id": "be8a6bd2-44b6-4511-908e-63bf15d84999",
   "metadata": {},
   "source": [
    "<font color='IndianRed'>\n",
    "<font size=9> \n",
    "\n",
    "**Curso Inferencia Estadística**"
   ]
  },
  {
   "cell_type": "markdown",
   "id": "39ecd8b6-fd0c-430d-998f-071c82d64a88",
   "metadata": {},
   "source": [
    "<font color = 'DodgerBlue'>\n",
    "<font size = 5>\n",
    "    \n",
    "**Probabilidad**"
   ]
  },
  {
   "cell_type": "markdown",
   "id": "c74a8bb8-a572-4240-bd52-717301eec818",
   "metadata": {},
   "source": [
    "<font color = 'DodgerBlue'>\n",
    "<font size = 5>\n",
    "    \n",
    "**Espacio muestra, eventos y variables aleatorias**"
   ]
  },
  {
   "cell_type": "markdown",
   "id": "313c2140-ecc3-4b93-bd84-bfb6a39ff42a",
   "metadata": {},
   "source": [
    "<font color = 'Black'>\n",
    "<font size = 3>\n",
    "\n",
    "El **cálculo de probabilidades** nace para poder medir, de alguna manera, el grado de certidumbre/incertidumbre que tiene cada uno de los posibles resultados de tu experimento.\n",
    "\n",
    "Se define como **espacio muestral** $\\Omega$ al conjunto de todos los posibles resultados del experimento.\n",
    "\n",
    "Un **evento** es cada subconjunto del espacio muestral. \n",
    "\n",
    "Esto signfica que el espacio muestral está formado por todos los eventos posibles de tu experimento.\n",
    "\n",
    "En general, si tenemos $n$ elementos en el espacio muestral, van haber $2^n$ eventos."
   ]
  },
  {
   "cell_type": "markdown",
   "id": "fc5f3319-a4a2-43b6-b35a-9f17d6a92984",
   "metadata": {},
   "source": [
    "<font color = 'Black'>\n",
    "<font size = 3>\n",
    "\n",
    "---\n",
    "\n",
    "Toma un conjunto de números, si ese conjunto tiene una **cota superior**, es decir, si existe alguien que es más grande que todos esos valores, forzosamente debe existir una **menor cota superior**. \n",
    "\n",
    "En el ejemplo de la recta infinita, seleccionas un conjunto de números (color naranja). Existe un número azul que es más grande que todos los naranjas. Por el **axioma del supremo**, como existe un número azul que es más grande que todos los demás, debe existir un azul que es más pequeño que todos los demás azules, pero que sea más grande que todos los naranjas. A ese número azul se le llama **supremo**.\n",
    "\n",
    "Hacia atrás pasa lo mismo, te tomas un número rojo que es más pequeño que todos los demás naranjas, por el **Teorema**, debe existir un rojo que es más pequeño que todos los naranjas y que es el rojo más grande. A ese número azul se le llama **infimo**.\n",
    "\n",
    "![DatosObsDataF](Img/sup_inf.jpg)\n",
    "\n",
    "---"
   ]
  },
  {
   "cell_type": "markdown",
   "id": "db46c691-0642-44f8-9490-5dc1129c5272",
   "metadata": {},
   "source": [
    "<font color = 'Black'>\n",
    "<font size = 3>\n",
    "\n",
    "Una **variable aleatoria** (abreviado como v.a.) es una **función** que le asigna un número a cada uno de los eventos de tu experimento.\n",
    "\n",
    "En otras palabras, se trata de una *máquina imaginaria* a la cual le das de comer un evento y te devuelve un número.\n",
    "\n",
    "*Notación:* las variables aleatorias suelen representarse con una letra mayúscula.\n",
    "\n",
    "Formalmente, una **variable aleatoria** es una transformación $X$ del espacio de resultados (**espacio muestral**) $\\Omega$ al conjunto de los números reales $\\mathbb{R}$, esto es,\n",
    "\n",
    "$$X : \\Omega \\rightarrow \\mathbb{R},$$\n",
    "\n",
    "tal que para cualquier número real $x$, \n",
    "\n",
    "$$\\{\\omega \\in \\Omega : X(\\omega) \\leqslant x \\} \\in \\mathscr{F}.$$\n",
    "\n",
    "donde $\\mathscr{F}$ es una colección de subconjuntos del **espacio muestral**.\n",
    "\n"
   ]
  },
  {
   "cell_type": "markdown",
   "id": "a771c061-9cdd-4902-b3b6-e0763a013a04",
   "metadata": {},
   "source": [
    "<font color = 'Black'>\n",
    "<font size = 3>\n",
    "\n",
    "---\n",
    "\n",
    "Supongamos que se efectua un experimento aleatorio una vez y se obtiene un resultado $\\omega$ en $\\Omega$. Al transformar este resultado con la variable aleatoria $X$ se obtiene un número real $X(\\omega) = x$.Así, una variable aleatoria es una función determinista y no es variable ni aleatoria, sin embargo tales términos se justifican al considerar que los posibles resultados del experimento aleatorio son los diferentes números reales $x$ que la función $X$ puede tomar.\n",
    "\n",
    "De manera informal, uno puede pensar también que una variable aleatoria es una pregunta o medición que se hace sobre cada uno de los resultados del experimento aleatorio y cuya respuesta es un número real, así cada resultado $\\omega$ tiene asociado un único número $x$."
   ]
  },
  {
   "cell_type": "markdown",
   "id": "345dd5a8-8265-4413-80a6-5cdeeba02cd8",
   "metadata": {},
   "source": [
    "<font color = 'LightSeaGreen'>\n",
    "<font size = 3>\n",
    "\n",
    "**Ejemplos.**\n",
    "\n",
    "- Lanzas un dado y solamente puede caer una cara.\n",
    "\n",
    "    El **espacio muestral** es {1,2,3,4,5,6}.\\\n",
    "    El **evento** es obtener un número par: {2,4,6}.\\\n",
    "    El **evento** obtener menos que 5: {1,2,3,4}.\\\n",
    "    $X$ es la v.a. que toma culquier elemento del espacio muestral y me dice el número que salió.\\\n",
    "    El **evento** es obtener un número par simplemente es $X=2$ o $X=4$ o $X=6$.\n",
    "\n",
    "- Lanzas una moneda y solamente puede caer una cara:\n",
    "\n",
    "    El **espacio muestral** es {cara,cruz}.\\\n",
    "    Un **evento** es no obtener ni cara ni cruz: el **evento** ${\\emptyset}$.\\\n",
    "    $X=1$ si se obtienen cara: $X=0$ si se obtiene cruz.\n",
    "\n",
    "- Seleccionas a una persona dentro de una escuela y mides su estatura.\n",
    "\n",
    "    El **espacio muestral** es (0,3mts].\\\n",
    "    El **evento** \"la persona mide más de 1.70m: (1.70,3].\\\n",
    "    El **evento** \"la persona mide entre 1.50 y 1.80m: (1.5,1.8).\n",
    "\n",
    "- Seleccionas una bacteria dentro de un cultivo y te preguntas su la bacteria reacciona o no a un medicamento.\n",
    "\n",
    "    El **espacio muestral** es {si,no}.\\\n",
    "    Solo hay cuatro subconjuntos. Es decir, solo hay 4 eventos: $\\emptyset$, {si}, {no}, {si,no}.\n",
    "\n",
    "- En una oficina que abre a las 8 am y cierra a las 4 pm. Tomar el tiempo que pasa para recibir la primer llamada telefónica.\n",
    "\n",
    "     El **espacio muestral** es {0,1,2,3,4,5,6,7,8} en horas.\\\n",
    "     El **espacio muestral** es [0,28800] en segundos.\\\n",
    "     Esperar al menos 2 hrs: [7200,28800] en segundos.\\\n",
    "     $X$: el tiempo de espera. Así el evento \"esperar al menos dos horas\" significa $X>7200$.\n",
    "\n",
    "- Empiezo a entrevistar personas para un puesto de trabajo. Anoto a cuántas tengo que rechazar antes de obtener al candidato ideal.\n",
    "\n",
    "    El **espacio muestral** es {0,1,2,3,...}, es discreto pero infinito.\\\n",
    "    El **evento**: selecciona a la persona en la entrevista 24: {23}, significa que rechacé a 23 personas.\\\n",
    "    El **evento** rechazo a las primeras 20 personas: {0,1,2,3...,19}.\\\n",
    "    $X$: número de rechazados antes de elegir al candidato. Entonces el evento rechazo a las primeras 20 personas es $X=20$."
   ]
  },
  {
   "cell_type": "markdown",
   "id": "8350915f-bd91-4158-b5bb-6abc4456a219",
   "metadata": {},
   "source": [
    "<font color = 'LightSeaGreen'>\n",
    "<font size = 3>\n",
    "\n",
    "**Ejemplo.**\n",
    "\n",
    "1. Cuando lanzas una moneda con dos caras diferentes, digamos \"águila\" y \"sol\", y quieres saber cuál de las dos caras caerá, tienes cuatro eventos: \"cae águila\", \"cae sol\", \"cae águila o cae sol\" y \"no cae ni águila ni sol\".\n",
    "\n",
    "Nota que el cuarto evento es *imposible*, en tanto que el tercer evento siempre ocurre.\n",
    "\n",
    "A su vez, a cada uno de esos eventos le podemos asignar un número: $X$ es la variable aleatoria dada por\n",
    "\n",
    "$$X=\\left\\{\\begin{array}{l}1\\mbox{ si cae águila}\\\\2022\\mbox{ si cae sol}\\\\-1000\\mbox{ si no cae ni águila ni sol}\\\\15\\mbox{ si cae águila o cae sol}\\\\\\end{array}\\right.$$"
   ]
  },
  {
   "cell_type": "markdown",
   "id": "85d3cf96-1238-42b3-8d44-b8d35efc8c38",
   "metadata": {},
   "source": [
    "<font color = 'Black'>\n",
    "<font size = 3>\n",
    "\n",
    "Usualmente, en Estadística la manera en que se define una variable aleatoria tiene que ver con la medida que obtenemos al observar una característica de un objeto de estudio."
   ]
  },
  {
   "cell_type": "markdown",
   "id": "70f0650d-6fac-4c17-82de-1ad2af3ccd1a",
   "metadata": {},
   "source": [
    "<font color = 'LightSeaGreen'>\n",
    "<font size = 3>\n",
    "\n",
    "2. Deseas conocer cómo se relacionan las edades con cierta enfermedad que se presenta en la población. Tomas una muestra de personas que hayan sufrido la enfermedad y les preguntas sus edades. Para cada persona, definimos la variable aleatoria $X$ como $X=\\mbox{ edad de la persona}$."
   ]
  },
  {
   "cell_type": "markdown",
   "id": "886097f6-730e-4587-959a-c3ac65f22573",
   "metadata": {},
   "source": [
    "<font color = 'LightSeaGreen'>\n",
    "<font size = 3>\n",
    "\n",
    "3. Incluso podemos combinar variables aleatorias: toma una muestra de la población. Sea $X$ la edad de la persona y\n",
    "\n",
    "$$Y=\\left\\{\\begin{array}{l}1\\mbox{ si la persona ha tenido la enfermedad}\\\\0\\mbox{ si la persona no ha tenido la enfermedad}\\end{array}\\right.$$"
   ]
  },
  {
   "cell_type": "markdown",
   "id": "c4584850-bf63-45d7-9784-68322b7f85c6",
   "metadata": {},
   "source": [
    "<font color = 'LightSeaGreen'>\n",
    "<font size = 3>\n",
    "\n",
    "También es importante utilizar una notación que nos ayude a tener clara nuestra información.\n",
    "\n",
    "4. Considera que te interesa saber cuántos niños de tu cuadra asistieron hoy a la escuela. Vas a ir a preguntarle a cada uno de los niños. Se define la variable aleatoria $X$ como \n",
    "\n",
    "$$X=\\left\\{\\begin{array}{l}1\\mbox{ si el niño fue a la escuela}\\\\0\\mbox{ si el niño no fue a la escuela}\\end{array}\\right.$$\n",
    "\n",
    "Por lo tanto, $X$ te dice si un niño fue o no a la escuela. Denotemos por $X_1$ a la variable aleatoria que me dice si el niño 1 fue o no a la escuela; $X_2$ es la variable aleatoria que me dice si el niño 2 fue o no a la escuela; etcétera.\n",
    "\n",
    "Entonces $X_1+X_2+...+X_n$ es la variable aleatoria que me dice cuántos niños fueron a la escuela. Hasta acá tenemos un planteamiento puramente abstracto.\n",
    "\n",
    "En seguida vamos a entrevistar a cada niño de la cuadra. Denotemos por $x_i$ a la respuesta del niño $i$: $x_1$ es la respuesta del niño 1; $x_2$ es la respuesta del niño 2; etc.\n",
    "\n",
    "De esta manera, podemos denotar la característica \"el niño asistió a la escuela\" con la misma letra $x$ (pero en minúscula) y entonces la notación $x=(x_1,x_2,...,x_n)$ es la columna, dentro de tu tabla, que te dice la información de la característica $X$ y por lo tanto \n",
    "\n",
    "$$x_1+x_2+...+x_n$$ es el total de niños que asistieron a la escuela.\n",
    "\n",
    "A los datos $x_1,x_2,...,x_n$ se les llama *observaciones*. "
   ]
  },
  {
   "cell_type": "markdown",
   "id": "fa047fce-8bf1-4cbd-a9d2-0411384f2566",
   "metadata": {},
   "source": [
    "<font color = 'DodgerBlue'>\n",
    "<font size = 5>\n",
    "    \n",
    "**Cálculo de probabilidades**"
   ]
  },
  {
   "cell_type": "markdown",
   "id": "90f52642-ff90-40c0-9f72-a4b9bd0b31e8",
   "metadata": {},
   "source": [
    "<font color = 'Black'>\n",
    "<font size = 3>\n",
    "\n",
    "Una **ley de probabilidad** es una manera de asignar un número entre 0 y 1 a los eventos de un experimento.\n",
    "\n",
    "Una vez que tenemos una **variable aleatoria**, podemos preguntarnos sobre la probabilidad de que dicha variable aleatoria tome o no cierto valor.\n",
    "\n",
    "---"
   ]
  },
  {
   "cell_type": "markdown",
   "id": "4aa51a0f-90ca-4bad-bc68-b60a53f24877",
   "metadata": {},
   "source": [
    "<font color = 'LightSeaGreen'>\n",
    "<font size = 3>\n",
    "\n",
    "Por ejemplo, en el Ejemplo 1, tenemos $$P(\\mbox{obtenemos sol})=P(X=2022)$$\n",
    "\n",
    "En otras palabras, si $X$ es una variable aleatoria y $w$ es cualquier número, el símbolo $$P(X=w)$$ es un número entre 0 y 1, y se interpreta en Estadística como \"qué tan frecuente es que el valor observado en la característica $X$ sea $w$\".\n",
    "\n",
    "A su vez, podemos hacernos preguntas más interesantes como \"¿qué tan frecuente es que más de dos niños asistan a la escuela?\", o \"¿qué tan frecuentes es que todos los niños vayan a la escuela?\" o \"¿qué tan frecuente es que a lo más dos niños vayan a la escuela?\", lo que se representa por $P(X_1+X_2+..+X_n>2)$, $P(X_1+X_2+..+X_n=n)$ y $P(X_1+X_2+..+X_n\\le2)$, respectivamente."
   ]
  },
  {
   "cell_type": "markdown",
   "id": "4ca6cbb1-2d04-46bf-8f55-d7a28a820d10",
   "metadata": {},
   "source": [
    "<font color = 'DodgerBlue'>\n",
    "<font size = 5>\n",
    "    \n",
    "**Tipos de variables aleatorias**"
   ]
  },
  {
   "cell_type": "markdown",
   "id": "ee81ef71-01c8-4395-b51b-43049dec6e73",
   "metadata": {},
   "source": [
    "<font color = 'Black'>\n",
    "<font size = 3>\n",
    "    \n",
    "Las podemos clasificar en general como **discretas** y **continuas**. El caso **discreto** es cuando hacemos **conteos** y el **continuo** cuando hacemos **mediciones** (informalmente, es **discreta** cuando el total de resultados posibles es un **conjunto discreto o contable**, y es **continua** cuando el total de resultados posibles **no es contable**).\n",
    "\n",
    "Las **variables aleatorias** usualmente, aunque hay casos excepcionales pero que no aparecen en la práctica, tiene asociados dos parámetros muy importantes: la **media** (o **esperanza**) y la **varianza**. "
   ]
  },
  {
   "cell_type": "markdown",
   "id": "1a3de9e4-1214-4a3a-99e1-c24d394795b6",
   "metadata": {},
   "source": [
    "<font color = 'Black'>\n",
    "<font size = 3>\n",
    "\n",
    "---\n",
    "   \n",
    "**Función de distribución y función de densidad**.\n",
    "\n",
    "Sea $X$ una variable aleatoria. La **función de distribución** de $X$, que es denotada por $F_X$, se define como $F_X(w)=P(X\\le w)$.\n",
    "\n",
    "---"
   ]
  },
  {
   "cell_type": "markdown",
   "id": "d098291a-e020-45b2-ad5a-57388a075539",
   "metadata": {},
   "source": [
    "<font color = 'LightSeaGreen'>\n",
    "<font size = 3>\n",
    "\n",
    "*Ejemplo 1)* Se lanza un dado de seis caras justo (es decir, que todas las caras tienen probabilidad de $1/6$).\\\n",
    "Sea $X$ la variable aleatoria dada por $X=\\#$ *puntos que indique el dado*. Así, $P(X=1)=P(X=2)=P(X=3)=P(X=4)=P(X=5)=P(X=6)=\\frac{1}{6}$.\n",
    "\n",
    "Por lo tanto $F_X(3)=P(X\\le 3)=P(X=1)+P(X=2)+P(X=3)=\\frac{3}{6}=\\frac{1}{2}$."
   ]
  },
  {
   "cell_type": "markdown",
   "id": "95d7b1d8-29bc-4c34-87ee-eba9b7069a22",
   "metadata": {},
   "source": [
    "<font color = 'Black'>\n",
    "<font size = 3>\n",
    "\n",
    "---\n",
    " \n",
    "En el caso discreto, se define la **función de densidad** como $f_X(w)=P(X=w)$. \n",
    "\n",
    "En el caso continuo, se define la **función de densidad** como $f_X(w)=F_X^\\prime(w)$.\n",
    "\n",
    "---\n",
    "\n",
    "**Propiedades:**\n",
    "\n",
    "\n",
    "1) $0\\le F_X(w)\\le 1$.\n",
    "\n",
    "2) $F_X$ es creciente y continua por la derecha. Esto significa que si $a\\le b$ entonces $F_X(a)\\le F_Y(b)$.\n",
    "\n",
    "3) $\\lim_{w\\to\\infty}F_X(w)=1$ y $\\lim_{w\\to-\\infty}F_X(w)=0$\n",
    "\n",
    "4) $F_X(w)=P(X\\le w)=\\int_{-\\infty}^wf_X(y)\\,\\mathrm{d}y$ si $X$ es continua. Y si $X$ es discreta entonces $F_X(w)=\\sum_{k\\le w}f_X(k)$.\n",
    "\n",
    "Por lo tanto tenemos las siguiente fórmulas muy importantes:\n",
    "\n",
    "$$P(X>a)=1-P(X\\le a)=1-F_X(a)$$\n",
    "\n",
    "Y si $X$ es discreta y $a$ es un entero entonces \n",
    "\n",
    "$$P(X < a)=P(X\\le a-1)$$\n",
    "\n",
    "---"
   ]
  },
  {
   "cell_type": "markdown",
   "id": "884472d9-d89e-4a8b-a09e-4422e159611e",
   "metadata": {},
   "source": [
    "<font color = 'LightSeaGreen'>\n",
    "<font size = 3>\n",
    "\n",
    "**Ejemplo**\n",
    "\n",
    "- Lanzas un dado y solamente puede caer una cara.\n",
    "\n",
    "    El **espacio muestral** es {1,2,3,4,5,6}.\\\n",
    "    El **evento** es obtener un número par: {2,4,6}.\\\n",
    "    El **evento** obtener menos que 5: {1,2,3,4}.\\\n",
    "    $X$ es la v.a. que toma culquier elemento del espacio muestral y me dice el número que salió.\\\n",
    "    El **evento** es obtener un número par simplemente es $X=2$ o $X=4$ o $X=6$.\\\n",
    "    Pobabilidad que $X$ sea exactamente 5: $P(X=5) = f(5)$.\\\n",
    "    Probabilidad que $X$ sea menor o igual que 5: $P(X \\leqslant 5) = F(5)$.\\\n",
    "    Probabilidad que $X$ sea mayor que 4: $P(X>4) = P(X=5) + P(X=6) = 1 - (P(X=1) + P(X=2) + P(X=3) + P(X=4)) = 1 - P(X\\leqslant 4) = 1 - F(4)$\n",
    "\n",
    "---"
   ]
  },
  {
   "cell_type": "markdown",
   "id": "a25807ed-91e8-4e75-82b2-cf7983cba96b",
   "metadata": {},
   "source": [
    "<font color = 'Brown'>\n",
    "<font size = 4>\n",
    "    \n",
    "**Notas**"
   ]
  },
  {
   "cell_type": "markdown",
   "id": "bede7af9-86b0-4505-b659-aa9cd9780df7",
   "metadata": {},
   "source": [
    "<font color = 'DarkRed'>\n",
    "<font size = 3>\n",
    "\n",
    "- Los valores de una **variable aleatoria** son las columnas de la tabla.\n",
    "- Si tu **espacio muestral** es discreto, entonces la **variable aleatoria** se llama **discreta**.\n",
    "- Si tu **espacio muestral** es continuo, entonces la **variable aleatoria** se llama **continua**.\n",
    "- La densidad es la función que integras.\n",
    "- La distribución es la integral.\n",
    "- En probabilidad, la $f$ es cuando quieres que se te de la igualdad exacta.\n",
    "- En probabilidad, la $F$ es cuando no le quieres ganar al número.\n",
    "- $P(\\mbox{evento A}) = 1 - P(\\mbox{evento contrario a A})$, esto quiere decir que la probabilidad que algo suceda es $1 - \\mbox{la probabilidad de que no suceda}$.\n",
    "- Una **variable aleatoria** es una máquina que transforma eventos en números."
   ]
  },
  {
   "cell_type": "markdown",
   "id": "4b0622dd-106b-4a43-b3b8-7a8fb6ad4257",
   "metadata": {},
   "source": [
    "<font color = 'DodgerBlue'>\n",
    "<font size = 5>\n",
    "    \n",
    "**Variables aleatorias importantes**"
   ]
  },
  {
   "cell_type": "markdown",
   "id": "0270fe10-a5fe-4783-a5b6-e44de047031b",
   "metadata": {},
   "source": [
    "<font color = 'LightSeaGreen'>\n",
    "<font size = 3>\n",
    "\n",
    "La principal arma para trabajar con **variables aleatorias** es la paquetería de ``scipy``."
   ]
  },
  {
   "cell_type": "markdown",
   "id": "09149ce4-d891-4ef5-9e37-850c6ecc2576",
   "metadata": {},
   "source": [
    "<font color = 'deepskyblue'>\n",
    "<font size = 5>\n",
    "Librerías"
   ]
  },
  {
   "cell_type": "code",
   "execution_count": 1,
   "id": "d07612cc-eac0-4456-8c93-a11014c57e88",
   "metadata": {},
   "outputs": [],
   "source": [
    "# Importamos las librerías que ocupamos\n",
    "import scipy as sp"
   ]
  },
  {
   "cell_type": "markdown",
   "id": "67a21509-cab3-40d0-9567-573a4581878f",
   "metadata": {},
   "source": [
    "<font color = 'Black'>\n",
    "<font size = 3>\n",
    "\n",
    "---\n",
    "    \n",
    "Todas las funciones importantes para encontrar $f_X$  y $F_X$ en Python se resumen en la siguiente tabla:\n",
    "\n",
    "|Problema|Función|Python|\n",
    "|--------|-------|------|\n",
    "|$P(X\\le a)$|$F_X(a)$|``sp.stats.nombre_va.cdf(a, otros parámetros)``|\n",
    "|$P(X=a)$|$f_X(a)$|``sp.stats.nombre_va.pmf(a, otros parámetros)``|\n",
    "\n",
    "\n",
    "- Recordemos que la $F_X$ es la **probabilidad** de **no sobrepasar** $P(X\\le a)$.\n",
    "- Recordemos que la $f_X(a)$ es la **probabilidad** de **ser igual** $P(X=a)$.\n",
    "\n",
    "---"
   ]
  },
  {
   "cell_type": "markdown",
   "id": "cd694965-302c-4d36-be55-8e30199f8cab",
   "metadata": {},
   "source": [
    "<font color = 'DodgerBlue'>\n",
    "<font size = 5>\n",
    "    \n",
    "**Bernoulli**"
   ]
  },
  {
   "cell_type": "markdown",
   "id": "5fad4120-d081-4030-b9ca-13a61606ef7d",
   "metadata": {},
   "source": [
    "<font color = 'Black'>\n",
    "<font size = 3>\n",
    "    \n",
    "Se trata de un experimento con únicamente dos posibles resultados: **éxito** o **fracaso**, por lo cual son variables aleatorias que únicamente toman **dos valores**; la probabilidad de éxito se denota por $p$.\n",
    "\n",
    "---"
   ]
  },
  {
   "cell_type": "markdown",
   "id": "d3279595-02b9-432e-9bf9-91480e733601",
   "metadata": {},
   "source": [
    "<font color = 'LightSeaGreen'>\n",
    "<font size = 3>\n",
    "\n",
    "**Ejemplo**\n",
    "\n",
    "- Vas a una feria y juegas un juego que consiste en lanzar una moneda. Si cae águila, ganas. Si cae sol, pierdes. Pero además el dueño del juego es un tramposo, y sabe que en el 75% de las ocasiones cae sol. Entonces si $X$ está dada por\n",
    "\n",
    "  $$X=\\left\\{\\begin{array}{l}1\\mbox{ si cae águila}\\\\-1\\mbox{ si cae sol},\\end{array}\\right.$$\n",
    "  \n",
    "  tenemos que $X$ es una variable aleatoria de **Bernoulli** con $P(X=1)=0.25$\n",
    "\n",
    "**Ejemplo**\n",
    "\n",
    "- Lanzas un dado que no tiene truco. Cuál es la probabilidad de obtener 3 o 5?\n",
    "\n",
    "  $$X=\\left\\{\\begin{array}{l}1\\mbox{ si obtengo 3 o 5}\\\\-1\\mbox{ si obtengo algo diferente},\\end{array}\\right.$$\n",
    "\n",
    "  Entonces, la probabilidad de **éxito** es $p = \\frac{2}{6} = \\frac{1}{3} = 0.33333.....$"
   ]
  },
  {
   "cell_type": "markdown",
   "id": "19dce07f-f285-467d-a0a4-3e1f7b0bb4c0",
   "metadata": {},
   "source": [
    "<font color = 'Black'>\n",
    "<font size = 3>\n",
    "    \n",
    "Se trata de un experimento con únicamente dos posibles resultados: **éxito** o **fracaso**, por lo cual son variables aleatorias que únicamente toman **dos valores**; la probabilidad de éxito se denota por $p$."
   ]
  },
  {
   "cell_type": "markdown",
   "id": "38ab20fb-be99-4497-9d81-76960730fdb5",
   "metadata": {},
   "source": [
    "<font color = 'Brown'>\n",
    "<font size = 4>\n",
    "    \n",
    "**Notas**"
   ]
  },
  {
   "cell_type": "markdown",
   "id": "3e658464-ec00-4a14-adad-6cb22b76e6ee",
   "metadata": {},
   "source": [
    "<font color = 'DarkRed'>\n",
    "<font size = 3>\n",
    "\n",
    "- En la variable aleatoria de **Bernoulli** o **sucede** algo o **no sucede**.\n",
    "- En la variable aleatoria de **Bernoulli** tiene un solo parámetro, la $p$.\n",
    "- En la práctica, la probabilidad de tener éxito $p$ difícilmente la vas a conocer."
   ]
  },
  {
   "cell_type": "markdown",
   "id": "4b3dc888-5f9e-414a-b166-9c9f6b4d2085",
   "metadata": {},
   "source": [
    "<font color = 'DodgerBlue'>\n",
    "<font size = 5>\n",
    "    \n",
    "**Binomial**"
   ]
  },
  {
   "cell_type": "markdown",
   "id": "514310f0-df99-4536-b8d2-bcc37e59fb47",
   "metadata": {},
   "source": [
    "<font color = 'Black'>\n",
    "<font size = 3>\n",
    "\n",
    "---\n",
    "    \n",
    "Aparece cuando tienes un conjunto cuyos elementos presentan o no una característica. \n",
    "\n",
    "Supongamos además que si tomas un elemento al azar del conjunto entonces la probabilidad de que presente la característica es $p$. \n",
    "\n",
    "La v.a. **binomial** $X$ mide la probabilidad de que al tomar $n$ elementos al azar de la población, exactamente $k$ de ellos presenten la característica:\n",
    "\n",
    "$$P(X=k)=\\binom{n}{k}p^k(1-p)^{n-k}$$\n",
    "\n",
    "---"
   ]
  },
  {
   "cell_type": "markdown",
   "id": "8f3fac3b-8337-4de8-8147-ae3cba2ecb2c",
   "metadata": {},
   "source": [
    "<font color = 'DarkMagenta'>\n",
    "<font size = 3>\n",
    "\n",
    "Lo que nos quiere decir la **binomial** es que sabiendo la probabilidad de que alguien cumple la **característica**, si yo selecciono $k$ elementos de una **muestra** de tamaño $n$. Cuántos de esos $k$ cumplen la **característica**?\n",
    "\n",
    "---"
   ]
  },
  {
   "cell_type": "markdown",
   "id": "778a2b61-6423-4f85-a4ee-be193b4e1a59",
   "metadata": {},
   "source": [
    "<font color = 'LightSeaGreen'>\n",
    "<font size = 3>\n",
    "\n",
    "**Ejemplo**\n",
    "\n",
    "- Yo se que el 60% de la población va a votar por un candidato y el 40% va a votas por otro candidato. Cuál es la probabilidad de que yo selecciono a 100 personas, 30 de ellas vayan a votar por el primer candidato?\n",
    "\n",
    "**Ejemplo**\n",
    "\n",
    "- Yo se que en el mercado, el 20% de las manzanas están podridas. Cuál es la probabilidad de que si voy y compro 10 manzanas, 4 o 6 de ellas estén podridas?"
   ]
  },
  {
   "cell_type": "markdown",
   "id": "b77e5a2d-7df2-4a0f-a0fc-807a1424ccf1",
   "metadata": {},
   "source": [
    "<font color = 'LightSeaGreen'>\n",
    "<font size = 3>\n",
    "\n",
    "**Ejemplo.**\n",
    "\n",
    "- Supongamos que hay doce preguntas de opción múltiple en un examen de matemáticas, donde ninguna depende de la otra. Cada pregunta tiene cinco posibles respuestas, y sólo una de ellas es correcta. Cada pregunta tiene el mismo valor.\n",
    "\n",
    "  a. Encuentre la probabilidad de tener cuatro o menos respuestas correctas si un estudiante intenta responder a cada pregunta al azar.\n",
    "\n",
    "  b. ¿Cuál es la probabilidad de tener menos de 4 respuestas correctas?\n",
    "\n",
    "  *Sol.* a) Si **X** es en número de respuestas correctas, nos piden la probabilidad $P(X \\leq 4)$. Cómo identifico que la variable tiene un comportamiento **binomial**?\n",
    "  \n",
    "  Me están diciendo que hay 12 preguntas, cada una tiene 5 posibles respuestas y solo una de esas 5 es la respuesta correcta. De mi conjunto de tamaño 12 (12 preguntas), la probabilidad de tener exito es $0.2$ porque cada pregunta tiene 5 opciones y solo una es buena, $\\Rightarrow \\frac{1}{5} = 0.2$\n",
    "\n",
    "  La probabilidad es 0.92, esto quiere decir, de cada 100 niños que lleguen al examen y de esos 100 niños respondan al azar, más o menos 92 de ellos van a tener 0 o 1 0 2 o 3 o 4 preguntas correctas. Eso significa que hay mucha probabilidad de fallar.\n",
    "\n",
    "  Es como si cada una de las 12 preguntas fuera una **Bernoulli** (éxico o fracaso), donde la probabilidad de éxico es $\\frac{1}{5} = 0.2$.\n",
    "\n",
    "\n",
    "  *Sol.* b) Se busca que la probabilidad de que el número de respuestas correctas sea más pequeño que 4, esto es $P(X) < 4$, pero esto es lo mismo que ser 3, ser 2, ser 1 o ser 0. Entonces, $P(X \\leq 3)$. Es decir, $F(3)$: cdf\n",
    "\n",
    "  La probabilidad es $\\sim 80\\%$. Lo que nos dice es que al rededor del 80% de los niños tiene 3 o menos de aciertos en el examen."
   ]
  },
  {
   "cell_type": "code",
   "execution_count": 2,
   "id": "6833906f-de27-4e26-acb3-4e8587f09bda",
   "metadata": {},
   "outputs": [
    {
     "data": {
      "text/plain": [
       "np.float64(0.9274445004799999)"
      ]
     },
     "execution_count": 2,
     "metadata": {},
     "output_type": "execute_result"
    }
   ],
   "source": [
    "# a) Encuentre la probabilidad de tener cuatro o menos respuestas correctas si un \n",
    "# estudiante intenta responder a cada pregunta al azar.\n",
    "\n",
    "### Sol. Se busca P(X<=4). Es decir, F(4): cdf\n",
    "sp.stats.binom.cdf(4, 12, 1/5)"
   ]
  },
  {
   "cell_type": "code",
   "execution_count": 3,
   "id": "bd5ecfe6-315b-4322-a76b-ff6137c38c80",
   "metadata": {},
   "outputs": [
    {
     "data": {
      "text/plain": [
       "np.float64(0.7945689497599999)"
      ]
     },
     "execution_count": 3,
     "metadata": {},
     "output_type": "execute_result"
    }
   ],
   "source": [
    "# b) ¿Cuál es la probabilidad de tener menos de 4 respuestas correctas?\n",
    "\n",
    "### Sol. Se busca P(X<4) que es lo mismo que P(X<=3). Es decir, F(3): cdf\n",
    "sp.stats.binom.cdf(3, 12, 1/5)"
   ]
  },
  {
   "cell_type": "markdown",
   "id": "de49263e-2627-486f-8fd9-6ac6a520de9e",
   "metadata": {},
   "source": [
    "<font color = 'LightSeaGreen'>\n",
    "<font size = 3>\n",
    "\n",
    "**Ejemplo.**\n",
    "\n",
    "- El 13% de la población es zurda. Se seleccionan 5 personas al azar.\n",
    "\n",
    "  a. ¿Cuál es la probabilidad de que hayan 3 zurdos en el grupo?\n",
    "\n",
    "  b. ¿Cuál es la probabilidad de hayan zurdos en el grupo?\n",
    "\n",
    "  c. ¿Cuál es la probabilidad de que hayan al menos tres zurdos en el grupo?\n",
    "\n",
    "  *Sol.* a) Cómo sabemos que se trata de una **binomial**?\n",
    "\n",
    "  Me están dando el porcentaje de los que cumplen la condición (ser zurdo), $p = 0.13$. Selecciono a 5 al azar. Cuál es la probabilidad de que 3 cumplan la condición?\n",
    "\n",
    "  Si $X$ es el número de zurdos en mi grupo de 5 personas, me están preguntando cuál es la probabilidad de que mi $X$ sea 3, es decir, $P(X=3)$. Entonces $f(3)$: pmf(k,n,p).\n",
    "\n",
    "  El resultado es $0.01$, entonces de cada 5 personas que tomes al azar, la probabilidad de que hayan 3 es $0.01%. Es muy difícil que hayan 3 zurdos en un grupo de 5 personas. De cada 100 veces que elijas a 5 personas al azar, o sea que vas a elegir a 500 personas (5 personas 100 veces), solamente en 1 de esas 100 vas a tener a 3 zurdos.\n",
    "\n",
    "  *Sol.* b) ¿Qué significa tener zurdos en el grupo?\n",
    "\n",
    "  Básicamente me están preguntando que hayan 1 zurdo, 2, 3, 4, o 5 zurdos. Significa que $P(X \\geq 1)$, es decir, tener uno o más.\n",
    "\n",
    "  Pero yo no sé cómo calcular $P(X \\geq 1)$, mi tabla no me lo dice. La tabla solo me dice $P(X\\le a)$ o $P(X=a)$.\n",
    "\n",
    "  Se busca la $P(X \\geq 1)$, que es lo mismo que $1 - P(X < 1)$. Pero como $P(X < 1) = P(X = 0)$.\n",
    "\n",
    "  Entonces, $P(X \\geq 1) = 1 - P(X = 0)$, y $P(X = 0)$ si la sé calcular $1 - f(0): 1 - pmf(k,np)$.\n",
    "\n",
    "  El resultado es $0.5015$,esto significa que si tomas 5 personas al azar, la probabilidad de que ninguno sea zurdo es del $50\\%$.\n",
    "\n",
    "  *Sol.* c) Me están pidiendo al menos 3, significa (3, 4, 5): $P(X \\geq 3) = 1 - P(X < 3) = 1 - P(X \\leq 2)$"
   ]
  },
  {
   "cell_type": "code",
   "execution_count": 4,
   "id": "52e07df6-2b13-4fba-b734-33894367a380",
   "metadata": {},
   "outputs": [
    {
     "data": {
      "text/plain": [
       "np.float64(0.016629093)"
      ]
     },
     "execution_count": 4,
     "metadata": {},
     "output_type": "execute_result"
    }
   ],
   "source": [
    "# a) ¿Cuál es la probabilidad de que hayan 3 zurdos en el grupo?\n",
    "\n",
    "### Sol. Se busca $P(X=3)$. Es decir, f(3): pmf(k,n,p)\n",
    "sp.stats.binom.pmf(3,5,0.13)"
   ]
  },
  {
   "cell_type": "code",
   "execution_count": 5,
   "id": "2e8746c4-e7e1-4364-9c25-f0aaa8a1cfe5",
   "metadata": {},
   "outputs": [
    {
     "data": {
      "text/plain": [
       "np.float64(0.2496049762089929)"
      ]
     },
     "execution_count": 5,
     "metadata": {},
     "output_type": "execute_result"
    }
   ],
   "source": [
    "# a) Con otra variante. En 10 personas, ¿Cuál es la probabilidad de que hayan 2 zurdos en el grupo?\n",
    "\n",
    "### Sol. Se busca $P(X=2)$. Es decir, f(2): pmf(k,n,p)\n",
    "sp.stats.binom.pmf(2,10,0.13)"
   ]
  },
  {
   "cell_type": "code",
   "execution_count": 6,
   "id": "b10618ac-2d72-4740-bd58-36bb0b22e95c",
   "metadata": {},
   "outputs": [
    {
     "data": {
      "text/plain": [
       "np.float64(0.5015790793000001)"
      ]
     },
     "execution_count": 6,
     "metadata": {},
     "output_type": "execute_result"
    }
   ],
   "source": [
    "# b ¿Cuál es la probabilidad de hayan zurdos en el grupo?\n",
    "\n",
    "### Se busca P(X>0)=1-P(X=0). Es decir, 1-f(0): 1-pmf(k,n,p)\n",
    "1-sp.stats.binom.pmf(0,5,0.13)"
   ]
  },
  {
   "cell_type": "code",
   "execution_count": 7,
   "id": "ad84a83d-10be-4912-94ca-33ad58dbf11e",
   "metadata": {},
   "outputs": [
    {
     "data": {
      "text/plain": [
       "np.float64(0.017908625799999967)"
      ]
     },
     "execution_count": 7,
     "metadata": {},
     "output_type": "execute_result"
    }
   ],
   "source": [
    "# c. ¿Cuál es la probabilidad de que hayan al menos tres zurdos en el grupo?\n",
    "\n",
    "### Se busca P(X>=3)=1-P(X<3)=1-P(X<=2). Es decir, 1-F(2): 1-cdf(2)\n",
    "1-sp.stats.binom.cdf(2,5,0.13)"
   ]
  },
  {
   "cell_type": "markdown",
   "id": "7bdb60cc-7d33-4380-8b20-0bc7ab25e098",
   "metadata": {},
   "source": [
    "<font color = 'Brown'>\n",
    "<font size = 4>\n",
    "    \n",
    "**Notas**"
   ]
  },
  {
   "cell_type": "markdown",
   "id": "07bdee03-d786-4592-9d3a-92d54cd73f6f",
   "metadata": {},
   "source": [
    "<font color = 'DarkRed'>\n",
    "<font size = 3>\n",
    "\n",
    "- Tú conoces la probabilidad de que se cumpla la **característica** ($p$). Cuál es la probabilidad de que si yo selecciono $k$ elementos al azar, $n$ cumplan la **característica**.\n",
    "- Los **eventos** tienen que ser independientes.\n",
    "- La **binomial** sirve para saber cuántos de un grupo cumplen con la **característica**.\n",
    "- La negación de $P(\\geq a)$ es $P(X < a)$, pero el precio que hay que pagar para poder hacer esa transformación es el $1 - P(X < a)$.\n",
    "- La **binomial** me sirve para preguntarme Cuántos de los que elegí cumplen con la característica?\n",
    "- En la práctica, en la **binomial** la $n$ si la vas a conocer, la $p$ difícilmente la vas a conocer."
   ]
  },
  {
   "cell_type": "markdown",
   "id": "015e2e2b-9e6a-4ac2-81b4-007ab48b587e",
   "metadata": {},
   "source": [
    "<font color = 'DodgerBlue'>\n",
    "<font size = 5>\n",
    "    \n",
    "**Poisson**"
   ]
  },
  {
   "cell_type": "markdown",
   "id": "9513f376-37e4-4ba2-88f8-6ee05833a344",
   "metadata": {},
   "source": [
    "<font color = 'Black'>\n",
    "<font size = 3>\n",
    "\n",
    "---\n",
    "\n",
    "Supongamos que quieres medir cuántas veces ocurrirá un evento en un cierto periodo de tiempo/espacio. \n",
    "\n",
    "Digamos que en promedio, ocurren $\\lambda$ éxitos en ese periodo de tiempo/espacio. Si las ocurrencias del evento son independientes entre sí, entonces el número de ocurrencias en ese periodo de tiempo/espacio es una v.a. **Poisson** $X$ donde \n",
    "\n",
    "$$P(X=k)=\\frac{e^{-\\lambda}\\lambda^k}{k!}$$\n",
    "\n",
    "---"
   ]
  },
  {
   "cell_type": "markdown",
   "id": "1ac9ba2a-3710-4609-86a9-0f9c826d8173",
   "metadata": {},
   "source": [
    "<font color = 'LightSeaGreen'>\n",
    "<font size = 3>\n",
    "\n",
    "**Ejemplo.**\n",
    "\n",
    "- Si se tiene un terreno donde se van a lanzar bombas, si un avión pasa por ese terreno, de todas las bombas que se suelten, cuántas bombas caerán dentro de esa región?. Por eso hablamos de un periodo de espacio, una zona en donde caigan los éxitos. Si yo suelto 10 bombas, cuántas de ellas van a caer dentro de esa zona. En promedio, cada vez que un piloto lanza 10 bombas, conozco cuántas veces van a caer dentro del área. Entonces, me puedo preguntar, si yo agarro un piloto al azar y lo mando a tirar bombas a esa región, cuántas bombas espero que caigan dentro de esa región. Me puedo preguntar, cuál es la probabilidad de que caigan 2 bombas dentro de la región?"
   ]
  },
  {
   "cell_type": "markdown",
   "id": "fe9c47d1-5df0-4b8d-82fd-0a01b9ccde00",
   "metadata": {},
   "source": [
    "<font color = 'LightSeaGreen'>\n",
    "<font size = 3>\n",
    "\n",
    "**Ejemplo.**\n",
    "\n",
    "- Cuántas llamadas espero que reciba una oficina si abre de 8am a 8pm y sé que más o menos cada hora me mandan 3 mensajes o 3 llamadas. Cuál es la probabilidad de que entre las 3 y las 4:30 de la tarde reciba 5 llamadas."
   ]
  },
  {
   "cell_type": "markdown",
   "id": "2da1dfcb-a309-4fe2-9167-32d86e3adc9a",
   "metadata": {},
   "source": [
    "<font color = 'LightSeaGreen'>\n",
    "<font size = 3>\n",
    "\n",
    "**Ejemplo.**\n",
    "\n",
    "- Si abro mi fonda de comida a las 7 am y la cierro a las 6 de la tarde, y sé que más o menos cada hora me llegan 2 clientes. Cuántos clientes me llegarán entre las 4 y las 6 de la tarde? Cuál es la probabilidad de que entre las 4 y las 6 de la tarde me lleguen 8 clientes, sabiendo que más o menos por hora me llegan 2?"
   ]
  },
  {
   "cell_type": "markdown",
   "id": "358d1fac-17b0-4025-959e-5a0b104dc873",
   "metadata": {},
   "source": [
    "<font color = 'LightSeaGreen'>\n",
    "<font size = 3>\n",
    "\n",
    "**Ejemplo.**\n",
    "\n",
    "- Si te sales a una esquina a esperar tu bus con el que te vas a mover. Sabes que pasa un bus cada 15 minutos. Cuál es la probabilidad de que entre las 3 y las 5 de la tarde hayan pasado 10 autobuses, sabiendo que en promedio pasa uno cada 15 minutos?"
   ]
  },
  {
   "cell_type": "markdown",
   "id": "780f36c9-ef77-4a70-97b0-afb9a9bf0e0e",
   "metadata": {},
   "source": [
    "<font color = 'LightSeaGreen'>\n",
    "<font size = 3>\n",
    "\n",
    "**Ejemplo.**\n",
    "\n",
    "- La veterinaria de Jorge recibe un promedio de 4 pacientes por día. Sabiendo que el número de pacientes que llegan en un día sigue una distribución de **Poisson**, calcular:\n",
    "\n",
    "  a. La probabilidad de que lleguen 3 pacientes en un día.\n",
    "\n",
    "  b. La probabilidad de que lleguen al menos 5 pacientes en un día.\n",
    "\n",
    "  *Sol.* a) Sea **X** el número de pacientes que atiende. Nos están preguntando que la probabilidad sea $P(X = 3)$, por lo que vamos a usar $P(X=a)$|$f_X(a)$. Conocemos el promedio de personas que atiende, eso es $\\lambda = 4$\n",
    "\n",
    "  El resultado es $0.19$, lo que significa que la probabilidad de que atienda a 3 pacientes es del $19\\%$.\n",
    "\n",
    "  De cada 100 días, más o menos en 19 va a atender excatamente a 3 pacientes.\n",
    "\n",
    "  *Sol.* b) Nos piden al menos 5 pacientes: $P(X \\geq 5)$ pero la tabla no tiene la solución, pero sé que eso es $1 - P(X < 5)$. Entonces $P(X \\geq 5) = 1 - P(X < 5) = 1 - P(X \\leq 4)$. Como $P(X \\leq 4)$ si la sé calcular usando $P(X\\le a) = F_X(a)$.\n",
    "\n",
    "  El resultado es $0.3711$, lo que significa que de 100 días, más o menos en 37 va a atender a al menos 5 pacientes."
   ]
  },
  {
   "cell_type": "code",
   "execution_count": 8,
   "id": "066894d1-b2f6-468b-b570-7bb2600d0953",
   "metadata": {},
   "outputs": [
    {
     "data": {
      "text/plain": [
       "np.float64(0.19536681481316454)"
      ]
     },
     "execution_count": 8,
     "metadata": {},
     "output_type": "execute_result"
    }
   ],
   "source": [
    "# a. La probabilidad de que lleguen 3 pacientes en un día.\n",
    "\n",
    "### Sol. Tenemos lambda=4. Nos piden P(X=3); es decir, f(3): pmf\n",
    "sp.stats.poisson.pmf(3,4)"
   ]
  },
  {
   "cell_type": "code",
   "execution_count": 9,
   "id": "cf489be8-55c2-41d5-9fe7-092cf334c2fc",
   "metadata": {},
   "outputs": [
    {
     "data": {
      "text/plain": [
       "np.float64(0.3711630648201266)"
      ]
     },
     "execution_count": 9,
     "metadata": {},
     "output_type": "execute_result"
    }
   ],
   "source": [
    "# b. La probabilidad de que lleguen al menos 5 pacientes en un día.\n",
    "\n",
    "### Nos piden P(X>=5)=1-P(X<=4). Es decir 1-f(4): 1-cdf(4)\n",
    "1-sp.stats.poisson.cdf(4,4)"
   ]
  },
  {
   "cell_type": "markdown",
   "id": "b1e2db33-6346-4665-a402-439d63dc69d3",
   "metadata": {},
   "source": [
    "<font color = 'Brown'>\n",
    "<font size = 4>\n",
    "    \n",
    "**Notas**"
   ]
  },
  {
   "cell_type": "markdown",
   "id": "a166c2d1-d42e-48e7-b765-a6c24ea1f459",
   "metadata": {},
   "source": [
    "<font color = 'DarkRed'>\n",
    "<font size = 3>\n",
    "\n",
    "- En la **Poisson** me estoy preguntando \"Cuántos en un periodo de tiempo cumplirán con la característica?\".\n",
    "- Cuántos éxitos se van a cumplir en una región espacial o en un periodo de tiempo lo hago con una **Poisson**.\n",
    "- Cuando hay dependencia se analisa mediante Procesos Estocásticos.\n",
    "- En cualquier libro de Procesos Estocásticos está la demostración de la v.a. **Poisson**.\n",
    "- El problema es que en la vida real la $\\lambda$ no la vas a conocer, la tienes que estimar con los datos que recolectes ya que es un parámetro poblacional."
   ]
  },
  {
   "cell_type": "markdown",
   "id": "0e19ec16-0480-47b9-8107-44721666e17d",
   "metadata": {},
   "source": [
    "<font color = 'DodgerBlue'>\n",
    "<font size = 5>\n",
    "    \n",
    "**Geométrica**"
   ]
  },
  {
   "cell_type": "markdown",
   "id": "7708cccd-aa11-439a-ba00-87be25ac7f62",
   "metadata": {},
   "source": [
    "<font color = 'Black'>\n",
    "<font size = 3>\n",
    "\n",
    "---\n",
    "\n",
    "Considera el caso en que realizas un mismo experimento varias veces, y que puedes realizarlo tantas veces como requieras. Supongamos que tienes solo dos eventos en cada repetición: éxito o fracaso. Además, el resultado en cada repetición es independiente de los demás resultados. De esta manera, sea $p$ la probabilidad de éxito en cada repetición.\n",
    "\n",
    "Si $X$ denota la primera vez que se obtiene éxito, entonces $X$ es una v.a. **geométrica** y se denota por $X\\sim Geom(p)$ \n",
    "\n",
    "$$P(X=k)=p(1-p)^{k-1}$$\n",
    "\n",
    "---"
   ]
  },
  {
   "cell_type": "markdown",
   "id": "cc280d06-d651-497b-943b-644343aa73d1",
   "metadata": {},
   "source": [
    "<font color = 'LightSeaGreen'>\n",
    "<font size = 3>\n",
    "\n",
    "**Ejemplo.**\n",
    "\n",
    "- La probabilidad de una alineación óptica con éxito en el montaje de un producto óptico, según especificaciones para su almacenamiento, es de 0.8. Suponga que los intentos de montaje son independientes.\n",
    "\n",
    "  a. ¿Cuál es la probabilidad de que la alineación con éxito se produzca por primera vez en el quinto ensayo?\n",
    "\n",
    "  b. ¿Cuál es la probabilidad de que la primera alineación con éxito requiera como mínimo cuatro intentos?\n",
    "\n",
    "  *Sol.* a) Te están diciendo que te tuviste que equivocar 4 veces y en tu quinto intento ya lograste armar la máquina.\n",
    "\n",
    "  Sea $X$ el número de intentos para obtener mi primer éxito. Me piden $P(X = 5)$, entonces usamos la $pmf$.\n",
    "\n",
    "  Básicamente, le estamos preguntando cuál es la probabilidad de haberme equivocado 4 veces y que en la quinta lo haya hecho bien.\n",
    "\n",
    "  El resultado es de $0.00127$.\n",
    "\n",
    "  Sol.* b) Lo que quiere decir es cuál es la probabilidad de te salga en el 4to intento o en 5to o en el 6to, etc.\n",
    "\n",
    "  Nos piden que la primera vez que que armamos bien la máquina sea al menos en el intento 4 (mínimo 4 intentos). Es decir, $X = 4$ o $X = 5$ o $X = 6$ ...\n",
    "\n",
    "  Esto es $X \\geq 4$. Como no conocemos cómo calcularlo hacemos lo siguiente: $P(X \\geq 4) = 1 - P(X < 4) = 1 - P(X \\leq 3)$; esto es $1-F(3): 1-cdf(3)$."
   ]
  },
  {
   "cell_type": "code",
   "execution_count": 10,
   "id": "f0bb31ab-1710-482e-a542-9d00c959b076",
   "metadata": {},
   "outputs": [
    {
     "data": {
      "text/plain": [
       "np.float64(0.001279999999999999)"
      ]
     },
     "execution_count": 10,
     "metadata": {},
     "output_type": "execute_result"
    }
   ],
   "source": [
    "# a. ¿Cuál es la probabilidad de que la alineación con éxito se produzca por primera vez en el quinto ensayo?\n",
    "\n",
    "### Sol. Nos piden P(X=5); Esto es f(5): pmf(5)\n",
    "\n",
    "sp.stats.geom.pmf(5,0.8)"
   ]
  },
  {
   "cell_type": "code",
   "execution_count": 11,
   "id": "2d139cc4-9c0f-492e-bac5-77dd1ec17748",
   "metadata": {},
   "outputs": [
    {
     "data": {
      "text/plain": [
       "np.float64(0.008000000000000007)"
      ]
     },
     "execution_count": 11,
     "metadata": {},
     "output_type": "execute_result"
    }
   ],
   "source": [
    "# b. ¿Cuál es la probabilidad de que la primera alineación con éxito requiera como mínimo cuatro intentos?\n",
    "\n",
    "### Sol. Nos piden P(X>=4)=1-P(X<=3); esto es 1-F(3): 1-cdf(3)\n",
    "\n",
    "1-(sp.stats.geom.cdf(3,0.8))"
   ]
  },
  {
   "cell_type": "markdown",
   "id": "86287e8a-fb1e-4713-bb1e-19b1ed1e04d8",
   "metadata": {},
   "source": [
    "<font color = 'Brown'>\n",
    "<font size = 4>\n",
    "    \n",
    "**Notas**"
   ]
  },
  {
   "cell_type": "markdown",
   "id": "984ad043-8973-4197-814d-314d5a95825e",
   "metadata": {},
   "source": [
    "<font color = 'DarkRed'>\n",
    "<font size = 3>\n",
    "\n",
    "- La idea es que puedas realizar un experimento tantas veces como quieras y solamente vas a tener de sopas en cada repetición: éxito o fracaso. $p$ es la probabilidad de tener éxito en la repitición. Las repiticiones son independientes.\n",
    "- Básicamente, lo que te está diciendo es en qué momento vas a tener el primer éxito o cuántas repiticiones tienes que hacer para tener tu primer éxito.\n",
    "- En la práctica, la $p$ difícilmente la vas a conocer."
   ]
  },
  {
   "cell_type": "markdown",
   "id": "d9c287ac-3877-4036-8a19-4417138e10e0",
   "metadata": {},
   "source": [
    "<font color = 'DodgerBlue'>\n",
    "<font size = 5>\n",
    "    \n",
    "**Uniforme discreta**"
   ]
  },
  {
   "cell_type": "markdown",
   "id": "876c766d-57e9-4fc4-8b6c-28107cdc6225",
   "metadata": {},
   "source": [
    "<font color = 'Black'>\n",
    "<font size = 3>\n",
    "\n",
    "---\n",
    "\n",
    "Describe un experimento en el que cada uno de los $n$ posibles resultados tiene la **misma probabilidad** de ocurrir. \n",
    "\n",
    "---"
   ]
  },
  {
   "cell_type": "markdown",
   "id": "bdee3794-f3e2-442e-b346-2708aba3b2f6",
   "metadata": {},
   "source": [
    "<font color = 'LightSeaGreen'>\n",
    "<font size = 3>\n",
    "\n",
    "**Ejemplo.**\n",
    "\n",
    "- Un dado equilibrado tiene seis caras numeradas del 1 al 6. Encuentra la probabilidad de que:\n",
    "\n",
    "  a. Se obtuvo un 4.\n",
    "  \n",
    "  *sol.* $\\frac{1}{6} = 0.16$.\n",
    "\n",
    "  b. Se obtuvo un número impar.\n",
    "\n",
    "  *sol.* $\\frac{3}{6} = \\frac{1}{2} = 0.5$\n",
    "  \n",
    "- Seleccionar al azar una carta de un mazo completo:\n",
    "\n",
    "  Un mazo tiene 52 cartas. Eliges una carta al azar, cuál es la probabilidad de que te haya salido diamantes?\n",
    "\n",
    "  Hay 52 cartas y 13 diamantes, entonces la respuesta es $\\frac{13}{52}$."
   ]
  },
  {
   "cell_type": "markdown",
   "id": "9bb9ab5b-bf5d-4c54-a425-92cf9c229be5",
   "metadata": {},
   "source": [
    "<font color = 'LightSeaGreen'>\n",
    "<font size = 3>\n",
    "\n",
    "**Ejemplo.**\n",
    "\n",
    "- Se numeran 10 boletos del 1 al 10 en un sorteo. Si seleccionas un boleto al azar, determina:\n",
    "\n",
    "  a. La probabilidad de elegir un número mayor que 7.\n",
    "\n",
    "  *sol.* $\\frac{3}{10} = 0.3$\n",
    "\n",
    "  b. La probabilidad de elegir un número divisible por 3.\n",
    "\n",
    "  *sol.* Es obtener 3, 6 o 9. Es decir, hay tres boletos que cumplen la condición. La respuesta es $\\frac{3}{10} = 0.3$\n",
    "\n",
    "   Lo que significa es que si tu realizaras 100 sorteos, donde en cada sorteo son boletos del 1 al 10, más o menos en 33 sorteos el boleto es divisible por 3 o es un número mayor que 7.\n",
    "\n",
    "  Eso se puede ver fácilmente con R. Revisar el script de R (sorteo_boletos) en la carpeta del notebook."
   ]
  },
  {
   "cell_type": "markdown",
   "id": "9d89bfd4-3166-4483-9db4-d733dcc65ef1",
   "metadata": {},
   "source": [
    "<font color = 'Brown'>\n",
    "<font size = 4>\n",
    "    \n",
    "**Notas**"
   ]
  },
  {
   "cell_type": "markdown",
   "id": "d0416c26-410d-4b01-b50f-3713066de351",
   "metadata": {},
   "source": [
    "<font color = 'DarkRed'>\n",
    "<font size = 3>\n",
    "\n",
    "- Hay una cantidad discreta de posibles resultados.\n",
    "- La probabilidad de seleccionar alguno de esos posibles resultados siempre es la misma: $\\frac{1}{n}$."
   ]
  },
  {
   "cell_type": "markdown",
   "id": "86f8786c-d71e-4151-bf14-f9a24d2b97f2",
   "metadata": {},
   "source": [
    "<font color = 'DodgerBlue'>\n",
    "<font size = 5>\n",
    "    \n",
    "**Uniforme continua**"
   ]
  },
  {
   "cell_type": "markdown",
   "id": "3769a6df-3028-4610-ac52-06aac0a344ca",
   "metadata": {},
   "source": [
    "<font color = 'Black'>\n",
    "<font size = 3>\n",
    "\n",
    "---\n",
    "\n",
    "Describe una variable aleatoria que puede tomar cualquier valor en un intervalo $\\[a, b]\\$ con la **misma densidad de probabilidad**.\n",
    "\n",
    "---\n",
    "\n",
    "**Función de Densidad de Probabilidad (PDF):**\n",
    "$$\n",
    "f(x) = \n",
    "\\begin{cases} \n",
    "\\frac{1}{b-a}, & \\text{si } a \\leq x \\leq b, \\\\\n",
    "0, & \\text{en otro caso.}\n",
    "\\end{cases}\n",
    "$$\n",
    "\n",
    "Es decir, si $[c,d]$ es un subintervalo de $[a,b]$, entonces la probabilidad $P(X)$ caiga en el subintervalo $[c,d]$ es: \n",
    "\n",
    "$$P(X \\in [c,d]) = \\frac{d-c}{b-a}$$\n",
    "\n",
    "De aquí se deduce que todos los intervalos que tengan la misma longitud van a tener la misma probabilidad de éxito.\n",
    "\n",
    "La teoría dice que deber ser $[a, b)$ pero no nos preocupamos por eso.\n",
    "\n",
    "---"
   ]
  },
  {
   "cell_type": "markdown",
   "id": "f089f5d1-fcbf-4172-889b-c8c18847d07b",
   "metadata": {},
   "source": [
    "<font color = 'LightSeaGreen'>\n",
    "<font size = 3>\n",
    "\n",
    "**Ejemplo.**\n",
    "\n",
    "- Elegir al azar un punto en un segmento de longitud fija.\n",
    "\n",
    "- Modelar el tiempo entre eventos en un intervalo uniforme (sin preferencia por un momento específico)."
   ]
  },
  {
   "cell_type": "markdown",
   "id": "c2a84daa-4765-443c-a79c-c9dc0838f302",
   "metadata": {},
   "source": [
    "<font color = 'LightSeaGreen'>\n",
    "<font size = 3>\n",
    "\n",
    "**Ejemplo.**\n",
    "\n",
    "- Un autobús llega en cualquier momento entre las 8:00 y las 8:20 (20 minutos). Encuentra la probabilidad de que:\n",
    "\n",
    "  a. Llegue antes de las 8:10.\n",
    "\n",
    "  b. Llegue entre las 8:15 y las 8:17.\n",
    "\n",
    "  *sol.* a) $\\frac{10}{20} = \\frac{1}{2} = 0.5$.\n",
    "\n",
    "  *sol.* b) En este caso, el intervalo en el que quiero que caiga tiene longitud 2 minutos. Por lo tanto la respuesta es: $\\frac{2}{20} = \\frac{1}{10} = 0.1$."
   ]
  },
  {
   "cell_type": "code",
   "execution_count": 12,
   "id": "ea8603ee-310f-4057-a383-a0cec8764501",
   "metadata": {},
   "outputs": [
    {
     "data": {
      "text/plain": [
       "0.5"
      ]
     },
     "execution_count": 12,
     "metadata": {},
     "output_type": "execute_result"
    }
   ],
   "source": [
    "# Solución a) \n",
    "10 / 20"
   ]
  },
  {
   "cell_type": "code",
   "execution_count": 13,
   "id": "b0ce0e63-03e1-4295-a6b4-668650e8ad11",
   "metadata": {},
   "outputs": [
    {
     "data": {
      "text/plain": [
       "0.1"
      ]
     },
     "execution_count": 13,
     "metadata": {},
     "output_type": "execute_result"
    }
   ],
   "source": [
    "# Solución b) \n",
    "2 / 20"
   ]
  },
  {
   "cell_type": "markdown",
   "id": "38b2a89d-ec2a-45e0-afe8-f722bd402b14",
   "metadata": {},
   "source": [
    "<font color = 'LightSeaGreen'>\n",
    "<font size = 3>\n",
    "\n",
    "**Ejemplo.**\n",
    "\n",
    "- Un corredor puede empezar su carrera en cualquier punto de un recorrido de 5 km. Si la posición inicial es uniforme en $[0, 5]$, calcula:\n",
    "\n",
    "  a. La probabilidad de que comience en los primeros 2 km.\n",
    "\n",
    "  b. La probabilidad de que comience después del kilómetro 3.\n",
    "\n",
    "  *sol.* a) Como la longitud del intervalo de interés $[0,2]$ es 2, y la longitud del intervalo $[a,b]$ es 5, entonces la respuesta es $\\frac{2}{5} = 0.4$.\n",
    "\n",
    "  *sol.* b) Como la longitud del intervalo de interés $(3,5]$ es 2, y la longitud del intervalo $[a,b]$ es 5, entonces la respuesta es $\\frac{2}{5} = 0.4$."
   ]
  },
  {
   "cell_type": "markdown",
   "id": "d99a02c5-0377-4825-aeff-bef5d164cff6",
   "metadata": {},
   "source": [
    "<font color = 'Brown'>\n",
    "<font size = 4>\n",
    "    \n",
    "**Notas**"
   ]
  },
  {
   "cell_type": "markdown",
   "id": "b55e0141-a90f-489d-a08f-290614a3ac81",
   "metadata": {},
   "source": [
    "<font color = 'DarkRed'>\n",
    "<font size = 3>\n",
    "\n",
    "- Te tomas un intervalo $[a, b]$. Lo que nos está diciendo es que la probabilidad de seleccionar intervalos del mismo tamaño dentro de ese intervalo $[a, b]$ es la misma para cualquier intervalo de ese tamaño.\n",
    "- En las v.a. continuas, la probabilidad $P(X = a) = 0$. Por lo tanto en las continuas $P(X \\leq a) = P(X < a)$\n",
    "- Aquí tu te preguntas por la probabilidad de que caiga dentro de una zona.\n",
    "- La probabilidad se ve afectada con el tiempo, por eso se estudian las series de tiempo, para ver como el factor tiempo afecta los fenómenos."
   ]
  },
  {
   "cell_type": "markdown",
   "id": "5e99d78b-05d9-4a22-80a2-00da790fbbe3",
   "metadata": {},
   "source": [
    "<font color = 'DodgerBlue'>\n",
    "<font size = 5>\n",
    "    \n",
    "**Distribución exponencial**"
   ]
  },
  {
   "cell_type": "markdown",
   "id": "317153e3-68a4-4807-adbb-fb9481f7b2ae",
   "metadata": {},
   "source": [
    "<font color = 'Black'>\n",
    "<font size = 3>\n",
    "\n",
    "---\n",
    "\n",
    "Modela el **tiempo entre eventos** en un proceso continuo donde los eventos ocurren de forma completamente aleatoria y con una tasa constante $\\lambda$.\n",
    "\n",
    "---\n",
    "\n",
    "**Función de Densidad de Probabilidad (PDF):**\n",
    "$$\n",
    "f(x) = \\lambda e^{-\\lambda x}, \\quad x \\geq 0.\n",
    "$$\n",
    "\n",
    "---\n",
    "\n",
    "**Función de Distribución Acumulada (CDF):**\n",
    "$$\n",
    "F(x) = P(X \\leq x) = 1 - e^{-\\lambda x}.\n",
    "$$\n",
    "\n",
    "---"
   ]
  },
  {
   "cell_type": "markdown",
   "id": "7119df7e-1dc7-43a3-81ad-11dbf02b0f44",
   "metadata": {},
   "source": [
    "<font color = 'LightSeaGreen'>\n",
    "<font size = 3>\n",
    "\n",
    "**Ejemplo.**\n",
    "\n",
    "- Tiempo entre llamadas en un centro de atención telefónica.\n",
    "- Vida útil de componentes electrónicos."
   ]
  },
  {
   "cell_type": "markdown",
   "id": "688b2ed4-3d3c-4be7-bdfb-45c543c983c7",
   "metadata": {},
   "source": [
    "<font color = 'LightSeaGreen'>\n",
    "<font size = 3>\n",
    "\n",
    "**Ejemplo.**\n",
    "\n",
    "- Tengo una fonda que trabaja 8 hrs y atiende aproximadamente a 50 mesas al día. Esto significa que aproximadamente cada 10 minutos llega alguien a ocupar una mesa: $\\frac{60 min * 8 hrs}{50} = 9.6$.\n",
    "\n",
    "  Me puedo preguntar cuál es la probabilidad de que, si acaban de ocupar una mesa, la siguiente mesa se ocupe dentro de los próximos 3 minutos.\n",
    "\n",
    "  En este caso $\\lambda = 10 min$ y me piden la probabilidad $P(X \\leq 3)$, donde una $X$ es una $exp(\\lambda = 10)$."
   ]
  },
  {
   "cell_type": "markdown",
   "id": "bce3e58c-73cd-4ae0-b63f-32a8a18e2458",
   "metadata": {},
   "source": [
    "<font color = 'LightSeaGreen'>\n",
    "<font size = 3>\n",
    "\n",
    "**Ejemplo.**\n",
    "\n",
    "- Las llamadas a una línea de atención ocurren a una tasa de $\\lambda = 2$ llamadas por minuto.\n",
    "\n",
    "  a. Encuentra la probabilidad de que el tiempo entre dos llamadas sea menor a 30 segundos.\n",
    "\n",
    "  b. Encuentra la probabilidad de que el tiempo entre dos llamadas sea mayor a 2 minutos.\n",
    "\n",
    "  *sol.* a) Sabes que por cada minuto entran 2 llamadas, que es lo mismo que cada 60 segundos entran 2 llamadas, entonces cada 30 segundos entra una llamada.\n",
    "\n",
    "  Se busca que la probabilidad $P(x < 30)$ para una exponencial con $\\lambda = 2$. Pero como $\\lambda = 2$ está en minutos, entonces para que esté en segundos hacemos lo siguiente: $\\lambda \\mbox{ (en segundos) } = \\frac{\\lambda \\mbox{ (en minutos) }}{60} $"
   ]
  },
  {
   "cell_type": "code",
   "execution_count": 17,
   "id": "7a6c9d42-6238-435e-9897-83d8553bf681",
   "metadata": {},
   "outputs": [
    {
     "data": {
      "text/plain": [
       "np.float64(0.6321205588285577)"
      ]
     },
     "execution_count": 17,
     "metadata": {},
     "output_type": "execute_result"
    }
   ],
   "source": [
    "# a. Encuentra la probabilidad de que el tiempo entre dos llamadas sea menor a 30 segundos.\n",
    "\n",
    "lambda_minuto = 2\n",
    "lambda_segundo = lambda_minuto / 60\n",
    "\n",
    "sp.stats.expon.cdf(30,scale=1/lambda_segundo)"
   ]
  },
  {
   "cell_type": "code",
   "execution_count": 15,
   "id": "c5d36a9a-b54b-406b-9613-8ce07e3a0431",
   "metadata": {},
   "outputs": [
    {
     "data": {
      "text/plain": [
       "np.float64(0.6321205588285577)"
      ]
     },
     "execution_count": 15,
     "metadata": {},
     "output_type": "execute_result"
    }
   ],
   "source": [
    "# a. Encuentra la probabilidad de que el tiempo entre dos llamadas sea menor a 30 segundos.\n",
    "\n",
    "### Sol. Tenemos la tasa por minuto. Por lo tanto 30 segundos es 0.5 minutos. Se busca P(X<0.5); esto es F(0.5): cdf(0.5)\n",
    "\n",
    "sp.stats.expon.cdf(0.5,scale=1/2)"
   ]
  },
  {
   "cell_type": "code",
   "execution_count": 16,
   "id": "d02e180e-915b-46df-937d-76c5b98ff7f9",
   "metadata": {},
   "outputs": [
    {
     "data": {
      "text/plain": [
       "np.float64(0.6321205588285577)"
      ]
     },
     "execution_count": 16,
     "metadata": {},
     "output_type": "execute_result"
    }
   ],
   "source": [
    "# a. Encuentra la probabilidad de que el tiempo entre dos llamadas sea menor a 30 segundos.\n",
    "\n",
    "### Sol. Tenemos la tasa por minuto. Por lo tanto 30 segundos es 0.5 minutos. Se busca P(X<0.5); esto es F(0.5): cdf(0.5)\n",
    "\n",
    "sp.stats.expon.cdf(0.5,scale=1/2)"
   ]
  },
  {
   "cell_type": "code",
   "execution_count": 18,
   "id": "c56bc0cc-cbc0-48c6-a97d-9f784dad177c",
   "metadata": {},
   "outputs": [
    {
     "data": {
      "text/plain": [
       "np.float64(0.01831563888873422)"
      ]
     },
     "execution_count": 18,
     "metadata": {},
     "output_type": "execute_result"
    }
   ],
   "source": [
    "# b. Encuentra la probabilidad de que el tiempo entre dos llamadas sea mayor a 2 minutos.\n",
    "\n",
    "### Sol. No hacemos cambio de minutos a segundos. Nos piden P(X>2)=1-P(X<=2); esto es 1-F(2): 1-cdf(2)\n",
    "\n",
    "1-sp.stats.expon.cdf(2,scale=1/2)"
   ]
  },
  {
   "cell_type": "markdown",
   "id": "b150ee13-ce70-4453-82d8-e799d4d9ceb5",
   "metadata": {},
   "source": [
    "<font color = 'Brown'>\n",
    "<font size = 4>\n",
    "    \n",
    "**Notas**"
   ]
  },
  {
   "cell_type": "markdown",
   "id": "17537a6f-9591-4161-8e6f-02bfb4370ded",
   "metadata": {},
   "source": [
    "<font color = 'DarkRed'>\n",
    "<font size = 3>\n",
    "\n",
    "- Aquí no se da la igualdad porque es continua.\n",
    "- Aquí se da la probabilidad por regiones temporales.\n",
    "- La **distribución exponencial** mide cuánto tiempo ocurre entre éxitos consecutivos.\n",
    "- Sabiendo cada cuánto hay un éxito $\\lambda$, cuál es la probabilidad de tener que esperar cierto tiempo entre éxito y éxito.\n",
    "- La **distribución exponencial** es la version continua de la geométrica porque son tiempos de espera."
   ]
  }
 ],
 "metadata": {
  "kernelspec": {
   "display_name": "Python 3 (ipykernel)",
   "language": "python",
   "name": "python3"
  },
  "language_info": {
   "codemirror_mode": {
    "name": "ipython",
    "version": 3
   },
   "file_extension": ".py",
   "mimetype": "text/x-python",
   "name": "python",
   "nbconvert_exporter": "python",
   "pygments_lexer": "ipython3",
   "version": "3.10.15"
  }
 },
 "nbformat": 4,
 "nbformat_minor": 5
}
