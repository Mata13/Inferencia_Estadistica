{
 "cells": [
  {
   "cell_type": "markdown",
   "id": "26d99c13-4cc8-49a3-9fec-a5c710c5084f",
   "metadata": {},
   "source": [
    "<font color='IndianRed'>\n",
    "<font size=9> \n",
    "\n",
    "**Curso Inferencia Estadística**"
   ]
  },
  {
   "cell_type": "markdown",
   "id": "bbdbf546-5c5d-4eda-a48a-6e1b13fff62d",
   "metadata": {},
   "source": [
    "<font color = 'DodgerBlue'>\n",
    "<font size = 5>\n",
    "    \n",
    "**Pruebas de normalidad**"
   ]
  },
  {
   "cell_type": "markdown",
   "id": "b2be8c9a-dc56-4c48-a234-6460ba8ed1cc",
   "metadata": {},
   "source": [
    "<font color = 'Black'>\n",
    "<font size = 3>\n",
    "\n",
    "Frecuentemente nos encontramos frente al problema de reconocer si una muestra proviene de una **población gaussiana**.\n",
    "\n",
    "Aunque ya hemos visto **ajuste de distribuciones**, para el caso de **gaussianas** tenemos más métodos para establecer, con cierta probabilidad, si una muestra proviene realmente de una **distribución normal**. Estos métodos están basados en **pruebas de hipótesis**, donde la **hipótesis nula** tiene la forma **\"la población es gaussiana\"**, en tanto que la **alternativa** es **\"la población no es gaussiana\"**.\n",
    "\n",
    "De esta manera, a cada una de las pruebas se le asigna un **estadístico de contraste** con el cual se calcula un $p$-valor, de modo que podemos escribirlas así:\n",
    "\n",
    "$$\\left\\{\\begin{array}{l}H_0:\\mbox{ la población es gaussiana}\\\\H_1:\\mbox{ la población no es gaussiana}\\end{array}\\right.$$\n",
    "\n",
    "> ⚠️ **Nota importante: El p-valor es una **probabilidad** y siempre toma valores $i \\in [0,1]$. Si es muy cercano a 1, hay probabilidad de que si haya gaussianidad**.\n",
    "\n",
    "con **regla de decisión**:\n",
    "\n",
    "$p$-valor|Decisión|Significado\n",
    ":--|:--|:--\n",
    "Pequeño|Rechazar $H_0$|Hay buena probabilidad de que **NO es gaussiana**\n",
    "Grande|Rechazar $H_1$|Hay buena probabilidad de que **SÍ es gaussiana**\n",
    "\n",
    "En este capítulo estudiaremos cuatro contrastes, también conocidad como **pruebas de bondad y ajuste** (pruebas paramétricas para verificar si hay gaussianidad) que nos ayudan para este fin:\n",
    "\n",
    "1. **Prueba de Shapiro-Wilk**: Una de las pruebas más populares y potentes para detectar desviaciones de la normalidad, especialmente en muestras pequeñas.\n",
    "2. **Prueba de Kolmogorov-Smirnov**: Una prueba basada en la comparación entre la distribución empírica y la distribución normal teórica. \n",
    "3. **Prueba de Anderson-Darling**: Una extensión del contraste de Kolmogorov-Smirnov que da más peso a las colas de la distribución.\n",
    "4. **Prueba de Jarque-Bera**: Evalúa la normalidad basándose en los momentos estadísticos de asimetría y curtosis.\n",
    "\n",
    "---"
   ]
  },
  {
   "cell_type": "markdown",
   "id": "95280812-d2da-4a83-9783-36b6234f6a68",
   "metadata": {},
   "source": [
    "<font color = 'DodgerBlue'>\n",
    "<font size = 5>\n",
    "    \n",
    "**Contexto e importancia de las pruebas de normalidad**"
   ]
  },
  {
   "cell_type": "markdown",
   "id": "26917bcd-4b99-45e1-9819-f7b77b55ab03",
   "metadata": {},
   "source": [
    "<font color = 'Black'>\n",
    "<font size = 3>\n",
    "\n",
    "En estadística, muchas pruebas y modelos (como **ANOVA**, **regresión lineal**, **t de Student**, entre otros) requieren que los datos sigan una **distribución normal**. Por ello, las **pruebas de normalidad** son un paso esencial para garantizar la validez de los resultados.\n",
    "\n",
    "Es importante considerar también que:\n",
    "\n",
    "- **Tamaños de muestra pequeños**: Las pruebas pueden tener poca potencia, y un histograma o gráfico Q-Q puede complementar la evaluación.\n",
    "- **Tamaños de muestra grandes**: Las pruebas tienden a detectar pequeñas desviaciones que pueden no ser prácticamente significativas.\n",
    "\n",
    "---"
   ]
  },
  {
   "cell_type": "markdown",
   "id": "46610f32-c1a6-47e7-a23a-bcfd207129d8",
   "metadata": {},
   "source": [
    "<font color = 'DodgerBlue'>\n",
    "<font size = 5>\n",
    "    \n",
    "**Pruebas en Python**"
   ]
  },
  {
   "cell_type": "markdown",
   "id": "b7869ec4-d15e-41d6-9d0b-6d71fc62a438",
   "metadata": {},
   "source": [
    "<font color = 'Black'>\n",
    "<font size = 3>\n",
    "\n",
    "```python\n",
    "import numpy as np\n",
    "import scipy.stats as stats, lognorm\n",
    "import random\n",
    "\n",
    "\n",
    "#generada con N(mu=3.5,sigma=2)\n",
    "small_gauss = [2.9267007, 2.5763093, 4.9931801, 0.6564296, 1.4377333, 7.6412183, 2.9204735] \n",
    "\n",
    "#generada con t(3)\n",
    "big_t = [-0.577103929579228, -0.0669625949987604, 0.123572935953355, -0.524985500797433, -1.23249669279686, 0.509597230395874, -0.729559305649031, -0.41684441016622, 1.28155478163868, 0.924508782035897, 0.827405247774813, 1.59785194962189, -1.47879497630707, -1.26201626124022, -0.0593983026205043, -0.178873361732746, 0.801185847793428, 0.333473064862654, 1.25186288055626, 2.35949695172828, -0.633493106081742, -1.05713142223298, 0.0212461334293823, 0.466063027431909, 0.0762121526958427, -0.843837287109611, -0.104022595760381, 5.78550093074697, 0.709799846598426, -0.0897824055310009, -0.999402655342385, 0.337761665033848, -0.0306307006025367, 1.47728344947859, -0.176164802725808, 0.690341335235668, -0.292183630229324, -0.844902899428558, -3.49551302890857, 1.43006662844371, 1.24850000914668, -0.180820066444685, -0.573485189819109, 0.349757398842014, -2.09754115696913, -0.352572352149588, -0.509125036161415, 0.712742491824159, 0.519051722042105, -3.00737218678664]\n",
    "\n",
    "#generada con N(mu=5,sigma=1)\n",
    "rng = np.random.default_rng(2024) # usamos la misma semilla para que salga lo mismo q en la clase\n",
    "big_gauss = stats.norm(scale = 1, loc = 5).rvs(1000, random_state = rng)\n",
    "big_gauss[0:10]\n",
    "\n",
    "# Tomado de https://webspace.ship.edu/pgmarr/Geo441/Lectures/Lec%205%20-%20Normality%20Testing.pdf\n",
    "densidades_mexico = {\n",
    "    'Region': [\n",
    "        'Ajuno', 'Angahuan', 'Arantepacua', 'Aranza', 'Charapan', 'Cheran',\n",
    "        'Cocucho', 'Comachuen', 'Corupo', 'Ihuatzio', 'Janitzio', 'Jaracuaro',\n",
    "        'Nahuatzen', 'Nurio', 'Paracho', 'Patzcuaro', 'Pichataro',\n",
    "        'Pomacuaran', 'Quinceo', 'Quiroga', 'San Felipe', 'San Lorenzo',\n",
    "        'Sevina', 'Tingambato', 'Turicuaro', 'Tzintzuntzan', 'Urapicho'\n",
    "    ],\n",
    "    'Population_Density': [\n",
    "        5.11, 5.15, 5.00, 4.13, 5.10, 5.22, 5.04, 5.25, 4.53, 5.74, 6.63, 5.73,\n",
    "        4.77, 6.06, 4.82, 4.98, 5.36, 4.96, 5.94, 5.01, 4.10, 4.69, 4.97, 5.01,\n",
    "        6.19, 4.67, 6.30\n",
    "    ]\n",
    "}\n",
    "\n",
    "# Generada con lognorm con media e y desviación 0.5\n",
    "np.random.seed(1)\n",
    "mi_lognorm = stats.lognorm.rvs(s=.5, scale=np.exp(1), size=1000)\n",
    "mi_lognorm[0:10]\n",
    "```"
   ]
  },
  {
   "cell_type": "markdown",
   "id": "1ed2878e-a47c-437c-8805-d024269e8d94",
   "metadata": {},
   "source": [
    "<font color = 'DodgerBlue'>\n",
    "<font size = 5>\n",
    "\n",
    "---\n",
    "    \n",
    "**1. Prueba de Shapiro-Wilk**"
   ]
  },
  {
   "cell_type": "markdown",
   "id": "b6687063-3058-4e85-98f1-574167274db4",
   "metadata": {},
   "source": [
    "<font color = 'Black'>\n",
    "<font size = 3>\n",
    "\n",
    "La prueba de **Shapiro-Wilk** evalúa si una muestra sigue una **distribución normal** al calcular un estadístico $W$ basado en el orden de los datos. Funciona bien para tamaños tan bajos como muestras de tamaño 3."
   ]
  },
  {
   "cell_type": "markdown",
   "id": "f20cdcaf-cbb7-4705-ba84-14bb10ad6353",
   "metadata": {},
   "source": [
    "<font color = 'DodgerBlue'>\n",
    "<font size = 5>\n",
    "    \n",
    "**Implementación en Python**"
   ]
  },
  {
   "cell_type": "markdown",
   "id": "4a25a5cc-caec-47b8-b921-b879024c9f12",
   "metadata": {},
   "source": [
    "<font color = 'Black'>\n",
    "<font size = 3>\n",
    "\n",
    "Usaremos la función `shapiro` de la biblioteca `scipy.stats`.\n",
    "\n",
    "```python\n",
    "from scipy.stats import shapiro\n",
    "\n",
    "# Prueba de Shapiro-Wilk\n",
    "stat, p_value = shapiro(data)\n",
    "\n",
    "print(f\"Estadístico W: {stat:.4f}\")\n",
    "print(f\"p-valor: {p_value:.4f}\")\n",
    "\n",
    "# Regla de decisión\n",
    "if p_value < 0.05:\n",
    "    print(\"Rechazamos H0: La muestra no sigue una distribución normal\")\n",
    "else:\n",
    "    print(\"No podemos rechazar H0: La muestra sigue una distribución normal\")\n",
    "```"
   ]
  },
  {
   "cell_type": "markdown",
   "id": "8071b1a5-5651-421c-aab3-9e198d9ae068",
   "metadata": {},
   "source": [
    "<font color = 'DodgerBlue'>\n",
    "<font size = 5>\n",
    "\n",
    "---\n",
    "    \n",
    "**2. Prueba de Kolmogorov-Smirnov**"
   ]
  },
  {
   "cell_type": "markdown",
   "id": "4126a481-81b6-459b-97a1-a3d504dfe201",
   "metadata": {},
   "source": [
    "<font color = 'Black'>\n",
    "<font size = 3>\n",
    "\n",
    "Esta prueba compara la distribución empírica de los datos con la distribución normal teórica.\n",
    "\n",
    "La idea sobre esta prueba es la siguiente, usando la **distancia al infinito** o **métrica del supremo**. Imaginemos que tenemos una curva (color azul) y digamos que tenemos una banda (color verde) que es idéntica a la curva azul pero desplazada, por lo que cubre a la curva azul.\n",
    "\n",
    "Ahora, si tenemos otra curva (color rojo), podemos decir que la curva roja se parece (en el sentido de topología) a la curva azul si queda por dentro de la fraja verde. Si el diámetro de la franja verde es muy pequeña, se podría decir que si queda la curva dentro de ella se parece.\n",
    "\n",
    "La idea geométrica se muestra en la siguiente imagen:\n",
    "\n",
    "<img src = \"Img/dist_inf.jpg\">\n",
    "\n",
    "Supongamos que tienen tus datos, lo que hace **Kolmogorov-Smirnov** es calcular la **media** y la **desviación** de los datos, luego hace una curva gaussiana con esa **media** y esa **desviación**. Si tus datos son realmente **gaussianos**, al hacer el histograma deberían quedar muy ajustados a esa curva. Es decir, que los rectángulos de ese histograma queden por dentro de esa franja. Así como se muestra en la siguiente imagen:\n",
    "\n",
    "<img src = \"Img/dist_inf2.jpg\">\n",
    "\n",
    "La **métrica del supremo**: \n",
    "\n",
    "$$d_\\infty(x, y) = \\max_{1 \\leq i \\leq n} |x_i - y_i|$$\n",
    "\n",
    "esta métrica es la que te define **convergencia de uniforme de funciones**, viene dada por la topología de la **norma del supremo**: \n",
    "\n",
    "$$\\|f\\|_\\infty = \\sup_{x \\in A} |f(x)|$$"
   ]
  },
  {
   "cell_type": "markdown",
   "id": "afe674af-cdc1-4095-bed5-1cc28408316d",
   "metadata": {},
   "source": [
    "<font color = 'DodgerBlue'>\n",
    "<font size = 5>\n",
    "    \n",
    "**Implementación en Python**"
   ]
  },
  {
   "cell_type": "markdown",
   "id": "d9dd10a7-c2d4-49b6-ad5a-fa8543067f10",
   "metadata": {},
   "source": [
    "<font color = 'Black'>\n",
    "<font size = 3>\n",
    "\n",
    "Usaremos la función ``kstest`` de ``scipy.stats``.\n",
    "\n",
    "```python\n",
    "from scipy.stats import kstest, norm\n",
    "\n",
    "# Prueba de Kolmogorov-Smirnov\n",
    "from statistics import mean, stdev\n",
    "stat, p_value = kstest(data, 'norm', args=(mean(data), stdev(data)))\n",
    "\n",
    "print(f\"Estadístico KS: {stat:.4f}\")\n",
    "print(f\"p-valor: {p_value:.4f}\")\n",
    "```"
   ]
  },
  {
   "cell_type": "markdown",
   "id": "bf208938-0a83-4bf8-86ec-ebfd382e1d42",
   "metadata": {},
   "source": [
    "<font color = 'DodgerBlue'>\n",
    "<font size = 5>\n",
    "\n",
    "---\n",
    "    \n",
    "**3. Prueba de Anderson-Darling**"
   ]
  },
  {
   "cell_type": "markdown",
   "id": "d524b812-9356-43ee-b4c1-07af8cbf2efc",
   "metadata": {},
   "source": [
    "<font color = 'Black'>\n",
    "<font size = 3>\n",
    "\n",
    "La prueba de Anderson-Darling ajusta el estadístico de Kolmogorov-Smirnov para dar más peso a las colas.\n",
    "\n",
    "Esta prueba no utiliza el p-valor, utiliza la **región crítica**."
   ]
  },
  {
   "cell_type": "markdown",
   "id": "420c4389-7e66-4778-bdfe-1dc07339df83",
   "metadata": {},
   "source": [
    "<font color = 'DodgerBlue'>\n",
    "<font size = 5>\n",
    "    \n",
    "**Implementación en Python**"
   ]
  },
  {
   "cell_type": "markdown",
   "id": "527c1a5e-2e4f-421a-9a44-2c65ecda6c0d",
   "metadata": {},
   "source": [
    "<font color = 'Black'>\n",
    "<font size = 3>\n",
    "\n",
    "Usaremos la función ``anderson`` de ``scipy.stats``.\n",
    "\n",
    "```python\n",
    "from scipy.stats import anderson\n",
    "\n",
    "# Prueba de Anderson-Darling\n",
    "result = anderson(data, dist='norm')\n",
    "\n",
    "print(f\"Estadístico A: {result.statistic:.4f}\")\n",
    "for i, sig in enumerate(result.significance_level):\n",
    "    print(f\"Nivel de significancia {sig}%: Valor crítico = {result.critical_values[i]:.4f}\")\n",
    "```"
   ]
  },
  {
   "cell_type": "markdown",
   "id": "4fe8f071-268e-4c99-a8af-923ee24e0081",
   "metadata": {},
   "source": [
    "<font color = 'DodgerBlue'>\n",
    "<font size = 5>\n",
    "\n",
    "---\n",
    "    \n",
    "**4. Prueba de Jarque-Bera**"
   ]
  },
  {
   "cell_type": "markdown",
   "id": "c4094fb5-caca-4d20-9457-87f3a7b6709e",
   "metadata": {},
   "source": [
    "<font color = 'Black'>\n",
    "<font size = 3>\n",
    "\n",
    "Esta prueba evalúa la normalidad mediante los coeficientes de **asimetría** y **curtosis**."
   ]
  },
  {
   "cell_type": "markdown",
   "id": "68be3070-0ed8-4d4e-9133-e1ad62ad45a4",
   "metadata": {},
   "source": [
    "<font color = 'Black'>\n",
    "<font size = 3>\n",
    "\n",
    "Los **momentos** de una **distribución** se definen de la siguiente manera:\n",
    "\n",
    "$\\mu^{\\prime}_{n} = E[X^{n}] =  \\displaystyle \\int_{-\\infty}^{\\infty} x^{n} \\,dF(x)$\n",
    "\n",
    "donde $X$ es la **variable aleatoria** que tiene esta **distribución** acumulada $F$, y $E$ es la **esperanza** o **media**.\n",
    "\n",
    "La **media** de una **distribución** es la **esperanza** $E[X]$, está muy relacionada con la **media muestral** $\\overline{X}$.\n",
    "\n",
    "La **varianza** $Var(X) = E[X^{2}] - E[X]^{2}$, como $E[X^{2}]$ es el segundo **momento**. Entonces, la **varianza** está muy relacionada con el segundo **momento**.\n",
    "\n",
    "La **esperanza** de $E[X^{3}]$ viene siendo el tercer **momento**, está muy relacionad con otro parámetro denominado **asimetría** (es una idea de qué tan iguales son las colas). \n",
    "\n",
    "El tercer **momento**, $E[X^{4}]$ es la **curtosis**.\n",
    "\n",
    "Las **funciones de distribución** también las puedes expresar como una especie de serie de Taylor, donde los coeficientes son los **momentos** $E[X^{n}]$.\n",
    "\n",
    "Entre más coeficientes conozcas, mejor idea tendrás de cómo es la gráfica de la **distribución**."
   ]
  },
  {
   "cell_type": "markdown",
   "id": "2e6e87ed-be46-49cd-ac9d-db907b7897a1",
   "metadata": {},
   "source": [
    "<font color = 'DodgerBlue'>\n",
    "<font size = 5>\n",
    "    \n",
    "**Implementación en Python**"
   ]
  },
  {
   "cell_type": "markdown",
   "id": "c480e5e4-61e6-4b19-87e9-ef55febc869e",
   "metadata": {},
   "source": [
    "<font color = 'Black'>\n",
    "<font size = 3>\n",
    "Usaremos la función ``jarque_bera`` de ``scipy.stats``.\n",
    "\n",
    "```python\n",
    "from scipy.stats import jarque_bera\n",
    "\n",
    "# Prueba de Jarque-Bera\n",
    "stat, p_value = jarque_bera(data)\n",
    "\n",
    "print(f\"Estadístico JB: {stat:.4f}\")\n",
    "print(f\"p-valor: {p_value:.4f}\")\n",
    "\n",
    "```"
   ]
  },
  {
   "cell_type": "markdown",
   "id": "050eaf60-a7e0-48bf-bf93-a92d25fa1cc9",
   "metadata": {},
   "source": [
    "<font color = 'DodgerBlue'>\n",
    "<font size = 5>\n",
    "\n",
    "---\n",
    "    \n",
    "**Algunas consideraciones**"
   ]
  },
  {
   "cell_type": "markdown",
   "id": "51e2f11c-aede-4407-883a-1bb077cf821e",
   "metadata": {},
   "source": [
    "<font color = 'Black'>\n",
    "<font size = 3>\n",
    "\n",
    "Las **pruebas de normalidad** deben interpretarse en contexto, especialmente considerando el tamaño de la **muestra**.\n",
    "\n",
    "- Las representaciones gráficas, como histogramas o diagramas Q-Q, son una herramienta valiosa complementaria.\n",
    "- Aunque estas pruebas nos ayudan a evaluar la **normalidad**, la robustez de muchos modelos estadísticos permite cierto grado de desviación sin afectar significativamente los resultados.\n",
    "- Por ejemplo, la prueba **t-test** que vimos en el notebook anterior pide que la **muestra** sea grande o que tengas **gaussianidad**. Per en realidad, te basta que la **muestra** tenga forma de montaña en el histograma.\n",
    "\n",
    "---"
   ]
  },
  {
   "cell_type": "markdown",
   "id": "29a7aee8-f30d-4746-a6a3-195a88a83255",
   "metadata": {},
   "source": [
    "<font color = 'DodgerBlue'>\n",
    "<font size = 5>\n",
    "    \n",
    "**Resumen**"
   ]
  },
  {
   "cell_type": "markdown",
   "id": "f3778407-7028-4bb7-af26-239a8945ef21",
   "metadata": {},
   "source": [
    "<font color = 'Black'>\n",
    "<font size = 3>\n",
    "\n",
    "A continuación se muestra una tabla resumen de los contrastes de normalidad. \n",
    "\n",
    "**Recordar que para utilizarlos en Python se requieren las bibliotecas de ``scipy.stats`` y/o ``statsmodels``**.\n",
    "\n",
    "Prueba|Abreviatura|Tamaño de<br> muestra|Desventaja|Estadístico|**Python**\n",
    ":--|:--:|:--:|:--|:--:|:--\n",
    "Shapiro-Wilk|SW|$n \\leq 5000$|Sensible a valores repetidos y colas|W|``shapiro()``\n",
    "Kolmogorov-Smirnov|KS|$n \\leq 1000$|Requiere especificar parámetros|D|``kstest()``\n",
    "Anderson-Darling|AD|$n \\leq 5000$|Menos eficiente en muestras grandes|A|``anderson()``\n",
    "Jarque-Bera|JB|$n \\geq 20$|Menos sensible a desviaciones pequeñas|JB|``jarque_bera()``\n",
    "\n",
    "---"
   ]
  },
  {
   "cell_type": "markdown",
   "id": "b1aa5996-fac7-4e06-94b8-3c19cbf95621",
   "metadata": {},
   "source": [
    "<font color = 'DodgerBlue'>\n",
    "<font size = 5>\n",
    "    \n",
    "**Consideraciones finales**"
   ]
  },
  {
   "cell_type": "markdown",
   "id": "8f4f0b0d-4a2a-493c-a023-f3538bb528f8",
   "metadata": {},
   "source": [
    "<font color = 'Black'>\n",
    "<font size = 3>\n",
    "\n",
    "1. **Tamaño de muestra:**\n",
    "   - Las pruebas como **Shapiro-Wilk** y **Anderson-Darling** son ideales para tamaños de **muestra** pequeños a moderados (hasta 5000 observaciones).\n",
    "   - **Kolmogorov-Smirnov** se recomienda para tamaños pequeños a medianos (hasta 1000), ya que su eficiencia decrece con **muestras** grandes.\n",
    "   - **Jarque-Bera** es más confiable en tamaños de **muestra grandes** (n ≥ 20) debido a su dependencia de estadísticos como la **asimetría** y la **curtosis**."
   ]
  },
  {
   "cell_type": "markdown",
   "id": "18ae4ca6-d58f-4d30-94d7-1aff95a50c94",
   "metadata": {},
   "source": [
    "<font color = 'Black'>\n",
    "<font size = 3>\n",
    "\n",
    "2. **Repeticiones y valores atípicos:**\n",
    "   - Las pruebas como **Shapiro-Wilk** pueden verse afectadas por valores **repetidos** o **extremos**, lo que puede comprometer su capacidad para detectar **normalidad**.\n",
    "   - Esto pasa porque cuando tienes **valores extremos** las colas se van hacer más largas, por lo que puedes tener comportamiento **gaussiando** al centro pero no en las colas.\n",
    "   - Gráficos complementarios como histogramas o diagramas Q-Q son útiles para identificar patrones visuales antes de realizar pruebas."
   ]
  },
  {
   "cell_type": "markdown",
   "id": "3004f64a-95cc-4b5e-9fe7-1171aee82604",
   "metadata": {},
   "source": [
    "<font color = 'Black'>\n",
    "<font size = 3>\n",
    "\n",
    "3. **Colas de la distribución:**\n",
    "   - **Anderson-Darling** da mayor peso a las colas, lo que la hace especialmente útil si se sospechan problemas en los extremos de la **distribución**."
   ]
  },
  {
   "cell_type": "markdown",
   "id": "556d077e-3f3d-4636-b5d9-7927f44c5673",
   "metadata": {},
   "source": [
    "<font color = 'Black'>\n",
    "<font size = 3>\n",
    "\n",
    "4. **Pruebas específicas vs. generales:**\n",
    "   - **Shapiro-Wilk** y **Anderson-Darling** están diseñadas exclusivamente para evaluar **normalidad**.\n",
    "   - **Jarque-Bera** es una prueba \"ómnibus\", útil si deseas evaluar otros momentos estadísticos (**asimetría** y **curtosis**) junto con la **normalidad**."
   ]
  },
  {
   "cell_type": "markdown",
   "id": "6cf68b4c-9eff-48b9-b22d-e8ee20918fe5",
   "metadata": {},
   "source": [
    "<font color = 'Black'>\n",
    "<font size = 3>\n",
    "\n",
    "5. **Efecto del tamaño de muestra:**\n",
    "   - En **muestras** pequeñas, las pruebas de **normalidad** pueden tener poca potencia y no detectar desviaciones significativas.\n",
    "   - En **muestras** grandes, incluso pequeñas desviaciones de la **normalidad** pueden resultar en un rechazo de $H_0$, aunque estas desviaciones no sean prácticas ni relevantes para muchos análisis.\n",
    "   > ⚠️ **Nota importante: No se trata de que apliques una única prueba para ver si hay gaussianidad, sino que apliques tantas como puedas.**."
   ]
  },
  {
   "cell_type": "markdown",
   "id": "0e7d02df-0230-4732-a6b0-159aedbc00b8",
   "metadata": {},
   "source": [
    "<font color = 'Black'>\n",
    "<font size = 3>\n",
    "\n",
    "6. **Apoyo visual:**\n",
    "   - Complementar las pruebas estadísticas con visualizaciones como histogramas y diagramas Q-Q es una buena práctica para entender mejor los datos y confirmar los resultados."
   ]
  },
  {
   "cell_type": "markdown",
   "id": "acdb0c7f-e8f6-449e-b5a5-4eb2ab1c1bd8",
   "metadata": {},
   "source": [
    "<font color = 'Black'>\n",
    "<font size = 3>\n",
    "\n",
    "En conclusión, la elección de la prueba depende del tamaño de la **muestra**, las características de los **datos** y la naturaleza del análisis. Las representaciones gráficas son un valioso complemento a estas pruebas formales.\n",
    "\n",
    "---"
   ]
  },
  {
   "cell_type": "markdown",
   "id": "444e6016-48c0-49e4-8d98-e82fb97c4698",
   "metadata": {},
   "source": [
    "<font color = 'DodgerBlue'>\n",
    "<font size = 5>\n",
    "    \n",
    "**Comentario final**"
   ]
  },
  {
   "cell_type": "markdown",
   "id": "192213ad-4e58-4b90-ba66-9468192b1ce0",
   "metadata": {},
   "source": [
    "<font color = 'Black'>\n",
    "<font size = 3>\n",
    "\n",
    "Es importante mencionar que en muchas ocasiones es necesario realizar una **transformación** previa a los **datos** para obtener **gaussianidad**. \n",
    "\n",
    "Las **transormaciones** más usuales son **logaritmo**, **raíz cuadrada** y **raíz cúbica**.\n",
    "\n",
    "Cuando apliques la prueba y te resulte que no es **gaussiana**, aplicas una de esas tres **transormaciones** primero.\n",
    "\n",
    "Es decir, toma tus **datos** y aplícales un **logaritmo**, y al **logaritmo** de esos datos aplícales la prueba de **gaussiana**. \n",
    "\n",
    "Si te arroja de resultado que es **gaussiana**, entonces el **logaritmo** de esos **datos** son **gaussianos**. Entonces, todo lo que conoces de **gaussianidad** se lo puedes aplicar a la columna del **logaritmo**. Ya después al final deshaces el cambio de variable. Lo mismo con la **raíz cuadrada** y **raíz cúbica**.\n",
    "\n",
    "```python\n",
    "import numpy as np\n",
    "\n",
    "datos_log = np.log(datos)\n",
    "datos_sqrt = np.sqrt(datos)\n",
    "datos_sqrt3 = np.cbrt(datos)\n",
    "```"
   ]
  },
  {
   "cell_type": "markdown",
   "id": "3a0c7140-942a-430e-92a6-870036b1fd48",
   "metadata": {},
   "source": [
    "<font color = 'Brown'>\n",
    "<font size = 4>\n",
    "\n",
    "---\n",
    "    \n",
    "**Notas**"
   ]
  },
  {
   "cell_type": "markdown",
   "id": "edbc6a4b-a559-4f01-a4f5-97966037579b",
   "metadata": {},
   "source": [
    "<font color = 'DarkRed'>\n",
    "<font size = 3>\n",
    "\n",
    "- El p-valor es una **probabilidad** y siempre toma valores $i$, donde $i \\in [0,1]$.\n",
    "- Cuando tienes presencia de **datos atípicos**, estos pueden afectar las colas de la **distribución**, por lo que es necesario hacer una prueba de normalidad. Podría parecer que al centro si se vea como una gaussiana pero en las colas ya no hay simetría.\n",
    "- Si tienes una **muestra** pequeña vas a tener problemas, lo que te puede llegar a salvar es ver que pequeña **muestra** es **gaussiana**, porque siendo **gaussiana** ya no te interesa el tamaño, ya que la suma de **gaussianas** es también **gaussiana**, el **promedio** de **gaussianas** es **gaussiana**.\n",
    "- Cuando no tienes **gaussianidad** el **Teorema del Límite Central** te garantiza que los **promedios** si son **gaussianos**.\n",
    "- La peor situación es **muestra pequeña** sin **gaussianidad**.\n",
    "- En **regresiones lineales** nos interesa que los **errores cometidos** se comporten como **distribuciones gaussianas**, si no se comportan como **distribuciones gaussianas** pierdes mucha información en las **regresiones lineales**.\n",
    "> ⚠️ **Nota importante: Si los errores cometidos no forman una gaussiana, ya valió, ya no puedes continuar**.\n",
    "- Para **muestras** pequeñas, una última esperanza es que la **prueba de Shapiro-Wilk** salga positiva para **gaussianidad**. Si sale que no es gaussiana estás en problemas, porque estarías en el peor de los casos.\n",
    "- No siempre tener más información es sinónimo de exactitud.\n",
    "- No se recomienda utilizar más de 5000 datos para hacer un estudio estadístico.\n",
    "> ⚠️ **Nota importante: No porque tengas millones de datos vas a modelar mejor**.\n",
    "- No siempre pasa de que más sea mejor.\n",
    "- Para graficar con plotnine hay que usar siempre un dataframe.\n",
    "\n",
    "---"
   ]
  },
  {
   "cell_type": "markdown",
   "id": "34858b56-487b-494b-b93f-fa3aa6c57be6",
   "metadata": {},
   "source": [
    "<font color = 'DodgerBlue'>\n",
    "<font size = 5>\n",
    "    \n",
    "**Pruebas con Python**"
   ]
  },
  {
   "cell_type": "markdown",
   "id": "525375b8-2e88-4b46-a7db-a9ca89c4af6a",
   "metadata": {},
   "source": [
    "<font color = 'deepskyblue'>\n",
    "<font size = 5>\n",
    "\n",
    "Librerías"
   ]
  },
  {
   "cell_type": "code",
   "execution_count": 1,
   "id": "f6cdb047-e393-48ce-ba38-22a1ff76600d",
   "metadata": {},
   "outputs": [],
   "source": [
    "import pandas as pd\n",
    "import numpy as np\n",
    "import matplotlib.pyplot as plt\n",
    "import scipy.stats as stats\n",
    "import random\n",
    "import statsmodels.api as sm\n",
    "from scipy.stats import shapiro, kstest, norm, anderson, jarque_bera\n",
    "\n",
    "# Para que muestre todas las columnas de los dataframes \n",
    "pd.set_option('display.max_columns', None)"
   ]
  },
  {
   "cell_type": "code",
   "execution_count": 2,
   "id": "b646f09d-3706-4e72-b0e0-9e7cd23bd673",
   "metadata": {},
   "outputs": [],
   "source": [
    "##### GENERACIÓN DE MUESTRAS #####"
   ]
  },
  {
   "cell_type": "code",
   "execution_count": 3,
   "id": "ec514037-c17e-444e-b1bc-94278c013941",
   "metadata": {},
   "outputs": [
    {
     "data": {
      "text/plain": [
       "[2.9267007, 2.5763093, 4.9931801, 0.6564296, 1.4377333, 7.6412183, 2.9204735]"
      ]
     },
     "execution_count": 3,
     "metadata": {},
     "output_type": "execute_result"
    }
   ],
   "source": [
    "#generada con N(mu=3.5,sigma=2)\n",
    "small_gauss = [2.9267007, 2.5763093, 4.9931801, 0.6564296, 1.4377333, 7.6412183, 2.9204735] \n",
    "small_gauss"
   ]
  },
  {
   "cell_type": "code",
   "execution_count": 4,
   "id": "07f43c90-1303-4bc3-9284-6e05e1726e56",
   "metadata": {
    "scrolled": true
   },
   "outputs": [
    {
     "data": {
      "text/plain": [
       "[-0.577103929579228,\n",
       " -0.0669625949987604,\n",
       " 0.123572935953355,\n",
       " -0.524985500797433,\n",
       " -1.23249669279686,\n",
       " 0.509597230395874,\n",
       " -0.729559305649031,\n",
       " -0.41684441016622,\n",
       " 1.28155478163868,\n",
       " 0.924508782035897,\n",
       " 0.827405247774813,\n",
       " 1.59785194962189,\n",
       " -1.47879497630707,\n",
       " -1.26201626124022,\n",
       " -0.0593983026205043,\n",
       " -0.178873361732746,\n",
       " 0.801185847793428,\n",
       " 0.333473064862654,\n",
       " 1.25186288055626,\n",
       " 2.35949695172828,\n",
       " -0.633493106081742,\n",
       " -1.05713142223298,\n",
       " 0.0212461334293823,\n",
       " 0.466063027431909,\n",
       " 0.0762121526958427,\n",
       " -0.843837287109611,\n",
       " -0.104022595760381,\n",
       " 5.78550093074697,\n",
       " 0.709799846598426,\n",
       " -0.0897824055310009,\n",
       " -0.999402655342385,\n",
       " 0.337761665033848,\n",
       " -0.0306307006025367,\n",
       " 1.47728344947859,\n",
       " -0.176164802725808,\n",
       " 0.690341335235668,\n",
       " -0.292183630229324,\n",
       " -0.844902899428558,\n",
       " -3.49551302890857,\n",
       " 1.43006662844371,\n",
       " 1.24850000914668,\n",
       " -0.180820066444685,\n",
       " -0.573485189819109,\n",
       " 0.349757398842014,\n",
       " -2.09754115696913,\n",
       " -0.352572352149588,\n",
       " -0.509125036161415,\n",
       " 0.712742491824159,\n",
       " 0.519051722042105,\n",
       " -3.00737218678664]"
      ]
     },
     "execution_count": 4,
     "metadata": {},
     "output_type": "execute_result"
    }
   ],
   "source": [
    "#generada con t(3)\n",
    "big_t = [-0.577103929579228, -0.0669625949987604, 0.123572935953355, -0.524985500797433, -1.23249669279686, 0.509597230395874, -0.729559305649031, -0.41684441016622, 1.28155478163868, 0.924508782035897, 0.827405247774813, 1.59785194962189, -1.47879497630707, -1.26201626124022, -0.0593983026205043, -0.178873361732746, 0.801185847793428, 0.333473064862654, 1.25186288055626, 2.35949695172828, -0.633493106081742, -1.05713142223298, 0.0212461334293823, 0.466063027431909, 0.0762121526958427, -0.843837287109611, -0.104022595760381, 5.78550093074697, 0.709799846598426, -0.0897824055310009, -0.999402655342385, 0.337761665033848, -0.0306307006025367, 1.47728344947859, -0.176164802725808, 0.690341335235668, -0.292183630229324, -0.844902899428558, -3.49551302890857, 1.43006662844371, 1.24850000914668, -0.180820066444685, -0.573485189819109, 0.349757398842014, -2.09754115696913, -0.352572352149588, -0.509125036161415, 0.712742491824159, 0.519051722042105, -3.00737218678664]\n",
    "big_t"
   ]
  },
  {
   "cell_type": "code",
   "execution_count": 5,
   "id": "6dc3f43d-2be6-40ba-b864-d6db9a597412",
   "metadata": {},
   "outputs": [
    {
     "data": {
      "text/plain": [
       "array([6.02885687, 6.64192004, 6.14671953, 4.02682048, 3.6071999 ,\n",
       "       5.06719636, 5.86135092, 5.5091868 , 6.81028557, 5.75084347])"
      ]
     },
     "execution_count": 5,
     "metadata": {},
     "output_type": "execute_result"
    }
   ],
   "source": [
    "#generada con N(mu=5,sigma=1)\n",
    "rng = np.random.default_rng(2024) # usamos la misma semilla para que salga lo mismo q en la clase\n",
    "big_gauss = stats.norm(scale = 1, loc = 5).rvs(1000, random_state = rng)\n",
    "big_gauss[0:10]"
   ]
  },
  {
   "cell_type": "code",
   "execution_count": 6,
   "id": "7074393e-4d4f-4266-9dbd-2a49636a4515",
   "metadata": {
    "scrolled": true
   },
   "outputs": [
    {
     "data": {
      "text/html": [
       "<div>\n",
       "<style scoped>\n",
       "    .dataframe tbody tr th:only-of-type {\n",
       "        vertical-align: middle;\n",
       "    }\n",
       "\n",
       "    .dataframe tbody tr th {\n",
       "        vertical-align: top;\n",
       "    }\n",
       "\n",
       "    .dataframe thead th {\n",
       "        text-align: right;\n",
       "    }\n",
       "</style>\n",
       "<table border=\"1\" class=\"dataframe\">\n",
       "  <thead>\n",
       "    <tr style=\"text-align: right;\">\n",
       "      <th></th>\n",
       "      <th>Region</th>\n",
       "      <th>Population_Density</th>\n",
       "    </tr>\n",
       "  </thead>\n",
       "  <tbody>\n",
       "    <tr>\n",
       "      <th>0</th>\n",
       "      <td>Ajuno</td>\n",
       "      <td>5.11</td>\n",
       "    </tr>\n",
       "    <tr>\n",
       "      <th>1</th>\n",
       "      <td>Angahuan</td>\n",
       "      <td>5.15</td>\n",
       "    </tr>\n",
       "    <tr>\n",
       "      <th>2</th>\n",
       "      <td>Arantepacua</td>\n",
       "      <td>5.00</td>\n",
       "    </tr>\n",
       "    <tr>\n",
       "      <th>3</th>\n",
       "      <td>Aranza</td>\n",
       "      <td>4.13</td>\n",
       "    </tr>\n",
       "    <tr>\n",
       "      <th>4</th>\n",
       "      <td>Charapan</td>\n",
       "      <td>5.10</td>\n",
       "    </tr>\n",
       "    <tr>\n",
       "      <th>5</th>\n",
       "      <td>Cheran</td>\n",
       "      <td>5.22</td>\n",
       "    </tr>\n",
       "    <tr>\n",
       "      <th>6</th>\n",
       "      <td>Cocucho</td>\n",
       "      <td>5.04</td>\n",
       "    </tr>\n",
       "    <tr>\n",
       "      <th>7</th>\n",
       "      <td>Comachuen</td>\n",
       "      <td>5.25</td>\n",
       "    </tr>\n",
       "    <tr>\n",
       "      <th>8</th>\n",
       "      <td>Corupo</td>\n",
       "      <td>4.53</td>\n",
       "    </tr>\n",
       "    <tr>\n",
       "      <th>9</th>\n",
       "      <td>Ihuatzio</td>\n",
       "      <td>5.74</td>\n",
       "    </tr>\n",
       "    <tr>\n",
       "      <th>10</th>\n",
       "      <td>Janitzio</td>\n",
       "      <td>6.63</td>\n",
       "    </tr>\n",
       "    <tr>\n",
       "      <th>11</th>\n",
       "      <td>Jaracuaro</td>\n",
       "      <td>5.73</td>\n",
       "    </tr>\n",
       "    <tr>\n",
       "      <th>12</th>\n",
       "      <td>Nahuatzen</td>\n",
       "      <td>4.77</td>\n",
       "    </tr>\n",
       "    <tr>\n",
       "      <th>13</th>\n",
       "      <td>Nurio</td>\n",
       "      <td>6.06</td>\n",
       "    </tr>\n",
       "    <tr>\n",
       "      <th>14</th>\n",
       "      <td>Paracho</td>\n",
       "      <td>4.82</td>\n",
       "    </tr>\n",
       "    <tr>\n",
       "      <th>15</th>\n",
       "      <td>Patzcuaro</td>\n",
       "      <td>4.98</td>\n",
       "    </tr>\n",
       "    <tr>\n",
       "      <th>16</th>\n",
       "      <td>Pichataro</td>\n",
       "      <td>5.36</td>\n",
       "    </tr>\n",
       "    <tr>\n",
       "      <th>17</th>\n",
       "      <td>Pomacuaran</td>\n",
       "      <td>4.96</td>\n",
       "    </tr>\n",
       "    <tr>\n",
       "      <th>18</th>\n",
       "      <td>Quinceo</td>\n",
       "      <td>5.94</td>\n",
       "    </tr>\n",
       "    <tr>\n",
       "      <th>19</th>\n",
       "      <td>Quiroga</td>\n",
       "      <td>5.01</td>\n",
       "    </tr>\n",
       "    <tr>\n",
       "      <th>20</th>\n",
       "      <td>San Felipe</td>\n",
       "      <td>4.10</td>\n",
       "    </tr>\n",
       "    <tr>\n",
       "      <th>21</th>\n",
       "      <td>San Lorenzo</td>\n",
       "      <td>4.69</td>\n",
       "    </tr>\n",
       "    <tr>\n",
       "      <th>22</th>\n",
       "      <td>Sevina</td>\n",
       "      <td>4.97</td>\n",
       "    </tr>\n",
       "    <tr>\n",
       "      <th>23</th>\n",
       "      <td>Tingambato</td>\n",
       "      <td>5.01</td>\n",
       "    </tr>\n",
       "    <tr>\n",
       "      <th>24</th>\n",
       "      <td>Turicuaro</td>\n",
       "      <td>6.19</td>\n",
       "    </tr>\n",
       "    <tr>\n",
       "      <th>25</th>\n",
       "      <td>Tzintzuntzan</td>\n",
       "      <td>4.67</td>\n",
       "    </tr>\n",
       "    <tr>\n",
       "      <th>26</th>\n",
       "      <td>Urapicho</td>\n",
       "      <td>6.30</td>\n",
       "    </tr>\n",
       "  </tbody>\n",
       "</table>\n",
       "</div>"
      ],
      "text/plain": [
       "          Region  Population_Density\n",
       "0          Ajuno                5.11\n",
       "1       Angahuan                5.15\n",
       "2    Arantepacua                5.00\n",
       "3         Aranza                4.13\n",
       "4       Charapan                5.10\n",
       "5         Cheran                5.22\n",
       "6        Cocucho                5.04\n",
       "7      Comachuen                5.25\n",
       "8         Corupo                4.53\n",
       "9       Ihuatzio                5.74\n",
       "10      Janitzio                6.63\n",
       "11     Jaracuaro                5.73\n",
       "12     Nahuatzen                4.77\n",
       "13         Nurio                6.06\n",
       "14       Paracho                4.82\n",
       "15     Patzcuaro                4.98\n",
       "16     Pichataro                5.36\n",
       "17    Pomacuaran                4.96\n",
       "18       Quinceo                5.94\n",
       "19       Quiroga                5.01\n",
       "20    San Felipe                4.10\n",
       "21   San Lorenzo                4.69\n",
       "22        Sevina                4.97\n",
       "23    Tingambato                5.01\n",
       "24     Turicuaro                6.19\n",
       "25  Tzintzuntzan                4.67\n",
       "26      Urapicho                6.30"
      ]
     },
     "execution_count": 6,
     "metadata": {},
     "output_type": "execute_result"
    }
   ],
   "source": [
    "# Tomado de https://webspace.ship.edu/pgmarr/Geo441/Lectures/Lec%205%20-%20Normality%20Testing.pdf\n",
    "densidades_mexico = pd.DataFrame({\n",
    "    'Region': [\n",
    "        'Ajuno', 'Angahuan', 'Arantepacua', 'Aranza', 'Charapan', 'Cheran',\n",
    "        'Cocucho', 'Comachuen', 'Corupo', 'Ihuatzio', 'Janitzio', 'Jaracuaro',\n",
    "        'Nahuatzen', 'Nurio', 'Paracho', 'Patzcuaro', 'Pichataro',\n",
    "        'Pomacuaran', 'Quinceo', 'Quiroga', 'San Felipe', 'San Lorenzo',\n",
    "        'Sevina', 'Tingambato', 'Turicuaro', 'Tzintzuntzan', 'Urapicho'\n",
    "    ],\n",
    "    'Population_Density': [\n",
    "        5.11, 5.15, 5.00, 4.13, 5.10, 5.22, 5.04, 5.25, 4.53, 5.74, 6.63, 5.73,\n",
    "        4.77, 6.06, 4.82, 4.98, 5.36, 4.96, 5.94, 5.01, 4.10, 4.69, 4.97, 5.01,\n",
    "        6.19, 4.67, 6.30\n",
    "    ]\n",
    "})\n",
    "densidades_mexico"
   ]
  },
  {
   "cell_type": "code",
   "execution_count": 7,
   "id": "87834a10-4241-44d9-955f-89d627852dc0",
   "metadata": {},
   "outputs": [
    {
     "data": {
      "text/plain": [
       "array([6.12373792, 2.00195018, 2.08738925, 1.5896529 , 4.19001291,\n",
       "       0.86004605, 6.50392527, 1.85780661, 3.18840103, 2.39963061])"
      ]
     },
     "execution_count": 7,
     "metadata": {},
     "output_type": "execute_result"
    }
   ],
   "source": [
    "# Generada con lognorm con media e y desviación 0.5\n",
    "np.random.seed(1)\n",
    "mi_lognorm = stats.lognorm.rvs(s=.5, scale=np.exp(1), size=1000)\n",
    "mi_lognorm[0:10]"
   ]
  },
  {
   "cell_type": "code",
   "execution_count": 8,
   "id": "f92cee3a-6a66-4aac-b590-c58f2813e49c",
   "metadata": {},
   "outputs": [],
   "source": [
    "# Graficamos los resultados"
   ]
  },
  {
   "cell_type": "code",
   "execution_count": 9,
   "id": "886ee77b-3142-404e-9d6c-828a526c6735",
   "metadata": {},
   "outputs": [
    {
     "name": "stdout",
     "output_type": "stream",
     "text": [
      "Cantidad de elementos de la \"small-gauss\": 7\n"
     ]
    },
    {
     "data": {
      "image/png": "[encoded data removed]",
      "text/plain": [
       "<Figure size 640x480 with 1 Axes>"
      ]
     },
     "metadata": {},
     "output_type": "display_data"
    }
   ],
   "source": [
    "# Gráfica de la \"small_gauss\"\n",
    "print(f'Cantidad de elementos de la \"small-gauss\": {len(small_gauss)}')\n",
    "\n",
    "plt.hist(small_gauss, color = \"coral\", edgecolor = \"black\")\n",
    "plt.show()"
   ]
  },
  {
   "cell_type": "code",
   "execution_count": 10,
   "id": "b01e8afc-608d-4ed1-a5aa-bd41bf27e9f0",
   "metadata": {},
   "outputs": [
    {
     "name": "stdout",
     "output_type": "stream",
     "text": [
      "Cantidad de elementos de la \"big_t\": 50\n"
     ]
    },
    {
     "data": {
      "image/png": "[encoded data removed]",
      "text/plain": [
       "<Figure size 640x480 with 1 Axes>"
      ]
     },
     "metadata": {},
     "output_type": "display_data"
    }
   ],
   "source": [
    "# Gráfica de la \"big_t\"\n",
    "print(f'Cantidad de elementos de la \"big_t\": {len(big_t)}')\n",
    "plt.hist(big_t, color = \"chartreuse\", edgecolor = \"black\")\n",
    "plt.show()"
   ]
  },
  {
   "cell_type": "code",
   "execution_count": 11,
   "id": "fcf342f0-977e-4867-9c3c-f87631f3286e",
   "metadata": {},
   "outputs": [
    {
     "name": "stdout",
     "output_type": "stream",
     "text": [
      "Cantidad de elementos de la \"big_gauss\": 1000\n"
     ]
    },
    {
     "data": {
      "image/png": "[encoded data removed]",
      "text/plain": [
       "<Figure size 640x480 with 1 Axes>"
      ]
     },
     "metadata": {},
     "output_type": "display_data"
    }
   ],
   "source": [
    "# Gráfica de la \"big_gauss\"\n",
    "print(f'Cantidad de elementos de la \"big_gauss\": {len(big_gauss)}')\n",
    "plt.hist(big_gauss, color = \"cyan\", edgecolor = \"black\", bins = 50)\n",
    "plt.show()"
   ]
  },
  {
   "cell_type": "code",
   "execution_count": 12,
   "id": "dd7206bd-4d94-40d9-b179-dc092cee34ed",
   "metadata": {},
   "outputs": [
    {
     "name": "stdout",
     "output_type": "stream",
     "text": [
      "Cantidad de elementos de \"densidades_mexico.Population_Density\": 27\n"
     ]
    },
    {
     "data": {
      "image/png": "[encoded data removed]",
      "text/plain": [
       "<Figure size 640x480 with 1 Axes>"
      ]
     },
     "metadata": {},
     "output_type": "display_data"
    }
   ],
   "source": [
    "# Gráfica de la \"densidades_mexico\"\n",
    "print(f'Cantidad de elementos de \"densidades_mexico.Population_Density\": {len(densidades_mexico.Population_Density)}')\n",
    "plt.hist(densidades_mexico.Population_Density, color = \"goldenrod\", edgecolor = \"black\")\n",
    "plt.show()"
   ]
  },
  {
   "cell_type": "code",
   "execution_count": 13,
   "id": "4d16c565-044b-4c76-ac73-9d5463e27929",
   "metadata": {},
   "outputs": [
    {
     "name": "stdout",
     "output_type": "stream",
     "text": [
      "Cantidad de elementos de \"mi_lognorm\": 1000\n"
     ]
    },
    {
     "data": {
      "text/plain": [
       "<function matplotlib.pyplot.show(close=None, block=None)>"
      ]
     },
     "execution_count": 13,
     "metadata": {},
     "output_type": "execute_result"
    },
    {
     "data": {
      "image/png": "[encoded data removed]",
      "text/plain": [
       "<Figure size 640x480 with 1 Axes>"
      ]
     },
     "metadata": {},
     "output_type": "display_data"
    }
   ],
   "source": [
    "# Gráfica de la \"mi_lognorm\"\n",
    "print(f'Cantidad de elementos de \"mi_lognorm\": {len(mi_lognorm)}')\n",
    "plt.hist(mi_lognorm, color = \"greenyellow\", edgecolor = \"black\", bins = 30)\n",
    "plt.show"
   ]
  },
  {
   "cell_type": "markdown",
   "id": "29757847-bc47-46eb-ba40-88c3adb05fe2",
   "metadata": {},
   "source": [
    "<font color = 'deepskyblue'>\n",
    "<font size = 5>\n",
    "\n",
    "---\n",
    "\n",
    "Gráficos Q-Q"
   ]
  },
  {
   "cell_type": "markdown",
   "id": "8cc2e527-8b2a-4ba2-89dc-a1b41dda1184",
   "metadata": {},
   "source": [
    "<font color = 'Black'>\n",
    "<font size = 3>\n",
    "\n",
    "**¿Qué son los gráficos Q-Q?**\n",
    "\n",
    "Un gráfico Q-Q (Quantile-Quantile) es una herramienta gráfica que compara la **distribución** de una **muestra** de **datos** con una **distribución teórica** específica (como la **distribución normal**). Ayuda a determinar si los **datos** siguen una **distribución** esperada.\n",
    "\n",
    "**¿Cómo se interpretan?**\n",
    "\n",
    "1. **Eje x:** Representa los **cuantiles teóricos** de la **distribución** de referencia.\n",
    "2. **Eje y:** Representa los **cuantiles observados** en los **datos**.\n",
    "3. **Línea diagonal:** Es la línea de referencia donde los puntos deberían alinearse si los **datos** siguen la **distribución teórica**.\n",
    "\n",
    "**Interpretación**\n",
    "\n",
    "- Si los puntos se alinean cercanamente con la línea diagonal, los **datos** se ajustan bien a la **distribución teórica**.\n",
    "- Desviaciones significativas de la línea indican que los datos no siguen la **distribución teórica**.\n",
    "\n",
    "**¿Para qué sirven?**\n",
    "\n",
    "- Verificar la **normalidad** de los **datos**.\n",
    "- Comparar la forma de dos **distribuciones**.\n",
    "- Detectar la presencia de **colas largas** o **datos atípicos**.\n",
    "\n",
    "**Conclusión**\n",
    "\n",
    "Los gráficos Q-Q son una herramienta poderosa para evaluar visualmente si los **datos** siguen una **distribución teórica**, como la **normal**, y pueden complementar otras pruebas estadísticas como **Shapiro-Wilk** o **Kolmogorov-Smirnov**.\n"
   ]
  },
  {
   "cell_type": "code",
   "execution_count": 14,
   "id": "7193958f-53f5-4b7c-a426-d709817fa213",
   "metadata": {},
   "outputs": [
    {
     "data": {
      "image/png": "[encoded data removed]",
      "text/plain": [
       "<Figure size 640x480 with 1 Axes>"
      ]
     },
     "metadata": {},
     "output_type": "display_data"
    }
   ],
   "source": [
    "stats.probplot(small_gauss, dist = \"norm\", plot = plt)\n",
    "plt.title(\"Gráfico Q-Q\")\n",
    "plt.grid(True)  # activa el grid\n",
    "plt.show()"
   ]
  },
  {
   "cell_type": "code",
   "execution_count": 15,
   "id": "799c3ec8-7f45-463f-9963-285a4491be10",
   "metadata": {},
   "outputs": [
    {
     "data": {
      "image/png": "[encoded data removed]",
      "text/plain": [
       "<Figure size 640x480 with 1 Axes>"
      ]
     },
     "metadata": {},
     "output_type": "display_data"
    }
   ],
   "source": [
    "stats.probplot(big_t, dist = \"norm\", plot = plt)\n",
    "plt.title(\"Gráfico Q-Q\")\n",
    "plt.grid(True)  # activa el grid\n",
    "plt.show()"
   ]
  },
  {
   "cell_type": "code",
   "execution_count": 16,
   "id": "340ef3ac-b1a1-4f0d-b387-655c7d5d4dd6",
   "metadata": {},
   "outputs": [
    {
     "data": {
      "image/png": "[encoded data removed]",
      "text/plain": [
       "<Figure size 640x480 with 1 Axes>"
      ]
     },
     "metadata": {},
     "output_type": "display_data"
    }
   ],
   "source": [
    "stats.probplot(big_gauss, dist = \"norm\", plot = plt)\n",
    "plt.title(\"Gráfico Q-Q\")\n",
    "plt.grid(True)  # activa el grid\n",
    "plt.show()"
   ]
  },
  {
   "cell_type": "code",
   "execution_count": 17,
   "id": "2d831003-f378-4b33-9bd7-854a9b9a13fd",
   "metadata": {},
   "outputs": [
    {
     "data": {
      "image/png": "[encoded data removed]",
      "text/plain": [
       "<Figure size 640x480 with 1 Axes>"
      ]
     },
     "metadata": {},
     "output_type": "display_data"
    }
   ],
   "source": [
    "stats.probplot(densidades_mexico.Population_Density, dist = \"norm\", plot = plt)\n",
    "plt.title(\"Gráfico Q-Q\")\n",
    "plt.grid(True)  # activa el grid\n",
    "plt.show()"
   ]
  },
  {
   "cell_type": "code",
   "execution_count": 18,
   "id": "99d90a2b-b8fa-4ea1-a339-efdd58a1faf3",
   "metadata": {},
   "outputs": [
    {
     "data": {
      "image/png": "[encoded data removed]",
      "text/plain": [
       "<Figure size 640x480 with 1 Axes>"
      ]
     },
     "metadata": {},
     "output_type": "display_data"
    }
   ],
   "source": [
    "stats.probplot(mi_lognorm, dist = \"norm\", plot = plt)\n",
    "plt.title(\"Gráfico Q-Q\")\n",
    "plt.grid(True)  # activa el grid\n",
    "plt.show()"
   ]
  }
 ],
 "metadata": {
  "kernelspec": {
   "display_name": "Python 3 (ipykernel)",
   "language": "python",
   "name": "python3"
  },
  "language_info": {
   "codemirror_mode": {
    "name": "ipython",
    "version": 3
   },
   "file_extension": ".py",
   "mimetype": "text/x-python",
   "name": "python",
   "nbconvert_exporter": "python",
   "pygments_lexer": "ipython3",
   "version": "3.10.15"
  }
 },
 "nbformat": 4,
 "nbformat_minor": 5
}
