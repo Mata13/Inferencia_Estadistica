{
 "cells": [
  {
   "cell_type": "markdown",
   "id": "1512098a-7f84-4ea8-8458-7024ee6b5aa0",
   "metadata": {},
   "source": [
    "<font color='IndianRed'>\n",
    "<font size=9> \n",
    "\n",
    "**Curso Inferencia Estadística**"
   ]
  },
  {
   "cell_type": "markdown",
   "id": "b9327fbd-30ee-4f48-a908-f993e038609f",
   "metadata": {},
   "source": [
    "<font color = 'DodgerBlue'>\n",
    "<font size = 5>\n",
    "    \n",
    "**Pruebas de hipótesis. Aplicaciones**"
   ]
  },
  {
   "cell_type": "markdown",
   "id": "dd43935f-e798-4cd1-a104-5b77ff2bb507",
   "metadata": {},
   "source": [
    "<font color = 'Black'>\n",
    "<font size = 3>\n",
    "\n",
    "Tenemos hasta ahora tres conceptos importantes asociados a los **contrastes de hipótesis**:\n",
    "\n",
    "* **Estadístico de contraste**: es una **variable aleatoria** que va a tomar un valor dependiendo de la **muestra**, y observando ese valor vamos a tomar la decisión de si se acepta $H_{1}$ o se rechaza.\n",
    "\n",
    "* **Nivel de significancia**.\n",
    "* $p$-valor.\n",
    "\n",
    "Para aceptar o rechazar se van a utilizar dos criterios:\n",
    "\n",
    "1. el tamaño del $p$-valor.\n",
    "2. el valor del **estadístico de contraste**.\n",
    "\n",
    "De esta manera, si conocemos el nivel de significancia $\\alpha$, la decisión que tomemos se puede basar en:\n",
    "\n",
    "* **Región de rechazo:** si el estadístico de contraste cae dentro de una cierta región construída a partir de la significancia $\\alpha$ (región crítica), rechazamos $H_0$.\n",
    "* **El $p$-valor:** si el $p$-valor es mas pequeño que $\\alpha$, rechazamos $H_0$. Si el $p$-valor es mas grande que $\\alpha$, rechazamos $H_1$.\n",
    "\n",
    "En este caso, conviene basar la decisión en ambos criterios.\n",
    "\n",
    "En la siguiente imagen se muestra un esquema de la región crítica.\n",
    "\n",
    "<img src=\"Img/region_critica.jpg\">\n",
    "\n",
    "Por otra parte, si no conocemos el nivel de significancia $\\alpha$, la decisión que tomemos se basará en el $p$-valor: si el $p$-valor es pequeño ($<0.05$), rechazamos $H_0$; si el $p$-valor es grande ($>0.1$), rechazamos $H_1$; si el $p$-valor está entre 0.05 y 0.1, se recomienda realizar mas estudios.\n",
    "\n",
    "---"
   ]
  },
  {
   "cell_type": "markdown",
   "id": "63091966-ecda-4415-bf59-ea83e90f5560",
   "metadata": {},
   "source": [
    "<font color = 'DodgerBlue'>\n",
    "<font size = 5>\n",
    "    \n",
    "**Tabla de pruebas de hipótesis**"
   ]
  },
  {
   "cell_type": "markdown",
   "id": "a3673fff-99ad-49f4-b003-6be2f5a3bf83",
   "metadata": {},
   "source": [
    "<font color = 'Black'>\n",
    "<font size = 3>\n",
    "\n",
    "| Población   | Parámetro | $H_1$  | Desviación Poblacional | Estadístico de contraste                             | $p$-valor                                   | Región de rechazo                                    |\n",
    "|:-----------:|:---------:|:-------:|:----------:|:--------------------------------------------------:|:------------------------------------------:|:--------------------------------------------------:|\n",
    "| Norm o grande | $\\mu$    | $>\\mu_0$ | conocida   | $Z=\\frac{\\overline{X}-\\mu_0}{\\sigma/\\sqrt{n}}$       | $P(Z>z_0)$                                | $Z > z_{1-\\alpha}$                                |\n",
    "| Norm o grande | $\\mu$    | $<\\mu_0$ | conocida   | $Z=\\frac{\\overline{X}-\\mu_0}{\\sigma/\\sqrt{n}}$       | $P(Z<z_0)$                                | $Z < z_{\\alpha}$                                  |\n",
    "| Norm o grande | $\\mu$    | $\\neq\\mu_0$ | conocida | $Z=\\frac{\\overline{X}-\\mu_0}{\\sigma/\\sqrt{n}}$       | $2P(Z>\\mid z_0\\mid)$                      | $\\mid Z \\mid > z_{1-\\alpha/2}$                   |\n",
    "| Norm o grande | $\\mu$    | $>\\mu_0$ | desconocida| $T=\\frac{\\overline{X}-\\mu_0}{S/\\sqrt{n}}$            | $P(T>t_0)$                                | $T > t_{n-1,1-\\alpha}$                            |\n",
    "| Norm o grande | $\\mu$    | $<\\mu_0$ | desconocida| $T=\\frac{\\overline{X}-\\mu_0}{S/\\sqrt{n}}$            | $P(T<t_0)$                                | $T < t_{n-1,\\alpha}$                              |\n",
    "| Norm o grande | $\\mu$    | $\\neq\\mu_0$ | desconocida | $T=\\frac{\\overline{X}-\\mu_0}{S/\\sqrt{n}}$           | $2P(T>\\mid t_0\\mid)$                      | $\\mid T \\mid > t_{n-1,1-\\alpha/2}$               |\n",
    "| Pequeña      | $\\mu$    | $>\\mu_0$ | desconocida| $T=\\frac{\\overline{X}-\\mu_0}{S/\\sqrt{n}}$            | $P(T>t_0)$                                | $T > t_{n-1,1-\\alpha}$                            |\n",
    "| Pequeña      | $\\mu$    | $<\\mu_0$ | desconocida| $T=\\frac{\\overline{X}-\\mu_0}{S/\\sqrt{n}}$            | $P(T<t_0)$                                | $T < t_{n-1,\\alpha}$                              |\n",
    "| Pequeña      | $\\mu$    | $\\neq\\mu_0$ | desconocida | $T=\\frac{\\overline{X}-\\mu_0}{S/\\sqrt{n}}$           | $2P(T>\\mid t_0\\mid)$                      | $\\mid T \\mid > t_{n-1,1-\\alpha/2}$               |\n",
    "| No importa   | $p$      | $>p_0$   | No aplica  | $E=Bin(n,p_0)$                                      | $P(E\\ge x_0)$                              | $E \\ge x_0$                                      |\n",
    "| No importa   | $p$      | $<p_0$   | No aplica  | $E=Bin(n,p_0)$                                      | $P(E\\le x_0)$                              | $E \\le x_0$                                      |\n",
    "| No importa   | $p$      | $\\neq p_0$ | No aplica | $E=Bin(n,p_0)$                                      | $2\\min\\{P(E\\ge x_0),P(E\\le x_0)\\}$         | $E \\le x_0$ o $E \\ge x_0$                        |\n",
    "| Norm o grande       | $\\sigma^2$ | $>\\sigma_0^2$ | No aplica | $\\chi^2=\\frac{(n-1)S^2}{\\sigma_0^2}$                | $P(\\chi^2>\\chi^2_0)$                       | $\\chi^2 > \\chi^2_{1-\\alpha,n-1}$                 |\n",
    "| Norm o grande        | $\\sigma^2$ | $<\\sigma_0^2$ | No aplica | $\\chi^2=\\frac{(n-1)S^2}{\\sigma_0^2}$                | $P(\\chi^2<\\chi^2_0)$                       | $\\chi^2 < \\chi^2_{\\alpha,n-1}$                   |\n",
    "| Norm o grande        | $\\sigma^2$ | $\\neq\\sigma_0^2$ | No aplica | $\\chi^2=\\frac{(n-1)S^2}{\\sigma_0^2}$                | $2\\min\\{P(\\chi^2>\\chi^2_0),P(\\chi^2<\\chi^2_0)\\}$ | $\\chi^2 < \\chi^2_{\\alpha/2,n-1}$ o $\\chi^2 > \\chi^2_{1-\\alpha/2,n-1}$ |\n",
    "\n",
    "\n",
    "Y tenemos las decisiones:\n",
    "\n",
    "Criterio|Descripción|Decisión| Decision equivalente\n",
    ":--|:--|:--|:--\n",
    "Región de rechazo|Estadístico de contraste $\\in I$|Rechazar $H_0$| Aceptar $H_1$\n",
    "p-valor|$<\\alpha$ o pequeño|Rechazar $H_0$| Aceptar $H_1$"
   ]
  },
  {
   "cell_type": "markdown",
   "id": "f5f2fb5e-a2a2-478d-9934-b93df936f944",
   "metadata": {},
   "source": [
    "<font color = 'Brown'>\n",
    "<font size = 4>\n",
    "    \n",
    "**Notas**"
   ]
  },
  {
   "cell_type": "markdown",
   "id": "eef063a7-c8d9-4075-b05b-51eb205ef28b",
   "metadata": {},
   "source": [
    "<font color = 'DarkRed'>\n",
    "<font size = 3>\n",
    "\n",
    "- Siempre se busca aceptar $H_{1}$, esa es la tirada, siempre demostrar la **hipótesis alternativa**.\n",
    "- Usualmente el valor de $\\alpha$ lo propones tú."
   ]
  }
 ],
 "metadata": {
  "kernelspec": {
   "display_name": "Python 3 (ipykernel)",
   "language": "python",
   "name": "python3"
  },
  "language_info": {
   "codemirror_mode": {
    "name": "ipython",
    "version": 3
   },
   "file_extension": ".py",
   "mimetype": "text/x-python",
   "name": "python",
   "nbconvert_exporter": "python",
   "pygments_lexer": "ipython3",
   "version": "3.10.15"
  }
 },
 "nbformat": 4,
 "nbformat_minor": 5
}
