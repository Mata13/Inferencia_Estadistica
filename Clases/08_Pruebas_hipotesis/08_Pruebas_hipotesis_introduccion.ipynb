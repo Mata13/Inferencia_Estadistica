{
 "cells": [
  {
   "cell_type": "markdown",
   "id": "5277cc3d-fb05-4b7d-bd34-761f7cbb1b85",
   "metadata": {},
   "source": [
    "<font color='IndianRed'>\n",
    "<font size=9> \n",
    "\n",
    "**Curso Inferencia Estadística**"
   ]
  },
  {
   "cell_type": "markdown",
   "id": "ecff288d-9faa-4346-a2d4-8065de242f26",
   "metadata": {},
   "source": [
    "<font color = 'DodgerBlue'>\n",
    "<font size = 5>\n",
    "    \n",
    "**Introducción a las pruebas de hipótesis**"
   ]
  },
  {
   "cell_type": "markdown",
   "id": "68b405f6-1e94-4395-9f73-43045c2a332e",
   "metadata": {},
   "source": [
    "<font color = 'Black'>\n",
    "<font size = 3>\n",
    "\n",
    "Hasta ahora tenemos la capacidad de decir con qué **probabilidad** un **parámetro poblacional** se encuentra en un cierto **intervalo**. \n",
    "\n",
    "Para que nuestras **inferencias** sean útiles, tendremos que tomar decisiones apoyadas en nuestra **muestra** para **aceptar** o **rechazar afirmaciones** sobre el valor de un **parámetro poblacional**.\n",
    "\n",
    "Por ejemplo, supongamos que podemos considerar un estado como seguro si el porcentaje de víctimas de delito respecto al total de su población es menor al 10%. Es decir, cuando solo una persona de cada diez de sus habitantes ha sido víctima del delito. Vayamos a un estado cualquiera. Evidentemente no podemos entrevistar a todos los habitantes, de modo que tomamos una muestra de cierto tamaño. Dependiendo del resultado obtenido en esa muestra, decidiremos si el estado es o no seguro.\n",
    "\n",
    "La afirmación \"el estado es seguro\" es lo que se conoce como una *hipótesis*, y el método que se aplica para tomar la decisión de si aceptar o no la hipótesis se llama *contraste o prueba de hipótesis.*\n",
    "\n",
    "Una **prueba de hipótesis** examina **dos hipótesis** opuestas sobre una **población**: la hipótesis nula $H_0$ y la hipótesis alternativa $H_1$. La hipótesis nula es la afirmación que se está comprobando. La hipótesis alternativa es la afirmación que se desea ser capaz de concluir que es verdadera basándose en la evidencia proporcionada por los datos de la muestra.\n",
    "\n",
    "**Si no obtenemos evidencia a favor de $H_1$, no podemos rechazar $H_0$ (se dice que aceptamos $H_0$ pero en realidad es un abuso de lenguaje).**\n",
    "\n",
    "Así, si $p$ es el porcentaje verdadero de víctimas de delito en nuestro estado, entonces nos planteamos\n",
    "\n",
    "$$\\left\\{\\begin{array}{l}H_0:\\mbox{ $p\\le$10}\\\\H_1:\\mbox{ $p>$10}\\end{array}\\right.$$\n",
    "\n",
    "La decisión sobre \"el estado es seguro\" (es decir, $p\\le10$) la tomaremos de la siguiente manera: tomaremos una muestra y veremos cuántos de los elegidos fueron víctimas de delito. Si el porcentaje de víctimas es suficientemente grande, lo consideraremos evidencia de $H_1$, y si no, no podemos rechazar $H_0$.\n",
    "\n",
    "En síntesis:\n",
    "\n",
    "Tipo de hipótesis|Símbolo|Descripción\n",
    "---|---|:-:\n",
    "Nula|$H_0$|Es la hipótesis que por defecto aceptamos como verdadera y rechazamos si hay pruebas en contra\n",
    "Alternativa|$H_1$|Es la hipótesis contra la que contrastamos la nula y la aceptamos cuando rechazamos la nula\n",
    "\n",
    "Lo que buscamos es construir reglas de decisión para rechazar la hipótesis nula a partir de nuestra **muestra**.\n",
    "\n",
    "---"
   ]
  },
  {
   "cell_type": "markdown",
   "id": "c8480777-f48f-44fc-9742-9fac76d56058",
   "metadata": {},
   "source": [
    "<font color = 'DodgerBlue'>\n",
    "<font size = 5>\n",
    "    \n",
    "**Para recordar...**"
   ]
  },
  {
   "cell_type": "markdown",
   "id": "97de4ff0-9398-4e7c-b1b9-d9dde2ca9d5b",
   "metadata": {},
   "source": [
    "<font color = 'Black'>\n",
    "<font size = 3>\n",
    "\n",
    "En un juicio, el acusado es considerado inocente por defecto (Principio de presunción de inocencia). Así, \"$H_0:$ El acusado es inocente\"; por su parte la fiscalía está obligada a presentar pruebas para rechazar $H_0$; es decir, aceptar \"$H_1:$ el acusado es culpable\".\n",
    "\n",
    "Si la fiscalía no es capaz de mostrar evidencia a favor de $H_1$, entonces no hay evidencia para rechazar $H_0$ y el acusado se declara **no culpable**, que no es lo mismo que decir que es inocente.\n",
    "\n",
    "---"
   ]
  },
  {
   "cell_type": "markdown",
   "id": "29035bcb-3227-4327-9bc5-2153037a0c36",
   "metadata": {},
   "source": [
    "<font color = 'DodgerBlue'>\n",
    "<font size = 5>\n",
    "    \n",
    "**Selección de $H_0$ y $H_1$.**"
   ]
  },
  {
   "cell_type": "markdown",
   "id": "0559ce2c-a0d3-4b85-b9af-f5a40b5222cb",
   "metadata": {},
   "source": [
    "<font color = 'Black'>\n",
    "<font size = 3>\n",
    "\n",
    "Recordemos que buscamos evidencia a favor de $H_1$. \n",
    "\n",
    "Por otra parte, si $\\theta$ es un **parámetro poblacional**, en la práctica es imposible encontra evidencias de que $\\theta$ vale exactamente cierto número $\\theta_0$ si no contamos con suficiente información (lo cual sucede la mayoría de las veces). En cambio, sí podemos hallar evidencias de que $\\theta$ es menor, mayor o distinto a $\\theta_0$. \n",
    "\n",
    "El que no puedas conocer el valor exacto tiene que ver con el hecho de las **variables continuas**. La **probabilidad** de que un valor sea exactamente un **número**, es **cero**. Por eso, en **variables aleatorias continuas** trabajamos con **áreas** y no con **números**.\n",
    "\n",
    "Para conocer el valor exacto de $\\theta$ necesitarías levantar un **censo**.\n",
    "\n",
    "De los dos primeros párrafos anteriores, deducimos que la hipótesis alternativa siempre debe ser de una de las tres formas siguientes:\n",
    "\n",
    "- $H_1:\\theta < \\theta_0$.\n",
    "- $H_1:\\theta > \\theta_0$.\n",
    "- $H_1:\\theta \\neq \\theta_0$.\n",
    "\n",
    "Es decir, la hipótesis alternativa **nunca lleva signos de igualdad** (no puede ser $=$ ni $\\ge$ ni $\\le$).\n",
    "\n",
    "De aquí obtenemos dos tipos de pruebas de hipótesis:\n",
    "\n",
    "* **Unilateral (una sola cola):** cuando $H_1$ es de la forma $<$ o $>$\n",
    "* **Bilateral (dos colas):** cuando $H_1$ es de la forma $\\neq$\n",
    "\n",
    "---"
   ]
  },
  {
   "cell_type": "markdown",
   "id": "434a17c4-530a-4da9-ab9a-4c19206e0c6f",
   "metadata": {},
   "source": [
    "<font color = 'DodgerBlue'>\n",
    "<font size = 5>\n",
    "    \n",
    "**Tipos de pruebas de hipótesis y estadístico de contraste**"
   ]
  },
  {
   "cell_type": "markdown",
   "id": "fe472eb9-545f-458e-93c4-c5969f75744b",
   "metadata": {},
   "source": [
    "<font color = 'Black'>\n",
    "<font size = 3>\n",
    "\n",
    "Así como los **intervalos de confianza** se construyen dependiendo del tipo de **población** (gaussiana o no) y el tamaño de la **muestra**, las **pruebas de hipótesis** se definen a través de esta información.\n",
    "\n",
    "Aunque existen muchos casos de estudio, nos limitaremos a los siguientes:\n",
    "\n",
    "* Contraste para la **media poblacional** para **población gaussiana** con **desviación conocida**.\n",
    "* Contraste para la **media poblacional** para **población gaussiana** con **desviación desconocida**.\n",
    "* Contraste para la **proporción** de una característica presente en una **población**.\n",
    "\n",
    "En estos casos, se aplica el mismo supuesto que antes: \n",
    "\n",
    "- Si tu **muestra** es grande, aunque tu **población** no sea **gaussiana**, por **Teorema del Límite Central** vas a poder aplicar estas pruebas.\n",
    "\n",
    "Es decir, que nos vamos a estar haciendo preguntas o **hipótesis alternativas** $H_1$ de la forma:\n",
    "\n",
    "- La **media poblacional** es $>$ que.\n",
    "- La **media poblacional** es $<$ que.\n",
    "- La **media poblacional** es $\\neq$ de.\n",
    "\n",
    "O en el caso de las **proporciones**, las **hipótesis alternativas** $H_1$ serían de la forma:\n",
    "\n",
    "- La **proporción verdadera** es $>$ que.\n",
    "- La **proporción verdadera** es $<$ que.\n",
    "- La **proporción verdadera** es $\\neq$ de.\n",
    "\n",
    "Por otra parte, generalmente la regla de decisión de las **pruebas de hipótesis** se basa en una **variable aleatoria** asociada a cada caso de **prueba de hipótesis**. Esta **variable aleatoria** recibe el nombre de **estadístico de contraste**. Dependiendo del valor de esta variable aleatoria en nuestra muestra es como tomaremos la decisión de rechazar o no $H_0$.\n",
    "\n",
    "- La prueba que vas a presentar en el \"juicio\" es el **estadístico de contraste** y el $p$ value.\n",
    "\n",
    "---\n",
    "\n",
    "**Ejemplo 1.** Más adelante veremos que en el caso en que la característica $X$ de la población es gaussiana y se conoce su desviación $\\sigma$, a la prueba de hipótesis $$\\left\\{\\begin{array}{ll}H_0:\\mbox{ la media poblacional vale exactamente }\\mu_0\\\\H_1:\\mbox{ la media poblacional es mayor que }\\mu_0\\end{array}\\right.$$ \n",
    "\n",
    "se le asigna el estadístico de contraste $Z=\\frac{\\overline{X}-\\mu_0}{\\sigma/\\sqrt{n}}$.\n",
    "\n",
    "---\n",
    "\n",
    "Además, tal como a la construcción de **intervalos de confianza** se liga un **valor de significancia**, y por lo tanto de **confianza**, **a veces** también a las pruebas de hipótesis se les asigna un valor de significancia $\\alpha$ definido como **la probablidad de rechazar $H_0$ cuando es verdadera**.\n",
    "\n",
    "Es decir, $$\\begin{array}{ccc}P(\\mbox{rechazar }H_0\\mbox{ siendo verdadera})&=&\\alpha\\\\P(\\mbox{aceptar }H_0\\mbox{ siendo verdadera})&=&1-\\alpha\\end{array}$$\n",
    "\n",
    "---"
   ]
  },
  {
   "cell_type": "markdown",
   "id": "020640c2-40c0-44f6-8e1f-f47b624a46c0",
   "metadata": {},
   "source": [
    "<font color = 'DodgerBlue'>\n",
    "<font size = 5>\n",
    "    \n",
    "**$p$-valores** "
   ]
  },
  {
   "cell_type": "markdown",
   "id": "4ab6a08f-74a9-44ee-83eb-2698cfe05263",
   "metadata": {},
   "source": [
    "<font color = 'Black'>\n",
    "<font size = 3>\n",
    "\n",
    "El $p$-valor de una **prueba de hipótesis** es la **probabilidad** de que el **estadístico de contraste** tome un valor más extremo que el observado en la muestra en la dirección de la **hipótesis alternativa** suponiendo que $H_0$ fuera verdadera. \n",
    "\n",
    "***************************************************\n",
    "***************************************************\n",
    "Por ejemplo, en el **Ejemplo 1**, como \"$H_1:\\mu$ **es mayor que cierto número**\", si el **estadístico de contraste** $Z$ toma el valor $z_0$ al evaluarlo en nuestra muestra, entonces $$p\\mbox{-valor}=P(Z\\ge z_0)$$\n",
    "***************************************************\n",
    "***************************************************\n",
    "\n",
    "En cristiano: **¿Qué tan probable es que esté observando lo que estoy observando si la hipótesis nula fuera cierta?** La respuesta a esta pregunta es el $p$-valor.\n",
    "\n",
    "> ⚠️ El $p$-valor es una especie de medida de tu inseguridad.\n",
    "\n",
    "En otras palabras: si el $p$-valor es \"grande\", significa que es muy probable que $H_1$ no sea verdadera, por lo que rechazamos $H_1$ en favor de $H_0$ (aunque recordemos que esto no siginifica que aceptemos $H_0$).\n",
    "\n",
    "Técnicamente hablando, el $p$-valor es la probabilidad de que **lo que estemos observando se deba al azar inherente a nuestro muestreo** (como errores en nuestros instrumentos de medición, falta de interés en responder una encuesta, etcétera). Si el $p$-valor es pequeño, significa que lo que observamos muy probablemente no se debe a efectos aleatorios, sino que tenemos *evidencia siginificativa* de que lo observado se debe a que $H_0$ es falsa.\n",
    "\n",
    "Ahora bien, recordemos que la significancia $\\alpha$ de un **contraste de hipótesis** representa la **probabilidad** de rechazar $H_0$ siendo verdadera. Así, por \"$p$-valor pequeño\" entendemos que el $p$-valor es menor que la **significancia** $\\alpha$ del **contraste de hipótesis**.\n",
    "\n",
    "- El valor de $\\alpha$ nos va a medir si algo es grande o pequeño.\n",
    "- $p$-valor pequeño significa más pequeño que $\\alpha$.\n",
    "- $p$-valor grande significa $\\geq \\alpha$.\n",
    "\n",
    "En fenómenos de tipo social se suele tomar $\\alpha=0.05$, en tanto que en investigaciones médicas se toma $\\alpha=0.01$.\n",
    "\n",
    "Para un mayor entendimiento del $p$-valor, se puede consultar el siguiente artículo: [El significado del valor de p](https://anestesiar.org/2019/idolatrada-pero-incomprendida-el-significado-del-valor-de-p/#:~:text=El%20valor%20de%20p%20indica,ver%20con%20su%20significado%20real).\n",
    "\n",
    "---"
   ]
  },
  {
   "cell_type": "markdown",
   "id": "82be5f0e-6eda-46f7-8e99-7e364a322c73",
   "metadata": {},
   "source": [
    "<font color = 'Brown'>\n",
    "<font size = 4>\n",
    "    \n",
    "**Notas**"
   ]
  },
  {
   "cell_type": "markdown",
   "id": "d7277a14-666f-46f9-a11c-51c9e25b5a4c",
   "metadata": {},
   "source": [
    "<font color = 'DarkRed'>\n",
    "<font size = 3>\n",
    "\n",
    "- Tener el valor **muestral** no te sirve para tomar decisiones, necesitas una técnica matemática para poder llegar a la toma de decisión. A esas pruebas matemáticas se le conocen como **prueblas de hipótesis** o **contraste de hipótesis**.\n",
    "- > ⚠️ **Nota importante:** $H_{1}$ no necesariamente es la **negación** de $H_{0}$.\n",
    "- $H_{1}$ es lo que quieres demostrar.\n",
    "- $H_{0}$ es la que viene por default es la que todo mundo pensaría es la buena.\n",
    "- Tú eres el que tiene la sospecha de que $H_{0}$ sea **falsa**, entonces propones $H_{1}$. Tienes que mostrar evidencias de que $H_{0}$ es **falsa**.\n",
    "- Se busca **rechazar** $H_{0}$ en favor de la alterna ($H_{1}$).\n",
    "- Lo que quieres demostrar es la **hipótesis alterna** $H_{1}$.\n",
    "- La **hipótesis alternativa** nunca debe llevar signos de igualdad, porque nunca vas a poder asegurar la igualdad, ya que $\\theta$ es un parámetro poblacional y por eso nunca lo vas a poder conocer.\n",
    "- Si llegas a cometer el error de poner la igualdad en la **hipótesis alternativa**, eso sería un **error metodológico** y te van a tirar la investigación.\n",
    "- > ⚠️ **Nota importante:** **El símbolo de igual ($=$) es solamente para el $H_{0}$ !!!**.\n",
    "- > ⚠️ **Nota importante:** **$H_{1}$ nunca debe llevar el símbolo de igual ($=$) !!!**.\n",
    "- Con el $H_{1}$ el objetivo es demostrar que si hay diferencias.\n",
    "- **Supones que  $H_{0}$ es verdadera de inicio y lo que quieres probar es  $H_{1}$** ‼️\n",
    "- En la **ANOVA** te preguntas sobre las **varianzas**.\n",
    "- > ⚠️ El $p$-valor es una medida de tu inseguridad."
   ]
  },
  {
   "cell_type": "code",
   "execution_count": null,
   "id": "d8d7175d-cd4e-4946-b06a-f3788c590176",
   "metadata": {},
   "outputs": [],
   "source": []
  }
 ],
 "metadata": {
  "kernelspec": {
   "display_name": "Python 3 (ipykernel)",
   "language": "python",
   "name": "python3"
  },
  "language_info": {
   "codemirror_mode": {
    "name": "ipython",
    "version": 3
   },
   "file_extension": ".py",
   "mimetype": "text/x-python",
   "name": "python",
   "nbconvert_exporter": "python",
   "pygments_lexer": "ipython3",
   "version": "3.10.15"
  }
 },
 "nbformat": 4,
 "nbformat_minor": 5
}
