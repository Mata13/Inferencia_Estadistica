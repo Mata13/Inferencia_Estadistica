{
 "cells": [
  {
   "cell_type": "markdown",
   "id": "a8aad5c7-b9cb-448a-a96f-634e6c4290f5",
   "metadata": {},
   "source": [
    "<font color='IndianRed'>\n",
    "<font size=9> \n",
    "\n",
    "**Curso Inferencia Estadística**"
   ]
  },
  {
   "cell_type": "markdown",
   "id": "6f22461c-4d65-40d8-80ef-9c11deab0715",
   "metadata": {},
   "source": [
    "<font color = 'slateblue'>\n",
    "<font size = 5>\n",
    "    \n",
    "**Tabla de frencuencias**"
   ]
  },
  {
   "cell_type": "markdown",
   "id": "54eb33a2-0b5d-4892-b24c-9b33d86aa6bf",
   "metadata": {},
   "source": [
    "<font color = 'LightSeaGreen'>\n",
    "<font size = 3>\n",
    "\n",
    "Para crear la tabla de frecuencias de este ejemplo se usó una base de datos obtenida de [Kaggle](https://www.kaggle.com/datasets/arpitsinghaiml/average-net-worth-by-country/data)."
   ]
  },
  {
   "cell_type": "markdown",
   "id": "5dfb3d22-823c-4518-8cbc-9720dab22549",
   "metadata": {},
   "source": [
    "<font color = 'deepskyblue'>\n",
    "<font size = 5>\n",
    "Librerías"
   ]
  },
  {
   "cell_type": "code",
   "execution_count": 1,
   "id": "fa630a08-49ab-4288-9b9e-e1c912f6d28a",
   "metadata": {},
   "outputs": [],
   "source": [
    "# Importamos las librerías que vamos a usar\n",
    "import os\n",
    "import pandas as pd\n",
    "import numpy as np\n",
    "from plotnine import *"
   ]
  },
  {
   "cell_type": "code",
   "execution_count": 2,
   "id": "03a8c11d-e632-4ebe-a670-6ac21d1ccc96",
   "metadata": {},
   "outputs": [
    {
     "data": {
      "text/plain": [
       "'/home/zick13/Documentos/Developer/Courses/Curso_Inferencia_Estadistica/Tareas/tarea_frec_table'"
      ]
     },
     "execution_count": 2,
     "metadata": {},
     "output_type": "execute_result"
    }
   ],
   "source": [
    "# Obtenemos la ruta del notebook\n",
    "os.getcwd()"
   ]
  },
  {
   "cell_type": "code",
   "execution_count": 3,
   "id": "9d047e91-c1f4-40e8-84e9-e1477cabe671",
   "metadata": {},
   "outputs": [],
   "source": [
    "os.chdir(\"/home/zick13/Documentos/Developer/Courses/Curso_Inferencia_Estadistica/Tareas/tarea_frec_table\")"
   ]
  },
  {
   "cell_type": "markdown",
   "id": "08749ce3-b582-4c93-93cf-6822b27047e5",
   "metadata": {},
   "source": [
    "<font color = 'deepskyblue'>\n",
    "<font size = 5>\n",
    "Lectura de los datos"
   ]
  },
  {
   "cell_type": "code",
   "execution_count": 4,
   "id": "8a72a9ea-6ab3-405e-9825-437e88059f81",
   "metadata": {},
   "outputs": [],
   "source": [
    "# Importamos los datos que vamos a usar\n",
    "df = pd.read_csv(\"Data/riqueza_por_adulto_del_país.csv\")"
   ]
  },
  {
   "cell_type": "code",
   "execution_count": 5,
   "id": "07ec0884-e244-41bc-8567-111ef83cd8a6",
   "metadata": {
    "scrolled": true
   },
   "outputs": [
    {
     "data": {
      "text/html": [
       "<div>\n",
       "<style scoped>\n",
       "    .dataframe tbody tr th:only-of-type {\n",
       "        vertical-align: middle;\n",
       "    }\n",
       "\n",
       "    .dataframe tbody tr th {\n",
       "        vertical-align: top;\n",
       "    }\n",
       "\n",
       "    .dataframe thead th {\n",
       "        text-align: right;\n",
       "    }\n",
       "</style>\n",
       "<table border=\"1\" class=\"dataframe\">\n",
       "  <thead>\n",
       "    <tr style=\"text-align: right;\">\n",
       "      <th></th>\n",
       "      <th>Riqueza_promedio_por_adulto_por_país(USD)</th>\n",
       "    </tr>\n",
       "  </thead>\n",
       "  <tbody>\n",
       "    <tr>\n",
       "      <th>0</th>\n",
       "      <td>696604</td>\n",
       "    </tr>\n",
       "    <tr>\n",
       "      <th>1</th>\n",
       "      <td>657564</td>\n",
       "    </tr>\n",
       "    <tr>\n",
       "      <th>2</th>\n",
       "      <td>579051</td>\n",
       "    </tr>\n",
       "    <tr>\n",
       "      <th>3</th>\n",
       "      <td>552930</td>\n",
       "    </tr>\n",
       "    <tr>\n",
       "      <th>4</th>\n",
       "      <td>550110</td>\n",
       "    </tr>\n",
       "    <tr>\n",
       "      <th>...</th>\n",
       "      <td>...</td>\n",
       "    </tr>\n",
       "    <tr>\n",
       "      <th>66</th>\n",
       "      <td>38523</td>\n",
       "    </tr>\n",
       "    <tr>\n",
       "      <th>67</th>\n",
       "      <td>35529</td>\n",
       "    </tr>\n",
       "    <tr>\n",
       "      <th>68</th>\n",
       "      <td>35307</td>\n",
       "    </tr>\n",
       "    <tr>\n",
       "      <th>69</th>\n",
       "      <td>34005</td>\n",
       "    </tr>\n",
       "    <tr>\n",
       "      <th>70</th>\n",
       "      <td>33122</td>\n",
       "    </tr>\n",
       "  </tbody>\n",
       "</table>\n",
       "<p>71 rows × 1 columns</p>\n",
       "</div>"
      ],
      "text/plain": [
       "    Riqueza_promedio_por_adulto_por_país(USD)\n",
       "0                                      696604\n",
       "1                                      657564\n",
       "2                                      579051\n",
       "3                                      552930\n",
       "4                                      550110\n",
       "..                                        ...\n",
       "66                                      38523\n",
       "67                                      35529\n",
       "68                                      35307\n",
       "69                                      34005\n",
       "70                                      33122\n",
       "\n",
       "[71 rows x 1 columns]"
      ]
     },
     "execution_count": 5,
     "metadata": {},
     "output_type": "execute_result"
    }
   ],
   "source": [
    "# Se muestra el dataframe para ver si cargó de manera exitosa\n",
    "df"
   ]
  },
  {
   "cell_type": "code",
   "execution_count": 6,
   "id": "cb6406d6-9a13-432c-afe8-b8486fb3e31e",
   "metadata": {},
   "outputs": [
    {
     "data": {
      "text/html": [
       "<div>\n",
       "<style scoped>\n",
       "    .dataframe tbody tr th:only-of-type {\n",
       "        vertical-align: middle;\n",
       "    }\n",
       "\n",
       "    .dataframe tbody tr th {\n",
       "        vertical-align: top;\n",
       "    }\n",
       "\n",
       "    .dataframe thead th {\n",
       "        text-align: right;\n",
       "    }\n",
       "</style>\n",
       "<table border=\"1\" class=\"dataframe\">\n",
       "  <thead>\n",
       "    <tr style=\"text-align: right;\">\n",
       "      <th></th>\n",
       "      <th>Riqueza_promedio_por_adulto_por_país(USD)</th>\n",
       "    </tr>\n",
       "  </thead>\n",
       "  <tbody>\n",
       "    <tr>\n",
       "      <th>0</th>\n",
       "      <td>696604</td>\n",
       "    </tr>\n",
       "    <tr>\n",
       "      <th>1</th>\n",
       "      <td>657564</td>\n",
       "    </tr>\n",
       "    <tr>\n",
       "      <th>2</th>\n",
       "      <td>579051</td>\n",
       "    </tr>\n",
       "    <tr>\n",
       "      <th>3</th>\n",
       "      <td>552930</td>\n",
       "    </tr>\n",
       "    <tr>\n",
       "      <th>4</th>\n",
       "      <td>550110</td>\n",
       "    </tr>\n",
       "  </tbody>\n",
       "</table>\n",
       "</div>"
      ],
      "text/plain": [
       "   Riqueza_promedio_por_adulto_por_país(USD)\n",
       "0                                     696604\n",
       "1                                     657564\n",
       "2                                     579051\n",
       "3                                     552930\n",
       "4                                     550110"
      ]
     },
     "execution_count": 6,
     "metadata": {},
     "output_type": "execute_result"
    }
   ],
   "source": [
    "# Imprimimos las primeras 5 filas del dataframe para inspeccionar los datos\n",
    "df.head()"
   ]
  },
  {
   "cell_type": "code",
   "execution_count": 7,
   "id": "10b1b44b-dafc-442b-a073-bf592658c00d",
   "metadata": {},
   "outputs": [
    {
     "data": {
      "text/html": [
       "<div>\n",
       "<style scoped>\n",
       "    .dataframe tbody tr th:only-of-type {\n",
       "        vertical-align: middle;\n",
       "    }\n",
       "\n",
       "    .dataframe tbody tr th {\n",
       "        vertical-align: top;\n",
       "    }\n",
       "\n",
       "    .dataframe thead th {\n",
       "        text-align: right;\n",
       "    }\n",
       "</style>\n",
       "<table border=\"1\" class=\"dataframe\">\n",
       "  <thead>\n",
       "    <tr style=\"text-align: right;\">\n",
       "      <th></th>\n",
       "      <th>Riqueza_promedio_por_adulto_por_país(USD)</th>\n",
       "    </tr>\n",
       "  </thead>\n",
       "  <tbody>\n",
       "    <tr>\n",
       "      <th>66</th>\n",
       "      <td>38523</td>\n",
       "    </tr>\n",
       "    <tr>\n",
       "      <th>67</th>\n",
       "      <td>35529</td>\n",
       "    </tr>\n",
       "    <tr>\n",
       "      <th>68</th>\n",
       "      <td>35307</td>\n",
       "    </tr>\n",
       "    <tr>\n",
       "      <th>69</th>\n",
       "      <td>34005</td>\n",
       "    </tr>\n",
       "    <tr>\n",
       "      <th>70</th>\n",
       "      <td>33122</td>\n",
       "    </tr>\n",
       "  </tbody>\n",
       "</table>\n",
       "</div>"
      ],
      "text/plain": [
       "    Riqueza_promedio_por_adulto_por_país(USD)\n",
       "66                                      38523\n",
       "67                                      35529\n",
       "68                                      35307\n",
       "69                                      34005\n",
       "70                                      33122"
      ]
     },
     "execution_count": 7,
     "metadata": {},
     "output_type": "execute_result"
    }
   ],
   "source": [
    "# Imprimimos las últimas filas del dataframe para inspeccionar los datos\n",
    "df.tail()"
   ]
  },
  {
   "cell_type": "code",
   "execution_count": 8,
   "id": "05f3b513-1fd8-4c66-b521-72f600b117ab",
   "metadata": {},
   "outputs": [
    {
     "data": {
      "text/plain": [
       "(71, 1)"
      ]
     },
     "execution_count": 8,
     "metadata": {},
     "output_type": "execute_result"
    }
   ],
   "source": [
    "# Imprimimos las dimensiones del dataframe\n",
    "df.shape"
   ]
  },
  {
   "cell_type": "code",
   "execution_count": 9,
   "id": "051300df-716e-4e47-a33d-6016a0ef7933",
   "metadata": {},
   "outputs": [
    {
     "data": {
      "text/plain": [
       "Index(['Riqueza_promedio_por_adulto_por_país(USD)'], dtype='object')"
      ]
     },
     "execution_count": 9,
     "metadata": {},
     "output_type": "execute_result"
    }
   ],
   "source": [
    "# Muestra el nombre de las columnas\n",
    "df.columns"
   ]
  },
  {
   "cell_type": "markdown",
   "id": "abc6a148-5d07-4e13-9a2a-6c0d461840e0",
   "metadata": {},
   "source": [
    "<font color = 'RoyalBlue'>\n",
    "<font size = 5>\n",
    "Personalización de la tabla de frecuencias usando la Regla de Sturgges"
   ]
  },
  {
   "cell_type": "code",
   "execution_count": 10,
   "id": "a3d025c1-548c-441d-9afc-51c10053c110",
   "metadata": {},
   "outputs": [
    {
     "data": {
      "text/plain": [
       "7"
      ]
     },
     "execution_count": 10,
     "metadata": {},
     "output_type": "execute_result"
    }
   ],
   "source": [
    "# Calculamos los bins usando la regla de Sturges\n",
    "c = round(1 + np.log2(df.shape[0])) # df.shape[0] te da el número de rows\n",
    "c"
   ]
  },
  {
   "cell_type": "code",
   "execution_count": 11,
   "id": "fa579ac7-c60d-4c55-8a77-a205af61ce4a",
   "metadata": {},
   "outputs": [
    {
     "name": "stdout",
     "output_type": "stream",
     "text": [
      "Riqueza_promedio_por_adulto_por_país(USD)    696604\n",
      "dtype: int64\n",
      "Riqueza_promedio_por_adulto_por_país(USD)    33122\n",
      "dtype: int64\n"
     ]
    }
   ],
   "source": [
    "# Encuentra los valores máximos y mínimos de cada columna\n",
    "print(df.max())\n",
    "print(df.min())"
   ]
  },
  {
   "cell_type": "code",
   "execution_count": 12,
   "id": "5042fa05-8282-4fa2-989d-1d1c354ad305",
   "metadata": {},
   "outputs": [
    {
     "data": {
      "text/plain": [
       "array([ 33122.        , 127905.14285714, 222688.28571429, 317471.42857143,\n",
       "       412254.57142857, 507037.71428571, 601820.85714286, 696604.        ])"
      ]
     },
     "execution_count": 12,
     "metadata": {},
     "output_type": "execute_result"
    }
   ],
   "source": [
    "# Crea los intervalos (clases)\n",
    "bins = np.linspace(min(df[\"Riqueza_promedio_por_adulto_por_país(USD)\"]), max(df[\"Riqueza_promedio_por_adulto_por_país(USD)\"]), c + 1)\n",
    "bins"
   ]
  },
  {
   "cell_type": "code",
   "execution_count": 13,
   "id": "25b09801-82da-41a5-94c5-00f6664baa77",
   "metadata": {},
   "outputs": [
    {
     "data": {
      "text/plain": [
       "['33122.0 - 127905.14285714286',\n",
       " '127905.14285714286 - 222688.2857142857',\n",
       " '222688.2857142857 - 317471.4285714286',\n",
       " '317471.4285714286 - 412254.5714285714',\n",
       " '412254.5714285714 - 507037.71428571426',\n",
       " '507037.71428571426 - 601820.8571428572',\n",
       " '601820.8571428572 - 696604.0']"
      ]
     },
     "execution_count": 13,
     "metadata": {},
     "output_type": "execute_result"
    }
   ],
   "source": [
    "# Crea los nombres de las clases\n",
    "labels = [f\"{bins[x]} - {bins[x + 1]}\" for x in range(0, len(bins) - 1)]\n",
    "labels # se muestran los labels"
   ]
  },
  {
   "cell_type": "code",
   "execution_count": 14,
   "id": "544885bf-99f4-4561-97b0-c7a1ecc67780",
   "metadata": {},
   "outputs": [
    {
     "data": {
      "text/plain": [
       "0                                        NaN\n",
       "1               601820.8571428572 - 696604.0\n",
       "2     507037.71428571426 - 601820.8571428572\n",
       "3     507037.71428571426 - 601820.8571428572\n",
       "4     507037.71428571426 - 601820.8571428572\n",
       "                       ...                  \n",
       "66              33122.0 - 127905.14285714286\n",
       "67              33122.0 - 127905.14285714286\n",
       "68              33122.0 - 127905.14285714286\n",
       "69              33122.0 - 127905.14285714286\n",
       "70              33122.0 - 127905.14285714286\n",
       "Name: Class, Length: 71, dtype: category\n",
       "Categories (7, object): ['33122.0 - 127905.14285714286' < '127905.14285714286 - 222688.2857142857' < '222688.2857142857 - 317471.4285714286' < '317471.4285714286 - 412254.5714285714' < '412254.5714285714 - 507037.71428571426' < '507037.71428571426 - 601820.8571428572' < '601820.8571428572 - 696604.0']"
      ]
     },
     "execution_count": 14,
     "metadata": {},
     "output_type": "execute_result"
    }
   ],
   "source": [
    "# Crea las clases\n",
    "df['Class'] = pd.cut(df[\"Riqueza_promedio_por_adulto_por_país(USD)\"], bins = bins, labels = labels, right = False) # right = False no toma en cuenta el intervalo derecho, es un intervalo abierto\n",
    "df['Class']"
   ]
  },
  {
   "cell_type": "code",
   "execution_count": 15,
   "id": "5c5da3da-f339-4483-9288-23dcf0e51604",
   "metadata": {},
   "outputs": [
    {
     "data": {
      "text/plain": [
       "[np.float64(80513.57142857142),\n",
       " np.float64(175296.7142857143),\n",
       " np.float64(270079.85714285716),\n",
       " np.float64(364863.0),\n",
       " np.float64(459646.14285714284),\n",
       " np.float64(554429.2857142857),\n",
       " np.float64(649212.4285714286)]"
      ]
     },
     "execution_count": 15,
     "metadata": {},
     "output_type": "execute_result"
    }
   ],
   "source": [
    "# Crea las marcas de clase\n",
    "Class_value = [(bins[x] + bins[x + 1]) / 2 for x in range(0, len(bins) - 1)]\n",
    "Class_value"
   ]
  },
  {
   "cell_type": "code",
   "execution_count": 17,
   "id": "de2d626f-1472-4415-abe7-30adaa762ac5",
   "metadata": {},
   "outputs": [
    {
     "data": {
      "text/plain": [
       "Class\n",
       "33122.0 - 127905.14285714286              40\n",
       "127905.14285714286 - 222688.2857142857     6\n",
       "222688.2857142857 - 317471.4285714286     10\n",
       "317471.4285714286 - 412254.5714285714      7\n",
       "412254.5714285714 - 507037.71428571426     3\n",
       "507037.71428571426 - 601820.8571428572     3\n",
       "601820.8571428572 - 696604.0               1\n",
       "Name: count, dtype: int64"
      ]
     },
     "execution_count": 17,
     "metadata": {},
     "output_type": "execute_result"
    }
   ],
   "source": [
    "# Calcula la frecuencia\n",
    "frequency = df['Class'].value_counts(sort = False)\n",
    "frequency"
   ]
  },
  {
   "cell_type": "code",
   "execution_count": 18,
   "id": "8ea6d118-3e05-4cfd-a979-c14fa13a7511",
   "metadata": {},
   "outputs": [
    {
     "data": {
      "text/plain": [
       "Class\n",
       "33122.0 - 127905.14285714286              0.571429\n",
       "127905.14285714286 - 222688.2857142857    0.085714\n",
       "222688.2857142857 - 317471.4285714286     0.142857\n",
       "317471.4285714286 - 412254.5714285714     0.100000\n",
       "412254.5714285714 - 507037.71428571426    0.042857\n",
       "507037.71428571426 - 601820.8571428572    0.042857\n",
       "601820.8571428572 - 696604.0              0.014286\n",
       "Name: count, dtype: float64"
      ]
     },
     "execution_count": 18,
     "metadata": {},
     "output_type": "execute_result"
    }
   ],
   "source": [
    "# Calcula la frecuencia relativa\n",
    "relative_frequency = frequency / frequency.sum()\n",
    "relative_frequency"
   ]
  },
  {
   "cell_type": "code",
   "execution_count": 19,
   "id": "697369a3-c144-433a-9f56-61a27d2332db",
   "metadata": {},
   "outputs": [
    {
     "data": {
      "text/plain": [
       "Class\n",
       "33122.0 - 127905.14285714286              0.571429\n",
       "127905.14285714286 - 222688.2857142857    0.657143\n",
       "222688.2857142857 - 317471.4285714286     0.800000\n",
       "317471.4285714286 - 412254.5714285714     0.900000\n",
       "412254.5714285714 - 507037.71428571426    0.942857\n",
       "507037.71428571426 - 601820.8571428572    0.985714\n",
       "601820.8571428572 - 696604.0              1.000000\n",
       "Name: count, dtype: float64"
      ]
     },
     "execution_count": 19,
     "metadata": {},
     "output_type": "execute_result"
    }
   ],
   "source": [
    "# Calcula la frecuencia relativa acumulada\n",
    "cumulative_relative_frequency = relative_frequency.cumsum()\n",
    "cumulative_relative_frequency"
   ]
  },
  {
   "cell_type": "code",
   "execution_count": 20,
   "id": "1930a98e-5ca5-4803-905e-8352c7920b4d",
   "metadata": {},
   "outputs": [],
   "source": [
    "# Crea la tabla de frecuencias final con la regla de Sturges\n",
    "table_riqueza = pd.DataFrame({\n",
    "    'Class': labels,\n",
    "    'Class_value': Class_value,\n",
    "    'Frequency': frequency.values,\n",
    "    'Relative_frequency': relative_frequency.values,\n",
    "    'Cumulative_relative_frequency': cumulative_relative_frequency\n",
    "})"
   ]
  },
  {
   "cell_type": "code",
   "execution_count": 21,
   "id": "f28f9967-1ad1-4d83-bb09-1d2a5ec6e322",
   "metadata": {},
   "outputs": [
    {
     "data": {
      "text/html": [
       "<div>\n",
       "<style scoped>\n",
       "    .dataframe tbody tr th:only-of-type {\n",
       "        vertical-align: middle;\n",
       "    }\n",
       "\n",
       "    .dataframe tbody tr th {\n",
       "        vertical-align: top;\n",
       "    }\n",
       "\n",
       "    .dataframe thead th {\n",
       "        text-align: right;\n",
       "    }\n",
       "</style>\n",
       "<table border=\"1\" class=\"dataframe\">\n",
       "  <thead>\n",
       "    <tr style=\"text-align: right;\">\n",
       "      <th></th>\n",
       "      <th>Class</th>\n",
       "      <th>Class_value</th>\n",
       "      <th>Frequency</th>\n",
       "      <th>Relative_frequency</th>\n",
       "      <th>Cumulative_relative_frequency</th>\n",
       "    </tr>\n",
       "    <tr>\n",
       "      <th>Class</th>\n",
       "      <th></th>\n",
       "      <th></th>\n",
       "      <th></th>\n",
       "      <th></th>\n",
       "      <th></th>\n",
       "    </tr>\n",
       "  </thead>\n",
       "  <tbody>\n",
       "    <tr>\n",
       "      <th>33122.0 - 127905.14285714286</th>\n",
       "      <td>33122.0 - 127905.14285714286</td>\n",
       "      <td>80513.571429</td>\n",
       "      <td>40</td>\n",
       "      <td>0.571429</td>\n",
       "      <td>0.571429</td>\n",
       "    </tr>\n",
       "    <tr>\n",
       "      <th>127905.14285714286 - 222688.2857142857</th>\n",
       "      <td>127905.14285714286 - 222688.2857142857</td>\n",
       "      <td>175296.714286</td>\n",
       "      <td>6</td>\n",
       "      <td>0.085714</td>\n",
       "      <td>0.657143</td>\n",
       "    </tr>\n",
       "    <tr>\n",
       "      <th>222688.2857142857 - 317471.4285714286</th>\n",
       "      <td>222688.2857142857 - 317471.4285714286</td>\n",
       "      <td>270079.857143</td>\n",
       "      <td>10</td>\n",
       "      <td>0.142857</td>\n",
       "      <td>0.800000</td>\n",
       "    </tr>\n",
       "    <tr>\n",
       "      <th>317471.4285714286 - 412254.5714285714</th>\n",
       "      <td>317471.4285714286 - 412254.5714285714</td>\n",
       "      <td>364863.000000</td>\n",
       "      <td>7</td>\n",
       "      <td>0.100000</td>\n",
       "      <td>0.900000</td>\n",
       "    </tr>\n",
       "    <tr>\n",
       "      <th>412254.5714285714 - 507037.71428571426</th>\n",
       "      <td>412254.5714285714 - 507037.71428571426</td>\n",
       "      <td>459646.142857</td>\n",
       "      <td>3</td>\n",
       "      <td>0.042857</td>\n",
       "      <td>0.942857</td>\n",
       "    </tr>\n",
       "    <tr>\n",
       "      <th>507037.71428571426 - 601820.8571428572</th>\n",
       "      <td>507037.71428571426 - 601820.8571428572</td>\n",
       "      <td>554429.285714</td>\n",
       "      <td>3</td>\n",
       "      <td>0.042857</td>\n",
       "      <td>0.985714</td>\n",
       "    </tr>\n",
       "    <tr>\n",
       "      <th>601820.8571428572 - 696604.0</th>\n",
       "      <td>601820.8571428572 - 696604.0</td>\n",
       "      <td>649212.428571</td>\n",
       "      <td>1</td>\n",
       "      <td>0.014286</td>\n",
       "      <td>1.000000</td>\n",
       "    </tr>\n",
       "  </tbody>\n",
       "</table>\n",
       "</div>"
      ],
      "text/plain": [
       "                                                                         Class  \\\n",
       "Class                                                                            \n",
       "33122.0 - 127905.14285714286                      33122.0 - 127905.14285714286   \n",
       "127905.14285714286 - 222688.2857142857  127905.14285714286 - 222688.2857142857   \n",
       "222688.2857142857 - 317471.4285714286    222688.2857142857 - 317471.4285714286   \n",
       "317471.4285714286 - 412254.5714285714    317471.4285714286 - 412254.5714285714   \n",
       "412254.5714285714 - 507037.71428571426  412254.5714285714 - 507037.71428571426   \n",
       "507037.71428571426 - 601820.8571428572  507037.71428571426 - 601820.8571428572   \n",
       "601820.8571428572 - 696604.0                      601820.8571428572 - 696604.0   \n",
       "\n",
       "                                          Class_value  Frequency  \\\n",
       "Class                                                              \n",
       "33122.0 - 127905.14285714286             80513.571429         40   \n",
       "127905.14285714286 - 222688.2857142857  175296.714286          6   \n",
       "222688.2857142857 - 317471.4285714286   270079.857143         10   \n",
       "317471.4285714286 - 412254.5714285714   364863.000000          7   \n",
       "412254.5714285714 - 507037.71428571426  459646.142857          3   \n",
       "507037.71428571426 - 601820.8571428572  554429.285714          3   \n",
       "601820.8571428572 - 696604.0            649212.428571          1   \n",
       "\n",
       "                                        Relative_frequency  \\\n",
       "Class                                                        \n",
       "33122.0 - 127905.14285714286                      0.571429   \n",
       "127905.14285714286 - 222688.2857142857            0.085714   \n",
       "222688.2857142857 - 317471.4285714286             0.142857   \n",
       "317471.4285714286 - 412254.5714285714             0.100000   \n",
       "412254.5714285714 - 507037.71428571426            0.042857   \n",
       "507037.71428571426 - 601820.8571428572            0.042857   \n",
       "601820.8571428572 - 696604.0                      0.014286   \n",
       "\n",
       "                                        Cumulative_relative_frequency  \n",
       "Class                                                                  \n",
       "33122.0 - 127905.14285714286                                 0.571429  \n",
       "127905.14285714286 - 222688.2857142857                       0.657143  \n",
       "222688.2857142857 - 317471.4285714286                        0.800000  \n",
       "317471.4285714286 - 412254.5714285714                        0.900000  \n",
       "412254.5714285714 - 507037.71428571426                       0.942857  \n",
       "507037.71428571426 - 601820.8571428572                       0.985714  \n",
       "601820.8571428572 - 696604.0                                 1.000000  "
      ]
     },
     "execution_count": 21,
     "metadata": {},
     "output_type": "execute_result"
    }
   ],
   "source": [
    "# Se muestra la tabla\n",
    "table_riqueza"
   ]
  },
  {
   "cell_type": "code",
   "execution_count": 22,
   "id": "56cfab1f-659e-4d5e-b9b4-6ed3f85f7d84",
   "metadata": {},
   "outputs": [],
   "source": [
    "# Guardamos la tabla\n",
    "table_riqueza.to_csv(\"Frecuencias_relativas_riqueza.csv\", index = False)"
   ]
  }
 ],
 "metadata": {
  "kernelspec": {
   "display_name": "Python 3 (ipykernel)",
   "language": "python",
   "name": "python3"
  },
  "language_info": {
   "codemirror_mode": {
    "name": "ipython",
    "version": 3
   },
   "file_extension": ".py",
   "mimetype": "text/x-python",
   "name": "python",
   "nbconvert_exporter": "python",
   "pygments_lexer": "ipython3",
   "version": "3.10.15"
  }
 },
 "nbformat": 4,
 "nbformat_minor": 5
}
